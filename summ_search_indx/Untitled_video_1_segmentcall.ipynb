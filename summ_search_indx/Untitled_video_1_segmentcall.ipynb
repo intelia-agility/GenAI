{
 "cells": [
  {
   "cell_type": "code",
   "execution_count": 1,
   "id": "9f4b84cd-e639-4d6d-9de5-393be81ffe13",
   "metadata": {
    "tags": []
   },
   "outputs": [],
   "source": [
    "import base64\n",
    "import time\n",
    "import typing\n",
    "import math\n",
    "import numpy as np\n",
    "\n",
    "from google.cloud import aiplatform\n",
    "from google.protobuf import struct_pb2\n",
    "\n",
    "#libraries to generate image summaries\n",
    "from vertexai.vision_models import Video\n",
    "from vertexai.vision_models import VideoSegmentConfig\n",
    "from vertexai.vision_models import MultiModalEmbeddingModel\n",
    "from vertexai.language_models import TextEmbeddingModel\n",
    "from vertexai.vision_models import Image as vision_model_Image\n",
    "from vertexai.preview.generative_models import (\n",
    "    Content,\n",
    "    GenerationConfig,\n",
    "    GenerationResponse,\n",
    "    GenerativeModel,\n",
    "    Image,\n",
    "    Part as GenerativeModelPart,\n",
    "    HarmBlockThreshold,\n",
    "    HarmCategory,\n",
    ")\n",
    "from typing import Any, Dict, List, Literal, Optional, Union\n",
    "\n",
    "from moviepy.editor import VideoFileClip\n",
    "\n",
    "contents= [{\n",
    "                                                                    \"role\": \"user\",\n",
    "                                                                    \"parts\": [\n",
    "                                                                        {\n",
    "                                                                    \n",
    "                                                                        \n",
    "                                                                        \"file_data\": {\n",
    "                                                                            \"mime_type\":  \"video/mp4\",\n",
    "                                                                            \"file_uri\": \"gs://raw_nine_files/vlt_video_extract/MAAT/MAAT2024_1_A_HBB.mp4\"\n",
    "                                                                        } \n",
    "                                                                         ,\n",
    "                                                                        \"video_metadata\": {\n",
    "                                                                                        \"start_offset\": {\n",
    "                                                                                        \"seconds\": 600,\n",
    "                                                                                        \"nanos\": 0\n",
    "                                                                                        },\n",
    "                                                                                        \"end_offset\": {\n",
    "                                                                                        \"seconds\": 900,\n",
    "                                                                                        \"nanos\": 0\n",
    "                                                                                        }\n",
    "                                                                                }\n",
    "\n",
    "                                                                        },\n",
    "                                                                        { \"text\": \"describe what is happening in this video within the given time period\" }\n",
    "                                                                    ]\n",
    "                                                                    }\n",
    "                                                                ]\n",
    "\n",
    "generative_multimodal_model= GenerativeModel(\"gemini-1.5-pro-002\")\n",
    "\n",
    "safety_settings=  {\n",
    "                    HarmCategory.HARM_CATEGORY_HARASSMENT: HarmBlockThreshold.BLOCK_NONE,\n",
    "                    HarmCategory.HARM_CATEGORY_HATE_SPEECH: HarmBlockThreshold.BLOCK_NONE,\n",
    "                    HarmCategory.HARM_CATEGORY_SEXUALLY_EXPLICIT: HarmBlockThreshold.BLOCK_NONE,\n",
    "                    HarmCategory.HARM_CATEGORY_DANGEROUS_CONTENT: HarmBlockThreshold.BLOCK_NONE,\n",
    "                    }\n",
    "\n",
    "model_response = generative_multimodal_model.generate_content(\n",
    "                                    contents ,safety_settings=safety_settings\n",
    "                                   )   "
   ]
  },
  {
   "cell_type": "code",
   "execution_count": 10,
   "id": "7c177ea4-f8b3-425e-aa55-4e1627ea6d89",
   "metadata": {
    "tags": []
   },
   "outputs": [
    {
     "name": "stdout",
     "output_type": "stream",
     "text": [
      "The video shows contestants on Married at First Sight Australia getting to know each other and then sharing their hopes and dreams for their time on the show.\n",
      "\n",
      "At [00:00:03–00:00:10] one of the contestants is introduced to three other contestants. Then at [00:00:11–00:00:19], a contestant in a blue jacket and green scarf introduces another contestant by name and describes his appearance and personality. The two then sit together with two others, where one asks about another’s occupation and discusses it at length. One of the contestants then introduces himself and his career as a kickboxer and reveals his softer side. He describes his hopes for the show, saying that he will approach it with an open mind. \n",
      "\n",
      "A woman in a red sequined jacket is shown in a car ride at [00:00:27]. She exits the vehicle at [00:11:52] to meet other contestants. The same woman also sits with another contestant in a black suit and shares her hopes and qualities for the man she is about to be married to. At [00:00:33], she is shown entering the same room as before to meet two of the female contestants. They discuss their preferences and expectations of potential matches and share their excitement. A man exits a car at [00:14:37]. Other female contestants meet in a room and talk about their experiences thus far. They then discuss some of the potential male contestants.\n"
     ]
    }
   ],
   "source": [
    "print(model_response.candidates[0].content.parts[0].text)"
   ]
  },
  {
   "cell_type": "code",
   "execution_count": null,
   "id": "dd896aaf-29b5-43b2-aeb7-bedbd45a1198",
   "metadata": {},
   "outputs": [],
   "source": []
  }
 ],
 "metadata": {
  "environment": {
   "kernel": "python3",
   "name": "tf2-cpu.2-11.m123",
   "type": "gcloud",
   "uri": "us-docker.pkg.dev/deeplearning-platform-release/gcr.io/tf2-cpu.2-11:m123"
  },
  "kernelspec": {
   "display_name": "Python 3 (Local)",
   "language": "python",
   "name": "python3"
  },
  "language_info": {
   "codemirror_mode": {
    "name": "ipython",
    "version": 3
   },
   "file_extension": ".py",
   "mimetype": "text/x-python",
   "name": "python",
   "nbconvert_exporter": "python",
   "pygments_lexer": "ipython3",
   "version": "3.10.14"
  }
 },
 "nbformat": 4,
 "nbformat_minor": 5
}
