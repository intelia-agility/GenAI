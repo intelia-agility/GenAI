{
 "cells": [
  {
   "cell_type": "markdown",
   "id": "712d3cb2-b281-47e1-936f-5a5d64266512",
   "metadata": {},
   "source": [
    "#this uses stuffing. stuffing is a bit slow for large docs and get context limit error when too long\n",
    "#https://github.com/google/generative-ai-docs/blob/main/examples/gemini/python/langchain/Gemini_LangChain_Summarization_WebLoad.ipynb\n",
    "#https://github.com/google/generative-ai-docs/blob/main/examples/gemini/python/langchain/Gemini_LangChain_Summarization_WebLoad.ipynb\n",
    "\n",
    "soloution:\n",
    "#using 2 prompts and refine method:\n",
    "#https://github.com/GoogleCloudPlatform/generative-ai/blob/main/language/use-cases/document-summarization/summarization_large_documents_langchain.ipynb"
   ]
  },
  {
   "cell_type": "code",
   "execution_count": 4,
   "id": "dc04824b-b5e7-4615-bd0d-4124e4b8d57d",
   "metadata": {
    "tags": []
   },
   "outputs": [],
   "source": [
    "from langchain_google_community import BigQueryLoader\n",
    "from langchain import PromptTemplate\n",
    "from langchain.chains.summarize import load_summarize_chain\n",
    "#from langchain.llms import VertexAI as langchain_vertexai\n",
    "from langchain_google_vertexai import VertexAI as langchain_vertexai\n",
    "from langchain import PromptTemplate\n",
    "from pathlib import Path as p\n",
    "import pandas as pd"
   ]
  },
  {
   "cell_type": "code",
   "execution_count": 5,
   "id": "a28305f6-be4b-472f-9250-ef6d518aef51",
   "metadata": {
    "tags": []
   },
   "outputs": [],
   "source": [
    "import vertexai\n",
    "\n",
    "PROJECT_ID = \"nine-quality-test\"  # @param {type:\"string\"}\n",
    "REGION = \"us-central1\"  # @param {type:\"string\"}\n",
    "\n",
    "vertexai.init(project=PROJECT_ID, location=REGION)"
   ]
  },
  {
   "cell_type": "code",
   "execution_count": 66,
   "id": "ae5ffecb-194d-4d70-95f2-a29a930dbca9",
   "metadata": {
    "tags": []
   },
   "outputs": [],
   "source": [
    "\n",
    "question_prompt_template = \"\"\"\n",
    "    You will be given different parts of texts. Provide a summary of the following text. Your result must be detailed and at least 2 paragraphs. \n",
    "    When summarizing, directly dive into the narrative or descriptions from the text without using introductory phrases like 'In this passage'. \n",
    "    Directly address the main events, characters, and themes, encapsulating the essence and significant details from the text in a flowing narrative. \n",
    "    The goal is to present a unified view of the content, continuing the story seamlessly as if the passage naturally progresses into the summary.\n",
    "\n",
    "    TEXT: {text}\n",
    "    SUMMARY:\n",
    "\"\"\"\n",
    "\n",
    "question_prompt = PromptTemplate(\n",
    "    template=question_prompt_template, input_variables=[\"text\"]\n",
    ")\n",
    "\n",
    "refine_prompt_template = \"\"\"\n",
    "    You have been provided with multiple summaries of different parts of a larger text. Your task is to combine and refine these summaries into a final, comprehensive summary that covers all key events, characters, themes, and details.\n",
    "\n",
    "    When crafting your final summary:\n",
    "    1. Consider **all the provided summaries** carefully and ensure no key information is missed.\n",
    "    2. Synthesize the information from all the parts, integrating them into a **single, unified narrative** that flows naturally.\n",
    "    3. Focus on **clarity, coherence, and completeness** while maintaining the essential details from each part.\n",
    "    4. Ensure that your final summary encapsulates the entire content in a **thorough** and **concise** manner.\n",
    "    \n",
    "    Your goal is to provide a detailed, cohesive summary that synthesizes all the text parts into a unified view without losing any significant detail.\n",
    "\n",
    "    Please start your summary by reviewing all the summaries, and then combine the main ideas, themes, and important events into a coherent final version.\n",
    "\n",
    "    Summaries from different parts:\n",
    "    ```{text}```\n",
    "\"\"\"\n",
    "refine_prompt = PromptTemplate(\n",
    "    template=refine_prompt_template, input_variables=[\"text\"]\n",
    ")\n",
    "\n",
    "refine_prompt_template = (\n",
    "    \"Your job is to produce a final summary. Your task is to combine and refine these summaries into a final, comprehensive summary that covers all key events, characters, themes, and details.\\n\"\n",
    "    \"We have provided an existing summary up to a certain point: {existing_answer}\\n\"\n",
    "    \"We have the opportunity to refine the existing summary\"\n",
    "    \"(only if needed) with some more context below.\\n\"\n",
    "    \"------------\\n\"\n",
    "    \"{text}\\n\"\n",
    "    \"------------\\n\"\n",
    "    \"Given the new context, refine the original summary\"\n",
    "    \"If the context isn't useful, return the original summary.\"\n",
    ")\n",
    "\n",
    "\n",
    "\n",
    "refine_prompt = PromptTemplate(\n",
    "    input_variables=[\"existing_answer\", \"text\"],\n",
    "    template=refine_prompt_template,\n",
    ")"
   ]
  },
  {
   "cell_type": "code",
   "execution_count": 49,
   "id": "982da458-4cf9-42ca-806b-7c8ed8426076",
   "metadata": {
    "tags": []
   },
   "outputs": [],
   "source": [
    "source_query_str='select unique_id,content, chunk from `nine-quality-test.vlt_media_embeddings_integration.vlt_all_media_content_text_embeddings` order by unique_id, chunk asc '\n",
    "metadata_columns=[\"unique_id\",\"chunk\"]\n",
    "page_content_columns=[\"content\"]\n",
    "loader = BigQueryLoader(\n",
    "        query=source_query_str, project=PROJECT_ID, metadata_columns=metadata_columns, page_content_columns=page_content_columns\n",
    "    )\n",
    "    \n",
    "documents = []\n",
    "documents.extend(loader.load())\n",
    "\n",
    "docs=[[doc] for doc in documents]"
   ]
  },
  {
   "cell_type": "code",
   "execution_count": 28,
   "id": "c33089cc-2a89-4aa5-ad77-38aaa1a8fbbd",
   "metadata": {
    "tags": []
   },
   "outputs": [],
   "source": [
    "docs1=[doc for doc in documents]"
   ]
  },
  {
   "cell_type": "code",
   "execution_count": 58,
   "id": "b3f36326-a9ed-4aa5-a1a4-850932960d6c",
   "metadata": {
    "tags": []
   },
   "outputs": [],
   "source": [
    "vertex_llm_text = langchain_vertexai(model_name=\"gemini-1.5-pro-002\")\n",
    "\n"
   ]
  },
  {
   "cell_type": "code",
   "execution_count": 67,
   "id": "cd810ceb-e263-4793-b673-74a94ddbbe56",
   "metadata": {
    "tags": []
   },
   "outputs": [],
   "source": [
    "refine_chain = load_summarize_chain(\n",
    "    vertex_llm_text,\n",
    "    chain_type=\"refine\",\n",
    "    question_prompt=question_prompt,\n",
    "    refine_prompt=refine_prompt,\n",
    "    return_intermediate_steps=True,\n",
    ")"
   ]
  },
  {
   "cell_type": "code",
   "execution_count": 61,
   "id": "b0e9f27b-1e70-4d82-9620-23d5a54d952c",
   "metadata": {
    "tags": []
   },
   "outputs": [],
   "source": [
    "map_chain = load_summarize_chain(\n",
    "    vertex_llm_text,\n",
    "    chain_type=\"map_reduce\",\n",
    "    map_prompt=question_prompt,\n",
    "    combine_prompt=refine_prompt,\n",
    "    return_intermediate_steps=True,\n",
    ")\n"
   ]
  },
  {
   "cell_type": "code",
   "execution_count": 62,
   "id": "1db480eb-cc14-4ddc-93f1-095c22134c98",
   "metadata": {
    "tags": []
   },
   "outputs": [
    {
     "data": {
      "text/plain": [
       "{'input_documents': [Document(metadata={'unique_id': 'p5eie4-0', 'chunk': 0}, page_content='content: HeadLine: What Wednesday’s Optus outage means for The Sydney Morning Herald and The Age subscribers\\nContent: Wednesday’s nationwide Optus outage has triggered a service disruption to some subscribers of The Sydney Morning Herald and The Age.\\n Unfortunately, the outage means our contact centre is currently unable to take any phone calls. If you need contact us, please visit help.theage.com.au, help.theage.com.au, help.theage.com.au or help.theage.com.au and click on the “submit a request” button.\\n Additionally, the outage has also affected many newspaper deliveries today, resulting in a number of late deliveries. If you haven’t received your newspaper, please send us a request and we’ll credit your account as soon as possible.\\n You can also keep up to date on the Optus outage via our live blog here.'),\n",
       "  Document(metadata={'unique_id': 'vlt_video_extract_SIXTY_MINUTES_60MI23_11_A_HBB_360p.mp4-0-0', 'chunk': 0}, page_content='content: Content: The video begins with a close-up of a stopwatch, with a silver bezel and black face, the second hand moving rapidly. The words “60 MINUTES” appear in red letters on the watch face.\\n\\n[00:00:03] The scene shifts to a news studio, where Tara Brown, a news anchor for 60 Minutes, sits on a stool, introducing the program. Behind her, a large screen displays the title “THE CONFESSION,” along with a picture of a man, Chris Ridgeway, superimposed on a background of burning money. The producer’s name, Naomi Shivaraman, is also displayed.\\n\\nTara Brown welcomes viewers to 60 Minutes and announces a joint investigation with The Sydney Morning Herald and The Age, exposing a dubious global financial scheme currently underway. She mentions hundreds of Australian families and thousands worldwide are caught up in the scheme, with many victims unaware of their missing life savings. The potential losses are estimated to be in the millions of dollars.'),\n",
       "  Document(metadata={'unique_id': 'vlt_video_extract_SIXTY_MINUTES_60MI23_11_A_HBB_360p.mp4-0-1', 'chunk': 1}, page_content='content: Content: [00:00:35] Tara Brown explains that a key player, Chris Ridgeway, has decided to confess. The scene changes to a black Porsche Macan SUV with the license plate “RIDGYS” parked in a wooded area. Chris Ridgeway gets into the car, starts it, and drives away. An aerial shot shows the car driving along a winding road through a forested area.\\n\\n[00:01:08] A voiceover describes the Porsche as a symbol of Ridgeway’s supposed success, but reveals that his spoils are ill-gotten. Ridgeway is described as a con man. The scene cuts to Ridgeway in a room, adjusting his hair. He asks if his hair and makeup are alright.'),\n",
       "  Document(metadata={'unique_id': 'vlt_video_extract_SIXTY_MINUTES_60MI23_11_A_HBB_360p.mp4-0-2', 'chunk': 2}, page_content='content: Content: [00:01:41] The voiceover states that Ridgeway is about to do something highly unusual—confess. Adele Ferguson, a reporter, is shown in a close-up, asking Ridgeway if he thinks he’s a crook. Ridgeway hesitates, then admits that while he doesn’t want to think of himself as a crook, some of his recent actions have been terrible and unlawful. He expresses shame, sorrow, and a lack of self-respect.\\n\\n[00:02:14] Ridgeway is shown walking down a set of stone stairs, then walking along a city street. The scene shifts to an aerial view of a city at night, with the words “Shaw and Investments,” “Shaw and Growth,” “Shaw and Innovation,” “Shaw and Opportunity,” and “Shaw and Trust” superimposed on the cityscape.'),\n",
       "  Document(metadata={'unique_id': 'vlt_video_extract_SIXTY_MINUTES_60MI23_11_A_HBB_360p.mp4-0-3', 'chunk': 3}, page_content=\"content: Content: [00:02:18] The voiceover explains that Ridgeway was employed at Shaw and Partners, a reputable financial brokerage firm, as a respected and trusted senior advisor. This position enabled him to deceive his clients and friends, taking their savings. Now, he claims to be a con man with a conscience. Ridgeway walks along a city street, looking remorseful.\\n\\n[00:02:48] Ridgeway expresses his lack of self-respect and difficulty looking at himself in the mirror. He says he’s sorry and wants to tell people he's sorry. He claims to be trying to be honest with himself.\\n\\n[00:03:07] Adele Ferguson is shown in a close-up, stating that to prove his remorse, Ridgeway has agreed to expose a global financial scheme still operating. He has promised to reveal the truth about his role, how his clients were affected, and how many were left destitute.\"),\n",
       "  Document(metadata={'unique_id': 'vlt_video_extract_SIXTY_MINUTES_60MI23_11_A_HBB_360p.mp4-0-4', 'chunk': 4}, page_content='content: Content: [00:03:26] A man in a dark blue polo shirt with orange lettering, part of the word “SUPERDRY,” is shown speaking. He describes the situation as catastrophic, affecting people’s abilities, family time, and trust in the financial system.\\n\\n[00:03:36] Adele Ferguson is shown sitting next to a man in a light-colored shirt. She asks how big the scheme is. Another man, wearing a checked shirt, answers that it’s about $5.5 billion USD. He emphasizes that this is not a small amount of money.\\n\\n[00:03:58] Adele Ferguson says that people worldwide have been lured into the scheme, and the loss of savings is not the only source of pain, but also the embarrassment of being deceived by such a simple truth.'),\n",
       "  Document(metadata={'unique_id': 'vlt_video_extract_SIXTY_MINUTES_60MI23_11_A_HBB_360p.mp4-0-5', 'chunk': 5}, page_content='content: Content: [00:04:14] Ridgeway is shown walking away from the camera, then looking up at tall buildings. The voiceover explains that Ridgeway and other advisors used their positions to convince investors to buy worthless financial products. Ridgeway admits to knowing it was wrong, motivated by greed and desperation for money.\\n\\n[00:04:36] Ridgeway is shown looking at a stock ticker display, then looking directly at the camera. The voiceover states that Ridgeway isn’t going down quietly and wants to name names.\\n\\n[00:04:48] Two men are shown in black and white images. The man on the left is bald and wearing glasses, while the man on the right has white hair. The voiceover identifies them as Andy Turner, based in Britain, and David Sutton, from Australia.\\n\\n[00:04:56] A car drives along a rainy street. The scene cuts to a man walking along a sidewalk. The voiceover mentions that both Turner and Sutton are known to financial authorities for the wrong reasons.'),\n",
       "  Document(metadata={'unique_id': 'vlt_video_extract_SIXTY_MINUTES_60MI23_11_A_HBB_360p.mp4-0-6', 'chunk': 6}, page_content='content: Content: [00:05:02] A bald man in a dark green hoodie is shown speaking to a man in a dark blue shirt with an orange logo. The bald man is identified as Turner. He mentions owning some fantastic cars over the years.\\n\\n[00:05:10] A man with white hair is shown pushing a shopping cart on an escalator, then walking through a parking garage. The voiceover states that Turner is linked to a failed English bank called First London, and Sutton has been associated with North Korean mining companies.\\n\\n[00:05:19] Ridgeway says that those two people are the ones who need to be investigated to find out where the money went. Adele Ferguson asks if he honestly thinks they are con men now. Ridgeway replies that he is pretty sure they are.'),\n",
       "  Document(metadata={'unique_id': 'vlt_video_extract_SIXTY_MINUTES_60MI23_11_A_HBB_360p.mp4-0-7', 'chunk': 7}, page_content='content: Content: [00:05:34] The voiceover explains that Ridgeway claims his role was as a middleman, signing up investors for Turner and Sutton’s scheme in exchange for lucrative secret kickbacks. He also pushed the lie that his employer, Shaw and Partners, endorsed the deals, leading unsuspecting clients to sign up eagerly.\\n\\n[00:05:48] The camera pans up the side of a tall building with the words “ONE ONE ONE” displayed on it. The voiceover mentions that Ridgeway took $1.6 million in kickbacks, which he spent on flashy cars and lavish overseas holidays. His clients were unaware their savings were funding his extravagant lifestyle.\\n\\n[00:06:52] A woman with short white hair, wearing a light green shirt, is shown in a close-up. She says that Ridgeway never mentioned receiving a commission. Adele Ferguson clarifies that it wasn’t a standard commission, but a massive one, which Ridgeway pocketed. The woman agrees, adding that one gets paid well for doing dodgy things.'),\n",
       "  Document(metadata={'unique_id': 'vlt_video_extract_SIXTY_MINUTES_60MI23_11_A_HBB_360p.mp4-0-8', 'chunk': 8}, page_content='content: Content: [00:07:06] A woman with short white hair gets into a black Mazda CX-30 SUV. She starts the car and drives away. The scene cuts to the car parked on the side of a residential street, then to the woman driving. The voiceover mentions that unlike Ridgeway’s flashy car, the woman’s car is for work, as she’s supposed to be retired.\\n\\n[00:07:13] The woman, identified as Leeth Reynolds, is shown in a close-up. Adele Ferguson asks if she anticipated she would be couriering at this time. Reynolds replies that it was definitely not in her plan.\\n\\n[00:07:39] A photograph shows a group of people in a room, some dressed in suits. Ridgeway is visible in the background. Reynolds points at the photograph, explaining that it was taken at her husband Mark’s funeral. Ridgeway was a close friend of Mark and even a pallbearer. At that time, he was a trusted member of their friendship group.')],\n",
       " 'intermediate_steps': [\"A nationwide Optus outage on Wednesday disrupted services for some Sydney Morning Herald and The Age subscribers, primarily impacting the newspapers' contact center and delivery operations.  The outage rendered the contact center unable to receive calls, directing customers needing assistance to online help platforms at help.theage.com.au to submit requests.\\n\\nThe disruption also caused significant delays in newspaper deliveries, with many subscribers experiencing late arrivals.  Affected subscribers are encouraged to submit requests online to receive account credits.  Furthermore, real-time updates and information regarding the Optus outage are available through a dedicated live blog.\\n\",\n",
       "  'A stopwatch ticks down, the red \"60 MINUTES\" stark against the black face, signaling the start of an exposé.  News anchor Tara Brown, in the 60 Minutes studio, introduces \"THE CONFESSION,\" a joint investigation with The Sydney Morning Herald and The Age. The screen behind her displays the title and a picture of Chris Ridgeway, the subject of the investigation, superimposed over burning money.  This investigation delves into a sprawling international financial scheme, impacting hundreds of Australian families and thousands more globally. \\n\\nThe scheme has already defrauded victims of their life savings, many of whom remain unaware of their losses. The staggering scale of the deception points to potential losses totaling millions of dollars. The investigation promises to reveal the intricacies of this complex financial scheme and the devastating consequences for those ensnared within it.\\n',\n",
       "  \"Tara Brown reveals that Chris Ridgeway, a central figure, has chosen to confess.  He departs a secluded, wooded area in his black Porsche Macan, license plate “RIDGYS,” the vehicle symbolic of his falsely acquired wealth.  The winding road he traverses underscores the crooked path he's taken to achieve this outward display of success. Ridgeway's true nature as a con man is exposed, peeling back the veneer of respectability his car attempts to project.\\n\\nHis focus shifts from the car to his appearance, highlighting his vanity and preoccupation with maintaining a carefully constructed facade.  In a room, likely preparing for his confession, he anxiously checks his hair and makeup, demonstrating a concern for how his image will be perceived, even as he prepares to admit his guilt. This suggests a deep-seated need for external validation and control over his narrative, even in the face of impending exposure.\\n\",\n",
       "  \"Ridgeway, on the verge of a remarkable confession, grapples with the weight of his actions.  When confronted by reporter Adele Ferguson about his potential crookedness, he hesitates, torn between self-perception and the undeniable reality of his unlawful behavior. The shame and sorrow he expresses reveal a deep loss of self-respect, suggesting a man wrestling with the consequences of his choices.  His confession promises to expose the depth of his transgressions and the motivations behind them.\\n\\nThe visual narrative underscores Ridgeway’s internal turmoil.  He descends stone steps, a symbolic journey perhaps reflecting his fall from grace.  He walks the city streets, a solitary figure amidst the urban landscape, seemingly lost in contemplation.  The subsequent aerial view of the city at night, emblazoned with phrases like “Shaw and Investments” and “Shaw and Trust,” hints at the scope of Ridgeway's influence and the potential impact of his confession. This juxtaposition highlights the irony of promoting trust and opportunity while simultaneously engaging in unlawful activities, setting the stage for the unfolding drama of his revelation.\\n\",\n",
       "  \"Marcus Ridgeway, once a respected senior advisor at the esteemed financial brokerage firm Shaw and Partners, now walks the city streets burdened by remorse. His trusted position allowed him to systematically deceive clients and friends, pilfering their savings and leaving them financially devastated.  He grapples with a profound lack of self-respect, confessing the difficulty of facing his own reflection.  Consumed by guilt, Ridgeway expresses a desperate need to apologize to those he harmed, claiming a desire for self-honesty and accountability for his actions.\\n\\nTo demonstrate the sincerity of his remorse, Ridgeway has agreed to cooperate with investigative journalist Adele Ferguson. He promises to unveil a still-active global financial scheme, detailing his involvement and the devastating impact on his clients.  His confession aims to expose the mechanisms of the fraud and the extent of the damage, including the number of victims left destitute.  This collaboration offers a potential path to redemption, though the true measure of Ridgeway's remorse will lie in the depth of his revelations and the justice they may bring.\\n\",\n",
       "  'A man, identifiable by his dark blue \"SUPERDRY\" polo shirt, describes the unfolding situation as catastrophic, highlighting its far-reaching impact on people\\'s abilities, precious family time, and eroding trust in the very foundation of the financial system.  The severity of the crisis hangs heavy in the air, palpable in his concerned expression.\\n\\nAdele Ferguson, seated beside a man in a light-colored shirt, probes deeper, seeking to quantify the scale of the disaster.  A man in a checked shirt responds gravely, revealing the staggering figure of $5.5 billion USD, emphasizing the sheer magnitude of the loss.  Ferguson confirms the global reach of the scheme, acknowledging that victims worldwide have been ensnared.  She poignantly observes that the financial losses are only part of the suffering; the deep embarrassment and shame of being deceived by such a seemingly obvious truth compounds the pain for those affected.\\n',\n",
       "  'Ridgeway, implicated in a financial scandal, walks away from the towering symbols of his past success, burdened by the knowledge of his misdeeds.  He confesses to manipulating investors into purchasing worthless financial products, driven by greed and a desperate need for money.  However, consumed by a desire to expose the larger network of corruption, he refuses to be a silent scapegoat. He stares defiantly into the camera, ready to implicate others involved in the scheme.\\n\\nHis gaze seems to point directly at Andy Turner and David Sutton, whose faces, captured in stark black and white, flash across the screen.  Turner, bespectacled and bald, resides in Britain, while the white-haired Sutton operates from Australia.  Both men are already on the radar of financial authorities, their reputations tainted by previous dubious dealings. As a car navigates a rain-slicked street and a lone figure trudges along a sidewalk, the ominous atmosphere hints at the impending storm about to break over their world of financial deception.\\n',\n",
       "  \"Turner, a bald man in a dark green hoodie, converses with another man sporting a dark blue shirt adorned with an orange logo, boasting about his impressive collection of cars over the years.  Meanwhile, a white-haired man navigates a parking garage with a shopping cart, his movements captured after he ascends an escalator.  This second man is linked to North Korean mining companies, identified as Sutton. The connection between these two seemingly disparate individuals hinges on a failed English bank, First London, to which Turner is also linked.\\n\\nThe focus shifts to Ridgeway, who asserts that Turner and Sutton hold the key to uncovering the missing funds.  He firmly believes that a thorough investigation into their activities will reveal the truth.  This conviction is met with skepticism from Adele Ferguson, who directly questions Ridgeway's suspicion, wondering if he genuinely believes the two men are con artists.  Ridgeway's unwavering response confirms his suspicions, expressing near certainty in their culpability. This exchange highlights a crucial turning point, suggesting a pursuit of these individuals to uncover the missing money and reveal the extent of their involvement in the failed bank and potentially illicit activities.\\n\",\n",
       "  'Ridgeway, acting as a middleman, lured investors into Turner and Sutton\\'s scheme with promises of high returns, all while secretly receiving substantial kickbacks. He falsely claimed endorsements from his employer, Shaw and Partners, bolstering the scheme\\'s credibility and encouraging unsuspecting clients to invest.  This deception allowed him to amass $1.6 million in illicit funds, which he then used to finance a luxurious lifestyle filled with expensive cars and extravagant international vacations.  The true source of his newfound wealth remained hidden from his clients, who were unknowingly funding his opulent lifestyle.\\n\\nRidgeway\\'s deceit involved concealing the true nature of his compensation. He never disclosed the substantial commissions he received to his clients, presenting his involvement as standard practice.  However, these \"commissions\" were far from ordinary, representing a significant portion of the investors\\' money funneled directly into Ridgeway\\'s pockets. The sheer scale of these kickbacks suggests the illicit nature of the dealings, highlighting the depth of Ridgeway\\'s betrayal of his clients\\' trust.  His actions are recognized by at least one astute observer who cynically notes the connection between high pay and questionable practices.\\n',\n",
       "  \"Leeth Reynolds, a woman with short white hair, drives her practical black Mazda CX-30, a stark contrast to the flashy car owned by a man named Ridgeway.  Despite being supposedly retired, Reynolds finds herself working as a courier, a situation she hadn't envisioned for this stage of her life.  The unexpected turn of events is juxtaposed with a photograph showing a gathering of people, some in suits, at her husband Mark's funeral.  Ridgeway, a close friend of Mark and even a pallbearer, is visible in the background of the picture.  \\n\\nAt the time of Mark's death, Ridgeway was a trusted member of their circle. The scene and Reynolds's reflections hint at a shift in their relationship dynamic, likely linked to the circumstances surrounding her current employment.  The contrast between Ridgeway's ostentatious car and Reynolds's practical one, coupled with her surprise at her courier job, suggests a possible financial disparity and perhaps even a betrayal of trust by Ridgeway, leading to Reynolds's present predicament. The interview with Adele Ferguson continues, promising to reveal more about this intriguing story.\\n\"],\n",
       " 'output_text': 'A joint investigation by 60 Minutes, The Sydney Morning Herald, and The Age, titled \"THE CONFESSION,\" exposes a sprawling international financial scheme orchestrated by Chris Ridgeway, impacting hundreds of Australian families and thousands globally, with potential losses reaching millions of dollars.  The investigation, introduced by news anchor Tara Brown, centers on Ridgeway\\'s confession, a decision highlighted by his departure from a secluded area in his Porsche Macan, license plate “RIDGYS,” a symbol of his ill-gotten gains.  His meticulous attention to his appearance before the confession underscores his vanity and desire to control his narrative.\\n\\nRidgeway, formerly a senior advisor at Shaw and Partners, admits to defrauding clients and friends, leaving them financially ruined.  He expresses remorse and a desire to expose the scheme, collaborating with investigative journalist Adele Ferguson to reveal its intricacies and global reach. The investigation coincides with a nationwide Optus outage disrupting services for some Sydney Morning Herald and The Age subscribers, primarily affecting their contact center and delivery operations, prompting the newspapers to direct customers to online help platforms.\\n\\nThe scheme, estimated to involve losses of $5.5 billion USD, has left victims worldwide not only financially devastated but also deeply embarrassed and ashamed. Ridgeway implicates Andy Turner and David Sutton, both already under scrutiny by financial authorities, as key players in the scheme.  Turner, based in Britain, and Sutton, operating from Australia, are linked through the failed English bank, First London. While Turner boasts about his car collection, Sutton is connected to North Korean mining companies.\\n\\nRidgeway\\'s role was to lure investors into Turner and Sutton\\'s scheme with promises of high returns, receiving substantial kickbacks in return. He falsely claimed endorsements from Shaw and Partners, pocketing $1.6 million to fund a lavish lifestyle, hiding the true source of his wealth from his clients.  He concealed these substantial commissions, portraying them as standard practice.\\n\\nThe investigation also highlights the story of Leeth Reynolds, a widow forced to work as a courier despite being retired.  Her husband, Mark, was a close friend of Ridgeway, who even served as a pallbearer at his funeral.  The stark contrast between Reynolds\\'s modest Mazda CX-30 and Ridgeway\\'s luxury car, along with her unexpected employment, suggests a potential financial disparity and betrayal of trust, further illustrating the devastating consequences of Ridgeway\\'s actions. The ongoing interview with Adele Ferguson promises to uncover more details of this complex and heartbreaking story.\\n'}"
      ]
     },
     "execution_count": 62,
     "metadata": {},
     "output_type": "execute_result"
    }
   ],
   "source": [
    "final_summary_map = map_chain.invoke({\"input_documents\": documents})\n",
    "final_summary_map"
   ]
  },
  {
   "cell_type": "code",
   "execution_count": 68,
   "id": "9be58657-7f42-4759-845c-f519790de09e",
   "metadata": {
    "tags": []
   },
   "outputs": [],
   "source": [
    "final_summary = refine_chain.invoke({\"input_documents\": documents})\n"
   ]
  },
  {
   "cell_type": "code",
   "execution_count": 69,
   "id": "4e99abf6-2558-4736-9877-f9f96aa63f2d",
   "metadata": {
    "tags": []
   },
   "outputs": [
    {
     "data": {
      "text/plain": [
       "{'input_documents': [Document(metadata={'unique_id': 'p5eie4-0', 'chunk': 0}, page_content='content: HeadLine: What Wednesday’s Optus outage means for The Sydney Morning Herald and The Age subscribers\\nContent: Wednesday’s nationwide Optus outage has triggered a service disruption to some subscribers of The Sydney Morning Herald and The Age.\\n Unfortunately, the outage means our contact centre is currently unable to take any phone calls. If you need contact us, please visit help.theage.com.au, help.theage.com.au, help.theage.com.au or help.theage.com.au and click on the “submit a request” button.\\n Additionally, the outage has also affected many newspaper deliveries today, resulting in a number of late deliveries. If you haven’t received your newspaper, please send us a request and we’ll credit your account as soon as possible.\\n You can also keep up to date on the Optus outage via our live blog here.'),\n",
       "  Document(metadata={'unique_id': 'vlt_video_extract_SIXTY_MINUTES_60MI23_11_A_HBB_360p.mp4-0-0', 'chunk': 0}, page_content='content: Content: The video begins with a close-up of a stopwatch, with a silver bezel and black face, the second hand moving rapidly. The words “60 MINUTES” appear in red letters on the watch face.\\n\\n[00:00:03] The scene shifts to a news studio, where Tara Brown, a news anchor for 60 Minutes, sits on a stool, introducing the program. Behind her, a large screen displays the title “THE CONFESSION,” along with a picture of a man, Chris Ridgeway, superimposed on a background of burning money. The producer’s name, Naomi Shivaraman, is also displayed.\\n\\nTara Brown welcomes viewers to 60 Minutes and announces a joint investigation with The Sydney Morning Herald and The Age, exposing a dubious global financial scheme currently underway. She mentions hundreds of Australian families and thousands worldwide are caught up in the scheme, with many victims unaware of their missing life savings. The potential losses are estimated to be in the millions of dollars.'),\n",
       "  Document(metadata={'unique_id': 'vlt_video_extract_SIXTY_MINUTES_60MI23_11_A_HBB_360p.mp4-0-1', 'chunk': 1}, page_content='content: Content: [00:00:35] Tara Brown explains that a key player, Chris Ridgeway, has decided to confess. The scene changes to a black Porsche Macan SUV with the license plate “RIDGYS” parked in a wooded area. Chris Ridgeway gets into the car, starts it, and drives away. An aerial shot shows the car driving along a winding road through a forested area.\\n\\n[00:01:08] A voiceover describes the Porsche as a symbol of Ridgeway’s supposed success, but reveals that his spoils are ill-gotten. Ridgeway is described as a con man. The scene cuts to Ridgeway in a room, adjusting his hair. He asks if his hair and makeup are alright.'),\n",
       "  Document(metadata={'unique_id': 'vlt_video_extract_SIXTY_MINUTES_60MI23_11_A_HBB_360p.mp4-0-2', 'chunk': 2}, page_content='content: Content: [00:01:41] The voiceover states that Ridgeway is about to do something highly unusual—confess. Adele Ferguson, a reporter, is shown in a close-up, asking Ridgeway if he thinks he’s a crook. Ridgeway hesitates, then admits that while he doesn’t want to think of himself as a crook, some of his recent actions have been terrible and unlawful. He expresses shame, sorrow, and a lack of self-respect.\\n\\n[00:02:14] Ridgeway is shown walking down a set of stone stairs, then walking along a city street. The scene shifts to an aerial view of a city at night, with the words “Shaw and Investments,” “Shaw and Growth,” “Shaw and Innovation,” “Shaw and Opportunity,” and “Shaw and Trust” superimposed on the cityscape.'),\n",
       "  Document(metadata={'unique_id': 'vlt_video_extract_SIXTY_MINUTES_60MI23_11_A_HBB_360p.mp4-0-3', 'chunk': 3}, page_content=\"content: Content: [00:02:18] The voiceover explains that Ridgeway was employed at Shaw and Partners, a reputable financial brokerage firm, as a respected and trusted senior advisor. This position enabled him to deceive his clients and friends, taking their savings. Now, he claims to be a con man with a conscience. Ridgeway walks along a city street, looking remorseful.\\n\\n[00:02:48] Ridgeway expresses his lack of self-respect and difficulty looking at himself in the mirror. He says he’s sorry and wants to tell people he's sorry. He claims to be trying to be honest with himself.\\n\\n[00:03:07] Adele Ferguson is shown in a close-up, stating that to prove his remorse, Ridgeway has agreed to expose a global financial scheme still operating. He has promised to reveal the truth about his role, how his clients were affected, and how many were left destitute.\"),\n",
       "  Document(metadata={'unique_id': 'vlt_video_extract_SIXTY_MINUTES_60MI23_11_A_HBB_360p.mp4-0-4', 'chunk': 4}, page_content='content: Content: [00:03:26] A man in a dark blue polo shirt with orange lettering, part of the word “SUPERDRY,” is shown speaking. He describes the situation as catastrophic, affecting people’s abilities, family time, and trust in the financial system.\\n\\n[00:03:36] Adele Ferguson is shown sitting next to a man in a light-colored shirt. She asks how big the scheme is. Another man, wearing a checked shirt, answers that it’s about $5.5 billion USD. He emphasizes that this is not a small amount of money.\\n\\n[00:03:58] Adele Ferguson says that people worldwide have been lured into the scheme, and the loss of savings is not the only source of pain, but also the embarrassment of being deceived by such a simple truth.'),\n",
       "  Document(metadata={'unique_id': 'vlt_video_extract_SIXTY_MINUTES_60MI23_11_A_HBB_360p.mp4-0-5', 'chunk': 5}, page_content='content: Content: [00:04:14] Ridgeway is shown walking away from the camera, then looking up at tall buildings. The voiceover explains that Ridgeway and other advisors used their positions to convince investors to buy worthless financial products. Ridgeway admits to knowing it was wrong, motivated by greed and desperation for money.\\n\\n[00:04:36] Ridgeway is shown looking at a stock ticker display, then looking directly at the camera. The voiceover states that Ridgeway isn’t going down quietly and wants to name names.\\n\\n[00:04:48] Two men are shown in black and white images. The man on the left is bald and wearing glasses, while the man on the right has white hair. The voiceover identifies them as Andy Turner, based in Britain, and David Sutton, from Australia.\\n\\n[00:04:56] A car drives along a rainy street. The scene cuts to a man walking along a sidewalk. The voiceover mentions that both Turner and Sutton are known to financial authorities for the wrong reasons.'),\n",
       "  Document(metadata={'unique_id': 'vlt_video_extract_SIXTY_MINUTES_60MI23_11_A_HBB_360p.mp4-0-6', 'chunk': 6}, page_content='content: Content: [00:05:02] A bald man in a dark green hoodie is shown speaking to a man in a dark blue shirt with an orange logo. The bald man is identified as Turner. He mentions owning some fantastic cars over the years.\\n\\n[00:05:10] A man with white hair is shown pushing a shopping cart on an escalator, then walking through a parking garage. The voiceover states that Turner is linked to a failed English bank called First London, and Sutton has been associated with North Korean mining companies.\\n\\n[00:05:19] Ridgeway says that those two people are the ones who need to be investigated to find out where the money went. Adele Ferguson asks if he honestly thinks they are con men now. Ridgeway replies that he is pretty sure they are.'),\n",
       "  Document(metadata={'unique_id': 'vlt_video_extract_SIXTY_MINUTES_60MI23_11_A_HBB_360p.mp4-0-7', 'chunk': 7}, page_content='content: Content: [00:05:34] The voiceover explains that Ridgeway claims his role was as a middleman, signing up investors for Turner and Sutton’s scheme in exchange for lucrative secret kickbacks. He also pushed the lie that his employer, Shaw and Partners, endorsed the deals, leading unsuspecting clients to sign up eagerly.\\n\\n[00:05:48] The camera pans up the side of a tall building with the words “ONE ONE ONE” displayed on it. The voiceover mentions that Ridgeway took $1.6 million in kickbacks, which he spent on flashy cars and lavish overseas holidays. His clients were unaware their savings were funding his extravagant lifestyle.\\n\\n[00:06:52] A woman with short white hair, wearing a light green shirt, is shown in a close-up. She says that Ridgeway never mentioned receiving a commission. Adele Ferguson clarifies that it wasn’t a standard commission, but a massive one, which Ridgeway pocketed. The woman agrees, adding that one gets paid well for doing dodgy things.'),\n",
       "  Document(metadata={'unique_id': 'vlt_video_extract_SIXTY_MINUTES_60MI23_11_A_HBB_360p.mp4-0-8', 'chunk': 8}, page_content='content: Content: [00:07:06] A woman with short white hair gets into a black Mazda CX-30 SUV. She starts the car and drives away. The scene cuts to the car parked on the side of a residential street, then to the woman driving. The voiceover mentions that unlike Ridgeway’s flashy car, the woman’s car is for work, as she’s supposed to be retired.\\n\\n[00:07:13] The woman, identified as Leeth Reynolds, is shown in a close-up. Adele Ferguson asks if she anticipated she would be couriering at this time. Reynolds replies that it was definitely not in her plan.\\n\\n[00:07:39] A photograph shows a group of people in a room, some dressed in suits. Ridgeway is visible in the background. Reynolds points at the photograph, explaining that it was taken at her husband Mark’s funeral. Ridgeway was a close friend of Mark and even a pallbearer. At that time, he was a trusted member of their friendship group.')],\n",
       " 'intermediate_steps': [\"An Optus outage on Wednesday disrupted services for some Sydney Morning Herald and The Age subscribers, primarily impacting the newspapers' contact center and delivery systems.  The outage has rendered the contact center unable to receive calls, directing customers needing assistance to online help platforms at help.theage.com.au where they can submit requests.  \\n\\nNewspaper deliveries were also significantly delayed for many subscribers.  Affected customers are encouraged to submit a request through the online help portal to receive account credit.  Furthermore, a live blog has been set up to keep subscribers informed about the ongoing Optus outage and its impact on newspaper services.\\n\",\n",
       "  'A significant Optus outage on Wednesday disrupted services for some Sydney Morning Herald and The Age subscribers, primarily impacting their contact center and delivery systems.  The outage prevented the contact center from receiving calls, directing customers needing assistance to online help platforms at help.theage.com.au.  Newspaper deliveries were also substantially delayed. Affected subscribers are encouraged to submit a request via the online help portal to receive account credit. A live blog is providing updates on the Optus outage and its impact.  This outage comes amidst a joint investigation by 60 Minutes, The Sydney Morning Herald, and The Age into a global financial scheme impacting hundreds of Australian families and thousands worldwide, with potential losses in the millions of dollars.  The investigation, titled \"The Confession,\" focuses on a man named Chris Ridgeway.\\n',\n",
       "  'A significant Optus outage on Wednesday disrupted services for some Sydney Morning Herald and The Age subscribers, primarily impacting their contact center and delivery systems.  The outage prevented the contact center from receiving calls, directing customers needing assistance to online help platforms at help.theage.com.au.  Newspaper deliveries were also substantially delayed. Affected subscribers are encouraged to submit a request via the online help portal to receive account credit. A live blog is providing updates on the Optus outage and its impact.  This outage comes amidst a joint investigation by 60 Minutes, The Sydney Morning Herald, and The Age into a global financial scheme impacting hundreds of Australian families and thousands worldwide, with potential losses in the millions of dollars.  The investigation, titled \"The Confession,\" focuses on a man named Chris Ridgeway, who has confessed to his involvement.  The program introduces Ridgeway driving his Porsche Macan, a symbol of his ill-gotten gains, and preparing for his confession.\\n',\n",
       "  'A significant Optus outage on Wednesday disrupted services for some Sydney Morning Herald and The Age subscribers, primarily impacting their contact center and delivery systems.  The outage prevented the contact center from receiving calls, directing customers needing assistance to online help platforms at help.theage.com.au. Newspaper deliveries were also substantially delayed. Affected subscribers are encouraged to submit a request via the online help portal to receive account credit. A live blog is providing updates on the Optus outage and its impact.  This outage coincides with a joint investigation by 60 Minutes, The Sydney Morning Herald, and The Age into a global financial scheme called \"The Confession,\" impacting hundreds of Australian families and thousands worldwide, with potential losses in the millions of dollars. The investigation centers on Chris Ridgeway, who confesses to his involvement in the scheme.  The program opens with Ridgeway driving his Porsche Macan, a symbol of his ill-gotten gains, and preparing for his confession, during which he admits to reporter Adele Ferguson that some of his actions have been \"terrible and unlawful,\" expressing shame and remorse.  The program also highlights various Shaw and [keyword] companies, suggesting their connection to the scheme.\\n',\n",
       "  'An Optus outage on Wednesday disrupted services for some Sydney Morning Herald and The Age subscribers, primarily impacting their contact center and delivery systems, forcing customers online for assistance (help.theage.com.au) and causing substantial newspaper delivery delays. Affected subscribers are encouraged to request account credit via the online help portal.  A live blog is tracking the outage and its impact.  This outage coincides with a joint 60 Minutes, Sydney Morning Herald, and The Age investigation into \"The Confession,\" a global financial scheme impacting hundreds of Australian families and thousands worldwide, with potential losses in the millions of dollars. The investigation centers on Chris Ridgeway, a former senior advisor at the reputable brokerage firm Shaw and Partners, who confesses his involvement.  The program opens with Ridgeway driving his Porsche Macan, a symbol of his ill-gotten gains, and preparing for his confession to reporter Adele Ferguson.  He admits some of his actions were \"terrible and unlawful,\" expressing shame and remorse, and claims to be a \"con man with a conscience.\"  Ridgeway\\'s confession includes exposing the still-operating scheme, detailing his role, the impact on his clients (some left destitute), and the involvement of various Shaw and [keyword] companies.\\n',\n",
       "  'An Optus outage on Wednesday disrupted services for some Sydney Morning Herald and The Age subscribers, primarily impacting their contact center and delivery systems, forcing customers online for assistance (help.theage.com.au) and causing substantial newspaper delivery delays. Affected subscribers are encouraged to request account credit via the online help portal. A live blog is tracking the outage and its impact. This outage coincides with a joint 60 Minutes, Sydney Morning Herald, and The Age investigation into \"The Confession,\" a global financial scheme impacting hundreds of Australian families and thousands worldwide, with potential losses estimated at $5.5 billion USD. The investigation centers on Chris Ridgeway, a former senior advisor at the reputable brokerage firm Shaw and Partners, who confesses his involvement to reporter Adele Ferguson. The program opens with Ridgeway driving his Porsche Macan, a symbol of his ill-gotten gains, and preparing for his confession. He admits some of his actions were \"terrible and unlawful,\" expressing shame and remorse, and claims to be a \"con man with a conscience.\"  Ridgeway\\'s confession includes exposing the still-operating scheme, detailing his role, the devastating impact on his clients (some left destitute), and the involvement of various Shaw and [keyword] companies. The program also highlights the wider emotional impact of the scheme, including the embarrassment felt by victims.\\n',\n",
       "  'An Optus outage on Wednesday disrupted services for some Sydney Morning Herald and The Age subscribers, primarily impacting their contact center and delivery systems, forcing customers online for assistance (help.theage.com.au) and causing substantial newspaper delivery delays. Affected subscribers are encouraged to request account credit via the online help portal. A live blog is tracking the outage and its impact. This outage coincides with a joint 60 Minutes, Sydney Morning Herald, and The Age investigation into \"The Confession,\" a global financial scheme impacting hundreds of Australian families and thousands worldwide, with potential losses estimated at $5.5 billion USD. The investigation centers on Chris Ridgeway, a former senior advisor at Shaw and Partners, who confesses his involvement to reporter Adele Ferguson.  Ridgeway, driving his Porsche Macan (a symbol of his ill-gotten gains), admits to actions he describes as \"terrible and unlawful,\" expressing shame and remorse while calling himself a \"con man with a conscience.\"  His confession exposes the still-operating scheme, detailing his role, the devastating impact on victims (some left destitute), and the involvement of various Shaw and Partners-linked companies, as well as naming two alleged accomplices, Andy Turner (Britain) and David Sutton (Australia), both known to financial authorities. The program highlights the wider emotional impact, including the victims\\' embarrassment, and Ridgeway\\'s motivation of greed and desperation for money.\\n',\n",
       "  'An Optus outage on Wednesday disrupted services for some Sydney Morning Herald and The Age subscribers, primarily impacting their contact center and delivery systems, forcing customers online for assistance (help.theage.com.au) and causing substantial newspaper delivery delays. Affected subscribers are encouraged to request account credit via the online help portal. A live blog is tracking the outage and its impact.  This outage coincided with a joint 60 Minutes, Sydney Morning Herald, and The Age investigation into \"The Confession,\" a global financial scheme impacting hundreds of Australian families and thousands worldwide, with potential losses estimated at $5.5 billion USD. The investigation centers on Chris Ridgeway, a former senior advisor at Shaw and Partners, who confesses his involvement to reporter Adele Ferguson. Ridgeway, driving his Porsche Macan (a symbol of his ill-gotten gains), admits to actions he describes as \"terrible and unlawful,\" expressing shame and remorse while calling himself a \"con man with a conscience.\"  His confession exposes the still-operating scheme, detailing his role, the devastating impact on victims (some left destitute), and the involvement of various Shaw and Partners-linked companies. He also implicates two alleged accomplices, Andy Turner and David Sutton,  linking Turner to the failed English bank First London and Sutton to North Korean mining companies, and asserting that they should be investigated to determine the whereabouts of the missing funds.  The program highlights the wider emotional impact on victims, including embarrassment, and Ridgeway\\'s motivation of greed and desperation for money.\\n',\n",
       "  'An Optus outage on Wednesday disrupted services for some Sydney Morning Herald and The Age subscribers, primarily impacting their contact center and delivery systems, forcing customers online for assistance (help.theage.com.au) and causing substantial newspaper delivery delays. Affected subscribers are encouraged to request account credit via the online help portal. A live blog is tracking the outage and its impact.  This outage coincided with a joint 60 Minutes, Sydney Morning Herald, and The Age investigation into \"The Confession,\" a global financial scheme impacting hundreds of Australian families and thousands worldwide, with potential losses estimated at $5.5 billion USD. The investigation centers on Chris Ridgeway, a former senior advisor at Shaw and Partners, who confesses his involvement to reporter Adele Ferguson. Ridgeway, driving his Porsche Macan (a symbol of his ill-gotten gains), admits to actions he describes as \"terrible and unlawful,\" expressing shame and remorse while calling himself a \"con man with a conscience.\"  His confession exposes the still-operating scheme, detailing his role as a middleman who signed up investors for alleged accomplices Andy Turner and David Sutton in exchange for $1.6 million in secret kickbacks, falsely claiming Shaw and Partners endorsed the deals. He spent the money on luxury items like cars and holidays.  Ridgeway implicates Turner, linking him to the failed English bank First London, and Sutton, connecting him to North Korean mining companies, urging investigations to locate the missing funds. The program highlights the devastating financial and emotional impact on victims, some left destitute,  and contrasts Ridgeway\\'s greed and desperation for money with his clients\\' unawareness that their savings funded his lavish lifestyle.  One victim confirms Ridgeway never disclosed his substantial commission, highlighting the deceptive nature of his actions.\\n',\n",
       "  'An Optus outage on Wednesday disrupted services for some Sydney Morning Herald and The Age subscribers, primarily impacting their contact center and delivery systems, forcing customers online for assistance (help.theage.com.au) and causing substantial newspaper delivery delays. Affected subscribers are encouraged to request account credit via the online help portal. A live blog is tracking the outage and its impact.  This outage coincided with a joint 60 Minutes, Sydney Morning Herald, and The Age investigation into \"The Confession,\" a global financial scheme impacting hundreds of Australian families and thousands worldwide, with potential losses estimated at $5.5 billion USD. The investigation centers on Chris Ridgeway, a former senior advisor at Shaw and Partners, who confesses his involvement to reporter Adele Ferguson. Ridgeway, driving his Porsche Macan (a symbol of his ill-gotten gains), admits to actions he describes as \"terrible and unlawful,\" expressing shame and remorse while calling himself a \"con man with a conscience.\"  His confession exposes the still-operating scheme, detailing his role as a middleman who signed up investors for alleged accomplices Andy Turner and David Sutton in exchange for $1.6 million in secret kickbacks, falsely claiming Shaw and Partners endorsed the deals. He spent the money on luxury items like cars and holidays.  Ridgeway implicates Turner, linking him to the failed English bank First London, and Sutton, connecting him to North Korean mining companies, urging investigations to locate the missing funds. The program highlights the devastating financial and emotional impact on victims, some left destitute,  and contrasts Ridgeway\\'s lavish lifestyle with the unawareness of his clients, whose savings funded it. One such victim, Leeth Reynolds, now forced to work as a courier despite her retirement plans, trusted Ridgeway as a close friend of her late husband, Mark, for whom Ridgeway even served as a pallbearer. This betrayal underscores the depth of deception perpetrated by Ridgeway within his social circle.  The program also confirms that Ridgeway never disclosed his substantial commission to his clients, further highlighting the deceptive nature of his actions.\\n'],\n",
       " 'output_text': 'An Optus outage on Wednesday disrupted services for some Sydney Morning Herald and The Age subscribers, primarily impacting their contact center and delivery systems, forcing customers online for assistance (help.theage.com.au) and causing substantial newspaper delivery delays. Affected subscribers are encouraged to request account credit via the online help portal. A live blog is tracking the outage and its impact.  This outage coincided with a joint 60 Minutes, Sydney Morning Herald, and The Age investigation into \"The Confession,\" a global financial scheme impacting hundreds of Australian families and thousands worldwide, with potential losses estimated at $5.5 billion USD. The investigation centers on Chris Ridgeway, a former senior advisor at Shaw and Partners, who confesses his involvement to reporter Adele Ferguson. Ridgeway, driving his Porsche Macan (a symbol of his ill-gotten gains), admits to actions he describes as \"terrible and unlawful,\" expressing shame and remorse while calling himself a \"con man with a conscience.\"  His confession exposes the still-operating scheme, detailing his role as a middleman who signed up investors for alleged accomplices Andy Turner and David Sutton in exchange for $1.6 million in secret kickbacks, falsely claiming Shaw and Partners endorsed the deals. He spent the money on luxury items like cars and holidays.  Ridgeway implicates Turner, linking him to the failed English bank First London, and Sutton, connecting him to North Korean mining companies, urging investigations to locate the missing funds. The program highlights the devastating financial and emotional impact on victims, some left destitute,  and contrasts Ridgeway\\'s lavish lifestyle with the unawareness of his clients, whose savings funded it. One such victim, Leeth Reynolds, now forced to work as a courier despite her retirement plans, trusted Ridgeway as a close friend of her late husband, Mark, for whom Ridgeway even served as a pallbearer. This betrayal underscores the depth of deception perpetrated by Ridgeway within his social circle.  The program also confirms that Ridgeway never disclosed his substantial commission to his clients, further highlighting the deceptive nature of his actions.\\n'}"
      ]
     },
     "execution_count": 69,
     "metadata": {},
     "output_type": "execute_result"
    }
   ],
   "source": [
    "final_summary"
   ]
  },
  {
   "cell_type": "code",
   "execution_count": 64,
   "id": "104c7ca0-0838-4e5e-9c2a-f67a1367ffb0",
   "metadata": {
    "tags": []
   },
   "outputs": [
    {
     "data": {
      "text/plain": [
       "'The original summary about the Optus outage and its impact on Sydney Morning Herald and The Age subscribers is unrelated to the provided context about Leeth Reynolds, her late husband Mark, and their connection to Ridgeway. Therefore, the original summary remains unchanged:\\n\\nAn Optus outage is disrupting Sydney Morning Herald and The Age subscriber services.  Phone support is unavailable; customers should submit help requests online at help.theage.com.au.  Newspaper deliveries are also delayed; affected subscribers can request account credit online.  A live blog provides Optus outage updates.\\n'"
      ]
     },
     "execution_count": 64,
     "metadata": {},
     "output_type": "execute_result"
    }
   ],
   "source": [
    "chain = load_summarize_chain(vertex_llm_text, chain_type=\"refine\")\n",
    "chain.run(documents)"
   ]
  },
  {
   "cell_type": "code",
   "execution_count": 26,
   "id": "22225128-4ef2-4025-ac55-d8401fcb81b7",
   "metadata": {
    "tags": []
   },
   "outputs": [
    {
     "data": {
      "text/plain": [
       "\"Leeth Reynolds, a retired woman with short white hair, is now working as a courier. This is unexpected, as she hadn't planned to work after retirement.  She drives a practical black Mazda CX-30, contrasted with someone named Ridgeway's flashier car.  Reynolds was friends with Ridgeway, who was even a pallbearer at her husband Mark's funeral and considered a trusted friend at the time.\\n\""
      ]
     },
     "execution_count": 26,
     "metadata": {},
     "output_type": "execute_result"
    }
   ],
   "source": [
    "final_summary['output_text']"
   ]
  },
  {
   "cell_type": "code",
   "execution_count": null,
   "id": "061780bb-0489-4606-97a3-ec849e0e3c1b",
   "metadata": {},
   "outputs": [],
   "source": []
  },
  {
   "cell_type": "code",
   "execution_count": null,
   "id": "760bc2ec-3d4a-4ddc-aebf-d0a97057067a",
   "metadata": {},
   "outputs": [],
   "source": []
  },
  {
   "cell_type": "code",
   "execution_count": null,
   "id": "714d6056-6c8b-4406-84f6-0e75aec82279",
   "metadata": {},
   "outputs": [],
   "source": []
  },
  {
   "cell_type": "code",
   "execution_count": null,
   "id": "6028e08f-7131-4e04-b157-80f29df04d3d",
   "metadata": {},
   "outputs": [],
   "source": [
    "refine_outputs = refine_chain({\"input_documents\": documents})\n"
   ]
  },
  {
   "cell_type": "code",
   "execution_count": 29,
   "id": "28b88632-882b-4f22-8415-f191ff0f9920",
   "metadata": {
    "tags": []
   },
   "outputs": [
    {
     "name": "stdout",
     "output_type": "stream",
     "text": [
      "{'input_documents': [Document(metadata={'unique_id': 'p5eie4-0', 'chunk': 0}, page_content='content: HeadLine: What Wednesday’s Optus outage means for The Sydney Morning Herald and The Age subscribers\\nContent: Wednesday’s nationwide Optus outage has triggered a service disruption to some subscribers of The Sydney Morning Herald and The Age.\\n Unfortunately, the outage means our contact centre is currently unable to take any phone calls. If you need contact us, please visit help.theage.com.au, help.theage.com.au, help.theage.com.au or help.theage.com.au and click on the “submit a request” button.\\n Additionally, the outage has also affected many newspaper deliveries today, resulting in a number of late deliveries. If you haven’t received your newspaper, please send us a request and we’ll credit your account as soon as possible.\\n You can also keep up to date on the Optus outage via our live blog here.'), Document(metadata={'unique_id': 'vlt_video_extract_SIXTY_MINUTES_60MI23_11_A_HBB_360p.mp4-0-0', 'chunk': 0}, page_content='content: Content: The video begins with a close-up of a stopwatch, with a silver bezel and black face, the second hand moving rapidly. The words “60 MINUTES” appear in red letters on the watch face.\\n\\n[00:00:03] The scene shifts to a news studio, where Tara Brown, a news anchor for 60 Minutes, sits on a stool, introducing the program. Behind her, a large screen displays the title “THE CONFESSION,” along with a picture of a man, Chris Ridgeway, superimposed on a background of burning money. The producer’s name, Naomi Shivaraman, is also displayed.\\n\\nTara Brown welcomes viewers to 60 Minutes and announces a joint investigation with The Sydney Morning Herald and The Age, exposing a dubious global financial scheme currently underway. She mentions hundreds of Australian families and thousands worldwide are caught up in the scheme, with many victims unaware of their missing life savings. The potential losses are estimated to be in the millions of dollars.'), Document(metadata={'unique_id': 'vlt_video_extract_SIXTY_MINUTES_60MI23_11_A_HBB_360p.mp4-0-1', 'chunk': 1}, page_content='content: Content: [00:00:35] Tara Brown explains that a key player, Chris Ridgeway, has decided to confess. The scene changes to a black Porsche Macan SUV with the license plate “RIDGYS” parked in a wooded area. Chris Ridgeway gets into the car, starts it, and drives away. An aerial shot shows the car driving along a winding road through a forested area.\\n\\n[00:01:08] A voiceover describes the Porsche as a symbol of Ridgeway’s supposed success, but reveals that his spoils are ill-gotten. Ridgeway is described as a con man. The scene cuts to Ridgeway in a room, adjusting his hair. He asks if his hair and makeup are alright.'), Document(metadata={'unique_id': 'vlt_video_extract_SIXTY_MINUTES_60MI23_11_A_HBB_360p.mp4-0-2', 'chunk': 2}, page_content='content: Content: [00:01:41] The voiceover states that Ridgeway is about to do something highly unusual—confess. Adele Ferguson, a reporter, is shown in a close-up, asking Ridgeway if he thinks he’s a crook. Ridgeway hesitates, then admits that while he doesn’t want to think of himself as a crook, some of his recent actions have been terrible and unlawful. He expresses shame, sorrow, and a lack of self-respect.\\n\\n[00:02:14] Ridgeway is shown walking down a set of stone stairs, then walking along a city street. The scene shifts to an aerial view of a city at night, with the words “Shaw and Investments,” “Shaw and Growth,” “Shaw and Innovation,” “Shaw and Opportunity,” and “Shaw and Trust” superimposed on the cityscape.'), Document(metadata={'unique_id': 'vlt_video_extract_SIXTY_MINUTES_60MI23_11_A_HBB_360p.mp4-0-3', 'chunk': 3}, page_content=\"content: Content: [00:02:18] The voiceover explains that Ridgeway was employed at Shaw and Partners, a reputable financial brokerage firm, as a respected and trusted senior advisor. This position enabled him to deceive his clients and friends, taking their savings. Now, he claims to be a con man with a conscience. Ridgeway walks along a city street, looking remorseful.\\n\\n[00:02:48] Ridgeway expresses his lack of self-respect and difficulty looking at himself in the mirror. He says he’s sorry and wants to tell people he's sorry. He claims to be trying to be honest with himself.\\n\\n[00:03:07] Adele Ferguson is shown in a close-up, stating that to prove his remorse, Ridgeway has agreed to expose a global financial scheme still operating. He has promised to reveal the truth about his role, how his clients were affected, and how many were left destitute.\"), Document(metadata={'unique_id': 'vlt_video_extract_SIXTY_MINUTES_60MI23_11_A_HBB_360p.mp4-0-4', 'chunk': 4}, page_content='content: Content: [00:03:26] A man in a dark blue polo shirt with orange lettering, part of the word “SUPERDRY,” is shown speaking. He describes the situation as catastrophic, affecting people’s abilities, family time, and trust in the financial system.\\n\\n[00:03:36] Adele Ferguson is shown sitting next to a man in a light-colored shirt. She asks how big the scheme is. Another man, wearing a checked shirt, answers that it’s about $5.5 billion USD. He emphasizes that this is not a small amount of money.\\n\\n[00:03:58] Adele Ferguson says that people worldwide have been lured into the scheme, and the loss of savings is not the only source of pain, but also the embarrassment of being deceived by such a simple truth.'), Document(metadata={'unique_id': 'vlt_video_extract_SIXTY_MINUTES_60MI23_11_A_HBB_360p.mp4-0-5', 'chunk': 5}, page_content='content: Content: [00:04:14] Ridgeway is shown walking away from the camera, then looking up at tall buildings. The voiceover explains that Ridgeway and other advisors used their positions to convince investors to buy worthless financial products. Ridgeway admits to knowing it was wrong, motivated by greed and desperation for money.\\n\\n[00:04:36] Ridgeway is shown looking at a stock ticker display, then looking directly at the camera. The voiceover states that Ridgeway isn’t going down quietly and wants to name names.\\n\\n[00:04:48] Two men are shown in black and white images. The man on the left is bald and wearing glasses, while the man on the right has white hair. The voiceover identifies them as Andy Turner, based in Britain, and David Sutton, from Australia.\\n\\n[00:04:56] A car drives along a rainy street. The scene cuts to a man walking along a sidewalk. The voiceover mentions that both Turner and Sutton are known to financial authorities for the wrong reasons.'), Document(metadata={'unique_id': 'vlt_video_extract_SIXTY_MINUTES_60MI23_11_A_HBB_360p.mp4-0-6', 'chunk': 6}, page_content='content: Content: [00:05:02] A bald man in a dark green hoodie is shown speaking to a man in a dark blue shirt with an orange logo. The bald man is identified as Turner. He mentions owning some fantastic cars over the years.\\n\\n[00:05:10] A man with white hair is shown pushing a shopping cart on an escalator, then walking through a parking garage. The voiceover states that Turner is linked to a failed English bank called First London, and Sutton has been associated with North Korean mining companies.\\n\\n[00:05:19] Ridgeway says that those two people are the ones who need to be investigated to find out where the money went. Adele Ferguson asks if he honestly thinks they are con men now. Ridgeway replies that he is pretty sure they are.'), Document(metadata={'unique_id': 'vlt_video_extract_SIXTY_MINUTES_60MI23_11_A_HBB_360p.mp4-0-7', 'chunk': 7}, page_content='content: Content: [00:05:34] The voiceover explains that Ridgeway claims his role was as a middleman, signing up investors for Turner and Sutton’s scheme in exchange for lucrative secret kickbacks. He also pushed the lie that his employer, Shaw and Partners, endorsed the deals, leading unsuspecting clients to sign up eagerly.\\n\\n[00:05:48] The camera pans up the side of a tall building with the words “ONE ONE ONE” displayed on it. The voiceover mentions that Ridgeway took $1.6 million in kickbacks, which he spent on flashy cars and lavish overseas holidays. His clients were unaware their savings were funding his extravagant lifestyle.\\n\\n[00:06:52] A woman with short white hair, wearing a light green shirt, is shown in a close-up. She says that Ridgeway never mentioned receiving a commission. Adele Ferguson clarifies that it wasn’t a standard commission, but a massive one, which Ridgeway pocketed. The woman agrees, adding that one gets paid well for doing dodgy things.'), Document(metadata={'unique_id': 'vlt_video_extract_SIXTY_MINUTES_60MI23_11_A_HBB_360p.mp4-0-8', 'chunk': 8}, page_content='content: Content: [00:07:06] A woman with short white hair gets into a black Mazda CX-30 SUV. She starts the car and drives away. The scene cuts to the car parked on the side of a residential street, then to the woman driving. The voiceover mentions that unlike Ridgeway’s flashy car, the woman’s car is for work, as she’s supposed to be retired.\\n\\n[00:07:13] The woman, identified as Leeth Reynolds, is shown in a close-up. Adele Ferguson asks if she anticipated she would be couriering at this time. Reynolds replies that it was definitely not in her plan.\\n\\n[00:07:39] A photograph shows a group of people in a room, some dressed in suits. Ridgeway is visible in the background. Reynolds points at the photograph, explaining that it was taken at her husband Mark’s funeral. Ridgeway was a close friend of Mark and even a pallbearer. At that time, he was a trusted member of their friendship group.')], 'intermediate_steps': ['An Optus outage on Wednesday disrupted service for some Sydney Morning Herald and The Age subscribers.  The outage prevents phone calls to the contact center. Subscribers needing assistance should submit a request online at help.theage.com.au.  Many newspaper deliveries were also delayed. Affected subscribers can request an account credit online.  A live blog provides updates on the Optus outage.\\n', '60 Minutes, in a joint investigation with The Sydney Morning Herald and The Age, exposes a global financial scheme called \"The Confession\" impacting hundreds of Australian families and thousands worldwide, resulting in millions of dollars in potential losses.  The scheme, featuring a man named Chris Ridgeway, has many victims unaware their life savings are missing.  The report is produced by Naomi Shivaraman.\\n', 'Chris Ridgeway, a key player in a scheme and described as a con man, has confessed.  His Porsche Macan (license plate \"RIDGYS\") is shown as a symbol of his ill-gotten gains.  He\\'s seen driving the car away from a wooded area and later preparing for what is presumably the confession, checking his hair and makeup.\\n', 'Disgraced financier Ridgeway, in a rare confession to reporter Adele Ferguson, admits to \"terrible and unlawful\" actions, expressing shame and regret.  The visuals juxtapose his admission with images of the sprawling city and the various \"Shaw and...\" slogans representing his firm, highlighting the contrast between his proclaimed values and his confessed misdeeds.  The key detail is **Ridgeway\\'s confession of illegal activity**.\\n', \"Mark Ridgeway, a former respected senior advisor at Shaw and Partners, defrauded his clients and friends.  Now claiming to be a remorseful con man, he's agreed to expose a still-operating global financial scheme to prove his contrition. He promises to reveal details about his role, the impact on his clients, and the extent of the financial devastation he caused.  Journalist Adele Ferguson is investigating the story.\\n\", \"A massive **$5.5 billion USD** investment scheme has impacted people globally.  The scheme's catastrophic effects include devastating financial losses, disruption to family life, and eroded trust in the financial system.  Beyond the monetary loss, victims also suffer the emotional pain and embarrassment of being deceived.\\n\", 'Financial advisor Ridgeway, implicated in selling worthless financial products driven by greed, is cooperating and exposing others involved. He names Andy Turner (UK) and David Sutton (Australia), both already known to financial authorities for illicit activities.\\n', \"Turner (bald man in green hoodie) and Sutton (white-haired man with shopping cart) are suspected of being con men involved in the disappearance of money.  Turner is linked to the failed First London bank, while Sutton has ties to North Korean mining companies.  Ridgeway believes investigating these two individuals will reveal the money's location.\\n\", \"Ridgeway, posing as a middleman, fraudulently signed up investors for Turner and Sutton's scheme, receiving **$1.6 million in secret kickbacks**.  He falsely claimed his employer, Shaw and Partners, endorsed the deals.  Ridgeway spent the illicit funds on luxury cars and extravagant trips, concealing this from his clients whose savings were funding his lifestyle.  One investor confirms Ridgeway never disclosed receiving a commission, which was later revealed to be unusually large.\\n\", \"Leeth Reynolds, a woman with short white hair, drives a modest Mazda CX-30, contrasting with the flashy car of a man named Ridgeway.  Reynolds, who is supposed to be retired, is now working as a courier, something she hadn't planned. She reveals that Ridgeway, pictured at her husband Mark's funeral, was a close friend and pallbearer, once a trusted member of their circle.\\n\"], 'output_text': \"Leeth Reynolds, a woman with short white hair, drives a modest Mazda CX-30, contrasting with the flashy car of a man named Ridgeway.  Reynolds, who is supposed to be retired, is now working as a courier, something she hadn't planned. She reveals that Ridgeway, pictured at her husband Mark's funeral, was a close friend and pallbearer, once a trusted member of their circle.\\n\"}\n"
     ]
    }
   ],
   "source": [
    "def summarize_docs(llm_chain,docs):\n",
    "    \"\"\"\n",
    "    function to summarize chunked documents\n",
    "    Args:\n",
    "        llm_chain: a langchain summarize chain\n",
    "        docs: chunked documents\n",
    "    Output:\n",
    "        summaries: list of summarized documents\n",
    "    \"\"\"\n",
    "    #summarize all chunks in one go\n",
    "    summary = llm_chain.batch(docs)\n",
    "\n",
    "    summaries=[]\n",
    "    #extract summaries\n",
    "    for summarized_doc in summary:\n",
    "        #print(summarized_doc)\n",
    "        summaries.append(summarized_doc['output_text'])\n",
    "\n",
    "    return summaries\n",
    "\n",
    "#summarize splited complaints\n",
    "summary= summarize_docs(refine_chain,[docs1])"
   ]
  },
  {
   "cell_type": "code",
   "execution_count": 30,
   "id": "e81963a6-b617-453e-8af3-3c16c4c262de",
   "metadata": {
    "tags": []
   },
   "outputs": [
    {
     "data": {
      "text/plain": [
       "[\"Leeth Reynolds, a woman with short white hair, drives a modest Mazda CX-30, contrasting with the flashy car of a man named Ridgeway.  Reynolds, who is supposed to be retired, is now working as a courier, something she hadn't planned. She reveals that Ridgeway, pictured at her husband Mark's funeral, was a close friend and pallbearer, once a trusted member of their circle.\\n\"]"
      ]
     },
     "execution_count": 30,
     "metadata": {},
     "output_type": "execute_result"
    }
   ],
   "source": [
    "summary"
   ]
  },
  {
   "cell_type": "code",
   "execution_count": 116,
   "id": "ce502cf7-45e5-4141-a964-a69496892499",
   "metadata": {
    "tags": []
   },
   "outputs": [
    {
     "data": {
      "text/plain": [
       "[\"Leeth Reynolds, a retired woman driving a modest Mazda CX-30, is unexpectedly working as a courier.  She was a close friend of Ridgeway, who was even a pallbearer at her husband's funeral.  The contrast between her current work and Ridgeway's flashy car is highlighted, implying a betrayal of trust.\\n\"]"
      ]
     },
     "execution_count": 116,
     "metadata": {},
     "output_type": "execute_result"
    }
   ],
   "source": [
    "#summarize splited complaints\n",
    "summary= summarize_docs(refine_chain,[docs1])\n",
    "summary"
   ]
  },
  {
   "cell_type": "code",
   "execution_count": 26,
   "id": "0afc8ae8-aee1-4df5-b6e3-38854f0ec907",
   "metadata": {
    "tags": []
   },
   "outputs": [
    {
     "ename": "NameError",
     "evalue": "name 'pdf_mp_summary' is not defined",
     "output_type": "error",
     "traceback": [
      "\u001b[0;31m---------------------------------------------------------------------------\u001b[0m",
      "\u001b[0;31mNameError\u001b[0m                                 Traceback (most recent call last)",
      "Cell \u001b[0;32mIn[26], line 14\u001b[0m\n\u001b[1;32m      9\u001b[0m     final_refine_data\u001b[38;5;241m.\u001b[39mappend(output)\n\u001b[1;32m     13\u001b[0m pdf_refine_summary \u001b[38;5;241m=\u001b[39m pd\u001b[38;5;241m.\u001b[39mDataFrame\u001b[38;5;241m.\u001b[39mfrom_dict(final_refine_data)\n\u001b[0;32m---> 14\u001b[0m pdf_refine_summary \u001b[38;5;241m=\u001b[39m \u001b[43mpdf_mp_summary\u001b[49m\u001b[38;5;241m.\u001b[39msort_values(\n\u001b[1;32m     15\u001b[0m     by\u001b[38;5;241m=\u001b[39m[\u001b[38;5;124m\"\u001b[39m\u001b[38;5;124mcombined_id\u001b[39m\u001b[38;5;124m\"\u001b[39m]\n\u001b[1;32m     16\u001b[0m )  \u001b[38;5;66;03m# sorting the dataframe by filename and page_number\u001b[39;00m\n\u001b[1;32m     17\u001b[0m pdf_refine_summary\u001b[38;5;241m.\u001b[39mreset_index(inplace\u001b[38;5;241m=\u001b[39m\u001b[38;5;28;01mTrue\u001b[39;00m, drop\u001b[38;5;241m=\u001b[39m\u001b[38;5;28;01mTrue\u001b[39;00m)\n\u001b[1;32m     18\u001b[0m pdf_refine_summary\u001b[38;5;241m.\u001b[39mhead()\n",
      "\u001b[0;31mNameError\u001b[0m: name 'pdf_mp_summary' is not defined"
     ]
    }
   ],
   "source": [
    "final_refine_data = []\n",
    "for doc, out in zip(\n",
    "    refine_outputs[\"input_documents\"], refine_outputs[\"intermediate_steps\"]\n",
    "):\n",
    "    output = {}\n",
    "    output[\"combined_id\"] = p(doc.metadata[\"combined_id\"]).stem    \n",
    "    output[\"chunks\"] = doc.page_content\n",
    "    output[\"concise_summary\"] = out\n",
    "    final_refine_data.append(output)\n",
    "    \n",
    "    \n",
    "    \n",
    "pdf_refine_summary = pd.DataFrame.from_dict(final_refine_data)\n",
    "pdf_refine_summary = pdf_mp_summary.sort_values(\n",
    "    by=[\"combined_id\"]\n",
    ")  # sorting the dataframe by filename and page_number\n",
    "pdf_refine_summary.reset_index(inplace=True, drop=True)\n",
    "pdf_refine_summary.head()"
   ]
  },
  {
   "cell_type": "code",
   "execution_count": 28,
   "id": "f0b12e2d-7c65-468c-9128-36dd7f9b6bb7",
   "metadata": {
    "tags": []
   },
   "outputs": [
    {
     "data": {
      "text/plain": [
       "{'p5eie4', 'vlt_video_extract_SIXTY_MINUTES_60MI23_11_A_HBB_360p'}"
      ]
     },
     "execution_count": 28,
     "metadata": {},
     "output_type": "execute_result"
    }
   ],
   "source": [
    "set(list(pdf_refine_summary['combined_id']))"
   ]
  },
  {
   "cell_type": "code",
   "execution_count": 30,
   "id": "c408ec5f-97b0-4583-821f-26accf8778c7",
   "metadata": {
    "tags": []
   },
   "outputs": [
    {
     "data": {
      "text/html": [
       "<div>\n",
       "<style scoped>\n",
       "    .dataframe tbody tr th:only-of-type {\n",
       "        vertical-align: middle;\n",
       "    }\n",
       "\n",
       "    .dataframe tbody tr th {\n",
       "        vertical-align: top;\n",
       "    }\n",
       "\n",
       "    .dataframe thead th {\n",
       "        text-align: right;\n",
       "    }\n",
       "</style>\n",
       "<table border=\"1\" class=\"dataframe\">\n",
       "  <thead>\n",
       "    <tr style=\"text-align: right;\">\n",
       "      <th></th>\n",
       "      <th>combined_id</th>\n",
       "      <th>chunks</th>\n",
       "      <th>concise_summary</th>\n",
       "    </tr>\n",
       "  </thead>\n",
       "  <tbody>\n",
       "    <tr>\n",
       "      <th>1</th>\n",
       "      <td>vlt_video_extract_SIXTY_MINUTES_60MI23_11_A_HB...</td>\n",
       "      <td>content: Content: The video begins with a clos...</td>\n",
       "      <td>BULLET POINT SUMMARY:\\n\\n* **Focus:** The 60 M...</td>\n",
       "    </tr>\n",
       "    <tr>\n",
       "      <th>2</th>\n",
       "      <td>vlt_video_extract_SIXTY_MINUTES_60MI23_11_A_HB...</td>\n",
       "      <td>content: Content: [00:00:35] Tara Brown explai...</td>\n",
       "      <td>BULLET POINT SUMMARY:\\n\\n* Chris Ridgeway, a k...</td>\n",
       "    </tr>\n",
       "    <tr>\n",
       "      <th>3</th>\n",
       "      <td>vlt_video_extract_SIXTY_MINUTES_60MI23_11_A_HB...</td>\n",
       "      <td>content: Content: [00:01:41] The voiceover sta...</td>\n",
       "      <td>BULLET POINT SUMMARY:\\n\\n* **Ridgeway confesse...</td>\n",
       "    </tr>\n",
       "    <tr>\n",
       "      <th>4</th>\n",
       "      <td>vlt_video_extract_SIXTY_MINUTES_60MI23_11_A_HB...</td>\n",
       "      <td>content: Content: [00:02:18] The voiceover exp...</td>\n",
       "      <td>BULLET POINT SUMMARY:\\n\\n* **Ridgeway, a forme...</td>\n",
       "    </tr>\n",
       "    <tr>\n",
       "      <th>5</th>\n",
       "      <td>vlt_video_extract_SIXTY_MINUTES_60MI23_11_A_HB...</td>\n",
       "      <td>content: Content: [00:03:26] A man in a dark b...</td>\n",
       "      <td>BULLET POINT SUMMARY:\\n\\n* A man describes a c...</td>\n",
       "    </tr>\n",
       "    <tr>\n",
       "      <th>6</th>\n",
       "      <td>vlt_video_extract_SIXTY_MINUTES_60MI23_11_A_HB...</td>\n",
       "      <td>content: Content: [00:04:14] Ridgeway is shown...</td>\n",
       "      <td>BULLET POINT SUMMARY:\\n\\n* **Ridgeway, a finan...</td>\n",
       "    </tr>\n",
       "    <tr>\n",
       "      <th>7</th>\n",
       "      <td>vlt_video_extract_SIXTY_MINUTES_60MI23_11_A_HB...</td>\n",
       "      <td>content: Content: [00:05:02] A bald man in a d...</td>\n",
       "      <td>* **Turner**, a bald man in a green hoodie, is...</td>\n",
       "    </tr>\n",
       "    <tr>\n",
       "      <th>8</th>\n",
       "      <td>vlt_video_extract_SIXTY_MINUTES_60MI23_11_A_HB...</td>\n",
       "      <td>content: Content: [00:05:34] The voiceover exp...</td>\n",
       "      <td>BULLET POINT SUMMARY:\\n\\n* **Ridgeway acted as...</td>\n",
       "    </tr>\n",
       "    <tr>\n",
       "      <th>9</th>\n",
       "      <td>vlt_video_extract_SIXTY_MINUTES_60MI23_11_A_HB...</td>\n",
       "      <td>content: Content: [00:07:06] A woman with shor...</td>\n",
       "      <td>BULLET POINT SUMMARY:\\n\\n* Leeth Reynolds, a w...</td>\n",
       "    </tr>\n",
       "  </tbody>\n",
       "</table>\n",
       "</div>"
      ],
      "text/plain": [
       "                                         combined_id  \\\n",
       "1  vlt_video_extract_SIXTY_MINUTES_60MI23_11_A_HB...   \n",
       "2  vlt_video_extract_SIXTY_MINUTES_60MI23_11_A_HB...   \n",
       "3  vlt_video_extract_SIXTY_MINUTES_60MI23_11_A_HB...   \n",
       "4  vlt_video_extract_SIXTY_MINUTES_60MI23_11_A_HB...   \n",
       "5  vlt_video_extract_SIXTY_MINUTES_60MI23_11_A_HB...   \n",
       "6  vlt_video_extract_SIXTY_MINUTES_60MI23_11_A_HB...   \n",
       "7  vlt_video_extract_SIXTY_MINUTES_60MI23_11_A_HB...   \n",
       "8  vlt_video_extract_SIXTY_MINUTES_60MI23_11_A_HB...   \n",
       "9  vlt_video_extract_SIXTY_MINUTES_60MI23_11_A_HB...   \n",
       "\n",
       "                                              chunks  \\\n",
       "1  content: Content: The video begins with a clos...   \n",
       "2  content: Content: [00:00:35] Tara Brown explai...   \n",
       "3  content: Content: [00:01:41] The voiceover sta...   \n",
       "4  content: Content: [00:02:18] The voiceover exp...   \n",
       "5  content: Content: [00:03:26] A man in a dark b...   \n",
       "6  content: Content: [00:04:14] Ridgeway is shown...   \n",
       "7  content: Content: [00:05:02] A bald man in a d...   \n",
       "8  content: Content: [00:05:34] The voiceover exp...   \n",
       "9  content: Content: [00:07:06] A woman with shor...   \n",
       "\n",
       "                                     concise_summary  \n",
       "1  BULLET POINT SUMMARY:\\n\\n* **Focus:** The 60 M...  \n",
       "2  BULLET POINT SUMMARY:\\n\\n* Chris Ridgeway, a k...  \n",
       "3  BULLET POINT SUMMARY:\\n\\n* **Ridgeway confesse...  \n",
       "4  BULLET POINT SUMMARY:\\n\\n* **Ridgeway, a forme...  \n",
       "5  BULLET POINT SUMMARY:\\n\\n* A man describes a c...  \n",
       "6  BULLET POINT SUMMARY:\\n\\n* **Ridgeway, a finan...  \n",
       "7  * **Turner**, a bald man in a green hoodie, is...  \n",
       "8  BULLET POINT SUMMARY:\\n\\n* **Ridgeway acted as...  \n",
       "9  BULLET POINT SUMMARY:\\n\\n* Leeth Reynolds, a w...  "
      ]
     },
     "execution_count": 30,
     "metadata": {},
     "output_type": "execute_result"
    }
   ],
   "source": [
    "pdf_refine_summary[pdf_refine_summary['combined_id']=='vlt_video_extract_SIXTY_MINUTES_60MI23_11_A_HBB_360p']"
   ]
  },
  {
   "cell_type": "code",
   "execution_count": 32,
   "id": "8a966358-ea80-4690-b7fc-2aa916777163",
   "metadata": {
    "tags": []
   },
   "outputs": [
    {
     "data": {
      "text/plain": [
       "('/home/jupyter/GenAI/data/practitioners_guide_to_mlops_whitepaper.pdf',\n",
       " <http.client.HTTPMessage at 0x7fa7b17c0790>)"
      ]
     },
     "execution_count": 32,
     "metadata": {},
     "output_type": "execute_result"
    }
   ],
   "source": [
    "from pathlib import Path as p\n",
    "import urllib\n",
    "import warnings\n",
    "from langchain.document_loaders import PyPDFLoader\n",
    "\n",
    "data_folder = p.cwd() / \"data\"\n",
    "p(data_folder).mkdir(parents=True, exist_ok=True)\n",
    "\n",
    "pdf_url = \"https://services.google.com/fh/files/misc/practitioners_guide_to_mlops_whitepaper.pdf\"\n",
    "pdf_file = str(p(data_folder, pdf_url.split(\"/\")[-1]))\n",
    "\n",
    "urllib.request.urlretrieve(pdf_url, pdf_file)"
   ]
  },
  {
   "cell_type": "code",
   "execution_count": 33,
   "id": "30ac4fd8-ba02-44c5-8ad2-2a0859189dbd",
   "metadata": {
    "tags": []
   },
   "outputs": [],
   "source": [
    "pdf_loader = PyPDFLoader(pdf_file)\n",
    "pages = pdf_loader.load_and_split()\n"
   ]
  },
  {
   "cell_type": "code",
   "execution_count": 35,
   "id": "6df977cb-6e85-4583-a4c9-c76b5e137f80",
   "metadata": {
    "tags": []
   },
   "outputs": [],
   "source": [
    "question_prompt_template = \"\"\"\n",
    "                  Please provide a summary of the following text.\n",
    "                  TEXT: {text}\n",
    "                  SUMMARY:\n",
    "                  \"\"\"\n",
    "\n",
    "question_prompt = PromptTemplate(\n",
    "    template=question_prompt_template, input_variables=[\"text\"]\n",
    ")\n",
    "\n",
    "refine_prompt_template = \"\"\"\n",
    "              Write a concise summary of the following text delimited by triple backquotes.\n",
    "              Return your response in bullet points which covers the key points of the text.\n",
    "              ```{text}```\n",
    "              BULLET POINT SUMMARY:\n",
    "              \"\"\"\n",
    "\n",
    "refine_prompt = PromptTemplate(\n",
    "    template=refine_prompt_template, input_variables=[\"text\"]\n",
    ")"
   ]
  },
  {
   "cell_type": "code",
   "execution_count": 36,
   "id": "7136482b-abe4-4b6b-aa6f-1e2bf2424fc4",
   "metadata": {
    "tags": []
   },
   "outputs": [],
   "source": [
    "\n",
    "refine_chain = load_summarize_chain(\n",
    "    vertex_llm_text,\n",
    "    chain_type=\"refine\",\n",
    "    question_prompt=question_prompt,\n",
    "    refine_prompt=refine_prompt,\n",
    "    return_intermediate_steps=True,\n",
    ")"
   ]
  },
  {
   "cell_type": "code",
   "execution_count": 51,
   "id": "36f37c28-db66-4a7e-a724-97895a437196",
   "metadata": {
    "tags": []
   },
   "outputs": [],
   "source": []
  },
  {
   "cell_type": "code",
   "execution_count": null,
   "id": "5437cbed-6459-4783-9e92-9029eb63fe5b",
   "metadata": {},
   "outputs": [],
   "source": []
  },
  {
   "cell_type": "code",
   "execution_count": null,
   "id": "173a2328-b640-4468-a7c0-546df37175ea",
   "metadata": {},
   "outputs": [],
   "source": []
  },
  {
   "cell_type": "code",
   "execution_count": null,
   "id": "b91e52cc-db8b-49b5-bfcf-f9dc32f77ae5",
   "metadata": {},
   "outputs": [],
   "source": []
  },
  {
   "cell_type": "code",
   "execution_count": null,
   "id": "eedc6aa5-10d0-4886-9fa6-8d40efd982fc",
   "metadata": {},
   "outputs": [],
   "source": []
  },
  {
   "cell_type": "code",
   "execution_count": 38,
   "id": "6b26439c-d00c-4470-bb8e-efd1818e09d1",
   "metadata": {
    "tags": []
   },
   "outputs": [
    {
     "name": "stderr",
     "output_type": "stream",
     "text": [
      "Retrying langchain_google_vertexai.llms._completion_with_retry.<locals>._completion_with_retry_inner in 4.0 seconds as it raised ResourceExhausted: 429 Resource exhausted. Please try again later. Please refer to https://cloud.google.com/vertex-ai/generative-ai/docs/quotas#error-code-429 for more details..\n"
     ]
    },
    {
     "ename": "KeyboardInterrupt",
     "evalue": "",
     "output_type": "error",
     "traceback": [
      "\u001b[0;31m---------------------------------------------------------------------------\u001b[0m",
      "\u001b[0;31mKeyboardInterrupt\u001b[0m                         Traceback (most recent call last)",
      "Cell \u001b[0;32mIn[38], line 1\u001b[0m\n\u001b[0;32m----> 1\u001b[0m refine_outputs \u001b[38;5;241m=\u001b[39m \u001b[43mrefine_chain\u001b[49m\u001b[43m(\u001b[49m\u001b[43m{\u001b[49m\u001b[38;5;124;43m\"\u001b[39;49m\u001b[38;5;124;43minput_documents\u001b[39;49m\u001b[38;5;124;43m\"\u001b[39;49m\u001b[43m:\u001b[49m\u001b[43m \u001b[49m\u001b[43mpages\u001b[49m\u001b[43m}\u001b[49m\u001b[43m)\u001b[49m\n",
      "File \u001b[0;32m/opt/conda/lib/python3.10/site-packages/langchain_core/_api/deprecation.py:182\u001b[0m, in \u001b[0;36mdeprecated.<locals>.deprecate.<locals>.warning_emitting_wrapper\u001b[0;34m(*args, **kwargs)\u001b[0m\n\u001b[1;32m    180\u001b[0m     warned \u001b[38;5;241m=\u001b[39m \u001b[38;5;28;01mTrue\u001b[39;00m\n\u001b[1;32m    181\u001b[0m     emit_warning()\n\u001b[0;32m--> 182\u001b[0m \u001b[38;5;28;01mreturn\u001b[39;00m \u001b[43mwrapped\u001b[49m\u001b[43m(\u001b[49m\u001b[38;5;241;43m*\u001b[39;49m\u001b[43margs\u001b[49m\u001b[43m,\u001b[49m\u001b[43m \u001b[49m\u001b[38;5;241;43m*\u001b[39;49m\u001b[38;5;241;43m*\u001b[39;49m\u001b[43mkwargs\u001b[49m\u001b[43m)\u001b[49m\n",
      "File \u001b[0;32m/opt/conda/lib/python3.10/site-packages/langchain/chains/base.py:389\u001b[0m, in \u001b[0;36mChain.__call__\u001b[0;34m(self, inputs, return_only_outputs, callbacks, tags, metadata, run_name, include_run_info)\u001b[0m\n\u001b[1;32m    357\u001b[0m \u001b[38;5;250m\u001b[39m\u001b[38;5;124;03m\"\"\"Execute the chain.\u001b[39;00m\n\u001b[1;32m    358\u001b[0m \n\u001b[1;32m    359\u001b[0m \u001b[38;5;124;03mArgs:\u001b[39;00m\n\u001b[0;32m   (...)\u001b[0m\n\u001b[1;32m    380\u001b[0m \u001b[38;5;124;03m        `Chain.output_keys`.\u001b[39;00m\n\u001b[1;32m    381\u001b[0m \u001b[38;5;124;03m\"\"\"\u001b[39;00m\n\u001b[1;32m    382\u001b[0m config \u001b[38;5;241m=\u001b[39m {\n\u001b[1;32m    383\u001b[0m     \u001b[38;5;124m\"\u001b[39m\u001b[38;5;124mcallbacks\u001b[39m\u001b[38;5;124m\"\u001b[39m: callbacks,\n\u001b[1;32m    384\u001b[0m     \u001b[38;5;124m\"\u001b[39m\u001b[38;5;124mtags\u001b[39m\u001b[38;5;124m\"\u001b[39m: tags,\n\u001b[1;32m    385\u001b[0m     \u001b[38;5;124m\"\u001b[39m\u001b[38;5;124mmetadata\u001b[39m\u001b[38;5;124m\"\u001b[39m: metadata,\n\u001b[1;32m    386\u001b[0m     \u001b[38;5;124m\"\u001b[39m\u001b[38;5;124mrun_name\u001b[39m\u001b[38;5;124m\"\u001b[39m: run_name,\n\u001b[1;32m    387\u001b[0m }\n\u001b[0;32m--> 389\u001b[0m \u001b[38;5;28;01mreturn\u001b[39;00m \u001b[38;5;28;43mself\u001b[39;49m\u001b[38;5;241;43m.\u001b[39;49m\u001b[43minvoke\u001b[49m\u001b[43m(\u001b[49m\n\u001b[1;32m    390\u001b[0m \u001b[43m    \u001b[49m\u001b[43minputs\u001b[49m\u001b[43m,\u001b[49m\n\u001b[1;32m    391\u001b[0m \u001b[43m    \u001b[49m\u001b[43mcast\u001b[49m\u001b[43m(\u001b[49m\u001b[43mRunnableConfig\u001b[49m\u001b[43m,\u001b[49m\u001b[43m \u001b[49m\u001b[43m{\u001b[49m\u001b[43mk\u001b[49m\u001b[43m:\u001b[49m\u001b[43m \u001b[49m\u001b[43mv\u001b[49m\u001b[43m \u001b[49m\u001b[38;5;28;43;01mfor\u001b[39;49;00m\u001b[43m \u001b[49m\u001b[43mk\u001b[49m\u001b[43m,\u001b[49m\u001b[43m \u001b[49m\u001b[43mv\u001b[49m\u001b[43m \u001b[49m\u001b[38;5;129;43;01min\u001b[39;49;00m\u001b[43m \u001b[49m\u001b[43mconfig\u001b[49m\u001b[38;5;241;43m.\u001b[39;49m\u001b[43mitems\u001b[49m\u001b[43m(\u001b[49m\u001b[43m)\u001b[49m\u001b[43m \u001b[49m\u001b[38;5;28;43;01mif\u001b[39;49;00m\u001b[43m \u001b[49m\u001b[43mv\u001b[49m\u001b[43m \u001b[49m\u001b[38;5;129;43;01mis\u001b[39;49;00m\u001b[43m \u001b[49m\u001b[38;5;129;43;01mnot\u001b[39;49;00m\u001b[43m \u001b[49m\u001b[38;5;28;43;01mNone\u001b[39;49;00m\u001b[43m}\u001b[49m\u001b[43m)\u001b[49m\u001b[43m,\u001b[49m\n\u001b[1;32m    392\u001b[0m \u001b[43m    \u001b[49m\u001b[43mreturn_only_outputs\u001b[49m\u001b[38;5;241;43m=\u001b[39;49m\u001b[43mreturn_only_outputs\u001b[49m\u001b[43m,\u001b[49m\n\u001b[1;32m    393\u001b[0m \u001b[43m    \u001b[49m\u001b[43minclude_run_info\u001b[49m\u001b[38;5;241;43m=\u001b[39;49m\u001b[43minclude_run_info\u001b[49m\u001b[43m,\u001b[49m\n\u001b[1;32m    394\u001b[0m \u001b[43m\u001b[49m\u001b[43m)\u001b[49m\n",
      "File \u001b[0;32m/opt/conda/lib/python3.10/site-packages/langchain/chains/base.py:170\u001b[0m, in \u001b[0;36mChain.invoke\u001b[0;34m(self, input, config, **kwargs)\u001b[0m\n\u001b[1;32m    168\u001b[0m \u001b[38;5;28;01mexcept\u001b[39;00m \u001b[38;5;167;01mBaseException\u001b[39;00m \u001b[38;5;28;01mas\u001b[39;00m e:\n\u001b[1;32m    169\u001b[0m     run_manager\u001b[38;5;241m.\u001b[39mon_chain_error(e)\n\u001b[0;32m--> 170\u001b[0m     \u001b[38;5;28;01mraise\u001b[39;00m e\n\u001b[1;32m    171\u001b[0m run_manager\u001b[38;5;241m.\u001b[39mon_chain_end(outputs)\n\u001b[1;32m    173\u001b[0m \u001b[38;5;28;01mif\u001b[39;00m include_run_info:\n",
      "File \u001b[0;32m/opt/conda/lib/python3.10/site-packages/langchain/chains/base.py:160\u001b[0m, in \u001b[0;36mChain.invoke\u001b[0;34m(self, input, config, **kwargs)\u001b[0m\n\u001b[1;32m    157\u001b[0m \u001b[38;5;28;01mtry\u001b[39;00m:\n\u001b[1;32m    158\u001b[0m     \u001b[38;5;28mself\u001b[39m\u001b[38;5;241m.\u001b[39m_validate_inputs(inputs)\n\u001b[1;32m    159\u001b[0m     outputs \u001b[38;5;241m=\u001b[39m (\n\u001b[0;32m--> 160\u001b[0m         \u001b[38;5;28;43mself\u001b[39;49m\u001b[38;5;241;43m.\u001b[39;49m\u001b[43m_call\u001b[49m\u001b[43m(\u001b[49m\u001b[43minputs\u001b[49m\u001b[43m,\u001b[49m\u001b[43m \u001b[49m\u001b[43mrun_manager\u001b[49m\u001b[38;5;241;43m=\u001b[39;49m\u001b[43mrun_manager\u001b[49m\u001b[43m)\u001b[49m\n\u001b[1;32m    161\u001b[0m         \u001b[38;5;28;01mif\u001b[39;00m new_arg_supported\n\u001b[1;32m    162\u001b[0m         \u001b[38;5;28;01melse\u001b[39;00m \u001b[38;5;28mself\u001b[39m\u001b[38;5;241m.\u001b[39m_call(inputs)\n\u001b[1;32m    163\u001b[0m     )\n\u001b[1;32m    165\u001b[0m     final_outputs: Dict[\u001b[38;5;28mstr\u001b[39m, Any] \u001b[38;5;241m=\u001b[39m \u001b[38;5;28mself\u001b[39m\u001b[38;5;241m.\u001b[39mprep_outputs(\n\u001b[1;32m    166\u001b[0m         inputs, outputs, return_only_outputs\n\u001b[1;32m    167\u001b[0m     )\n\u001b[1;32m    168\u001b[0m \u001b[38;5;28;01mexcept\u001b[39;00m \u001b[38;5;167;01mBaseException\u001b[39;00m \u001b[38;5;28;01mas\u001b[39;00m e:\n",
      "File \u001b[0;32m/opt/conda/lib/python3.10/site-packages/langchain/chains/combine_documents/base.py:138\u001b[0m, in \u001b[0;36mBaseCombineDocumentsChain._call\u001b[0;34m(self, inputs, run_manager)\u001b[0m\n\u001b[1;32m    136\u001b[0m \u001b[38;5;66;03m# Other keys are assumed to be needed for LLM prediction\u001b[39;00m\n\u001b[1;32m    137\u001b[0m other_keys \u001b[38;5;241m=\u001b[39m {k: v \u001b[38;5;28;01mfor\u001b[39;00m k, v \u001b[38;5;129;01min\u001b[39;00m inputs\u001b[38;5;241m.\u001b[39mitems() \u001b[38;5;28;01mif\u001b[39;00m k \u001b[38;5;241m!=\u001b[39m \u001b[38;5;28mself\u001b[39m\u001b[38;5;241m.\u001b[39minput_key}\n\u001b[0;32m--> 138\u001b[0m output, extra_return_dict \u001b[38;5;241m=\u001b[39m \u001b[38;5;28;43mself\u001b[39;49m\u001b[38;5;241;43m.\u001b[39;49m\u001b[43mcombine_docs\u001b[49m\u001b[43m(\u001b[49m\n\u001b[1;32m    139\u001b[0m \u001b[43m    \u001b[49m\u001b[43mdocs\u001b[49m\u001b[43m,\u001b[49m\u001b[43m \u001b[49m\u001b[43mcallbacks\u001b[49m\u001b[38;5;241;43m=\u001b[39;49m\u001b[43m_run_manager\u001b[49m\u001b[38;5;241;43m.\u001b[39;49m\u001b[43mget_child\u001b[49m\u001b[43m(\u001b[49m\u001b[43m)\u001b[49m\u001b[43m,\u001b[49m\u001b[43m \u001b[49m\u001b[38;5;241;43m*\u001b[39;49m\u001b[38;5;241;43m*\u001b[39;49m\u001b[43mother_keys\u001b[49m\n\u001b[1;32m    140\u001b[0m \u001b[43m\u001b[49m\u001b[43m)\u001b[49m\n\u001b[1;32m    141\u001b[0m extra_return_dict[\u001b[38;5;28mself\u001b[39m\u001b[38;5;241m.\u001b[39moutput_key] \u001b[38;5;241m=\u001b[39m output\n\u001b[1;32m    142\u001b[0m \u001b[38;5;28;01mreturn\u001b[39;00m extra_return_dict\n",
      "File \u001b[0;32m/opt/conda/lib/python3.10/site-packages/langchain/chains/combine_documents/refine.py:170\u001b[0m, in \u001b[0;36mRefineDocumentsChain.combine_docs\u001b[0;34m(self, docs, callbacks, **kwargs)\u001b[0m\n\u001b[1;32m    168\u001b[0m     base_inputs \u001b[38;5;241m=\u001b[39m \u001b[38;5;28mself\u001b[39m\u001b[38;5;241m.\u001b[39m_construct_refine_inputs(doc, res)\n\u001b[1;32m    169\u001b[0m     inputs \u001b[38;5;241m=\u001b[39m {\u001b[38;5;241m*\u001b[39m\u001b[38;5;241m*\u001b[39mbase_inputs, \u001b[38;5;241m*\u001b[39m\u001b[38;5;241m*\u001b[39mkwargs}\n\u001b[0;32m--> 170\u001b[0m     res \u001b[38;5;241m=\u001b[39m \u001b[38;5;28;43mself\u001b[39;49m\u001b[38;5;241;43m.\u001b[39;49m\u001b[43mrefine_llm_chain\u001b[49m\u001b[38;5;241;43m.\u001b[39;49m\u001b[43mpredict\u001b[49m\u001b[43m(\u001b[49m\u001b[43mcallbacks\u001b[49m\u001b[38;5;241;43m=\u001b[39;49m\u001b[43mcallbacks\u001b[49m\u001b[43m,\u001b[49m\u001b[43m \u001b[49m\u001b[38;5;241;43m*\u001b[39;49m\u001b[38;5;241;43m*\u001b[39;49m\u001b[43minputs\u001b[49m\u001b[43m)\u001b[49m\n\u001b[1;32m    171\u001b[0m     refine_steps\u001b[38;5;241m.\u001b[39mappend(res)\n\u001b[1;32m    172\u001b[0m \u001b[38;5;28;01mreturn\u001b[39;00m \u001b[38;5;28mself\u001b[39m\u001b[38;5;241m.\u001b[39m_construct_result(refine_steps, res)\n",
      "File \u001b[0;32m/opt/conda/lib/python3.10/site-packages/langchain/chains/llm.py:318\u001b[0m, in \u001b[0;36mLLMChain.predict\u001b[0;34m(self, callbacks, **kwargs)\u001b[0m\n\u001b[1;32m    303\u001b[0m \u001b[38;5;28;01mdef\u001b[39;00m \u001b[38;5;21mpredict\u001b[39m(\u001b[38;5;28mself\u001b[39m, callbacks: Callbacks \u001b[38;5;241m=\u001b[39m \u001b[38;5;28;01mNone\u001b[39;00m, \u001b[38;5;241m*\u001b[39m\u001b[38;5;241m*\u001b[39mkwargs: Any) \u001b[38;5;241m-\u001b[39m\u001b[38;5;241m>\u001b[39m \u001b[38;5;28mstr\u001b[39m:\n\u001b[1;32m    304\u001b[0m \u001b[38;5;250m    \u001b[39m\u001b[38;5;124;03m\"\"\"Format prompt with kwargs and pass to LLM.\u001b[39;00m\n\u001b[1;32m    305\u001b[0m \n\u001b[1;32m    306\u001b[0m \u001b[38;5;124;03m    Args:\u001b[39;00m\n\u001b[0;32m   (...)\u001b[0m\n\u001b[1;32m    316\u001b[0m \u001b[38;5;124;03m            completion = llm.predict(adjective=\"funny\")\u001b[39;00m\n\u001b[1;32m    317\u001b[0m \u001b[38;5;124;03m    \"\"\"\u001b[39;00m\n\u001b[0;32m--> 318\u001b[0m     \u001b[38;5;28;01mreturn\u001b[39;00m \u001b[38;5;28;43mself\u001b[39;49m\u001b[43m(\u001b[49m\u001b[43mkwargs\u001b[49m\u001b[43m,\u001b[49m\u001b[43m \u001b[49m\u001b[43mcallbacks\u001b[49m\u001b[38;5;241;43m=\u001b[39;49m\u001b[43mcallbacks\u001b[49m\u001b[43m)\u001b[49m[\u001b[38;5;28mself\u001b[39m\u001b[38;5;241m.\u001b[39moutput_key]\n",
      "File \u001b[0;32m/opt/conda/lib/python3.10/site-packages/langchain_core/_api/deprecation.py:182\u001b[0m, in \u001b[0;36mdeprecated.<locals>.deprecate.<locals>.warning_emitting_wrapper\u001b[0;34m(*args, **kwargs)\u001b[0m\n\u001b[1;32m    180\u001b[0m     warned \u001b[38;5;241m=\u001b[39m \u001b[38;5;28;01mTrue\u001b[39;00m\n\u001b[1;32m    181\u001b[0m     emit_warning()\n\u001b[0;32m--> 182\u001b[0m \u001b[38;5;28;01mreturn\u001b[39;00m \u001b[43mwrapped\u001b[49m\u001b[43m(\u001b[49m\u001b[38;5;241;43m*\u001b[39;49m\u001b[43margs\u001b[49m\u001b[43m,\u001b[49m\u001b[43m \u001b[49m\u001b[38;5;241;43m*\u001b[39;49m\u001b[38;5;241;43m*\u001b[39;49m\u001b[43mkwargs\u001b[49m\u001b[43m)\u001b[49m\n",
      "File \u001b[0;32m/opt/conda/lib/python3.10/site-packages/langchain/chains/base.py:389\u001b[0m, in \u001b[0;36mChain.__call__\u001b[0;34m(self, inputs, return_only_outputs, callbacks, tags, metadata, run_name, include_run_info)\u001b[0m\n\u001b[1;32m    357\u001b[0m \u001b[38;5;250m\u001b[39m\u001b[38;5;124;03m\"\"\"Execute the chain.\u001b[39;00m\n\u001b[1;32m    358\u001b[0m \n\u001b[1;32m    359\u001b[0m \u001b[38;5;124;03mArgs:\u001b[39;00m\n\u001b[0;32m   (...)\u001b[0m\n\u001b[1;32m    380\u001b[0m \u001b[38;5;124;03m        `Chain.output_keys`.\u001b[39;00m\n\u001b[1;32m    381\u001b[0m \u001b[38;5;124;03m\"\"\"\u001b[39;00m\n\u001b[1;32m    382\u001b[0m config \u001b[38;5;241m=\u001b[39m {\n\u001b[1;32m    383\u001b[0m     \u001b[38;5;124m\"\u001b[39m\u001b[38;5;124mcallbacks\u001b[39m\u001b[38;5;124m\"\u001b[39m: callbacks,\n\u001b[1;32m    384\u001b[0m     \u001b[38;5;124m\"\u001b[39m\u001b[38;5;124mtags\u001b[39m\u001b[38;5;124m\"\u001b[39m: tags,\n\u001b[1;32m    385\u001b[0m     \u001b[38;5;124m\"\u001b[39m\u001b[38;5;124mmetadata\u001b[39m\u001b[38;5;124m\"\u001b[39m: metadata,\n\u001b[1;32m    386\u001b[0m     \u001b[38;5;124m\"\u001b[39m\u001b[38;5;124mrun_name\u001b[39m\u001b[38;5;124m\"\u001b[39m: run_name,\n\u001b[1;32m    387\u001b[0m }\n\u001b[0;32m--> 389\u001b[0m \u001b[38;5;28;01mreturn\u001b[39;00m \u001b[38;5;28;43mself\u001b[39;49m\u001b[38;5;241;43m.\u001b[39;49m\u001b[43minvoke\u001b[49m\u001b[43m(\u001b[49m\n\u001b[1;32m    390\u001b[0m \u001b[43m    \u001b[49m\u001b[43minputs\u001b[49m\u001b[43m,\u001b[49m\n\u001b[1;32m    391\u001b[0m \u001b[43m    \u001b[49m\u001b[43mcast\u001b[49m\u001b[43m(\u001b[49m\u001b[43mRunnableConfig\u001b[49m\u001b[43m,\u001b[49m\u001b[43m \u001b[49m\u001b[43m{\u001b[49m\u001b[43mk\u001b[49m\u001b[43m:\u001b[49m\u001b[43m \u001b[49m\u001b[43mv\u001b[49m\u001b[43m \u001b[49m\u001b[38;5;28;43;01mfor\u001b[39;49;00m\u001b[43m \u001b[49m\u001b[43mk\u001b[49m\u001b[43m,\u001b[49m\u001b[43m \u001b[49m\u001b[43mv\u001b[49m\u001b[43m \u001b[49m\u001b[38;5;129;43;01min\u001b[39;49;00m\u001b[43m \u001b[49m\u001b[43mconfig\u001b[49m\u001b[38;5;241;43m.\u001b[39;49m\u001b[43mitems\u001b[49m\u001b[43m(\u001b[49m\u001b[43m)\u001b[49m\u001b[43m \u001b[49m\u001b[38;5;28;43;01mif\u001b[39;49;00m\u001b[43m \u001b[49m\u001b[43mv\u001b[49m\u001b[43m \u001b[49m\u001b[38;5;129;43;01mis\u001b[39;49;00m\u001b[43m \u001b[49m\u001b[38;5;129;43;01mnot\u001b[39;49;00m\u001b[43m \u001b[49m\u001b[38;5;28;43;01mNone\u001b[39;49;00m\u001b[43m}\u001b[49m\u001b[43m)\u001b[49m\u001b[43m,\u001b[49m\n\u001b[1;32m    392\u001b[0m \u001b[43m    \u001b[49m\u001b[43mreturn_only_outputs\u001b[49m\u001b[38;5;241;43m=\u001b[39;49m\u001b[43mreturn_only_outputs\u001b[49m\u001b[43m,\u001b[49m\n\u001b[1;32m    393\u001b[0m \u001b[43m    \u001b[49m\u001b[43minclude_run_info\u001b[49m\u001b[38;5;241;43m=\u001b[39;49m\u001b[43minclude_run_info\u001b[49m\u001b[43m,\u001b[49m\n\u001b[1;32m    394\u001b[0m \u001b[43m\u001b[49m\u001b[43m)\u001b[49m\n",
      "File \u001b[0;32m/opt/conda/lib/python3.10/site-packages/langchain/chains/base.py:170\u001b[0m, in \u001b[0;36mChain.invoke\u001b[0;34m(self, input, config, **kwargs)\u001b[0m\n\u001b[1;32m    168\u001b[0m \u001b[38;5;28;01mexcept\u001b[39;00m \u001b[38;5;167;01mBaseException\u001b[39;00m \u001b[38;5;28;01mas\u001b[39;00m e:\n\u001b[1;32m    169\u001b[0m     run_manager\u001b[38;5;241m.\u001b[39mon_chain_error(e)\n\u001b[0;32m--> 170\u001b[0m     \u001b[38;5;28;01mraise\u001b[39;00m e\n\u001b[1;32m    171\u001b[0m run_manager\u001b[38;5;241m.\u001b[39mon_chain_end(outputs)\n\u001b[1;32m    173\u001b[0m \u001b[38;5;28;01mif\u001b[39;00m include_run_info:\n",
      "File \u001b[0;32m/opt/conda/lib/python3.10/site-packages/langchain/chains/base.py:160\u001b[0m, in \u001b[0;36mChain.invoke\u001b[0;34m(self, input, config, **kwargs)\u001b[0m\n\u001b[1;32m    157\u001b[0m \u001b[38;5;28;01mtry\u001b[39;00m:\n\u001b[1;32m    158\u001b[0m     \u001b[38;5;28mself\u001b[39m\u001b[38;5;241m.\u001b[39m_validate_inputs(inputs)\n\u001b[1;32m    159\u001b[0m     outputs \u001b[38;5;241m=\u001b[39m (\n\u001b[0;32m--> 160\u001b[0m         \u001b[38;5;28;43mself\u001b[39;49m\u001b[38;5;241;43m.\u001b[39;49m\u001b[43m_call\u001b[49m\u001b[43m(\u001b[49m\u001b[43minputs\u001b[49m\u001b[43m,\u001b[49m\u001b[43m \u001b[49m\u001b[43mrun_manager\u001b[49m\u001b[38;5;241;43m=\u001b[39;49m\u001b[43mrun_manager\u001b[49m\u001b[43m)\u001b[49m\n\u001b[1;32m    161\u001b[0m         \u001b[38;5;28;01mif\u001b[39;00m new_arg_supported\n\u001b[1;32m    162\u001b[0m         \u001b[38;5;28;01melse\u001b[39;00m \u001b[38;5;28mself\u001b[39m\u001b[38;5;241m.\u001b[39m_call(inputs)\n\u001b[1;32m    163\u001b[0m     )\n\u001b[1;32m    165\u001b[0m     final_outputs: Dict[\u001b[38;5;28mstr\u001b[39m, Any] \u001b[38;5;241m=\u001b[39m \u001b[38;5;28mself\u001b[39m\u001b[38;5;241m.\u001b[39mprep_outputs(\n\u001b[1;32m    166\u001b[0m         inputs, outputs, return_only_outputs\n\u001b[1;32m    167\u001b[0m     )\n\u001b[1;32m    168\u001b[0m \u001b[38;5;28;01mexcept\u001b[39;00m \u001b[38;5;167;01mBaseException\u001b[39;00m \u001b[38;5;28;01mas\u001b[39;00m e:\n",
      "File \u001b[0;32m/opt/conda/lib/python3.10/site-packages/langchain/chains/llm.py:126\u001b[0m, in \u001b[0;36mLLMChain._call\u001b[0;34m(self, inputs, run_manager)\u001b[0m\n\u001b[1;32m    121\u001b[0m \u001b[38;5;28;01mdef\u001b[39;00m \u001b[38;5;21m_call\u001b[39m(\n\u001b[1;32m    122\u001b[0m     \u001b[38;5;28mself\u001b[39m,\n\u001b[1;32m    123\u001b[0m     inputs: Dict[\u001b[38;5;28mstr\u001b[39m, Any],\n\u001b[1;32m    124\u001b[0m     run_manager: Optional[CallbackManagerForChainRun] \u001b[38;5;241m=\u001b[39m \u001b[38;5;28;01mNone\u001b[39;00m,\n\u001b[1;32m    125\u001b[0m ) \u001b[38;5;241m-\u001b[39m\u001b[38;5;241m>\u001b[39m Dict[\u001b[38;5;28mstr\u001b[39m, \u001b[38;5;28mstr\u001b[39m]:\n\u001b[0;32m--> 126\u001b[0m     response \u001b[38;5;241m=\u001b[39m \u001b[38;5;28;43mself\u001b[39;49m\u001b[38;5;241;43m.\u001b[39;49m\u001b[43mgenerate\u001b[49m\u001b[43m(\u001b[49m\u001b[43m[\u001b[49m\u001b[43minputs\u001b[49m\u001b[43m]\u001b[49m\u001b[43m,\u001b[49m\u001b[43m \u001b[49m\u001b[43mrun_manager\u001b[49m\u001b[38;5;241;43m=\u001b[39;49m\u001b[43mrun_manager\u001b[49m\u001b[43m)\u001b[49m\n\u001b[1;32m    127\u001b[0m     \u001b[38;5;28;01mreturn\u001b[39;00m \u001b[38;5;28mself\u001b[39m\u001b[38;5;241m.\u001b[39mcreate_outputs(response)[\u001b[38;5;241m0\u001b[39m]\n",
      "File \u001b[0;32m/opt/conda/lib/python3.10/site-packages/langchain/chains/llm.py:138\u001b[0m, in \u001b[0;36mLLMChain.generate\u001b[0;34m(self, input_list, run_manager)\u001b[0m\n\u001b[1;32m    136\u001b[0m callbacks \u001b[38;5;241m=\u001b[39m run_manager\u001b[38;5;241m.\u001b[39mget_child() \u001b[38;5;28;01mif\u001b[39;00m run_manager \u001b[38;5;28;01melse\u001b[39;00m \u001b[38;5;28;01mNone\u001b[39;00m\n\u001b[1;32m    137\u001b[0m \u001b[38;5;28;01mif\u001b[39;00m \u001b[38;5;28misinstance\u001b[39m(\u001b[38;5;28mself\u001b[39m\u001b[38;5;241m.\u001b[39mllm, BaseLanguageModel):\n\u001b[0;32m--> 138\u001b[0m     \u001b[38;5;28;01mreturn\u001b[39;00m \u001b[38;5;28;43mself\u001b[39;49m\u001b[38;5;241;43m.\u001b[39;49m\u001b[43mllm\u001b[49m\u001b[38;5;241;43m.\u001b[39;49m\u001b[43mgenerate_prompt\u001b[49m\u001b[43m(\u001b[49m\n\u001b[1;32m    139\u001b[0m \u001b[43m        \u001b[49m\u001b[43mprompts\u001b[49m\u001b[43m,\u001b[49m\n\u001b[1;32m    140\u001b[0m \u001b[43m        \u001b[49m\u001b[43mstop\u001b[49m\u001b[43m,\u001b[49m\n\u001b[1;32m    141\u001b[0m \u001b[43m        \u001b[49m\u001b[43mcallbacks\u001b[49m\u001b[38;5;241;43m=\u001b[39;49m\u001b[43mcallbacks\u001b[49m\u001b[43m,\u001b[49m\n\u001b[1;32m    142\u001b[0m \u001b[43m        \u001b[49m\u001b[38;5;241;43m*\u001b[39;49m\u001b[38;5;241;43m*\u001b[39;49m\u001b[38;5;28;43mself\u001b[39;49m\u001b[38;5;241;43m.\u001b[39;49m\u001b[43mllm_kwargs\u001b[49m\u001b[43m,\u001b[49m\n\u001b[1;32m    143\u001b[0m \u001b[43m    \u001b[49m\u001b[43m)\u001b[49m\n\u001b[1;32m    144\u001b[0m \u001b[38;5;28;01melse\u001b[39;00m:\n\u001b[1;32m    145\u001b[0m     results \u001b[38;5;241m=\u001b[39m \u001b[38;5;28mself\u001b[39m\u001b[38;5;241m.\u001b[39mllm\u001b[38;5;241m.\u001b[39mbind(stop\u001b[38;5;241m=\u001b[39mstop, \u001b[38;5;241m*\u001b[39m\u001b[38;5;241m*\u001b[39m\u001b[38;5;28mself\u001b[39m\u001b[38;5;241m.\u001b[39mllm_kwargs)\u001b[38;5;241m.\u001b[39mbatch(\n\u001b[1;32m    146\u001b[0m         cast(List, prompts), {\u001b[38;5;124m\"\u001b[39m\u001b[38;5;124mcallbacks\u001b[39m\u001b[38;5;124m\"\u001b[39m: callbacks}\n\u001b[1;32m    147\u001b[0m     )\n",
      "File \u001b[0;32m/opt/conda/lib/python3.10/site-packages/langchain_core/language_models/llms.py:755\u001b[0m, in \u001b[0;36mBaseLLM.generate_prompt\u001b[0;34m(self, prompts, stop, callbacks, **kwargs)\u001b[0m\n\u001b[1;32m    747\u001b[0m \u001b[38;5;28;01mdef\u001b[39;00m \u001b[38;5;21mgenerate_prompt\u001b[39m(\n\u001b[1;32m    748\u001b[0m     \u001b[38;5;28mself\u001b[39m,\n\u001b[1;32m    749\u001b[0m     prompts: \u001b[38;5;28mlist\u001b[39m[PromptValue],\n\u001b[0;32m   (...)\u001b[0m\n\u001b[1;32m    752\u001b[0m     \u001b[38;5;241m*\u001b[39m\u001b[38;5;241m*\u001b[39mkwargs: Any,\n\u001b[1;32m    753\u001b[0m ) \u001b[38;5;241m-\u001b[39m\u001b[38;5;241m>\u001b[39m LLMResult:\n\u001b[1;32m    754\u001b[0m     prompt_strings \u001b[38;5;241m=\u001b[39m [p\u001b[38;5;241m.\u001b[39mto_string() \u001b[38;5;28;01mfor\u001b[39;00m p \u001b[38;5;129;01min\u001b[39;00m prompts]\n\u001b[0;32m--> 755\u001b[0m     \u001b[38;5;28;01mreturn\u001b[39;00m \u001b[38;5;28;43mself\u001b[39;49m\u001b[38;5;241;43m.\u001b[39;49m\u001b[43mgenerate\u001b[49m\u001b[43m(\u001b[49m\u001b[43mprompt_strings\u001b[49m\u001b[43m,\u001b[49m\u001b[43m \u001b[49m\u001b[43mstop\u001b[49m\u001b[38;5;241;43m=\u001b[39;49m\u001b[43mstop\u001b[49m\u001b[43m,\u001b[49m\u001b[43m \u001b[49m\u001b[43mcallbacks\u001b[49m\u001b[38;5;241;43m=\u001b[39;49m\u001b[43mcallbacks\u001b[49m\u001b[43m,\u001b[49m\u001b[43m \u001b[49m\u001b[38;5;241;43m*\u001b[39;49m\u001b[38;5;241;43m*\u001b[39;49m\u001b[43mkwargs\u001b[49m\u001b[43m)\u001b[49m\n",
      "File \u001b[0;32m/opt/conda/lib/python3.10/site-packages/langchain_core/language_models/llms.py:950\u001b[0m, in \u001b[0;36mBaseLLM.generate\u001b[0;34m(self, prompts, stop, callbacks, tags, metadata, run_name, run_id, **kwargs)\u001b[0m\n\u001b[1;32m    935\u001b[0m \u001b[38;5;28;01mif\u001b[39;00m (\u001b[38;5;28mself\u001b[39m\u001b[38;5;241m.\u001b[39mcache \u001b[38;5;129;01mis\u001b[39;00m \u001b[38;5;28;01mNone\u001b[39;00m \u001b[38;5;129;01mand\u001b[39;00m get_llm_cache() \u001b[38;5;129;01mis\u001b[39;00m \u001b[38;5;28;01mNone\u001b[39;00m) \u001b[38;5;129;01mor\u001b[39;00m \u001b[38;5;28mself\u001b[39m\u001b[38;5;241m.\u001b[39mcache \u001b[38;5;129;01mis\u001b[39;00m \u001b[38;5;28;01mFalse\u001b[39;00m:\n\u001b[1;32m    936\u001b[0m     run_managers \u001b[38;5;241m=\u001b[39m [\n\u001b[1;32m    937\u001b[0m         callback_manager\u001b[38;5;241m.\u001b[39mon_llm_start(\n\u001b[1;32m    938\u001b[0m             \u001b[38;5;28mself\u001b[39m\u001b[38;5;241m.\u001b[39m_serialized,\n\u001b[0;32m   (...)\u001b[0m\n\u001b[1;32m    948\u001b[0m         )\n\u001b[1;32m    949\u001b[0m     ]\n\u001b[0;32m--> 950\u001b[0m     output \u001b[38;5;241m=\u001b[39m \u001b[38;5;28;43mself\u001b[39;49m\u001b[38;5;241;43m.\u001b[39;49m\u001b[43m_generate_helper\u001b[49m\u001b[43m(\u001b[49m\n\u001b[1;32m    951\u001b[0m \u001b[43m        \u001b[49m\u001b[43mprompts\u001b[49m\u001b[43m,\u001b[49m\u001b[43m \u001b[49m\u001b[43mstop\u001b[49m\u001b[43m,\u001b[49m\u001b[43m \u001b[49m\u001b[43mrun_managers\u001b[49m\u001b[43m,\u001b[49m\u001b[43m \u001b[49m\u001b[38;5;28;43mbool\u001b[39;49m\u001b[43m(\u001b[49m\u001b[43mnew_arg_supported\u001b[49m\u001b[43m)\u001b[49m\u001b[43m,\u001b[49m\u001b[43m \u001b[49m\u001b[38;5;241;43m*\u001b[39;49m\u001b[38;5;241;43m*\u001b[39;49m\u001b[43mkwargs\u001b[49m\n\u001b[1;32m    952\u001b[0m \u001b[43m    \u001b[49m\u001b[43m)\u001b[49m\n\u001b[1;32m    953\u001b[0m     \u001b[38;5;28;01mreturn\u001b[39;00m output\n\u001b[1;32m    954\u001b[0m \u001b[38;5;28;01mif\u001b[39;00m \u001b[38;5;28mlen\u001b[39m(missing_prompts) \u001b[38;5;241m>\u001b[39m \u001b[38;5;241m0\u001b[39m:\n",
      "File \u001b[0;32m/opt/conda/lib/python3.10/site-packages/langchain_core/language_models/llms.py:792\u001b[0m, in \u001b[0;36mBaseLLM._generate_helper\u001b[0;34m(self, prompts, stop, run_managers, new_arg_supported, **kwargs)\u001b[0m\n\u001b[1;32m    790\u001b[0m     \u001b[38;5;28;01mfor\u001b[39;00m run_manager \u001b[38;5;129;01min\u001b[39;00m run_managers:\n\u001b[1;32m    791\u001b[0m         run_manager\u001b[38;5;241m.\u001b[39mon_llm_error(e, response\u001b[38;5;241m=\u001b[39mLLMResult(generations\u001b[38;5;241m=\u001b[39m[]))\n\u001b[0;32m--> 792\u001b[0m     \u001b[38;5;28;01mraise\u001b[39;00m e\n\u001b[1;32m    793\u001b[0m flattened_outputs \u001b[38;5;241m=\u001b[39m output\u001b[38;5;241m.\u001b[39mflatten()\n\u001b[1;32m    794\u001b[0m \u001b[38;5;28;01mfor\u001b[39;00m manager, flattened_output \u001b[38;5;129;01min\u001b[39;00m \u001b[38;5;28mzip\u001b[39m(run_managers, flattened_outputs):\n",
      "File \u001b[0;32m/opt/conda/lib/python3.10/site-packages/langchain_core/language_models/llms.py:779\u001b[0m, in \u001b[0;36mBaseLLM._generate_helper\u001b[0;34m(self, prompts, stop, run_managers, new_arg_supported, **kwargs)\u001b[0m\n\u001b[1;32m    769\u001b[0m \u001b[38;5;28;01mdef\u001b[39;00m \u001b[38;5;21m_generate_helper\u001b[39m(\n\u001b[1;32m    770\u001b[0m     \u001b[38;5;28mself\u001b[39m,\n\u001b[1;32m    771\u001b[0m     prompts: \u001b[38;5;28mlist\u001b[39m[\u001b[38;5;28mstr\u001b[39m],\n\u001b[0;32m   (...)\u001b[0m\n\u001b[1;32m    775\u001b[0m     \u001b[38;5;241m*\u001b[39m\u001b[38;5;241m*\u001b[39mkwargs: Any,\n\u001b[1;32m    776\u001b[0m ) \u001b[38;5;241m-\u001b[39m\u001b[38;5;241m>\u001b[39m LLMResult:\n\u001b[1;32m    777\u001b[0m     \u001b[38;5;28;01mtry\u001b[39;00m:\n\u001b[1;32m    778\u001b[0m         output \u001b[38;5;241m=\u001b[39m (\n\u001b[0;32m--> 779\u001b[0m             \u001b[38;5;28;43mself\u001b[39;49m\u001b[38;5;241;43m.\u001b[39;49m\u001b[43m_generate\u001b[49m\u001b[43m(\u001b[49m\n\u001b[1;32m    780\u001b[0m \u001b[43m                \u001b[49m\u001b[43mprompts\u001b[49m\u001b[43m,\u001b[49m\n\u001b[1;32m    781\u001b[0m \u001b[43m                \u001b[49m\u001b[43mstop\u001b[49m\u001b[38;5;241;43m=\u001b[39;49m\u001b[43mstop\u001b[49m\u001b[43m,\u001b[49m\n\u001b[1;32m    782\u001b[0m \u001b[43m                \u001b[49m\u001b[38;5;66;43;03m# TODO: support multiple run managers\u001b[39;49;00m\n\u001b[1;32m    783\u001b[0m \u001b[43m                \u001b[49m\u001b[43mrun_manager\u001b[49m\u001b[38;5;241;43m=\u001b[39;49m\u001b[43mrun_managers\u001b[49m\u001b[43m[\u001b[49m\u001b[38;5;241;43m0\u001b[39;49m\u001b[43m]\u001b[49m\u001b[43m \u001b[49m\u001b[38;5;28;43;01mif\u001b[39;49;00m\u001b[43m \u001b[49m\u001b[43mrun_managers\u001b[49m\u001b[43m \u001b[49m\u001b[38;5;28;43;01melse\u001b[39;49;00m\u001b[43m \u001b[49m\u001b[38;5;28;43;01mNone\u001b[39;49;00m\u001b[43m,\u001b[49m\n\u001b[1;32m    784\u001b[0m \u001b[43m                \u001b[49m\u001b[38;5;241;43m*\u001b[39;49m\u001b[38;5;241;43m*\u001b[39;49m\u001b[43mkwargs\u001b[49m\u001b[43m,\u001b[49m\n\u001b[1;32m    785\u001b[0m \u001b[43m            \u001b[49m\u001b[43m)\u001b[49m\n\u001b[1;32m    786\u001b[0m             \u001b[38;5;28;01mif\u001b[39;00m new_arg_supported\n\u001b[1;32m    787\u001b[0m             \u001b[38;5;28;01melse\u001b[39;00m \u001b[38;5;28mself\u001b[39m\u001b[38;5;241m.\u001b[39m_generate(prompts, stop\u001b[38;5;241m=\u001b[39mstop)\n\u001b[1;32m    788\u001b[0m         )\n\u001b[1;32m    789\u001b[0m     \u001b[38;5;28;01mexcept\u001b[39;00m \u001b[38;5;167;01mBaseException\u001b[39;00m \u001b[38;5;28;01mas\u001b[39;00m e:\n\u001b[1;32m    790\u001b[0m         \u001b[38;5;28;01mfor\u001b[39;00m run_manager \u001b[38;5;129;01min\u001b[39;00m run_managers:\n",
      "File \u001b[0;32m/opt/conda/lib/python3.10/site-packages/langchain_google_vertexai/llms.py:252\u001b[0m, in \u001b[0;36mVertexAI._generate\u001b[0;34m(self, prompts, stop, run_manager, stream, **kwargs)\u001b[0m\n\u001b[1;32m    250\u001b[0m     generations\u001b[38;5;241m.\u001b[39mappend([generation])\n\u001b[1;32m    251\u001b[0m \u001b[38;5;28;01melse\u001b[39;00m:\n\u001b[0;32m--> 252\u001b[0m     res \u001b[38;5;241m=\u001b[39m \u001b[43m_completion_with_retry\u001b[49m\u001b[43m(\u001b[49m\n\u001b[1;32m    253\u001b[0m \u001b[43m        \u001b[49m\u001b[38;5;28;43mself\u001b[39;49m\u001b[43m,\u001b[49m\n\u001b[1;32m    254\u001b[0m \u001b[43m        \u001b[49m\u001b[43m[\u001b[49m\u001b[43mprompt\u001b[49m\u001b[43m]\u001b[49m\u001b[43m,\u001b[49m\n\u001b[1;32m    255\u001b[0m \u001b[43m        \u001b[49m\u001b[43mstream\u001b[49m\u001b[38;5;241;43m=\u001b[39;49m\u001b[43mshould_stream\u001b[49m\u001b[43m,\u001b[49m\n\u001b[1;32m    256\u001b[0m \u001b[43m        \u001b[49m\u001b[43mis_gemini\u001b[49m\u001b[38;5;241;43m=\u001b[39;49m\u001b[38;5;28;43mself\u001b[39;49m\u001b[38;5;241;43m.\u001b[39;49m\u001b[43m_is_gemini_model\u001b[49m\u001b[43m,\u001b[49m\n\u001b[1;32m    257\u001b[0m \u001b[43m        \u001b[49m\u001b[43mrun_manager\u001b[49m\u001b[38;5;241;43m=\u001b[39;49m\u001b[43mrun_manager\u001b[49m\u001b[43m,\u001b[49m\n\u001b[1;32m    258\u001b[0m \u001b[43m        \u001b[49m\u001b[38;5;241;43m*\u001b[39;49m\u001b[38;5;241;43m*\u001b[39;49m\u001b[43mparams\u001b[49m\u001b[43m,\u001b[49m\n\u001b[1;32m    259\u001b[0m \u001b[43m    \u001b[49m\u001b[43m)\u001b[49m\n\u001b[1;32m    260\u001b[0m     \u001b[38;5;28;01mif\u001b[39;00m \u001b[38;5;28mself\u001b[39m\u001b[38;5;241m.\u001b[39m_is_gemini_model:\n\u001b[1;32m    261\u001b[0m         usage_metadata \u001b[38;5;241m=\u001b[39m res\u001b[38;5;241m.\u001b[39mto_dict()\u001b[38;5;241m.\u001b[39mget(\u001b[38;5;124m\"\u001b[39m\u001b[38;5;124musage_metadata\u001b[39m\u001b[38;5;124m\"\u001b[39m)\n",
      "File \u001b[0;32m/opt/conda/lib/python3.10/site-packages/langchain_google_vertexai/llms.py:71\u001b[0m, in \u001b[0;36m_completion_with_retry\u001b[0;34m(llm, prompt, stream, is_gemini, run_manager, **kwargs)\u001b[0m\n\u001b[1;32m     68\u001b[0m         \u001b[38;5;28;01mreturn\u001b[39;00m llm\u001b[38;5;241m.\u001b[39mclient\u001b[38;5;241m.\u001b[39mpredict(prompt[\u001b[38;5;241m0\u001b[39m], \u001b[38;5;241m*\u001b[39m\u001b[38;5;241m*\u001b[39mkwargs)\n\u001b[1;32m     70\u001b[0m \u001b[38;5;28;01mwith\u001b[39;00m telemetry\u001b[38;5;241m.\u001b[39mtool_context_manager(llm\u001b[38;5;241m.\u001b[39m_user_agent):\n\u001b[0;32m---> 71\u001b[0m     \u001b[38;5;28;01mreturn\u001b[39;00m \u001b[43m_completion_with_retry_inner\u001b[49m\u001b[43m(\u001b[49m\u001b[43mprompt\u001b[49m\u001b[43m,\u001b[49m\u001b[43m \u001b[49m\u001b[43mis_gemini\u001b[49m\u001b[43m,\u001b[49m\u001b[43m \u001b[49m\u001b[38;5;241;43m*\u001b[39;49m\u001b[38;5;241;43m*\u001b[39;49m\u001b[43mkwargs\u001b[49m\u001b[43m)\u001b[49m\n",
      "File \u001b[0;32m/opt/conda/lib/python3.10/site-packages/tenacity/__init__.py:330\u001b[0m, in \u001b[0;36mBaseRetrying.wraps.<locals>.wrapped_f\u001b[0;34m(*args, **kw)\u001b[0m\n\u001b[1;32m    326\u001b[0m \u001b[38;5;129m@functools\u001b[39m\u001b[38;5;241m.\u001b[39mwraps(\n\u001b[1;32m    327\u001b[0m     f, functools\u001b[38;5;241m.\u001b[39mWRAPPER_ASSIGNMENTS \u001b[38;5;241m+\u001b[39m (\u001b[38;5;124m\"\u001b[39m\u001b[38;5;124m__defaults__\u001b[39m\u001b[38;5;124m\"\u001b[39m, \u001b[38;5;124m\"\u001b[39m\u001b[38;5;124m__kwdefaults__\u001b[39m\u001b[38;5;124m\"\u001b[39m)\n\u001b[1;32m    328\u001b[0m )\n\u001b[1;32m    329\u001b[0m \u001b[38;5;28;01mdef\u001b[39;00m \u001b[38;5;21mwrapped_f\u001b[39m(\u001b[38;5;241m*\u001b[39margs: t\u001b[38;5;241m.\u001b[39mAny, \u001b[38;5;241m*\u001b[39m\u001b[38;5;241m*\u001b[39mkw: t\u001b[38;5;241m.\u001b[39mAny) \u001b[38;5;241m-\u001b[39m\u001b[38;5;241m>\u001b[39m t\u001b[38;5;241m.\u001b[39mAny:\n\u001b[0;32m--> 330\u001b[0m     \u001b[38;5;28;01mreturn\u001b[39;00m \u001b[38;5;28;43mself\u001b[39;49m\u001b[43m(\u001b[49m\u001b[43mf\u001b[49m\u001b[43m,\u001b[49m\u001b[43m \u001b[49m\u001b[38;5;241;43m*\u001b[39;49m\u001b[43margs\u001b[49m\u001b[43m,\u001b[49m\u001b[43m \u001b[49m\u001b[38;5;241;43m*\u001b[39;49m\u001b[38;5;241;43m*\u001b[39;49m\u001b[43mkw\u001b[49m\u001b[43m)\u001b[49m\n",
      "File \u001b[0;32m/opt/conda/lib/python3.10/site-packages/tenacity/__init__.py:467\u001b[0m, in \u001b[0;36mRetrying.__call__\u001b[0;34m(self, fn, *args, **kwargs)\u001b[0m\n\u001b[1;32m    465\u001b[0m retry_state \u001b[38;5;241m=\u001b[39m RetryCallState(retry_object\u001b[38;5;241m=\u001b[39m\u001b[38;5;28mself\u001b[39m, fn\u001b[38;5;241m=\u001b[39mfn, args\u001b[38;5;241m=\u001b[39margs, kwargs\u001b[38;5;241m=\u001b[39mkwargs)\n\u001b[1;32m    466\u001b[0m \u001b[38;5;28;01mwhile\u001b[39;00m \u001b[38;5;28;01mTrue\u001b[39;00m:\n\u001b[0;32m--> 467\u001b[0m     do \u001b[38;5;241m=\u001b[39m \u001b[38;5;28;43mself\u001b[39;49m\u001b[38;5;241;43m.\u001b[39;49m\u001b[43miter\u001b[49m\u001b[43m(\u001b[49m\u001b[43mretry_state\u001b[49m\u001b[38;5;241;43m=\u001b[39;49m\u001b[43mretry_state\u001b[49m\u001b[43m)\u001b[49m\n\u001b[1;32m    468\u001b[0m     \u001b[38;5;28;01mif\u001b[39;00m \u001b[38;5;28misinstance\u001b[39m(do, DoAttempt):\n\u001b[1;32m    469\u001b[0m         \u001b[38;5;28;01mtry\u001b[39;00m:\n",
      "File \u001b[0;32m/opt/conda/lib/python3.10/site-packages/tenacity/__init__.py:368\u001b[0m, in \u001b[0;36mBaseRetrying.iter\u001b[0;34m(self, retry_state)\u001b[0m\n\u001b[1;32m    366\u001b[0m result \u001b[38;5;241m=\u001b[39m \u001b[38;5;28;01mNone\u001b[39;00m\n\u001b[1;32m    367\u001b[0m \u001b[38;5;28;01mfor\u001b[39;00m action \u001b[38;5;129;01min\u001b[39;00m \u001b[38;5;28mself\u001b[39m\u001b[38;5;241m.\u001b[39miter_state\u001b[38;5;241m.\u001b[39mactions:\n\u001b[0;32m--> 368\u001b[0m     result \u001b[38;5;241m=\u001b[39m \u001b[43maction\u001b[49m\u001b[43m(\u001b[49m\u001b[43mretry_state\u001b[49m\u001b[43m)\u001b[49m\n\u001b[1;32m    369\u001b[0m \u001b[38;5;28;01mreturn\u001b[39;00m result\n",
      "File \u001b[0;32m/opt/conda/lib/python3.10/site-packages/tenacity/__init__.py:390\u001b[0m, in \u001b[0;36mBaseRetrying._post_retry_check_actions.<locals>.<lambda>\u001b[0;34m(rs)\u001b[0m\n\u001b[1;32m    388\u001b[0m \u001b[38;5;28;01mdef\u001b[39;00m \u001b[38;5;21m_post_retry_check_actions\u001b[39m(\u001b[38;5;28mself\u001b[39m, retry_state: \u001b[38;5;124m\"\u001b[39m\u001b[38;5;124mRetryCallState\u001b[39m\u001b[38;5;124m\"\u001b[39m) \u001b[38;5;241m-\u001b[39m\u001b[38;5;241m>\u001b[39m \u001b[38;5;28;01mNone\u001b[39;00m:\n\u001b[1;32m    389\u001b[0m     \u001b[38;5;28;01mif\u001b[39;00m \u001b[38;5;129;01mnot\u001b[39;00m (\u001b[38;5;28mself\u001b[39m\u001b[38;5;241m.\u001b[39miter_state\u001b[38;5;241m.\u001b[39mis_explicit_retry \u001b[38;5;129;01mor\u001b[39;00m \u001b[38;5;28mself\u001b[39m\u001b[38;5;241m.\u001b[39miter_state\u001b[38;5;241m.\u001b[39mretry_run_result):\n\u001b[0;32m--> 390\u001b[0m         \u001b[38;5;28mself\u001b[39m\u001b[38;5;241m.\u001b[39m_add_action_func(\u001b[38;5;28;01mlambda\u001b[39;00m rs: \u001b[43mrs\u001b[49m\u001b[38;5;241;43m.\u001b[39;49m\u001b[43moutcome\u001b[49m\u001b[38;5;241;43m.\u001b[39;49m\u001b[43mresult\u001b[49m\u001b[43m(\u001b[49m\u001b[43m)\u001b[49m)\n\u001b[1;32m    391\u001b[0m         \u001b[38;5;28;01mreturn\u001b[39;00m\n\u001b[1;32m    393\u001b[0m     \u001b[38;5;28;01mif\u001b[39;00m \u001b[38;5;28mself\u001b[39m\u001b[38;5;241m.\u001b[39mafter \u001b[38;5;129;01mis\u001b[39;00m \u001b[38;5;129;01mnot\u001b[39;00m \u001b[38;5;28;01mNone\u001b[39;00m:\n",
      "File \u001b[0;32m/opt/conda/lib/python3.10/concurrent/futures/_base.py:451\u001b[0m, in \u001b[0;36mFuture.result\u001b[0;34m(self, timeout)\u001b[0m\n\u001b[1;32m    449\u001b[0m     \u001b[38;5;28;01mraise\u001b[39;00m CancelledError()\n\u001b[1;32m    450\u001b[0m \u001b[38;5;28;01melif\u001b[39;00m \u001b[38;5;28mself\u001b[39m\u001b[38;5;241m.\u001b[39m_state \u001b[38;5;241m==\u001b[39m FINISHED:\n\u001b[0;32m--> 451\u001b[0m     \u001b[38;5;28;01mreturn\u001b[39;00m \u001b[38;5;28;43mself\u001b[39;49m\u001b[38;5;241;43m.\u001b[39;49m\u001b[43m__get_result\u001b[49m\u001b[43m(\u001b[49m\u001b[43m)\u001b[49m\n\u001b[1;32m    453\u001b[0m \u001b[38;5;28mself\u001b[39m\u001b[38;5;241m.\u001b[39m_condition\u001b[38;5;241m.\u001b[39mwait(timeout)\n\u001b[1;32m    455\u001b[0m \u001b[38;5;28;01mif\u001b[39;00m \u001b[38;5;28mself\u001b[39m\u001b[38;5;241m.\u001b[39m_state \u001b[38;5;129;01min\u001b[39;00m [CANCELLED, CANCELLED_AND_NOTIFIED]:\n",
      "File \u001b[0;32m/opt/conda/lib/python3.10/concurrent/futures/_base.py:403\u001b[0m, in \u001b[0;36mFuture.__get_result\u001b[0;34m(self)\u001b[0m\n\u001b[1;32m    401\u001b[0m \u001b[38;5;28;01mif\u001b[39;00m \u001b[38;5;28mself\u001b[39m\u001b[38;5;241m.\u001b[39m_exception:\n\u001b[1;32m    402\u001b[0m     \u001b[38;5;28;01mtry\u001b[39;00m:\n\u001b[0;32m--> 403\u001b[0m         \u001b[38;5;28;01mraise\u001b[39;00m \u001b[38;5;28mself\u001b[39m\u001b[38;5;241m.\u001b[39m_exception\n\u001b[1;32m    404\u001b[0m     \u001b[38;5;28;01mfinally\u001b[39;00m:\n\u001b[1;32m    405\u001b[0m         \u001b[38;5;66;03m# Break a reference cycle with the exception in self._exception\u001b[39;00m\n\u001b[1;32m    406\u001b[0m         \u001b[38;5;28mself\u001b[39m \u001b[38;5;241m=\u001b[39m \u001b[38;5;28;01mNone\u001b[39;00m\n",
      "File \u001b[0;32m/opt/conda/lib/python3.10/site-packages/tenacity/__init__.py:470\u001b[0m, in \u001b[0;36mRetrying.__call__\u001b[0;34m(self, fn, *args, **kwargs)\u001b[0m\n\u001b[1;32m    468\u001b[0m \u001b[38;5;28;01mif\u001b[39;00m \u001b[38;5;28misinstance\u001b[39m(do, DoAttempt):\n\u001b[1;32m    469\u001b[0m     \u001b[38;5;28;01mtry\u001b[39;00m:\n\u001b[0;32m--> 470\u001b[0m         result \u001b[38;5;241m=\u001b[39m \u001b[43mfn\u001b[49m\u001b[43m(\u001b[49m\u001b[38;5;241;43m*\u001b[39;49m\u001b[43margs\u001b[49m\u001b[43m,\u001b[49m\u001b[43m \u001b[49m\u001b[38;5;241;43m*\u001b[39;49m\u001b[38;5;241;43m*\u001b[39;49m\u001b[43mkwargs\u001b[49m\u001b[43m)\u001b[49m\n\u001b[1;32m    471\u001b[0m     \u001b[38;5;28;01mexcept\u001b[39;00m \u001b[38;5;167;01mBaseException\u001b[39;00m:  \u001b[38;5;66;03m# noqa: B902\u001b[39;00m\n\u001b[1;32m    472\u001b[0m         retry_state\u001b[38;5;241m.\u001b[39mset_exception(sys\u001b[38;5;241m.\u001b[39mexc_info())  \u001b[38;5;66;03m# type: ignore[arg-type]\u001b[39;00m\n",
      "File \u001b[0;32m/opt/conda/lib/python3.10/site-packages/langchain_google_vertexai/llms.py:59\u001b[0m, in \u001b[0;36m_completion_with_retry.<locals>._completion_with_retry_inner\u001b[0;34m(prompt, is_gemini, **kwargs)\u001b[0m\n\u001b[1;32m     54\u001b[0m \u001b[38;5;129m@retry_decorator\u001b[39m\n\u001b[1;32m     55\u001b[0m \u001b[38;5;28;01mdef\u001b[39;00m \u001b[38;5;21m_completion_with_retry_inner\u001b[39m(\n\u001b[1;32m     56\u001b[0m     prompt: List[Union[\u001b[38;5;28mstr\u001b[39m, Image]], is_gemini: \u001b[38;5;28mbool\u001b[39m \u001b[38;5;241m=\u001b[39m \u001b[38;5;28;01mFalse\u001b[39;00m, \u001b[38;5;241m*\u001b[39m\u001b[38;5;241m*\u001b[39mkwargs: Any\n\u001b[1;32m     57\u001b[0m ) \u001b[38;5;241m-\u001b[39m\u001b[38;5;241m>\u001b[39m Any:\n\u001b[1;32m     58\u001b[0m     \u001b[38;5;28;01mif\u001b[39;00m is_gemini:\n\u001b[0;32m---> 59\u001b[0m         \u001b[38;5;28;01mreturn\u001b[39;00m \u001b[43mllm\u001b[49m\u001b[38;5;241;43m.\u001b[39;49m\u001b[43mclient\u001b[49m\u001b[38;5;241;43m.\u001b[39;49m\u001b[43mgenerate_content\u001b[49m\u001b[43m(\u001b[49m\n\u001b[1;32m     60\u001b[0m \u001b[43m            \u001b[49m\u001b[43mprompt\u001b[49m\u001b[43m,\u001b[49m\n\u001b[1;32m     61\u001b[0m \u001b[43m            \u001b[49m\u001b[43mstream\u001b[49m\u001b[38;5;241;43m=\u001b[39;49m\u001b[43mstream\u001b[49m\u001b[43m,\u001b[49m\n\u001b[1;32m     62\u001b[0m \u001b[43m            \u001b[49m\u001b[43msafety_settings\u001b[49m\u001b[38;5;241;43m=\u001b[39;49m\u001b[43mkwargs\u001b[49m\u001b[38;5;241;43m.\u001b[39;49m\u001b[43mpop\u001b[49m\u001b[43m(\u001b[49m\u001b[38;5;124;43m\"\u001b[39;49m\u001b[38;5;124;43msafety_settings\u001b[39;49m\u001b[38;5;124;43m\"\u001b[39;49m\u001b[43m,\u001b[49m\u001b[43m \u001b[49m\u001b[38;5;28;43;01mNone\u001b[39;49;00m\u001b[43m)\u001b[49m\u001b[43m,\u001b[49m\n\u001b[1;32m     63\u001b[0m \u001b[43m            \u001b[49m\u001b[43mgeneration_config\u001b[49m\u001b[38;5;241;43m=\u001b[39;49m\u001b[43mkwargs\u001b[49m\u001b[43m,\u001b[49m\n\u001b[1;32m     64\u001b[0m \u001b[43m        \u001b[49m\u001b[43m)\u001b[49m\n\u001b[1;32m     65\u001b[0m     \u001b[38;5;28;01melse\u001b[39;00m:\n\u001b[1;32m     66\u001b[0m         \u001b[38;5;28;01mif\u001b[39;00m stream:\n",
      "File \u001b[0;32m/opt/conda/lib/python3.10/site-packages/vertexai/generative_models/_generative_models.py:654\u001b[0m, in \u001b[0;36m_GenerativeModel.generate_content\u001b[0;34m(self, contents, generation_config, safety_settings, tools, tool_config, labels, stream)\u001b[0m\n\u001b[1;32m    645\u001b[0m     \u001b[38;5;28;01mreturn\u001b[39;00m \u001b[38;5;28mself\u001b[39m\u001b[38;5;241m.\u001b[39m_generate_content_streaming(\n\u001b[1;32m    646\u001b[0m         contents\u001b[38;5;241m=\u001b[39mcontents,\n\u001b[1;32m    647\u001b[0m         generation_config\u001b[38;5;241m=\u001b[39mgeneration_config,\n\u001b[0;32m   (...)\u001b[0m\n\u001b[1;32m    651\u001b[0m         labels\u001b[38;5;241m=\u001b[39mlabels,\n\u001b[1;32m    652\u001b[0m     )\n\u001b[1;32m    653\u001b[0m \u001b[38;5;28;01melse\u001b[39;00m:\n\u001b[0;32m--> 654\u001b[0m     \u001b[38;5;28;01mreturn\u001b[39;00m \u001b[38;5;28;43mself\u001b[39;49m\u001b[38;5;241;43m.\u001b[39;49m\u001b[43m_generate_content\u001b[49m\u001b[43m(\u001b[49m\n\u001b[1;32m    655\u001b[0m \u001b[43m        \u001b[49m\u001b[43mcontents\u001b[49m\u001b[38;5;241;43m=\u001b[39;49m\u001b[43mcontents\u001b[49m\u001b[43m,\u001b[49m\n\u001b[1;32m    656\u001b[0m \u001b[43m        \u001b[49m\u001b[43mgeneration_config\u001b[49m\u001b[38;5;241;43m=\u001b[39;49m\u001b[43mgeneration_config\u001b[49m\u001b[43m,\u001b[49m\n\u001b[1;32m    657\u001b[0m \u001b[43m        \u001b[49m\u001b[43msafety_settings\u001b[49m\u001b[38;5;241;43m=\u001b[39;49m\u001b[43msafety_settings\u001b[49m\u001b[43m,\u001b[49m\n\u001b[1;32m    658\u001b[0m \u001b[43m        \u001b[49m\u001b[43mtools\u001b[49m\u001b[38;5;241;43m=\u001b[39;49m\u001b[43mtools\u001b[49m\u001b[43m,\u001b[49m\n\u001b[1;32m    659\u001b[0m \u001b[43m        \u001b[49m\u001b[43mtool_config\u001b[49m\u001b[38;5;241;43m=\u001b[39;49m\u001b[43mtool_config\u001b[49m\u001b[43m,\u001b[49m\n\u001b[1;32m    660\u001b[0m \u001b[43m        \u001b[49m\u001b[43mlabels\u001b[49m\u001b[38;5;241;43m=\u001b[39;49m\u001b[43mlabels\u001b[49m\u001b[43m,\u001b[49m\n\u001b[1;32m    661\u001b[0m \u001b[43m    \u001b[49m\u001b[43m)\u001b[49m\n",
      "File \u001b[0;32m/opt/conda/lib/python3.10/site-packages/vertexai/generative_models/_generative_models.py:779\u001b[0m, in \u001b[0;36m_GenerativeModel._generate_content\u001b[0;34m(self, contents, generation_config, safety_settings, tools, tool_config, labels)\u001b[0m\n\u001b[1;32m    752\u001b[0m \u001b[38;5;250m\u001b[39m\u001b[38;5;124;03m\"\"\"Generates content.\u001b[39;00m\n\u001b[1;32m    753\u001b[0m \n\u001b[1;32m    754\u001b[0m \u001b[38;5;124;03mArgs:\u001b[39;00m\n\u001b[0;32m   (...)\u001b[0m\n\u001b[1;32m    769\u001b[0m \u001b[38;5;124;03m    A single GenerationResponse object\u001b[39;00m\n\u001b[1;32m    770\u001b[0m \u001b[38;5;124;03m\"\"\"\u001b[39;00m\n\u001b[1;32m    771\u001b[0m request \u001b[38;5;241m=\u001b[39m \u001b[38;5;28mself\u001b[39m\u001b[38;5;241m.\u001b[39m_prepare_request(\n\u001b[1;32m    772\u001b[0m     contents\u001b[38;5;241m=\u001b[39mcontents,\n\u001b[1;32m    773\u001b[0m     generation_config\u001b[38;5;241m=\u001b[39mgeneration_config,\n\u001b[0;32m   (...)\u001b[0m\n\u001b[1;32m    777\u001b[0m     labels\u001b[38;5;241m=\u001b[39mlabels,\n\u001b[1;32m    778\u001b[0m )\n\u001b[0;32m--> 779\u001b[0m gapic_response \u001b[38;5;241m=\u001b[39m \u001b[38;5;28;43mself\u001b[39;49m\u001b[38;5;241;43m.\u001b[39;49m\u001b[43m_prediction_client\u001b[49m\u001b[38;5;241;43m.\u001b[39;49m\u001b[43mgenerate_content\u001b[49m\u001b[43m(\u001b[49m\u001b[43mrequest\u001b[49m\u001b[38;5;241;43m=\u001b[39;49m\u001b[43mrequest\u001b[49m\u001b[43m)\u001b[49m\n\u001b[1;32m    780\u001b[0m \u001b[38;5;28;01mreturn\u001b[39;00m \u001b[38;5;28mself\u001b[39m\u001b[38;5;241m.\u001b[39m_parse_response(gapic_response)\n",
      "File \u001b[0;32m/opt/conda/lib/python3.10/site-packages/google/cloud/aiplatform_v1/services/prediction_service/client.py:2159\u001b[0m, in \u001b[0;36mPredictionServiceClient.generate_content\u001b[0;34m(self, request, model, contents, retry, timeout, metadata)\u001b[0m\n\u001b[1;32m   2156\u001b[0m \u001b[38;5;28mself\u001b[39m\u001b[38;5;241m.\u001b[39m_validate_universe_domain()\n\u001b[1;32m   2158\u001b[0m \u001b[38;5;66;03m# Send the request.\u001b[39;00m\n\u001b[0;32m-> 2159\u001b[0m response \u001b[38;5;241m=\u001b[39m \u001b[43mrpc\u001b[49m\u001b[43m(\u001b[49m\n\u001b[1;32m   2160\u001b[0m \u001b[43m    \u001b[49m\u001b[43mrequest\u001b[49m\u001b[43m,\u001b[49m\n\u001b[1;32m   2161\u001b[0m \u001b[43m    \u001b[49m\u001b[43mretry\u001b[49m\u001b[38;5;241;43m=\u001b[39;49m\u001b[43mretry\u001b[49m\u001b[43m,\u001b[49m\n\u001b[1;32m   2162\u001b[0m \u001b[43m    \u001b[49m\u001b[43mtimeout\u001b[49m\u001b[38;5;241;43m=\u001b[39;49m\u001b[43mtimeout\u001b[49m\u001b[43m,\u001b[49m\n\u001b[1;32m   2163\u001b[0m \u001b[43m    \u001b[49m\u001b[43mmetadata\u001b[49m\u001b[38;5;241;43m=\u001b[39;49m\u001b[43mmetadata\u001b[49m\u001b[43m,\u001b[49m\n\u001b[1;32m   2164\u001b[0m \u001b[43m\u001b[49m\u001b[43m)\u001b[49m\n\u001b[1;32m   2166\u001b[0m \u001b[38;5;66;03m# Done; return the response.\u001b[39;00m\n\u001b[1;32m   2167\u001b[0m \u001b[38;5;28;01mreturn\u001b[39;00m response\n",
      "File \u001b[0;32m/opt/conda/lib/python3.10/site-packages/google/api_core/gapic_v1/method.py:131\u001b[0m, in \u001b[0;36m_GapicCallable.__call__\u001b[0;34m(self, timeout, retry, compression, *args, **kwargs)\u001b[0m\n\u001b[1;32m    128\u001b[0m \u001b[38;5;28;01mif\u001b[39;00m \u001b[38;5;28mself\u001b[39m\u001b[38;5;241m.\u001b[39m_compression \u001b[38;5;129;01mis\u001b[39;00m \u001b[38;5;129;01mnot\u001b[39;00m \u001b[38;5;28;01mNone\u001b[39;00m:\n\u001b[1;32m    129\u001b[0m     kwargs[\u001b[38;5;124m\"\u001b[39m\u001b[38;5;124mcompression\u001b[39m\u001b[38;5;124m\"\u001b[39m] \u001b[38;5;241m=\u001b[39m compression\n\u001b[0;32m--> 131\u001b[0m \u001b[38;5;28;01mreturn\u001b[39;00m \u001b[43mwrapped_func\u001b[49m\u001b[43m(\u001b[49m\u001b[38;5;241;43m*\u001b[39;49m\u001b[43margs\u001b[49m\u001b[43m,\u001b[49m\u001b[43m \u001b[49m\u001b[38;5;241;43m*\u001b[39;49m\u001b[38;5;241;43m*\u001b[39;49m\u001b[43mkwargs\u001b[49m\u001b[43m)\u001b[49m\n",
      "File \u001b[0;32m/opt/conda/lib/python3.10/site-packages/google/api_core/grpc_helpers.py:76\u001b[0m, in \u001b[0;36m_wrap_unary_errors.<locals>.error_remapped_callable\u001b[0;34m(*args, **kwargs)\u001b[0m\n\u001b[1;32m     73\u001b[0m \u001b[38;5;129m@functools\u001b[39m\u001b[38;5;241m.\u001b[39mwraps(callable_)\n\u001b[1;32m     74\u001b[0m \u001b[38;5;28;01mdef\u001b[39;00m \u001b[38;5;21merror_remapped_callable\u001b[39m(\u001b[38;5;241m*\u001b[39margs, \u001b[38;5;241m*\u001b[39m\u001b[38;5;241m*\u001b[39mkwargs):\n\u001b[1;32m     75\u001b[0m     \u001b[38;5;28;01mtry\u001b[39;00m:\n\u001b[0;32m---> 76\u001b[0m         \u001b[38;5;28;01mreturn\u001b[39;00m \u001b[43mcallable_\u001b[49m\u001b[43m(\u001b[49m\u001b[38;5;241;43m*\u001b[39;49m\u001b[43margs\u001b[49m\u001b[43m,\u001b[49m\u001b[43m \u001b[49m\u001b[38;5;241;43m*\u001b[39;49m\u001b[38;5;241;43m*\u001b[39;49m\u001b[43mkwargs\u001b[49m\u001b[43m)\u001b[49m\n\u001b[1;32m     77\u001b[0m     \u001b[38;5;28;01mexcept\u001b[39;00m grpc\u001b[38;5;241m.\u001b[39mRpcError \u001b[38;5;28;01mas\u001b[39;00m exc:\n\u001b[1;32m     78\u001b[0m         \u001b[38;5;28;01mraise\u001b[39;00m exceptions\u001b[38;5;241m.\u001b[39mfrom_grpc_error(exc) \u001b[38;5;28;01mfrom\u001b[39;00m \u001b[38;5;21;01mexc\u001b[39;00m\n",
      "File \u001b[0;32m/opt/conda/lib/python3.10/site-packages/grpc/_channel.py:1178\u001b[0m, in \u001b[0;36m_UnaryUnaryMultiCallable.__call__\u001b[0;34m(self, request, timeout, metadata, credentials, wait_for_ready, compression)\u001b[0m\n\u001b[1;32m   1166\u001b[0m \u001b[38;5;28;01mdef\u001b[39;00m \u001b[38;5;21m__call__\u001b[39m(\n\u001b[1;32m   1167\u001b[0m     \u001b[38;5;28mself\u001b[39m,\n\u001b[1;32m   1168\u001b[0m     request: Any,\n\u001b[0;32m   (...)\u001b[0m\n\u001b[1;32m   1173\u001b[0m     compression: Optional[grpc\u001b[38;5;241m.\u001b[39mCompression] \u001b[38;5;241m=\u001b[39m \u001b[38;5;28;01mNone\u001b[39;00m,\n\u001b[1;32m   1174\u001b[0m ) \u001b[38;5;241m-\u001b[39m\u001b[38;5;241m>\u001b[39m Any:\n\u001b[1;32m   1175\u001b[0m     (\n\u001b[1;32m   1176\u001b[0m         state,\n\u001b[1;32m   1177\u001b[0m         call,\n\u001b[0;32m-> 1178\u001b[0m     ) \u001b[38;5;241m=\u001b[39m \u001b[38;5;28;43mself\u001b[39;49m\u001b[38;5;241;43m.\u001b[39;49m\u001b[43m_blocking\u001b[49m\u001b[43m(\u001b[49m\n\u001b[1;32m   1179\u001b[0m \u001b[43m        \u001b[49m\u001b[43mrequest\u001b[49m\u001b[43m,\u001b[49m\u001b[43m \u001b[49m\u001b[43mtimeout\u001b[49m\u001b[43m,\u001b[49m\u001b[43m \u001b[49m\u001b[43mmetadata\u001b[49m\u001b[43m,\u001b[49m\u001b[43m \u001b[49m\u001b[43mcredentials\u001b[49m\u001b[43m,\u001b[49m\u001b[43m \u001b[49m\u001b[43mwait_for_ready\u001b[49m\u001b[43m,\u001b[49m\u001b[43m \u001b[49m\u001b[43mcompression\u001b[49m\n\u001b[1;32m   1180\u001b[0m \u001b[43m    \u001b[49m\u001b[43m)\u001b[49m\n\u001b[1;32m   1181\u001b[0m     \u001b[38;5;28;01mreturn\u001b[39;00m _end_unary_response_blocking(state, call, \u001b[38;5;28;01mFalse\u001b[39;00m, \u001b[38;5;28;01mNone\u001b[39;00m)\n",
      "File \u001b[0;32m/opt/conda/lib/python3.10/site-packages/grpc/_channel.py:1162\u001b[0m, in \u001b[0;36m_UnaryUnaryMultiCallable._blocking\u001b[0;34m(self, request, timeout, metadata, credentials, wait_for_ready, compression)\u001b[0m\n\u001b[1;32m   1145\u001b[0m state\u001b[38;5;241m.\u001b[39mtarget \u001b[38;5;241m=\u001b[39m _common\u001b[38;5;241m.\u001b[39mdecode(\u001b[38;5;28mself\u001b[39m\u001b[38;5;241m.\u001b[39m_target)\n\u001b[1;32m   1146\u001b[0m call \u001b[38;5;241m=\u001b[39m \u001b[38;5;28mself\u001b[39m\u001b[38;5;241m.\u001b[39m_channel\u001b[38;5;241m.\u001b[39msegregated_call(\n\u001b[1;32m   1147\u001b[0m     cygrpc\u001b[38;5;241m.\u001b[39mPropagationConstants\u001b[38;5;241m.\u001b[39mGRPC_PROPAGATE_DEFAULTS,\n\u001b[1;32m   1148\u001b[0m     \u001b[38;5;28mself\u001b[39m\u001b[38;5;241m.\u001b[39m_method,\n\u001b[0;32m   (...)\u001b[0m\n\u001b[1;32m   1160\u001b[0m     \u001b[38;5;28mself\u001b[39m\u001b[38;5;241m.\u001b[39m_registered_call_handle,\n\u001b[1;32m   1161\u001b[0m )\n\u001b[0;32m-> 1162\u001b[0m event \u001b[38;5;241m=\u001b[39m \u001b[43mcall\u001b[49m\u001b[38;5;241;43m.\u001b[39;49m\u001b[43mnext_event\u001b[49m\u001b[43m(\u001b[49m\u001b[43m)\u001b[49m\n\u001b[1;32m   1163\u001b[0m _handle_event(event, state, \u001b[38;5;28mself\u001b[39m\u001b[38;5;241m.\u001b[39m_response_deserializer)\n\u001b[1;32m   1164\u001b[0m \u001b[38;5;28;01mreturn\u001b[39;00m state, call\n",
      "File \u001b[0;32msrc/python/grpcio/grpc/_cython/_cygrpc/channel.pyx.pxi:388\u001b[0m, in \u001b[0;36mgrpc._cython.cygrpc.SegregatedCall.next_event\u001b[0;34m()\u001b[0m\n",
      "File \u001b[0;32msrc/python/grpcio/grpc/_cython/_cygrpc/channel.pyx.pxi:211\u001b[0m, in \u001b[0;36mgrpc._cython.cygrpc._next_call_event\u001b[0;34m()\u001b[0m\n",
      "File \u001b[0;32msrc/python/grpcio/grpc/_cython/_cygrpc/channel.pyx.pxi:205\u001b[0m, in \u001b[0;36mgrpc._cython.cygrpc._next_call_event\u001b[0;34m()\u001b[0m\n",
      "File \u001b[0;32msrc/python/grpcio/grpc/_cython/_cygrpc/completion_queue.pyx.pxi:78\u001b[0m, in \u001b[0;36mgrpc._cython.cygrpc._latent_event\u001b[0;34m()\u001b[0m\n",
      "File \u001b[0;32msrc/python/grpcio/grpc/_cython/_cygrpc/completion_queue.pyx.pxi:61\u001b[0m, in \u001b[0;36mgrpc._cython.cygrpc._internal_latent_event\u001b[0;34m()\u001b[0m\n",
      "File \u001b[0;32msrc/python/grpcio/grpc/_cython/_cygrpc/completion_queue.pyx.pxi:42\u001b[0m, in \u001b[0;36mgrpc._cython.cygrpc._next\u001b[0;34m()\u001b[0m\n",
      "\u001b[0;31mKeyboardInterrupt\u001b[0m: "
     ]
    }
   ],
   "source": [
    "refine_outputs = refine_chain({\"input_documents\": pages})\n"
   ]
  },
  {
   "cell_type": "code",
   "execution_count": 37,
   "id": "d5ffa15b-eedd-4e04-b40e-0b867fa3a9fe",
   "metadata": {
    "tags": []
   },
   "outputs": [
    {
     "ename": "NameError",
     "evalue": "name 'refine_outputs' is not defined",
     "output_type": "error",
     "traceback": [
      "\u001b[0;31m---------------------------------------------------------------------------\u001b[0m",
      "\u001b[0;31mNameError\u001b[0m                                 Traceback (most recent call last)",
      "Cell \u001b[0;32mIn[37], line 3\u001b[0m\n\u001b[1;32m      1\u001b[0m final_refine_data \u001b[38;5;241m=\u001b[39m []\n\u001b[1;32m      2\u001b[0m \u001b[38;5;28;01mfor\u001b[39;00m doc, out \u001b[38;5;129;01min\u001b[39;00m \u001b[38;5;28mzip\u001b[39m(\n\u001b[0;32m----> 3\u001b[0m     \u001b[43mrefine_outputs\u001b[49m[\u001b[38;5;124m\"\u001b[39m\u001b[38;5;124minput_documents\u001b[39m\u001b[38;5;124m\"\u001b[39m], refine_outputs[\u001b[38;5;124m\"\u001b[39m\u001b[38;5;124mintermediate_steps\u001b[39m\u001b[38;5;124m\"\u001b[39m]\n\u001b[1;32m      4\u001b[0m ):\n\u001b[1;32m      5\u001b[0m     output \u001b[38;5;241m=\u001b[39m {}\n\u001b[1;32m      6\u001b[0m     output[\u001b[38;5;124m\"\u001b[39m\u001b[38;5;124mfile_name\u001b[39m\u001b[38;5;124m\"\u001b[39m] \u001b[38;5;241m=\u001b[39m p(doc\u001b[38;5;241m.\u001b[39mmetadata[\u001b[38;5;124m\"\u001b[39m\u001b[38;5;124msource\u001b[39m\u001b[38;5;124m\"\u001b[39m])\u001b[38;5;241m.\u001b[39mstem\n",
      "\u001b[0;31mNameError\u001b[0m: name 'refine_outputs' is not defined"
     ]
    }
   ],
   "source": [
    "final_refine_data = []\n",
    "for doc, out in zip(\n",
    "    refine_outputs[\"input_documents\"], refine_outputs[\"intermediate_steps\"]\n",
    "):\n",
    "    output = {}\n",
    "    output[\"file_name\"] = p(doc.metadata[\"source\"]).stem\n",
    "    output[\"file_type\"] = p(doc.metadata[\"source\"]).suffix\n",
    "    output[\"page_number\"] = doc.metadata[\"page\"]\n",
    "    output[\"chunks\"] = doc.page_content\n",
    "    output[\"concise_summary\"] = out\n",
    "    final_refine_data.append(output)"
   ]
  },
  {
   "cell_type": "code",
   "execution_count": 46,
   "id": "861e50e7-3c91-4c89-8f81-9c574b0b3053",
   "metadata": {
    "tags": []
   },
   "outputs": [
    {
     "data": {
      "text/html": [
       "<div>\n",
       "<style scoped>\n",
       "    .dataframe tbody tr th:only-of-type {\n",
       "        vertical-align: middle;\n",
       "    }\n",
       "\n",
       "    .dataframe tbody tr th {\n",
       "        vertical-align: top;\n",
       "    }\n",
       "\n",
       "    .dataframe thead th {\n",
       "        text-align: right;\n",
       "    }\n",
       "</style>\n",
       "<table border=\"1\" class=\"dataframe\">\n",
       "  <thead>\n",
       "    <tr style=\"text-align: right;\">\n",
       "      <th></th>\n",
       "      <th>file_name</th>\n",
       "      <th>file_type</th>\n",
       "      <th>page_number</th>\n",
       "      <th>chunks</th>\n",
       "      <th>concise_summary</th>\n",
       "    </tr>\n",
       "  </thead>\n",
       "  <tbody>\n",
       "    <tr>\n",
       "      <th>0</th>\n",
       "      <td>practitioners_guide_to_mlops_whitepaper</td>\n",
       "      <td>.pdf</td>\n",
       "      <td>0</td>\n",
       "      <td>Practitioners guide to MLOps: \\nA framework fo...</td>\n",
       "      <td>This white paper, \"Practitioner's Guide to MLO...</td>\n",
       "    </tr>\n",
       "    <tr>\n",
       "      <th>1</th>\n",
       "      <td>practitioners_guide_to_mlops_whitepaper</td>\n",
       "      <td>.pdf</td>\n",
       "      <td>1</td>\n",
       "      <td>Table of Contents\\nExecutive summary 3\\nOvervi...</td>\n",
       "      <td>BULLET POINT SUMMARY:\\n\\n* **MLOps Lifecycle:*...</td>\n",
       "    </tr>\n",
       "    <tr>\n",
       "      <th>2</th>\n",
       "      <td>practitioners_guide_to_mlops_whitepaper</td>\n",
       "      <td>.pdf</td>\n",
       "      <td>2</td>\n",
       "      <td>Executive summary\\nAcross industries, DevOps a...</td>\n",
       "      <td>* **MLOps Defined:** MLOps addresses the need ...</td>\n",
       "    </tr>\n",
       "    <tr>\n",
       "      <th>3</th>\n",
       "      <td>practitioners_guide_to_mlops_whitepaper</td>\n",
       "      <td>.pdf</td>\n",
       "      <td>3</td>\n",
       "      <td>4\\nOrganizations can use the framework to iden...</td>\n",
       "      <td>* **Framework for ML Platform Adoption:** Orga...</td>\n",
       "    </tr>\n",
       "    <tr>\n",
       "      <th>4</th>\n",
       "      <td>practitioners_guide_to_mlops_whitepaper</td>\n",
       "      <td>.pdf</td>\n",
       "      <td>4</td>\n",
       "      <td>5\\nprocesses in place is one of the differenti...</td>\n",
       "      <td>* **ML Engineering's Importance:**  High-perfo...</td>\n",
       "    </tr>\n",
       "  </tbody>\n",
       "</table>\n",
       "</div>"
      ],
      "text/plain": [
       "                                 file_name file_type  page_number  \\\n",
       "0  practitioners_guide_to_mlops_whitepaper      .pdf            0   \n",
       "1  practitioners_guide_to_mlops_whitepaper      .pdf            1   \n",
       "2  practitioners_guide_to_mlops_whitepaper      .pdf            2   \n",
       "3  practitioners_guide_to_mlops_whitepaper      .pdf            3   \n",
       "4  practitioners_guide_to_mlops_whitepaper      .pdf            4   \n",
       "\n",
       "                                              chunks  \\\n",
       "0  Practitioners guide to MLOps: \\nA framework fo...   \n",
       "1  Table of Contents\\nExecutive summary 3\\nOvervi...   \n",
       "2  Executive summary\\nAcross industries, DevOps a...   \n",
       "3  4\\nOrganizations can use the framework to iden...   \n",
       "4  5\\nprocesses in place is one of the differenti...   \n",
       "\n",
       "                                     concise_summary  \n",
       "0  This white paper, \"Practitioner's Guide to MLO...  \n",
       "1  BULLET POINT SUMMARY:\\n\\n* **MLOps Lifecycle:*...  \n",
       "2  * **MLOps Defined:** MLOps addresses the need ...  \n",
       "3  * **Framework for ML Platform Adoption:** Orga...  \n",
       "4  * **ML Engineering's Importance:**  High-perfo...  "
      ]
     },
     "execution_count": 46,
     "metadata": {},
     "output_type": "execute_result"
    }
   ],
   "source": [
    "pdf_refine_summary = pd.DataFrame.from_dict(final_refine_data)\n",
    "pdf_refine_summary = pdf_refine_summary.sort_values(\n",
    "    by=[\"file_name\", \"page_number\"]\n",
    ")  # sorting the dataframe by filename and page_number\n",
    "pdf_refine_summary.reset_index(inplace=True, drop=True)\n",
    "pdf_refine_summary.head()"
   ]
  },
  {
   "cell_type": "code",
   "execution_count": 49,
   "id": "5170b481-e645-4d2a-99dc-b49aaa871a8a",
   "metadata": {
    "tags": []
   },
   "outputs": [
    {
     "name": "stdout",
     "output_type": "stream",
     "text": [
      "This white paper, \"Practitioner's Guide to MLOps,\" published in May 2021 by Khalid Salama, Jarek Kazmierczak, and Donna Schut, presents a framework for continuous delivery and automation of machine learning (MLOps).  It aims to guide practitioners in implementing MLOps practices to streamline the ML lifecycle, enabling faster and more reliable deployment of ML models.\n",
      "\n",
      "\n",
      "BULLET POINT SUMMARY:\n",
      "\n",
      "* **MLOps Lifecycle:** The document details the entire MLOps lifecycle, from building an ML-enabled system to continuous monitoring and management.\n",
      "* **Core Capabilities:** Key MLOps capabilities are outlined, including experimentation, data processing, model training, evaluation, serving, online experimentation, monitoring, pipelines, registry, dataset & feature repositories, and metadata tracking.\n",
      "* **MLOps Processes Deep Dive:** The document provides an in-depth explanation of the following MLOps processes:\n",
      "    * ML development\n",
      "    * Training operationalization\n",
      "    * Continuous training\n",
      "    * Model deployment\n",
      "    * Prediction serving\n",
      "    * Continuous monitoring\n",
      "* **Data and Model Management:**  Focuses on managing datasets, features, and models, including metadata tracking and model governance.  Feature and dataset management are specifically addressed within data management.  Similarly, ML metadata tracking and model governance are discussed under model management. \n",
      "\n",
      "\n",
      "* **MLOps Defined:** MLOps addresses the need for standardized processes and technologies to build, deploy, and operate ML systems efficiently and reliably, similar to DevOps and DataOps.\n",
      "* **Google Cloud AI Adoption Framework Context:** This document expands on the \"scale\" and \"automate\" themes within Google Cloud's AI Adoption Framework, focusing on operationalizing ML systems.\n",
      "* **Scale and Automate:**  \"Scale\" refers to leveraging cloud-managed ML services for handling large datasets and numerous jobs. \"Automate\" emphasizes efficient, frequent, and reliable deployment and operation of data processing and ML pipelines.\n",
      "* **MLOps Framework Introduced:** The document presents an MLOps framework with core processes and technical capabilities to guide organizations in establishing mature MLOps practices.\n",
      "* **Benefits of MLOps Adoption:**  Improved team collaboration, increased system reliability and scalability, shorter development cycles, and greater business value from ML investments.\n",
      "* **Target Audience:**  Technology leaders, enterprise architects, and teams seeking practical MLOps implementation details. Assumes basic ML and CI/CD knowledge.\n",
      "* **Two-Part Structure:** Part 1 provides a general MLOps lifecycle overview. Part 2 offers a deep dive into specific MLOps processes and capabilities like continuous training, model deployment, and performance monitoring.\n",
      "\n",
      "\n",
      "* **Framework for ML Platform Adoption:** Organizations can leverage a framework to pinpoint gaps in their current ML platforms and enhance scalability and automation, aligning with Google's AI Adoption Framework. Cost-benefit analysis is crucial for deciding the extent of framework adoption.\n",
      "\n",
      "* **MLOps Bottlenecks:**  Despite the importance of AI/ML, deploying and operating them effectively remains a major challenge.  Many organizations struggle to move beyond the pilot phase and deploy models into production.\n",
      "\n",
      "* **Reasons for Deployment Failures:** Several factors contribute to these struggles:\n",
      "    * Manual, one-off work and a lack of reusable components.\n",
      "    * Difficult handoffs between data scientists and IT teams.\n",
      "    * Shortages of skilled talent.\n",
      "    * Difficulties with deployment, scaling, and version control of models.\n",
      "    * Lack of robust change management and governance processes.\n",
      "\n",
      "* **Need for Structured Approach:**  Successful MLOps requires a move away from ad-hoc development and towards integrating ML with broader IT initiatives like DataOps and DevOps.  Sound software engineering practices are essential, acknowledging the unique challenges of operationalizing ML compared to other software types.\n",
      "\n",
      "* **Benefits of Automated MLOps:**  An automated ML process not only facilitates successful model deployment but also helps manage risks as the number of ML applications scales and ensures alignment with business objectives.  Standard frameworks and processes are key for successful scaling, as highlighted by McKinsey's research.\n",
      "\n",
      "\n",
      "* **ML Engineering's Importance:**  High-performing ML teams prioritize robust processes. ML engineering addresses the complex task of developing and deploying production-ready ML systems, going beyond traditional software engineering.\n",
      "\n",
      "* **ML Engineering Complexities:** These include data preparation and maintenance, performance monitoring, ongoing experimentation, model retraining, preventing training-serving skew, and addressing fairness and security concerns.\n",
      "\n",
      "* **MLOps Defined:**  MLOps is a methodology within ML engineering that combines ML system development with operations. It aims to formalize and automate key steps in building ML systems, enabling rapid and reliable deployment.\n",
      "\n",
      "* **MLOps vs. DevOps/DataOps:**  Similar to DevOps and DataOps, MLOps supports ML development and deployment.  However,  MLOps uniquely addresses challenges like data changes, model updates, and adversarial attacks.\n",
      "\n",
      "* **MLOps Benefits:** Implementing MLOps leads to shorter development cycles, improved team collaboration, increased system reliability and performance, streamlined operations, and better ROI for ML projects.\n",
      "\n",
      "\n",
      "* **ML-enabled systems require multifaceted development:**  Combining data engineering, machine learning (ML) engineering, and application engineering.\n",
      "* **Data engineering is foundational:**  It involves ingesting, integrating, curating, and refining data, and is crucial for successful analytics and ML initiatives.  Poor data engineering can derail downstream projects.\n",
      "* **ML models integrate into applications:** Deployed models are components of larger application systems (business intelligence, line of business apps, etc.) and don't operate in isolation.\n",
      "* **Integration focuses on effective use and monitoring:**  Ensuring the deployed model is used effectively within the application and monitoring its performance is critical.\n",
      "* **Business KPI monitoring is essential:** Tracking relevant business KPIs (e.g., click-through rate, revenue uplift) helps understand the model's business impact and allows for adaptation.\n",
      "\n",
      "\n",
      "BULLET POINT SUMMARY:\n",
      "\n",
      "* **ML Development:**  Focuses on creating a robust and reproducible model training pipeline, including data preparation, transformation, model training, and evaluation.\n",
      "* **Training Operationalization:** Automates the packaging, testing, and deployment of reliable training pipelines.\n",
      "* **Continuous Training:**  Enables repeated execution of the training pipeline based on new data, code changes, or scheduled runs.\n",
      "* **Model Deployment:**  Covers the packaging, testing, and deployment of trained models to a serving environment for experimentation and production use.\n",
      "\n",
      "\n",
      "* **Prediction Serving:** Focuses on deploying and using the trained ML model for inference in a production environment.\n",
      "* **Continuous Monitoring:** Tracks the deployed model's performance (effectiveness) and resource usage (efficiency) over time.\n",
      "* **Data and Model Management:**  A central function managing ML artifacts (data, models, etc.) to ensure auditability, traceability, and compliance.  It also promotes sharing, reuse, and discovery of these assets.\n",
      "* **MLOps Workflow:**  An iterative, not strictly sequential, process involving experimentation (ML development), leveraging managed data and models, and incorporating prediction serving and continuous monitoring.  Specific phases can be repeated or skipped as needed.\n",
      "\n",
      "\n",
      "* **Formalized Training Procedure:** The core output is a defined process encompassing data preprocessing, model architecture, and training settings.\n",
      "\n",
      "* **Continuous Training (Optional):** For ML systems requiring repeated retraining, a CI/CD pipeline automates the build, test, and deployment of the training process.  Retraining is triggered by new data or performance decay.  Resulting models and artifacts are tracked. Successful models become registered models.\n",
      "\n",
      "* **Model Management:** Registered models undergo annotation, review, and approval before deployment to production. This can range from automated processes in no-code solutions to custom CI/CD pipelines.\n",
      "\n",
      "* **Prediction Serving:** Deployed models serve predictions (online, batch, or streaming) and may also provide explanations and generate logs for monitoring.\n",
      "\n",
      "* **Continuous Monitoring:**  Monitors model effectiveness (detecting decay and drift) and service performance (latency, throughput, resource utilization, errors).\n",
      "\n",
      "* **MLOps Capabilities:** Implementing these processes requires core technical capabilities, potentially from an integrated platform, combined vendor tools, custom services, or a hybrid approach.\n",
      "\n",
      "* **Phased Deployment:** MLOps capabilities are usually adopted in stages, aligning with business priorities and technical maturity.  Initial focus is often on model development, deployment, and prediction serving. Continuous training and monitoring may be later additions.\n",
      "\n",
      "\n",
      "BULLET POINT SUMMARY:\n",
      "\n",
      "* **Foundational Capabilities:** Pre-existing IT infrastructure (compute, security, scaling) across multiple clouds or on-premises, ideally with ML accelerators.  These are leveraged for ML workflows.\n",
      "* **Configuration Management and CI/CD:** Standardized tools and processes for building, testing, releasing, and operating ML systems.\n",
      "* **Core MLOps Capabilities:**\n",
      "    * Experimentation\n",
      "    * Data processing\n",
      "    * Model training\n",
      "    * Model evaluation\n",
      "    * Model serving\n",
      "    * Online experimentation\n",
      "    * Model monitoring\n",
      "    * ML pipeline\n",
      "    * Model registry\n",
      "* **Cross-Cutting Capabilities:**\n",
      "    * ML metadata and artifact repository\n",
      "    * ML dataset and feature repository \n",
      "\n",
      "\n",
      "BULLET POINT SUMMARY:\n",
      "\n",
      "* **Experimentation:** Focuses on enabling data scientists and ML researchers to explore data, prototype models, and develop training routines.  Key features include:\n",
      "    * Version-controlled notebook environments.\n",
      "    * Experiment tracking for reproducibility.\n",
      "    * Data and model visualization and analysis tools.\n",
      "    * Dataset exploration and experiment review capabilities.\n",
      "    * Integration with other data and ML services.\n",
      "\n",
      "* **Data Processing:**  Centers on preparing and transforming data for ML at scale, both for development and production.  Key features include:\n",
      "    * Support for interactive and long-running data processing jobs.\n",
      "    * Diverse data connectors and encoding/decoding tools.\n",
      "    * Efficient data transformations and feature engineering for various data types.\n",
      "    * Scalable batch and stream processing.\n",
      "\n",
      "* **Model Training:**  Enables efficient and cost-effective training of ML models using powerful algorithms. (The provided text does not detail specific functionalities within this category).\n",
      "\n",
      "\n",
      "BULLET POINT SUMMARY:\n",
      "\n",
      "* **Model Training:**\n",
      "    * Scalable to large models and datasets.\n",
      "    * Supports common ML frameworks and custom runtimes.\n",
      "    * Enables large-scale distributed training across multiple GPUs and workers.\n",
      "    * Supports on-demand ML accelerators.\n",
      "    * Facilitates efficient hyperparameter tuning and optimization.\n",
      "    * Ideally includes AutoML features (feature selection/engineering, model architecture search).\n",
      "\n",
      "* **Model Evaluation:**\n",
      "    * Scalable batch scoring on evaluation datasets.\n",
      "    * Computes predefined or custom metrics on different data slices.\n",
      "    * Tracks model performance across continuous training runs.\n",
      "    * Visualizes and compares model performance.\n",
      "    * Provides tools for what-if analysis, bias detection, and fairness assessment.\n",
      "    * Enables model interpretation using explainable AI techniques.\n",
      "\n",
      "* **Model Serving:**\n",
      "    * Supports low-latency online prediction and high-throughput batch prediction.\n",
      "    * Supports common ML serving frameworks (TensorFlow Serving, TorchServe, Triton, etc.) and custom runtimes.\n",
      "    * Enables composite prediction routines with pre/post-processing.\n",
      "    * Allows efficient use of inference accelerators with autoscaling. \n",
      "\n",
      "\n",
      "* **Cost and Latency Optimization:**  Focuses on minimizing the cost and latency of model predictions.  Supports explaining model predictions using techniques like feature attribution.  Logs requests and responses for analysis.\n",
      "\n",
      "* **Online Experimentation:** Enables comparison of new models against existing ones in a production-like setting before full release. Supports canary/shadow deployments, A/B testing, and multi-armed bandit (MAB) tests. Integrates with the model registry to inform release decisions.\n",
      "\n",
      "* **Model Monitoring:** Tracks deployed model performance and identifies issues like staleness, data skew (schema anomalies, drifts, shifts), and resource utilization. Integrates with model evaluation when ground truth is available.\n",
      "\n",
      "* **ML Pipelines:**  Facilitates the automation and orchestration of complex ML training and prediction pipelines.  (The provided text cuts off before fully describing this capability.)\n",
      "\n",
      "\n",
      "* **ML Pipelines:**\n",
      "    * Triggered on demand, schedule, or events.\n",
      "    * Allow local debugging.\n",
      "    * Integrate with metadata tracking.\n",
      "    * Offer built-in and custom components.\n",
      "    * Run on various environments (local and cloud).\n",
      "    * May include GUI tools for design.\n",
      "\n",
      "* **Model Registry:**\n",
      "    * Centralized repository for managing model lifecycle.\n",
      "    * Registers, organizes, tracks, and versions models.\n",
      "    * Stores metadata and dependencies.\n",
      "    * Supports documentation (e.g., model cards).\n",
      "    * Integrates with evaluation and deployment tools.\n",
      "    * Governs model launching (review, approval, release, rollback).\n",
      "\n",
      "* **Dataset and Feature Repository:**\n",
      "    * Centralized storage for ML data assets.\n",
      "    * Promotes shareability, discoverability, and reusability.\n",
      "    * Ensures data consistency for training and inference.\n",
      "    * Reduces time spent on data preparation and feature engineering. \n",
      "\n",
      "\n",
      "* **ML Data Management:**  Focuses on enabling shareability, discoverability, reusability, and versioning of data assets. Supports real-time and batch ingestion, various data modalities (tabular, image, text), and feature versioning.  Management can be at the entity feature level (e.g., customer features) or the full dataset level (e.g., customer churn dataset).\n",
      "\n",
      "* **ML Metadata and Artifact Tracking:**  Manages information about ML artifacts (models, data schemas, evaluation results, etc.), including their location, type, properties, and associations. Enables traceability, lineage tracking, sharing of experiment parameters, and storage/access of artifacts.  Integrates with all other MLOps capabilities.\n",
      "\n",
      "* **Deep Dive of MLOps Processes:** Provides detailed descriptions of core MLOps processes, including key tasks, flow of control, artifacts created, and relationships between upstream and downstream processes.  Covers tasks like continuous training, model deployment, and performance monitoring.\n",
      "\n",
      "\n",
      "* **MLOps platforms:** Integrated platforms support both development and operational aspects of machine learning.\n",
      "* **Infrastructure management:**  Platforms are provisioned across multiple environments (development, test, staging, production) using tools like Terraform and IaC.  Each environment has its own resources and MLOps services.\n",
      "* **ML development core:** Experimentation is the central activity.\n",
      "* **Defined use case prerequisites:**  Experimentation begins with a well-defined use case including a clear task, measurable business impact, and defined evaluation metric. \n",
      "\n",
      "\n",
      "* **Goal:** Develop an effective prototype ML model and formalize the training procedure into an operational pipeline.\n",
      "* **Experimentation Steps:**\n",
      "    * Data discovery, selection, and exploration.\n",
      "    * Data preparation and feature engineering.\n",
      "    * Model prototyping and validation.\n",
      "* **Problem Refinement:** Experimentation can lead to adjustments in the problem definition (e.g., changing from regression to classification or choosing a different evaluation metric).\n",
      "* **Data Source:** Curated data assets from a dataset and feature repository.\n",
      "* **Key Success Factors:** Experiment tracking, reproducibility, and collaboration.  Leveraging past experiments can save time.\n",
      "* **Reproducibility Requirements:** Tracking experiment configurations including:\n",
      "    * Versioned training code.\n",
      "    * Model architecture and pre-trained modules.\n",
      "    * Hyperparameters and tuning information.\n",
      "    * Data splits (training, validation, testing).\n",
      "    * Evaluation metrics and validation procedures.\n",
      "* **Model Deployment:** If retraining isn't regularly required, the finalized model is submitted to a model registry for review, approval, and deployment. \n",
      "\n",
      "\n",
      "* **ML Development Outputs:**\n",
      "    * Notebooks for experimentation and visualization.\n",
      "    * Metadata and artifacts from experiments.\n",
      "    * Data schemas.\n",
      "    * Training data query scripts.\n",
      "    * Source code and configurations for data validation and transformation.\n",
      "    * Source code and configurations for model creation, training, and evaluation.\n",
      "    * Source code and configurations for the training pipeline workflow.\n",
      "    * Source code for unit and integration tests.\n",
      "\n",
      "* **Model Retraining and Continuous Training:**  ML models often require retraining with new data or code changes.  The focus shifts from deploying a single model to deploying a continuous training pipeline.  Version control (e.g., Git) is crucial for managing code, configurations, and applying software engineering best practices like code review, analysis, and automated testing. CI/CD workflows are used for pipeline deployment.\n",
      "\n",
      "* **Experimentation and Data Engineering:** Experimentation generates new features and datasets. Reusable data assets can be integrated into a feature/dataset repository via data engineering pipelines.  Experimentation often defines requirements for these upstream data engineering pipelines.\n",
      "\n",
      "* **Training Operationalization:** This involves building, testing, and deploying a repeatable ML training pipeline. Configurations specify the target environment, data sources, and service accounts for execution.\n",
      "\n",
      "* **Core MLOps Capabilities:** The text highlights key MLOps functionalities, including dataset & feature repositories, data processing, experimentation tracking, model training, a model registry, and ML metadata & artifact repositories.\n",
      "\n",
      "\n",
      "* ML pipelines undergo testing and staging before production deployment, the number of stages varying by organization.\n",
      "* Pipeline deployment processes depend on the implementation technology (no-code vs. code-first).\n",
      "* Code-first approaches utilize standard CI/CD processes and tools, offering more flexibility and control.\n",
      "* The CI/CD workflow includes:\n",
      "    * Unit testing the source code.\n",
      "    * Building and integration-testing the training pipeline.\n",
      "    * Storing build artifacts in a repository.\n",
      "* Key artifacts produced include:\n",
      "    * Executable components of the training pipeline (e.g., container images).\n",
      "    * Runtime representation of the training pipeline. \n",
      "* Core MLOps capability highlighted: ML pipelines. \n",
      "\n",
      "\n",
      "* **Continuous Delivery (CD):** Deploys tested training pipelines to a target environment for end-to-end testing before production release.  Pipelines are typically tested on a subset of production data in a non-production environment.  A fallback mechanism exists to revert to the previous model if the new one fails.\n",
      "* **Continuous Training:** Orchestrates and automates the execution of training pipelines. Retraining frequency depends on use case, business value, and cost.  Examples are given for image classification (infrequent retraining) vs. a recommendation system (frequent retraining).\n",
      "* **Training Pipeline Triggers:**\n",
      "    * Scheduled runs.\n",
      "    * Event-driven runs (e.g., new data, model decay).\n",
      "    * Manual invocation.\n",
      "* **Typical ML Training Pipeline Workflow:**\n",
      "    * **Data Ingestion:** Data is extracted based on criteria like date/time.\n",
      "    * **Data Validation:** Ensures data quality and prevents training on skewed or corrupted data.\n",
      "    * **Data Transformation:** Data is split (train/eval/test) and transformed/engineered.\n",
      "    * **Model Training and Tuning:** Model training and hyperparameter tuning are performed using training and evaluation data splits.\n",
      "\n",
      "\n",
      "* **Model Evaluation:**  Performance is assessed against test data using various metrics on different data partitions.\n",
      "* **Model Validation:** Evaluation results are checked to ensure they meet predefined performance criteria.\n",
      "* **Model Registration:** Validated models and their metadata are stored in a model registry.\n",
      "* **Continuous Training Pipeline:** Triggered retraining process extracts new data, executes the ML workflow (data processing, training, evaluation, validation), and registers the new model.  All runs and artifacts are tracked.\n",
      "* **Automated vs. Experimental Pipelines:** Automated pipelines emphasize data and model validation as gatekeepers due to their unattended nature. Data evolution can impact the pipeline's effectiveness over time.\n",
      "* **Diagram (Figure 7):**  A diagram (not included here) illustrates the continuous training process.\n",
      "\n",
      "\n",
      "* **Data Validation:** Detects anomalies in new training data by comparing it to the expected schema and reference statistics.  These anomalies can include new or missing features, changes in feature domains, and shifts in feature distributions.\n",
      "* **Model Validation:** Detects performance degradation or lack of improvement in new model candidates.  Uses various evaluation metrics, sensitivity analysis, calibration, and fairness indicators.\n",
      "* **Tracking and Lineage Analysis:**  Pipeline runs track metadata and artifacts for debugging, reproducibility, and lineage analysis.  This allows tracing a model back to its training dataset and related artifacts, including hyperparameters, evaluations, processed data, and data summaries.\n",
      "* **Model Registry:**  Upon successful validation, the pipeline registers the model candidate in a model registry.\n",
      "* **Automated Deployment:** Pipelines can automate deployment, creating an end-to-end training and deployment process.  Additional validations like model size, serving runtime, and latency are included for frequent deployments.\n",
      "* **Outputs:**  The process generates a trained and validated model stored in the model registry, as well as training metadata and artifacts (parameters, statistics, validation results, transformed data, evaluation metrics, checkpoints, and logs) stored in a repository.\n",
      "* **Core MLOps Capabilities Used:** Dataset & feature repository, ML metadata & artifact repository, data processing, model training, model evaluation, ML pipelines, and model registry. \n",
      "\n",
      "\n",
      "BULLET POINT SUMMARY:\n",
      "\n",
      "* **Pipeline Practicalities:** Creating a full machine learning pipeline (training to deployment) isn't always feasible due to organizational structures, with some organizations separating model training and deployment responsibilities.  Training pipelines often stop at model registration.\n",
      "* **Model Deployment Process:** After training, validation, and registration, models are deployed. This involves packaging, testing, deployment to a target environment, and potentially a model governance process.\n",
      "* **Simplified Deployment with No/Low-Code:** No/low-code solutions streamline deployment, often automating the process by referencing the model registry entry and its associated metadata and artifacts.\n",
      "* **Controlled Deployment:**  In some cases, more control over the deployment process may be desired, requiring a more hands-on approach than provided by no/low-code solutions.  The provided text excerpt cuts off mid-sentence before elaborating on this point.\n",
      "\n",
      "\n",
      "BULLET POINT SUMMARY:\n",
      "\n",
      "* **Complex CI/CD for Model Deployment:**  The text describes a sophisticated CI/CD process specifically designed for deploying machine learning models.\n",
      "* **Source Code and Model Integration:** The CI/CD system pulls source code for the model serving component from a repository and retrieves the trained model from a model registry.\n",
      "* **Standard CI Steps:**  The system performs standard CI tasks like integration, building, testing, and validation of the model serving service.\n",
      "* **CI Stage Testing:**  Testing during the CI stage includes:\n",
      "    * Model interface validation (input and output formats).\n",
      "    * Infrastructure compatibility checks (packages, accelerators).\n",
      "    * Model latency assessment.\n",
      "* **CD Stage and Progressive Delivery:** The CD stage uses progressive delivery strategies like canary, blue-green, and shadow deployments.\n",
      "* **Smoke Testing Focus:** Smoke tests concentrate on model service efficiency (latency, throughput) and error rates.\n",
      "* **Online Experimentation:**  Model effectiveness is evaluated in production by running online experiments. This involves gradually introducing the new model alongside the existing one and using live traffic for testing. \n",
      "\n",
      "\n",
      "* **Online Experimentation Crucial for ML Deployment:**  Deploying ML models is more complex than other software, requiring rigorous testing before full release.\n",
      "* **Progressive Delivery:** New models run alongside existing ones, serving a subset of users initially.  Performance determines eventual full deployment.\n",
      "* **A/B Testing and Multi-Armed Bandits (MAB):**  Used to measure the impact of new models against application goals.\n",
      "* **Canary/Shadow Deployment:** Facilitate online experiments.\n",
      "* **Prediction Serving:** Deployed models accept input (serving data) and return predictions.\n",
      "* **Key MLOps Capabilities:** Model serving, model registry, online experimentation, and an ML metadata & artifact repository.\n",
      "* **Model Deployment Assets:**  Include the model serving executable (e.g., container image) and online experiment metrics.\n",
      "\n",
      "\n",
      "* **Prediction Serving Methods:**  The serving engine supports online (REST, gRPC), streaming, offline batch, and embedded inference.\n",
      "* **Feature Retrieval:**  The serving engine can look up necessary feature values from a feature repository based on identifiers provided in the request.\n",
      "* **Explainability:** The system provides feature attributions to explain predictions and increase confidence in the ML system.\n",
      "* **Monitoring:** Inference logs and serving metrics are stored and monitored continuously to track model performance and detect potential decay.\n",
      "* **Core MLOps Capabilities:** Leverages a dataset & feature repository and model serving infrastructure.\n",
      "* **Typical Assets Produced:** Request-response payloads and feature attributions.\n",
      "\n",
      "\n",
      "* **Data Drift:** Models can perform poorly if the live data deviates from the training data (data drift). Upstream system changes can also cause bad predictions.\n",
      "* **Monitoring:** A monitoring engine uses inference logs to detect anomalies (skews and outliers).\n",
      "* **Monitoring Process:**\n",
      "    * Inference logs (request/response data) are sampled and stored.\n",
      "    * The engine periodically analyzes the logs, generates a schema, and calculates statistics.\n",
      "    * The engine compares the generated schema to a reference schema to identify schema skews. \n",
      "\n",
      "\n",
      "* **Model Monitoring Process:**  The system monitors production data (serving data) and compares it to the training data to identify anomalies and performance decay.\n",
      "* **Drift Detection:**  This involves checking for schema skew (differences in data structure) and distribution skew (changes in the distribution of feature values) between training and serving data. Other techniques like novelty detection, outlier detection, and feature attribution changes are also used.\n",
      "* **Performance Evaluation:** If ground truth (actual outcomes) is available for the serving data, the system evaluates the model's predictive accuracy in real-world scenarios.\n",
      "* **Alerting:** If anomalies or performance decay are detected, alerts are sent to trigger investigation or retraining.\n",
      "* **Data and Concept Drift:** The system aims to detect these. Data drift refers to differences between training and serving data, while concept drift indicates a changing relationship between input features and the target variable.\n",
      "* **Ground Truth Storage:**  In some cases, the system stores ground truth data from the production environment. This data can be used for continuous evaluation and future model training.\n",
      "* **Key Artifacts:** Anomalies detected during drift detection and evaluation metrics from continuous evaluation are key outputs of this process.\n",
      "* **Core MLOps Capabilities Used:**  Dataset & feature repository, model monitoring, and ML metadata & artifact repository.\n",
      "\n",
      "\n",
      "* **Model Serving Efficiency Monitoring:**  Focuses on resource utilization (CPU, GPU, memory), latency, throughput, and error rates.  This aids in performance maintenance/improvement and cost management.\n",
      "\n",
      "* **Data and Model Management:**  A core MLOps function enabling auditability, traceability, compliance, shareability, reusability, and discoverability of ML artifacts.\n",
      "\n",
      "* **Dataset and Feature Management:** Addresses challenges around creating, maintaining, and reusing high-quality data.  This helps avoid wasted time recreating datasets and ensures consistency.  It also mitigates training-serving skew, where differences between training and serving data impact model performance.\n",
      "\n",
      "* **Core MLOps Capabilities:** Include a dataset & feature repository, model registry, and ML metadata & artifact repository.\n",
      "\n",
      "\n",
      "* A unified repository stores machine learning (ML) features and datasets, enabling reuse across the MLOps environment.\n",
      "* This repository supports both batch serving (for experimentation, training, and batch prediction) and online serving (for real-time prediction).\n",
      "* Features, which are refined attributes of business entities (e.g., product, customer), are managed centrally.\n",
      "* This centralized feature management allows for standardized definition, storage, and access for training and serving.\n",
      "* The repository facilitates feature discoverability and reuse, preventing redundant feature creation.\n",
      "\n",
      "\n",
      "* **Feature Repositories Centralize Features:**  Establish a single source of truth for features used across multiple machine learning tasks. This facilitates sharing, consistency, and avoids training-serving skew.\n",
      "* **Benefits of Feature Repositories:**\n",
      "    * Consistent feature definitions across teams.\n",
      "    * Enables up-to-date feature values for training and serving.\n",
      "    * Streamlines the creation and sharing of new entities and features.\n",
      "    * Improves collaboration by providing a shared feature resource.\n",
      "* **Data Ingestion and Updates:** Feature repositories can be updated via batch ETL or streaming systems, with monitoring services providing feature statistics and metrics.\n",
      "* **Feature Repositories vs. Datasets:** Feature repositories store reusable feature values for various entities, while datasets are curated for specific ML tasks, including labeled data instances.  Features from the repository are combined to create datasets.\n",
      "* **Dataset Management Benefits:**\n",
      "    * Consistent dataset creation across different environments.\n",
      "    * Standardized dataset definitions and splits within a team.\n",
      "    * Facilitates metadata management and collaboration through annotation.\n",
      "    * Enables reproducibility and lineage tracking.\n",
      "\n",
      "\n",
      "BULLET POINT SUMMARY:\n",
      "\n",
      "* **Scaling challenges:** Manually tracking numerous production models becomes difficult as organizations expand their ML efforts.\n",
      "* **Need for control:**  Robust model management is crucial for risk management, responsible AI implementation, and regulatory compliance.\n",
      "* **Model management as central to MLOps:** It encompasses both ML metadata tracking and model governance, influencing the entire ML lifecycle.\n",
      "* **Data quality and privacy:** Model management ensures data accuracy, addresses bias, and prevents privacy violations.\n",
      "* **Model evaluation and validation:** It includes assessing model effectiveness, fairness, and suitability for production deployment.\n",
      "* **Interpretability and explainability:** Model management promotes transparency by emphasizing model interpretability and explaining outcomes when necessary.\n",
      "* **Performance monitoring and reporting:**  Continuous evaluation, metric tracking, and reporting on deployed model performance are essential components.\n",
      "* **Traceability and reproducibility:** Model management enables tracing, debugging, and reproducing issues in training or prediction serving.\n",
      "* **ML metadata tracking is a key aspect:** Figure 13 likely illustrates the importance of metadata tracking within model management. \n",
      "\n",
      "\n",
      "* **ML Metadata Tracking:** Captures information about ML processes and artifacts, including execution details, environment configurations, and input parameters.  Stored artifacts include data splits, schemas, models, and evaluation metrics. Enables reproducibility, lineage tracing, searchability, and analysis of experiments.\n",
      "\n",
      "* **Benefits of ML Metadata Tracking:**  Facilitates experiment tracking for reproducibility, allows searching and discovering existing models and artifacts, supports adding annotations for improved discoverability, and provides tools for analyzing and comparing experiments to understand pipeline behavior and debug issues.\n",
      "\n",
      "* **Model Governance:**  Focuses on registering, reviewing, validating, and approving models for deployment. Processes can vary based on organizational needs and regulatory requirements, ranging from automated to manual. Includes reporting on the performance of deployed models.\n",
      "\n",
      "\n",
      "* **Model Governance Tasks:**  Model governance utilizes ML metadata and a model registry to perform several key tasks:\n",
      "    * **Store:**  Manage model versions, properties, and track changes for reproducibility.\n",
      "    * **Evaluate:** Compare new models against existing ones using metrics and business KPIs, including explainability analysis.\n",
      "    * **Check:** Review, request modifications, and approve models to mitigate various risks (business, legal, ethical, etc.).\n",
      "    * **Release:** Control model deployment strategies (e.g., canary, blue-green) and traffic allocation.\n",
      "    * **Report:**  Monitor and visualize model performance metrics gathered during continuous evaluation.\n",
      "\n",
      "* **Explainability and Accountability:**  Model governance emphasizes explainability, particularly for automated decisions, providing lineage and accountability for risk management and auditing.\n",
      "\n",
      "* **MLOps for Business Value:**  Building an effective ML system goes beyond creating a single model. It involves continuous operation, adaptation to changing business dynamics, and encompasses data management, training, evaluation, serving, monitoring, and metadata tracking.\n",
      "\n",
      "* **Streamlined Workflow:** A robust MLOps process helps organizations reduce time to market and improve the reliability, performance, scalability, and security of their ML systems.\n",
      "\n",
      "\n",
      "* The figure (Figure 15) depicts an end-to-end MLOps workflow.\n",
      "\n",
      "\n",
      "BULLET POINT SUMMARY:\n",
      "\n",
      "* The provided list points to further resources for learning and implementing MLOps on Google Cloud.\n",
      "* Resources include books, guides, courses, articles, and videos covering best practices, design patterns, and architectural examples.\n",
      "* Specific topics covered include introductory MLOps, continuous delivery and automation pipelines, using tools like TFX and Kubeflow Pipelines, and setting up MLOps environments.  A Coursera course on MLOps fundamentals is also listed.\n",
      "\n",
      "\n"
     ]
    }
   ],
   "source": [
    "for idx,c in pdf_refine_summary.iterrows():\n",
    "    print(c[\"concise_summary\"])\n",
    "    print()"
   ]
  }
 ],
 "metadata": {
  "environment": {
   "kernel": "python3",
   "name": "tf2-cpu.2-11.m123",
   "type": "gcloud",
   "uri": "us-docker.pkg.dev/deeplearning-platform-release/gcr.io/tf2-cpu.2-11:m123"
  },
  "kernelspec": {
   "display_name": "Python 3 (Local)",
   "language": "python",
   "name": "python3"
  },
  "language_info": {
   "codemirror_mode": {
    "name": "ipython",
    "version": 3
   },
   "file_extension": ".py",
   "mimetype": "text/x-python",
   "name": "python",
   "nbconvert_exporter": "python",
   "pygments_lexer": "ipython3",
   "version": "3.10.14"
  }
 },
 "nbformat": 4,
 "nbformat_minor": 5
}
