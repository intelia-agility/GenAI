{
 "cells": [
  {
   "cell_type": "code",
   "execution_count": null,
   "id": "63d6425a-9ad4-4ee6-a1f6-d5ce32834dc1",
   "metadata": {},
   "outputs": [],
   "source": [
    "!pip install streamlit\n",
    "#!pip install --upgrade protobuf"
   ]
  },
  {
   "cell_type": "code",
   "execution_count": 2,
   "id": "bed151b5-46f3-4110-8129-30d8028672c5",
   "metadata": {
    "tags": []
   },
   "outputs": [
    {
     "name": "stdout",
     "output_type": "stream",
     "text": [
      "Collecting protobuf==3.20.*\n",
      "  Downloading protobuf-3.20.3-cp310-cp310-manylinux_2_12_x86_64.manylinux2010_x86_64.whl.metadata (679 bytes)\n",
      "Downloading protobuf-3.20.3-cp310-cp310-manylinux_2_12_x86_64.manylinux2010_x86_64.whl (1.1 MB)\n",
      "\u001b[2K   \u001b[90m━━━━━━━━━━━━━━━━━━━━━━━━━━━━━━━━━━━━━━━━\u001b[0m \u001b[32m1.1/1.1 MB\u001b[0m \u001b[31m5.5 MB/s\u001b[0m eta \u001b[36m0:00:00\u001b[0m00:01\u001b[0m00:01\u001b[0m\n",
      "\u001b[?25hInstalling collected packages: protobuf\n",
      "  Attempting uninstall: protobuf\n",
      "    Found existing installation: protobuf 5.27.4\n",
      "    Uninstalling protobuf-5.27.4:\n",
      "      Successfully uninstalled protobuf-5.27.4\n",
      "\u001b[31mERROR: pip's dependency resolver does not currently take into account all the packages that are installed. This behaviour is the source of the following dependency conflicts.\n",
      "apache-beam 2.46.0 requires grpcio!=1.48.0,<2,>=1.33.1, but you have grpcio 1.48.0 which is incompatible.\n",
      "google-api-python-client 1.8.0 requires google-api-core<2dev,>=1.13.0, but you have google-api-core 2.11.1 which is incompatible.\n",
      "google-cloud-pubsub 2.21.4 requires grpcio<2.0dev,>=1.51.3, but you have grpcio 1.48.0 which is incompatible.\n",
      "tensorflow 2.11.0 requires protobuf<3.20,>=3.9.2, but you have protobuf 3.20.3 which is incompatible.\n",
      "tensorflow-serving-api 2.11.0 requires protobuf<3.20,>=3.9.2, but you have protobuf 3.20.3 which is incompatible.\u001b[0m\u001b[31m\n",
      "\u001b[0mSuccessfully installed protobuf-3.20.3\n"
     ]
    }
   ],
   "source": [
    "!pip install protobuf==3.20.*"
   ]
  },
  {
   "cell_type": "code",
   "execution_count": 1,
   "id": "53641130-3b6e-44bd-86f5-9907df875c55",
   "metadata": {
    "tags": []
   },
   "outputs": [
    {
     "name": "stderr",
     "output_type": "stream",
     "text": [
      "2024-08-28 11:48:05.438803: I tensorflow/core/platform/cpu_feature_guard.cc:193] This TensorFlow binary is optimized with oneAPI Deep Neural Network Library (oneDNN) to use the following CPU instructions in performance-critical operations:  AVX2 FMA\n",
      "To enable them in other operations, rebuild TensorFlow with the appropriate compiler flags.\n",
      "2024-08-28 11:48:06.597680: W tensorflow/compiler/xla/stream_executor/platform/default/dso_loader.cc:64] Could not load dynamic library 'libnvinfer.so.7'; dlerror: libnvinfer.so.7: cannot open shared object file: No such file or directory; LD_LIBRARY_PATH: /usr/local/cuda/lib64:/usr/local/nccl2/lib:/usr/local/cuda/extras/CUPTI/lib64\n",
      "2024-08-28 11:48:06.597833: W tensorflow/compiler/xla/stream_executor/platform/default/dso_loader.cc:64] Could not load dynamic library 'libnvinfer_plugin.so.7'; dlerror: libnvinfer_plugin.so.7: cannot open shared object file: No such file or directory; LD_LIBRARY_PATH: /usr/local/cuda/lib64:/usr/local/nccl2/lib:/usr/local/cuda/extras/CUPTI/lib64\n",
      "2024-08-28 11:48:06.597845: W tensorflow/compiler/tf2tensorrt/utils/py_utils.cc:38] TF-TRT Warning: Cannot dlopen some TensorRT libraries. If you would like to use Nvidia GPU with TensorRT, please make sure the missing libraries mentioned above are installed properly.\n"
     ]
    }
   ],
   "source": [
    "from google.cloud import bigquery\n",
    "from google.cloud.aiplatform_v1.types import NearestNeighborQuery\n",
    "from vertexai.resources.preview import (FeatureOnlineStore, FeatureView,\n",
    "                                        FeatureViewBigQuerySource)\n",
    "from vertexai.resources.preview.feature_store import utils\n",
    "\n",
    "#set project info\n",
    "PROJECT = !gcloud config get-value project\n",
    "PROJECT_ID = PROJECT[0]\n",
    "REGION = \"us-central1\" \n",
    " \n",
    "#Verify that the FeatureView instance is created by getting the feature view.\n",
    "FEATURE_ONLINE_STORE_ID = \"nine_quality_test_multimodal_featurestore\"  # @param {type: \"string\"}\n",
    "FEATURE_VIEW_ID = \"multimodal_feature_view_nine_quality_test\"  # @param {type: \"string\"}\n",
    "MM_nine_fv=FeatureView(\n",
    "    FEATURE_VIEW_ID, feature_online_store_id=FEATURE_ONLINE_STORE_ID\n",
    ") \n",
    "FEATURE_ONLINE_STORE_ID = \"nine_quality_test_content_featurestore\"  # @param {type: \"string\"}\n",
    "FEATURE_VIEW_ID = \"content_feature_view_nine_quality_test\"  # @param {type: \"string\"}\n",
    "content_nine_fv=FeatureView(\n",
    "    FEATURE_VIEW_ID, feature_online_store_id=FEATURE_ONLINE_STORE_ID\n",
    ") "
   ]
  },
  {
   "cell_type": "code",
   "execution_count": 2,
   "id": "f03fe1b9-ce77-4b5a-9caf-eeec4706852f",
   "metadata": {
    "tags": []
   },
   "outputs": [],
   "source": [
    "def get_response(feature_vector,converted_query_to_embedding,n_neighbor=10):\n",
    "    result=feature_vector.search(\n",
    "        embedding_value=converted_query_to_embedding,\n",
    "        neighbor_count=n_neighbor,\n",
    "        #string_filters=[country_filter],#for multimodal embedding this can be set to None, unless having a description column\n",
    "        return_full_entity=True,  # returning entities with metadata\n",
    "    )\n",
    "    result=result.to_dict()\n",
    "    return result\n",
    " \n",
    "def get_neighbours(neighbours,embedding_type):\n",
    "    nearest_neighbours=[]\n",
    "    for neighbour in neighbours['neighbors']:\n",
    "        nearest_neighbour={}\n",
    "        nearest_neighbour['entity_id']=neighbour['entity_id']\n",
    "        nearest_neighbour['distance']=neighbour['distance']\n",
    "\n",
    "        for feature in neighbour['entity_key_values']['key_values']['features']:\n",
    "            if 'value' in feature:\n",
    "                if type(list(feature['value'].values())[0]) is dict:\n",
    "                    nearest_neighbour[feature['name']]=[]#list(list(feature['value'].values())[0].values())[0]             \n",
    "                else:\n",
    "                    nearest_neighbour[feature['name']]=list(feature['value'].values())[0]             \n",
    "            else :\n",
    "                nearest_neighbour[feature['name']]=None\n",
    "            nearest_neighbour['embedding_type']=embedding_type\n",
    "\n",
    "        nearest_neighbours.append(nearest_neighbour)\n",
    "    return nearest_neighbours\n",
    "    "
   ]
  },
  {
   "cell_type": "code",
   "execution_count": 7,
   "id": "0dd678f3-3cae-42a0-9275-71dd6f46eafe",
   "metadata": {
    "tags": []
   },
   "outputs": [
    {
     "name": "stderr",
     "output_type": "stream",
     "text": [
      "2024-08-28 11:30:47.488 Session state does not function when running a script without `streamlit run`\n"
     ]
    }
   ],
   "source": [
    "import streamlit as st\n",
    "#from predict_request_gapic import *\n",
    "import json\n",
    "#import prediction client\n",
    "from Embeddings.EmbeddingPredictionCLS import EmbeddingPredictionClient\n",
    "neighbor_count=10\n",
    "\n",
    "st.set_page_config(\n",
    "     layout=\"wide\",\n",
    "     page_title=\"JS Lab\",\n",
    "     page_icon=\"https://api.dicebear.com/5.x/bottts-neutral/svg?seed=gptLAb\"\n",
    ")\n",
    "\n",
    "# Sidebar\n",
    "st.sidebar.header(\"About\")\n",
    "st.sidebar.markdown(\n",
    "    \"9News Search Engine POC\"\n",
    ")\n",
    "\n",
    "st.title(\"9News Search Engine: Semantic Searches for Images and Videos\")\n",
    "st.subheader(\"Implemented by Intelia\")\n",
    "\n",
    "\n",
    "#client to access multimodal-embeddings model to convert text to embeddings\n",
    "client = EmbeddingPredictionClient(project=PROJECT_ID)\n",
    "\n",
    "\n",
    "scopes = [\"https://www.googleapis.com/auth/cloud-platform\"]\n",
    "sa_file_path = \"serious-hall-371508-b584a49b4817.json\"\n",
    "##credentials = service_account.Credentials.from_service_account_file(sa_file_path, scopes=scopes)\n",
    "##client_options = { \"api_endpoint\": \"1256643097.asia-southeast1-712487506603.vdb.vertexai.goog\"}\n",
    "\n",
    "#client to access GCS bucket\n",
    "##storage_client = storage.Client(credentials=credentials)\n",
    "##bucket = storage_client.bucket(\"js-multimodal-embeddings\")\n",
    "\n",
    " \n",
    "\n",
    "allResults=[]\n",
    "\n",
    "search_term = 'I am searching for ' + st.text_input('Search: ')\n",
    "if search_term !='I am searching for ':\n",
    "    converted_query_to_mm_embedding = client.get_multimodal_embedding(text=search_term).text_embedding\n",
    "    converted_query_to_text_embedding = client.get_text_embedding(text=search_term).text_embedding\n",
    "    nearest_neighbours=[]\n",
    "    \n",
    "    result_mm=get_response(MM_nine_fv,converted_query_to_mm_embedding,neighbor_count)\n",
    "    result_content=get_response(content_nine_fv,converted_query_to_text_embedding,neighbor_count)\n",
    "   \n",
    "    mm_nearest_neighbours=get_neighbours(result_mm,'multimodal')\n",
    "    content_nearest_neighbours=get_neighbours(result_content,'content')\n",
    "    allResults=mm_nearest_neighbours+content_nearest_neighbours\n",
    "        \n",
    "if len(allResults)>=1:\n",
    " st.write(\"\")\n",
    " st.write(\"These are the most relevant results matching your search query:\")\n",
    " st.image(allResults, width=200)\n",
    "elif search_term =='I am searching for ':\n",
    " st.write(\"Please type in a search query above\")\n",
    "else:\n",
    " st.write(\"Sorry! There are no images matching your query. Please try again.\")"
   ]
  },
  {
   "cell_type": "code",
   "execution_count": 13,
   "id": "706702bf-d8a0-445b-8f37-3dbcfaef6214",
   "metadata": {
    "tags": []
   },
   "outputs": [
    {
     "name": "stdout",
     "output_type": "stream",
     "text": [
      "[0.013925430364906788, -0.030013956129550934, -0.012476854957640171, -0.02868626080453396, 0.0007188087911345065, 0.028315065428614616, 0.01622144505381584, 0.0023571078199893236, -0.009538206271827221, 0.02664007991552353, -0.004647109191864729, -0.027522103860974312, -0.02407633699476719, -0.025457285344600677, 0.019135231152176857, -0.02721548266708851, 0.02384776808321476, 0.0054380157962441444, 0.053539860993623734, -0.046579618006944656, -0.011654962785542011, 0.015526391565799713, 0.00038028223207220435, -0.019228210672736168, 0.007561243139207363, -0.02677755616605282, 0.04680021479725838, -0.0868605226278305, -0.033086325973272324, 0.051227014511823654, -0.07389315962791443, 0.014334295876324177, -0.038420822471380234, 0.018949151039123535, 0.01672111451625824, -0.06482402980327606, -0.0027009453624486923, -0.03352271392941475, 0.01752518117427826, 0.03261937201023102, 0.012928116135299206, -0.009585859254002571, -0.018772678449749947, -0.025923749431967735, 0.07588540762662888, 0.009029677137732506, 0.015855997800827026, -0.004752474371343851, 0.018745070323348045, -0.08727429062128067, 0.037560682743787766, -0.003963252063840628, 0.10012304037809372, -0.0451204851269722, -0.011377480812370777, 0.000595203076954931, 0.05436045303940773, -0.02334676682949066, -0.03593184053897858, -0.019037244841456413, -0.007122226525098085, 0.0058790529146790504, -0.0027824663557112217, 0.03336348384618759, -0.003153760451823473, -0.056899625808000565, -0.02732292003929615, 0.019939715042710304, 0.05950435996055603, -0.041473884135484695, -0.012585824355483055, -0.05731356516480446, 0.0029943794943392277, -0.03580666333436966, -0.008949389681220055, -0.10534258931875229, -0.04015651345252991, 0.022947702556848526, 0.02854887768626213, -0.00247275666333735, 0.01266371738165617, -0.039084918797016144, -0.060472626239061356, -0.07590174674987793, -0.007675556931644678, 0.015674849972128868, -0.014713821932673454, 0.027053793892264366, 0.03721585124731064, 0.05633872374892235, -0.03689222037792206, 0.01310493890196085, 0.012194717302918434, -0.09973795711994171, -0.02964393049478531, 0.0735933780670166, -0.01433874573558569, -0.03893675282597542, -0.012336276471614838, -0.03062143363058567, -0.007778708823025227, -0.01317166443914175, -0.015428045764565468, 0.0634959489107132, 0.013179466128349304, 0.019593767821788788, 0.01416459959000349, -0.005066354759037495, -0.010158990509808064, 0.02210208773612976, -0.02709263376891613, 0.02255306951701641, -0.04819554090499878, -0.03933805599808693, 0.04962708428502083, -0.011438232846558094, 0.011443999595940113, 0.07746285200119019, 0.031344715505838394, 0.04262055084109306, 0.03811712935566902, -0.007884671911597252, 0.025409061461687088, 0.017357872799038887, 0.00971386767923832, 0.030326783657073975, 0.0325462631881237, 0.08911558985710144, 0.028057346120476723, 0.019896797835826874, -0.007950562983751297, 0.010565030388534069, 0.01833944581449032, 0.0167674757540226, 0.07784824818372726, 0.024396082386374474, 0.0654212087392807, -0.020134607329964638, 0.0498032309114933, 0.008437858894467354, -0.0007701172144152224, 0.00730571523308754, -0.02194509655237198, 0.032758112996816635, -0.00929277203977108, 0.035515692085027695, -0.027732323855161667, -0.07466353476047516, 0.04255272448062897, -0.04718536138534546, 0.008321579545736313, -0.028138743713498116, -0.0281820185482502, 0.049438998103141785, 0.09328918159008026, 0.0464334711432457, -0.001417776569724083, 0.004270362202078104, 0.006388736888766289, -0.00726721016690135, 0.011934168636798859, -0.014480444602668285, 0.014114382676780224, 0.018766941502690315, -0.02269347943365574, -0.006798644084483385, 0.01423341128975153, 0.02316235937178135, 0.026913383975625038, 0.015384036116302013, 0.05316264182329178, 0.023906469345092773, -0.03301713243126869, -0.07016772776842117, -0.03243577480316162, -0.03504188358783722, -0.011833444237709045, 0.01264461874961853, -0.013647489249706268, -0.030726736411452293, -0.012331567704677582, -0.03104487992823124, 0.01655876822769642, 0.04929107800126076, 0.018676329404115677, 0.008285020478069782, 0.08532924950122833, -0.06575236469507217, -0.04817984253168106, -0.0315924696624279, -0.01812896691262722, -0.02295837365090847, -0.034977708011865616, -0.029881367459893227, 0.011060738004744053, 0.01573142781853676, -0.034938033670186996, -0.023133382201194763, 0.011353797279298306, 0.004251820966601372, -0.014002049341797829, 0.08950356394052505, -0.014918452128767967, 0.007721336092799902, 0.03712055832147598, -0.023242035880684853, 0.038370199501514435, -0.03673537075519562, 0.015866754576563835, 0.03742265701293945, -0.02640395425260067, 0.01952650584280491, -0.032739900052547455, 0.008034654892981052, 0.03615567460656166, 0.012917433865368366, 0.0359187051653862, 0.029612645506858826, -0.037362631410360336, -0.011629456654191017, -0.0048448070883750916, 0.0052412329241633415, -0.06110968813300133, -0.013109833933413029, 0.0207508597522974, 0.00036058726254850626, -0.03494563698768616, -0.015115841291844845, 0.014095442369580269, -0.04256454110145569, 0.025003157556056976, -0.011157149448990822, 0.03282637521624565, -0.009176896885037422, 0.02403644099831581, 0.007562308106571436, 0.0005616407725028694, 0.020324815064668655, -0.03660648316144943, 0.009069114923477173, -0.0319761224091053, 0.009600752964615822, 0.014021096751093864, -0.03028869442641735, -0.07023520767688751, -0.0075708734802901745, -0.02099842019379139, 0.004923023749142885, 0.011063309386372566, 0.0026659704744815826, -0.027848361060023308, -0.027650577947497368, 0.04160090908408165, 0.036562781780958176, -0.028557712212204933, 0.05257805436849594, -0.08642652630805969, -0.008248988538980484, 0.006039479281753302, 0.048961341381073, 0.02558426931500435, 0.023396089673042297, 0.041711755096912384, -0.007996584288775921, -0.06013231351971626, 0.015023178420960903, 0.005421661771833897, 0.008576439693570137, -0.00832341518253088, 0.010716833174228668, -0.00035543498233892024, -0.017782457172870636, 0.07339640706777573, 0.05468696355819702, -0.010646247304975986, -0.006720245815813541, -0.008422520011663437, 0.030779555439949036, 0.015604509972035885, 0.002734217792749405, 0.013787140138447285, 0.031717050820589066, 0.009840685874223709, -0.06096916273236275, -0.02983205020427704, -0.01948205754160881, -0.0683135911822319, -0.010175191797316074, 0.08449611067771912, -0.002726307837292552, -0.05503436177968979, -0.023503825068473816, -0.04203895479440689, -0.04523063451051712, -0.021099278703331947, 0.04688199609518051, -0.04781584441661835, 0.0091829439625144, 0.02870493195950985, 0.019381891936063766, 0.023815929889678955, -0.05860281363129616, 0.022608382627367973, -0.07532688975334167, 0.013221613131463528, 0.006223517935723066, 0.02652566507458687, -0.06042276322841644, 0.008692923001945019, -0.022884931415319443, -0.019551211968064308, -0.002809823490679264, -0.047045204788446426, 0.026722317561507225, 0.07377393543720245, 0.031150462105870247, 0.020655492320656776, 0.02386341243982315, 0.02729840576648712, 0.06857813894748688, -0.001990401651710272, 0.0699104592204094, -0.006178973708301783, 0.006978447083383799, -0.01808132417500019, 0.008845006115734577, -0.01676749810576439, 0.047626055777072906, 0.01614576391875744, 0.019690442830324173, -0.015484700910747051, -0.02476610615849495, 0.007890146225690842, 0.030101489275693893, -0.04107925295829773, 0.06562652438879013, -0.04674554616212845, 0.02741057425737381, -0.04189135506749153, 0.007887369953095913, -0.005187866277992725, -0.020389556884765625, -0.061195552349090576, -0.054974302649497986, 0.008957860991358757, -0.018817240372300148, 0.03969722241163254, 0.02101336233317852, 0.061768971383571625, 0.019029011949896812, -0.0040173702873289585, 0.049434199929237366, -0.07363332808017731, -0.022061435505747795, 0.010027211159467697, -0.037405889481306076, 0.032352909445762634, 0.025413164868950844, 0.052622389048337936, 0.017411956563591957, -0.005482899025082588, 0.045180268585681915, 0.007924120873212814, -0.04193475469946861, -0.022031515836715698, 0.00980938971042633, 0.007063478697091341, -0.0025803737808018923, -0.024923788383603096, 7.582468242617324e-05, 0.00016713589138817042, -0.014076820574700832, 0.062258072197437286, -0.007230955176055431, -0.022542454302310944, -0.04083992913365364, -0.05188728868961334, -0.03874467313289642, 0.0727592259645462, -0.0057405768893659115, -0.0009335407521575689, -0.03138984367251396, 0.03651238605380058, -0.020479096099734306, 0.03909989446401596, -0.02855807915329933, 0.025872694328427315, 0.0766989067196846, 0.050659261643886566, 0.013762086629867554, 0.03757992014288902, 0.0007725182804279029, 0.05004420131444931, 0.0396844707429409, -0.013638298027217388, -0.023496925830841064, -0.0036694572772830725, -0.038324832916259766, 0.03571223467588425, -2.764970122370869e-05, 0.006631727330386639, 0.010162846185266972, -0.02428177185356617, -0.013775964267551899, -0.027257688343524933, -0.01805081218481064, 0.019796136766672134, -0.032242488116025925, 0.0049306470900774, 0.01190915610641241, 0.046668510884046555, 0.04723161831498146, 0.03875770419836044, -0.021418370306491852, -0.08552181720733643, -0.03150226175785065, 0.09053392708301544, -0.016509588807821274, -0.03172292187809944, 0.012493747286498547, -0.019727371633052826, 0.02263340912759304, -0.03592343628406525, -0.05353326350450516, -0.021851956844329834, -0.005753862205892801, 0.02011653035879135, -0.003791063791140914, -0.016869377344846725, 0.062071703374385834, 0.015128648839890957, 0.04756172373890877, 0.013616605661809444, -0.0037702354602515697, 0.010870244354009628, -0.04690851271152496, -0.011005363427102566, 0.03613266348838806, -0.08618876338005066, -0.009963487274944782, -0.0037605424877256155, -0.02396981231868267, 0.04305506870150566, 0.014585471712052822, -0.08698520064353943, -0.0567048043012619, -0.021635999903082848, -0.05612838268280029, 0.036581121385097504, -0.07579441368579865, 0.02250753529369831, -0.06772235035896301, -0.038450393825769424, -0.05537322908639908, -0.023308608680963516, -0.0753311738371849, -0.005299833603203297, 0.05793188884854317, -0.02364634908735752, -0.0032263421453535557, -0.027893856167793274, -0.02568279393017292, -0.024029990658164024, -0.04332350194454193, 0.016644876450300217, -0.006568285636603832, 0.034044988453388214, -0.009065263904631138, 0.054052937775850296, 0.05422958731651306, -0.013212482444941998, -0.042682718485593796, 0.02353191003203392, 0.02572646737098694, -0.057442113757133484, -0.020057326182723045, -0.04569206014275551, -0.013832995668053627, 0.061816368252038956, -0.03734838590025902, -0.006818256340920925, -0.04685904458165169, 0.032035473734140396, 0.005815314128994942, 0.020095201209187508, -0.0178508460521698, 0.026303600519895554, -0.032295774668455124, -0.01089552603662014, 0.038940489292144775, -0.03423168137669563, 0.0008504997240379453, -0.025439584627747536, -0.032029639929533005, 0.04201788082718849, 0.007546848617494106, -0.05041464418172836, 0.01943168044090271, 0.0030970594380050898, 0.032559409737586975, -0.013516983017325401, 0.03244784474372864, -0.03499060869216919, 0.010406282730400562, 0.07639104872941971, -0.10720447450876236, 0.010367706418037415, 0.02036668360233307, -0.029529329389333725, -0.03153481334447861, 0.023532472550868988, -0.01069672778248787, -0.026624856516718864, 0.008618595078587532, 0.016117095947265625, 0.007969757542014122, -0.014091690070927143, -0.0017222627066075802, 0.06435001641511917, 0.004066453780978918, 0.03078250028192997, -0.009736808016896248, -0.09258568286895752, -0.03589605912566185, 0.02429303340613842, -0.05967643857002258, -0.006262017879635096, 0.031087948009371758, -0.054818447679281235, -0.01363844983279705, 0.010227569378912449, 0.04144523665308952, -0.0617598257958889, -0.0018302234821021557, -0.017987865954637527, -0.0021276380866765976, -0.0052512516267597675, 0.05863784998655319, 0.011043783277273178, 0.025376778095960617, 0.00484251044690609, -0.02493477612733841, 0.017245609313249588, 0.02071775309741497, 0.013780745677649975, -0.0011830804869532585, 0.048026639968156815, -0.056676819920539856, 0.026478329673409462, -0.011884571984410286, -0.024259310215711594, -0.01764821447432041, 0.025816887617111206, -0.016549864783883095, 0.03299415111541748, 0.01708061806857586, 0.018154410645365715, -0.007832870818674564, 0.022005153819918633, 0.03241625800728798, -0.031074289232492447, -0.07096743583679199, -0.002287638373672962, -0.05075071007013321, 0.08136530220508575, -0.0011053367052227259, -0.03643225505948067, 0.031137457117438316, 0.04317554458975792, -0.017142217606306076, 0.004064532462507486, 0.014949792996048927, 0.0801430493593216, -0.013683789409697056, -0.012617724016308784, -0.017158688977360725, -0.03655289113521576, 0.009001828730106354, 0.01817263290286064, 0.013680522330105305, 0.027641568332910538, -0.031504563987255096, 0.039758261293172836, 0.032585397362709045, -0.04287967458367348, 0.0579293891787529, -0.015688486397266388, 0.00524944718927145, 0.034515224397182465, -0.04089317470788956, -0.06882520765066147, 0.044413164258003235, -0.06963618844747543, 0.0340430773794651, -0.008343460969626904, -0.04248795658349991, -0.005170871969312429, -0.03611012548208237, -0.01967942900955677, -0.017812121659517288, 0.01653830148279667, -0.0695003941655159, 0.03612961992621422, -0.02867397665977478, 0.05391937121748924, -0.009174758568406105, -0.00423009367659688, -0.026006536558270454, 0.015944480895996094, -0.005587196908891201, 0.04922383278608322, -0.04396578669548035, -0.01648201420903206, -0.04071052372455597, -0.047066595405340195, -0.015894701704382896, 0.024091674014925957, 0.010350407101213932, -0.052094846963882446, -0.04192228987812996, 0.013866256922483444, -0.07892289757728577, -0.02664247341454029, 0.001352461869828403, 0.038969725370407104, 0.025229448452591896, 0.002538798376917839, -0.034121785312891006, 0.07666010409593582, 0.07600490003824234, 0.03231716528534889, 0.034554485231637955, -0.007118804845958948, -0.01084764115512371, -0.02806927263736725, 0.013256501406431198, 0.017221305519342422, 0.009132386185228825, 0.008933637291193008, 0.030623549595475197, -0.058520931750535965, 0.002513235667720437, 0.06444230675697327, 0.01364053413271904, 0.06191437318921089, 0.07147994637489319, 0.010341480374336243, -0.0736459419131279, 0.005081972107291222, 0.024596795439720154, -0.014122309163212776, -0.04008248820900917, 0.010399844497442245, -0.0016686628805473447, -0.02099677361547947, -0.0517292395234108, -0.024725643917918205, -0.027778781950473785, 0.04413186386227608, -0.019408421590924263, -0.03994119539856911, 0.033622853457927704, -0.029201626777648926, 0.022394629195332527, -0.03936390578746796, -0.022753151133656502, -0.0612400583922863, -0.05920550599694252, -0.012160821817815304, -0.014737645164132118, -0.06075240671634674, 0.02740681916475296, 0.025718064978718758, -0.036845963448286057, 0.039365254342556, 0.011667594313621521, -0.004152791574597359, 0.03877769410610199, -0.017548924311995506, -0.021437745541334152, -0.02737550623714924, -0.03787573426961899, -0.00672884052619338, -0.019434385001659393, 0.0005990497302263975, 0.009884257800877094, 0.09021369367837906, -0.045874886214733124, -0.07758183777332306, 0.0005318997427821159, 0.054565370082855225, -0.004934871103614569, -0.017984414473176003, 0.01126335933804512, 0.0544089712202549, 0.035459503531455994, 0.011026177555322647, -0.015176909044384956, 0.005634359084069729, 0.07153834402561188, 0.015885885804891586, -0.025598211213946342, -0.011225401423871517, 0.08003627508878708, -0.028680268675088882, 0.0040053874254226685, 0.030486637726426125, 0.05927577614784241, 0.03546705096960068, 0.06109641492366791, -0.015995511785149574, -0.01903678849339485, -0.03226231411099434, 0.013001276180148125, 0.017043881118297577, -0.0445406548678875, 0.01973878964781761, -0.014659746550023556, -0.006605486385524273, 0.07969579845666885, 0.08011730015277863, 0.0023122455459088087, 0.0017792347352951765, -0.025610020384192467, -0.02703794650733471, 0.0477263405919075, -0.01807531528174877, 0.01783842407166958, 0.037646424025297165, -0.026080571115016937, 0.07112008333206177, -0.0398646704852581, 0.020507825538516045, -0.0036158780567348003, -0.02462049573659897, 0.05354602634906769, -0.03573703020811081, -0.008994420990347862, -0.019070936366915703, -0.041135966777801514, -0.031594667583703995, 0.009820726700127125, 0.015427078120410442, 0.09347066283226013, 0.04084999859333038, -0.020994476974010468, 0.06339864432811737, 0.0007719044224359095, -0.0011318930191919208, -0.05749434232711792, -0.045724768191576004, 0.00979220774024725, 0.008503353223204613, 0.05054418370127678, 0.04040522873401642, 0.007826410233974457, 0.02083340473473072, 0.012078048661351204, 0.024179833009839058, 0.022971175611019135, -0.06528472900390625, 0.027699055150151253, 0.03468131273984909, 0.023811539635062218, 0.013358701951801777, -0.014599687419831753, -0.036954328417778015, 0.050828974694013596]\n"
     ]
    }
   ],
   "source": [
    "print(converted_query_to_text_embedding)"
   ]
  },
  {
   "cell_type": "code",
   "execution_count": 5,
   "id": "893581d9-a9ef-423a-81a2-e5bc04bc6113",
   "metadata": {
    "tags": []
   },
   "outputs": [],
   "source": [
    "import json\n",
    "#import prediction client\n",
    "from Embeddings.EmbeddingPredictionCLS import EmbeddingPredictionClient\n",
    "neighbor_count=10\n",
    "client = EmbeddingPredictionClient(project=PROJECT_ID)\n"
   ]
  },
  {
   "cell_type": "code",
   "execution_count": 6,
   "id": "6828b354-bd60-4f8b-8023-a76c97bf8a5f",
   "metadata": {},
   "outputs": [
    {
     "name": "stdout",
     "output_type": "stream",
     "text": [
      "[fields {\n",
      "  key: \"text\"\n",
      "  value {\n",
      "    string_value: \"president of USA\"\n",
      "  }\n",
      "}\n",
      "]\n",
      "Public endpoint for the optimized online store nine_quality_test_multimodal_featurestore is 5438105346142896128.us-central1-494586852359.featurestore.vertexai.goog\n",
      "Public endpoint for the optimized online store nine_quality_test_content_featurestore is 7347631588147986432.us-central1-494586852359.featurestore.vertexai.goog\n"
     ]
    }
   ],
   "source": [
    "search_term='president of USA'\n",
    "\n",
    "converted_query_to_mm_embedding = client.get_multimodal_embedding(text=search_term).text_embedding\n",
    "converted_query_to_text_embedding = client.get_text_embedding(text=search_term).text_embedding\n",
    "nearest_neighbours=[]\n",
    "    \n",
    "result_mm=get_response(MM_nine_fv,converted_query_to_mm_embedding,neighbor_count)\n",
    "result_content=get_response(content_nine_fv,converted_query_to_text_embedding,neighbor_count)\n",
    "   \n",
    "mm_nearest_neighbours=get_neighbours(result_mm,'multimodal')\n",
    "content_nearest_neighbours=get_neighbours(result_content,'content')\n",
    "allResults=mm_nearest_neighbours+content_nearest_neighbours"
   ]
  },
  {
   "cell_type": "code",
   "execution_count": 7,
   "id": "15124dc6-74ea-407a-b3d3-ccb5f642117c",
   "metadata": {
    "tags": []
   },
   "outputs": [
    {
     "data": {
      "text/plain": [
       "[{'entity_id': '60MI24_1_A_HBB.mp4|2400|2416',\n",
       "  'distance': -0.1292482316493988,\n",
       "  'end_offset_sec_embedding': '2416',\n",
       "  'embedding_type': 'multimodal',\n",
       "  'media_type': 'video',\n",
       "  'start_offset_sec_embedding': '2400',\n",
       "  'multimodal_embedding': [],\n",
       "  'path': 'gs://raw_nine_files/60MI24_1_A_HBB.mp4'},\n",
       " {'entity_id': '60MI24_1_A_HBB.mp4|2416|2432',\n",
       "  'distance': -0.12086805701255798,\n",
       "  'end_offset_sec_embedding': '2432',\n",
       "  'embedding_type': 'multimodal',\n",
       "  'media_type': 'video',\n",
       "  'start_offset_sec_embedding': '2416',\n",
       "  'multimodal_embedding': [],\n",
       "  'path': 'gs://raw_nine_files/60MI24_1_A_HBB.mp4'},\n",
       " {'entity_id': '60MI24_1_A_HBB.mp4|1936|1952',\n",
       "  'distance': -0.1192726120352745,\n",
       "  'end_offset_sec_embedding': '1952',\n",
       "  'embedding_type': 'multimodal',\n",
       "  'media_type': 'video',\n",
       "  'start_offset_sec_embedding': '1936',\n",
       "  'multimodal_embedding': [],\n",
       "  'path': 'gs://raw_nine_files/60MI24_1_A_HBB.mp4'},\n",
       " {'entity_id': '60MI24_1_A_HBB.mp4|2392|2400',\n",
       "  'distance': -0.11390428990125656,\n",
       "  'end_offset_sec_embedding': '2400',\n",
       "  'embedding_type': 'multimodal',\n",
       "  'media_type': 'video',\n",
       "  'start_offset_sec_embedding': '2392',\n",
       "  'multimodal_embedding': [],\n",
       "  'path': 'gs://raw_nine_files/60MI24_1_A_HBB.mp4'},\n",
       " {'entity_id': '60MI24_1_A_HBB.mp4|2088|2104',\n",
       "  'distance': -0.11389684677124023,\n",
       "  'end_offset_sec_embedding': '2104',\n",
       "  'embedding_type': 'multimodal',\n",
       "  'media_type': 'video',\n",
       "  'start_offset_sec_embedding': '2088',\n",
       "  'multimodal_embedding': [],\n",
       "  'path': 'gs://raw_nine_files/60MI24_1_A_HBB.mp4'},\n",
       " {'entity_id': '60MI24_1_A_HBB.mp4|2160|2176',\n",
       "  'distance': -0.11209405958652496,\n",
       "  'end_offset_sec_embedding': '2176',\n",
       "  'embedding_type': 'multimodal',\n",
       "  'media_type': 'video',\n",
       "  'start_offset_sec_embedding': '2160',\n",
       "  'multimodal_embedding': [],\n",
       "  'path': 'gs://raw_nine_files/60MI24_1_A_HBB.mp4'},\n",
       " {'entity_id': '7944pcnf.png',\n",
       "  'distance': -0.11018449068069458,\n",
       "  'end_offset_sec_embedding': None,\n",
       "  'embedding_type': 'multimodal',\n",
       "  'media_type': 'image',\n",
       "  'start_offset_sec_embedding': None,\n",
       "  'multimodal_embedding': [],\n",
       "  'path': 'SampleImage/7944pcnf.png'},\n",
       " {'entity_id': '60MI24_1_A_HBB.mp4|2104|2120',\n",
       "  'distance': -0.10899774730205536,\n",
       "  'end_offset_sec_embedding': '2120',\n",
       "  'embedding_type': 'multimodal',\n",
       "  'media_type': 'video',\n",
       "  'start_offset_sec_embedding': '2104',\n",
       "  'multimodal_embedding': [],\n",
       "  'path': 'gs://raw_nine_files/60MI24_1_A_HBB.mp4'},\n",
       " {'entity_id': 'pnll2ztl.png',\n",
       "  'distance': -0.1062314510345459,\n",
       "  'end_offset_sec_embedding': None,\n",
       "  'embedding_type': 'multimodal',\n",
       "  'media_type': 'image',\n",
       "  'start_offset_sec_embedding': None,\n",
       "  'multimodal_embedding': [],\n",
       "  'path': 'SampleImage/pnll2ztl.png'},\n",
       " {'entity_id': '60MI24_1_A_HBB.mp4|2376|2392',\n",
       "  'distance': -0.10622908174991608,\n",
       "  'end_offset_sec_embedding': '2392',\n",
       "  'embedding_type': 'multimodal',\n",
       "  'media_type': 'video',\n",
       "  'start_offset_sec_embedding': '2376',\n",
       "  'multimodal_embedding': [],\n",
       "  'path': 'gs://raw_nine_files/60MI24_1_A_HBB.mp4'},\n",
       " {'entity_id': 'pnll2ztl.png',\n",
       "  'distance': -0.6711065769195557,\n",
       "  'end_offset_sec_chapter': None,\n",
       "  'embedding_type': 'content',\n",
       "  'start_offset_sec_chapter': None,\n",
       "  'media_type': 'image',\n",
       "  'content': \" Donald Trump is giving a speech with a microphone in his right hand. He is wearing a white shirt and dark suit jacket. He has a serious expression on his face. There is a large American flag in the background. There are two men and one woman behind him. The woman is wearing a black dress and has her hand on Trump's shoulder. One man is wearing a black suit and sunglasses. The other man is wearing a white shirt and black suit jacket.\",\n",
       "  'path': 'SampleImage/pnll2ztl.png',\n",
       "  'content_embedding': []},\n",
       " {'entity_id': '60MI24_1_A_HBB.mp4|2960|2976',\n",
       "  'distance': -0.6441819667816162,\n",
       "  'end_offset_sec_chapter': '2976',\n",
       "  'embedding_type': 'content',\n",
       "  'start_offset_sec_chapter': '2960',\n",
       "  'media_type': 'video',\n",
       "  'content': 'Joe Biden, current president of the US, is also facing age concerns, as he is the oldest US president in history.',\n",
       "  'path': 'gs://raw_nine_files/60MI24_1_A_HBB.mp4',\n",
       "  'content_embedding': []},\n",
       " {'entity_id': '7944pcnf.png',\n",
       "  'distance': -0.6375225782394409,\n",
       "  'end_offset_sec_chapter': None,\n",
       "  'embedding_type': 'content',\n",
       "  'start_offset_sec_chapter': None,\n",
       "  'media_type': 'image',\n",
       "  'content': \" The image shows Joe Biden, a man with white hair and a blue suit, standing next to a young girl with blonde hair and a white dress. The girl is smiling and has her arm around Biden's waist. In the background is the White House. On the right is a photo of Hunter Biden, Joe Biden's son.\",\n",
       "  'path': 'SampleImage/7944pcnf.png',\n",
       "  'content_embedding': []},\n",
       " {'entity_id': '60MI24_1_A_HBB.mp4|2976|2992',\n",
       "  'distance': -0.6308561563491821,\n",
       "  'end_offset_sec_chapter': '2992',\n",
       "  'embedding_type': 'content',\n",
       "  'start_offset_sec_chapter': '2976',\n",
       "  'media_type': 'video',\n",
       "  'content': 'It is interesting to see that even though both Trump and Biden are very old, they are both running for president again. Biden is the oldest US president in history, while Trump will be 78 years old when the 2024 election rolls around.',\n",
       "  'path': 'gs://raw_nine_files/60MI24_1_A_HBB.mp4',\n",
       "  'content_embedding': []},\n",
       " {'entity_id': '60MI24_1_A_HBB.mp4|2792|2808',\n",
       "  'distance': -0.6274047493934631,\n",
       "  'end_offset_sec_chapter': '2808',\n",
       "  'embedding_type': 'content',\n",
       "  'start_offset_sec_chapter': '2792',\n",
       "  'media_type': 'video',\n",
       "  'content': 'The man looks directly at the camera.',\n",
       "  'path': 'gs://raw_nine_files/60MI24_1_A_HBB.mp4',\n",
       "  'content_embedding': []},\n",
       " {'entity_id': '816f62dz.png',\n",
       "  'distance': -0.6194294691085815,\n",
       "  'end_offset_sec_chapter': None,\n",
       "  'embedding_type': 'content',\n",
       "  'start_offset_sec_chapter': None,\n",
       "  'media_type': 'image',\n",
       "  'content': ' The image is a portrait of a young male with short brown hair and glasses. He is wearing a gray shirt with an American flag design on the front. He has a slight smile on his face and is looking at the camera. The background is a dark blue.',\n",
       "  'path': 'SampleImage/816f62dz.png',\n",
       "  'content_embedding': []},\n",
       " {'entity_id': '60MI24_1_A_HBB.mp4|2880|2896',\n",
       "  'distance': -0.6191455125808716,\n",
       "  'end_offset_sec_chapter': '2896',\n",
       "  'embedding_type': 'content',\n",
       "  'start_offset_sec_chapter': '2880',\n",
       "  'media_type': 'video',\n",
       "  'content': 'Donald Trump, former president of the US, is facing 91 indictments and 4 criminal trials. The charges relate to his attempts to overturn the 2020 election results.',\n",
       "  'path': 'gs://raw_nine_files/60MI24_1_A_HBB.mp4',\n",
       "  'content_embedding': []},\n",
       " {'entity_id': '60MI24_1_A_HBB.mp4|2992|3000',\n",
       "  'distance': -0.6039376258850098,\n",
       "  'end_offset_sec_chapter': '3000',\n",
       "  'embedding_type': 'content',\n",
       "  'start_offset_sec_chapter': '2992',\n",
       "  'media_type': 'video',\n",
       "  'content': 'People are already concerned about age being a factor for both Trump and Biden, as they both have shown signs of forgetfulness while in the White House.',\n",
       "  'path': 'gs://raw_nine_files/60MI24_1_A_HBB.mp4',\n",
       "  'content_embedding': []},\n",
       " {'entity_id': '60MI24_1_A_HBB.mp4|2928|2944',\n",
       "  'distance': -0.5939319133758545,\n",
       "  'end_offset_sec_chapter': '2944',\n",
       "  'embedding_type': 'content',\n",
       "  'start_offset_sec_chapter': '2928',\n",
       "  'media_type': 'video',\n",
       "  'content': \"Trump's supporters believe that he is a rockstar superhero president, a hero to democracy. They believe that the charges against him are a political witch hunt by Joe Biden and the Democrats.\",\n",
       "  'path': 'gs://raw_nine_files/60MI24_1_A_HBB.mp4',\n",
       "  'content_embedding': []},\n",
       " {'entity_id': '60MI24_1_A_HBB.mp4|2944|2960',\n",
       "  'distance': -0.5932260751724243,\n",
       "  'end_offset_sec_chapter': '2960',\n",
       "  'embedding_type': 'content',\n",
       "  'start_offset_sec_chapter': '2944',\n",
       "  'media_type': 'video',\n",
       "  'content': 'Trump is facing challenges in the Republican Party, and he is now 78 years old, which could be a factor in the 2024 election.',\n",
       "  'path': 'gs://raw_nine_files/60MI24_1_A_HBB.mp4',\n",
       "  'content_embedding': []}]"
      ]
     },
     "execution_count": 7,
     "metadata": {},
     "output_type": "execute_result"
    }
   ],
   "source": [
    "allResults"
   ]
  }
 ],
 "metadata": {
  "environment": {
   "kernel": "python3",
   "name": "tf2-cpu.2-11.m123",
   "type": "gcloud",
   "uri": "us-docker.pkg.dev/deeplearning-platform-release/gcr.io/tf2-cpu.2-11:m123"
  },
  "kernelspec": {
   "display_name": "Python 3 (Local)",
   "language": "python",
   "name": "python3"
  },
  "language_info": {
   "codemirror_mode": {
    "name": "ipython",
    "version": 3
   },
   "file_extension": ".py",
   "mimetype": "text/x-python",
   "name": "python",
   "nbconvert_exporter": "python",
   "pygments_lexer": "ipython3",
   "version": "3.10.14"
  }
 },
 "nbformat": 4,
 "nbformat_minor": 5
}
