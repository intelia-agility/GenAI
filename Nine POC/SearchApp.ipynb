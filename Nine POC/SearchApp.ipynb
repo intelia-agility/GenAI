{
 "cells": [
  {
   "cell_type": "code",
   "execution_count": null,
   "id": "63d6425a-9ad4-4ee6-a1f6-d5ce32834dc1",
   "metadata": {},
   "outputs": [],
   "source": [
    "!pip install streamlit"
   ]
  },
  {
   "cell_type": "code",
   "execution_count": 5,
   "id": "53641130-3b6e-44bd-86f5-9907df875c55",
   "metadata": {
    "tags": []
   },
   "outputs": [
    {
     "name": "stderr",
     "output_type": "stream",
     "text": [
      "2024-08-27 12:27:15.220625: I tensorflow/core/platform/cpu_feature_guard.cc:193] This TensorFlow binary is optimized with oneAPI Deep Neural Network Library (oneDNN) to use the following CPU instructions in performance-critical operations:  AVX2 FMA\n",
      "To enable them in other operations, rebuild TensorFlow with the appropriate compiler flags.\n",
      "2024-08-27 12:27:21.234298: W tensorflow/compiler/xla/stream_executor/platform/default/dso_loader.cc:64] Could not load dynamic library 'libnvinfer.so.7'; dlerror: libnvinfer.so.7: cannot open shared object file: No such file or directory; LD_LIBRARY_PATH: /usr/local/cuda/lib64:/usr/local/nccl2/lib:/usr/local/cuda/extras/CUPTI/lib64\n",
      "2024-08-27 12:27:21.236730: W tensorflow/compiler/xla/stream_executor/platform/default/dso_loader.cc:64] Could not load dynamic library 'libnvinfer_plugin.so.7'; dlerror: libnvinfer_plugin.so.7: cannot open shared object file: No such file or directory; LD_LIBRARY_PATH: /usr/local/cuda/lib64:/usr/local/nccl2/lib:/usr/local/cuda/extras/CUPTI/lib64\n",
      "2024-08-27 12:27:21.236761: W tensorflow/compiler/tf2tensorrt/utils/py_utils.cc:38] TF-TRT Warning: Cannot dlopen some TensorRT libraries. If you would like to use Nvidia GPU with TensorRT, please make sure the missing libraries mentioned above are installed properly.\n"
     ]
    }
   ],
   "source": [
    "from google.cloud import bigquery\n",
    "from google.cloud.aiplatform_v1.types import NearestNeighborQuery\n",
    "from vertexai.resources.preview import (FeatureOnlineStore, FeatureView,\n",
    "                                        FeatureViewBigQuerySource)\n",
    "from vertexai.resources.preview.feature_store import utils\n",
    "\n",
    "#set project info\n",
    "PROJECT = !gcloud config get-value project\n",
    "PROJECT_ID = PROJECT[0]\n",
    "REGION = \"us-central1\" \n",
    "\n",
    "#Verify that the FeatureView instance is created by getting the feature view.\n",
    "FEATURE_ONLINE_STORE_ID = \"nine_quality_test_multimodal_featurestore\"  # @param {type: \"string\"}\n",
    "FEATURE_VIEW_ID = \"feature_view_nine_quality_test\"  # @param {type: \"string\"}\n",
    "nine_fs=FeatureOnlineStore(FEATURE_ONLINE_STORE_ID)\n",
    "nine_fv=FeatureView(\n",
    "    FEATURE_VIEW_ID, feature_online_store_id=FEATURE_ONLINE_STORE_ID\n",
    ") \n",
    "    "
   ]
  },
  {
   "cell_type": "code",
   "execution_count": 4,
   "id": "0dd678f3-3cae-42a0-9275-71dd6f46eafe",
   "metadata": {
    "tags": []
   },
   "outputs": [
    {
     "ename": "NameError",
     "evalue": "name 'service_account' is not defined",
     "output_type": "error",
     "traceback": [
      "\u001b[0;31m---------------------------------------------------------------------------\u001b[0m",
      "\u001b[0;31mNameError\u001b[0m                                 Traceback (most recent call last)",
      "Cell \u001b[0;32mIn[4], line 29\u001b[0m\n\u001b[1;32m     27\u001b[0m scopes \u001b[38;5;241m=\u001b[39m [\u001b[38;5;124m\"\u001b[39m\u001b[38;5;124mhttps://www.googleapis.com/auth/cloud-platform\u001b[39m\u001b[38;5;124m\"\u001b[39m]\n\u001b[1;32m     28\u001b[0m sa_file_path \u001b[38;5;241m=\u001b[39m \u001b[38;5;124m\"\u001b[39m\u001b[38;5;124mserious-hall-371508-b584a49b4817.json\u001b[39m\u001b[38;5;124m\"\u001b[39m\n\u001b[0;32m---> 29\u001b[0m credentials \u001b[38;5;241m=\u001b[39m \u001b[43mservice_account\u001b[49m\u001b[38;5;241m.\u001b[39mCredentials\u001b[38;5;241m.\u001b[39mfrom_service_account_file(sa_file_path, scopes\u001b[38;5;241m=\u001b[39mscopes)\n\u001b[1;32m     30\u001b[0m client_options \u001b[38;5;241m=\u001b[39m { \u001b[38;5;124m\"\u001b[39m\u001b[38;5;124mapi_endpoint\u001b[39m\u001b[38;5;124m\"\u001b[39m: \u001b[38;5;124m\"\u001b[39m\u001b[38;5;124m1256643097.asia-southeast1-712487506603.vdb.vertexai.goog\u001b[39m\u001b[38;5;124m\"\u001b[39m}\n\u001b[1;32m     32\u001b[0m \u001b[38;5;66;03m#client to access GCS bucket\u001b[39;00m\n",
      "\u001b[0;31mNameError\u001b[0m: name 'service_account' is not defined"
     ]
    }
   ],
   "source": [
    "import streamlit as st\n",
    "#from predict_request_gapic import *\n",
    "import json\n",
    "#import prediction client\n",
    "from Embeddings.EmbeddingPredictionCLS import EmbeddingPredictionClient\n",
    "\n",
    "st.set_page_config(\n",
    "     layout=\"wide\",\n",
    "     page_title=\"JS Lab\",\n",
    "     page_icon=\"https://api.dicebear.com/5.x/bottts-neutral/svg?seed=gptLAb\"\n",
    ")\n",
    "\n",
    "# Sidebar\n",
    "st.sidebar.header(\"About\")\n",
    "st.sidebar.markdown(\n",
    "    \"9News Search Engine POC\"\n",
    ")\n",
    "\n",
    "st.title(\"9News Search Engine: Semantic Searches for Images and Videos\")\n",
    "st.subheader(\"Implemented by Intelia\")\n",
    "\n",
    "\n",
    "#client to access multimodal-embeddings model to convert text to embeddings\n",
    "client = EmbeddingPredictionClient(project=PROJECT_ID)\n",
    "\n",
    "\n",
    "scopes = [\"https://www.googleapis.com/auth/cloud-platform\"]\n",
    "sa_file_path = \"serious-hall-371508-b584a49b4817.json\"\n",
    "##credentials = service_account.Credentials.from_service_account_file(sa_file_path, scopes=scopes)\n",
    "##client_options = { \"api_endpoint\": \"1256643097.asia-southeast1-712487506603.vdb.vertexai.goog\"}\n",
    "\n",
    "#client to access GCS bucket\n",
    "##storage_client = storage.Client(credentials=credentials)\n",
    "##bucket = storage_client.bucket(\"js-multimodal-embeddings\")\n",
    "\n",
    " \n",
    "\n",
    "allResults=[]\n",
    "\n",
    "search_term = 'I am searching for ' + st.text_input('Search: ')\n",
    "if search_term !='I am searching for ':\n",
    "    converted_query_to_mm_embedding = client.get_multimodal_embedding(text=search_term).text_embedding\n",
    "    converted_query_to_text_embedding = client.get_text_embedding(text=search_term).text_embedding\n",
    "    nearest_neighbours=[]\n",
    "    \n",
    "    result=nine_fv.search(\n",
    "        embedding_value=converted_query_to_mm_embedding,\n",
    "        neighbor_count=10,\n",
    "        #string_filters=[country_filter],#for multimodal embedding this can be set to None, unless having a description column\n",
    "        return_full_entity=True,  # returning entities with metadata\n",
    "    )\n",
    "    result=result.to_dict()\n",
    "    \n",
    "    for neighbour in result['neighbors']:\n",
    "        nearest_neighbour={}\n",
    "        nearest_neighbour['entity_id']=neighbour['entity_id']\n",
    "        nearest_neighbour['distance']=neighbour['distance']\n",
    "\n",
    "        for feature in neighbour['entity_key_values']['key_values']['features']:\n",
    "            if 'value' in feature:\n",
    "                if type(list(feature['value'].values())[0]) is dict:\n",
    "                    nearest_neighbour[feature['name']]=[]#list(list(feature['value'].values())[0].values())[0]             \n",
    "                else:\n",
    "                    nearest_neighbour[feature['name']]=list(feature['value'].values())[0]             \n",
    "            else :\n",
    "                nearest_neighbour[feature['name']]=None\n",
    "            nearest_neighbour['embedding_type']='multimodal'\n",
    "\n",
    "        nearest_neighbours.append(nearest_neighbour)\n",
    "\n",
    "\n",
    "if len(nearest_neighbours)>=1:\n",
    " st.write(\"\")\n",
    " st.write(\"These are the most relevant results matching your search query:\")\n",
    " st.image(allResults, width=200)\n",
    "elif search_term =='I am searching for ':\n",
    " st.write(\"Please type in a search query above\")\n",
    "else:\n",
    " st.write(\"Sorry! There are no images matching your query. Please try again.\")"
   ]
  },
  {
   "cell_type": "code",
   "execution_count": 4,
   "id": "23753bd1-f6ee-49d4-9a88-28250ee0f223",
   "metadata": {
    "tags": []
   },
   "outputs": [
    {
     "name": "stdout",
     "output_type": "stream",
     "text": [
      "Collecting streamlit\n",
      "  Downloading streamlit-1.37.1-py2.py3-none-any.whl.metadata (8.5 kB)\n",
      "Collecting altair<6,>=4.0 (from streamlit)\n",
      "  Downloading altair-5.4.1-py3-none-any.whl.metadata (9.4 kB)\n",
      "Collecting blinker<2,>=1.0.0 (from streamlit)\n",
      "  Downloading blinker-1.8.2-py3-none-any.whl.metadata (1.6 kB)\n",
      "Requirement already satisfied: cachetools<6,>=4.0 in /opt/conda/lib/python3.10/site-packages (from streamlit) (4.2.4)\n",
      "Requirement already satisfied: click<9,>=7.0 in /opt/conda/lib/python3.10/site-packages (from streamlit) (8.1.7)\n",
      "Requirement already satisfied: numpy<3,>=1.20 in /opt/conda/lib/python3.10/site-packages (from streamlit) (1.24.4)\n",
      "Requirement already satisfied: packaging<25,>=20 in /opt/conda/lib/python3.10/site-packages (from streamlit) (24.1)\n",
      "Requirement already satisfied: pandas<3,>=1.3.0 in /opt/conda/lib/python3.10/site-packages (from streamlit) (2.0.3)\n",
      "Requirement already satisfied: pillow<11,>=7.1.0 in /opt/conda/lib/python3.10/site-packages (from streamlit) (10.4.0)\n",
      "Requirement already satisfied: protobuf<6,>=3.20 in /opt/conda/lib/python3.10/site-packages (from streamlit) (3.20.0)\n",
      "Requirement already satisfied: pyarrow>=7.0 in /opt/conda/lib/python3.10/site-packages (from streamlit) (9.0.0)\n",
      "Requirement already satisfied: requests<3,>=2.27 in /opt/conda/lib/python3.10/site-packages (from streamlit) (2.32.3)\n",
      "Requirement already satisfied: rich<14,>=10.14.0 in /opt/conda/lib/python3.10/site-packages (from streamlit) (13.7.1)\n",
      "Requirement already satisfied: tenacity<9,>=8.1.0 in /opt/conda/lib/python3.10/site-packages (from streamlit) (8.5.0)\n",
      "Requirement already satisfied: toml<2,>=0.10.1 in /opt/conda/lib/python3.10/site-packages (from streamlit) (0.10.2)\n",
      "Requirement already satisfied: typing-extensions<5,>=4.3.0 in /opt/conda/lib/python3.10/site-packages (from streamlit) (4.12.2)\n",
      "Requirement already satisfied: gitpython!=3.1.19,<4,>=3.0.7 in /opt/conda/lib/python3.10/site-packages (from streamlit) (3.1.43)\n",
      "Collecting pydeck<1,>=0.8.0b4 (from streamlit)\n",
      "  Downloading pydeck-0.9.1-py2.py3-none-any.whl.metadata (4.1 kB)\n",
      "Requirement already satisfied: tornado<7,>=6.0.3 in /opt/conda/lib/python3.10/site-packages (from streamlit) (6.4.1)\n",
      "Collecting watchdog<5,>=2.1.5 (from streamlit)\n",
      "  Downloading watchdog-4.0.2-py3-none-manylinux2014_x86_64.whl.metadata (38 kB)\n",
      "Requirement already satisfied: jinja2 in /opt/conda/lib/python3.10/site-packages (from altair<6,>=4.0->streamlit) (3.1.4)\n",
      "Requirement already satisfied: jsonschema>=3.0 in /opt/conda/lib/python3.10/site-packages (from altair<6,>=4.0->streamlit) (4.22.0)\n",
      "Collecting narwhals>=1.5.2 (from altair<6,>=4.0->streamlit)\n",
      "  Downloading narwhals-1.5.5-py3-none-any.whl.metadata (5.8 kB)\n",
      "Requirement already satisfied: gitdb<5,>=4.0.1 in /opt/conda/lib/python3.10/site-packages (from gitpython!=3.1.19,<4,>=3.0.7->streamlit) (4.0.11)\n",
      "Requirement already satisfied: python-dateutil>=2.8.2 in /opt/conda/lib/python3.10/site-packages (from pandas<3,>=1.3.0->streamlit) (2.9.0)\n",
      "Requirement already satisfied: pytz>=2020.1 in /opt/conda/lib/python3.10/site-packages (from pandas<3,>=1.3.0->streamlit) (2024.1)\n",
      "Requirement already satisfied: tzdata>=2022.1 in /opt/conda/lib/python3.10/site-packages (from pandas<3,>=1.3.0->streamlit) (2024.1)\n",
      "Requirement already satisfied: charset-normalizer<4,>=2 in /opt/conda/lib/python3.10/site-packages (from requests<3,>=2.27->streamlit) (3.3.2)\n",
      "Requirement already satisfied: idna<4,>=2.5 in /opt/conda/lib/python3.10/site-packages (from requests<3,>=2.27->streamlit) (3.7)\n",
      "Requirement already satisfied: urllib3<3,>=1.21.1 in /opt/conda/lib/python3.10/site-packages (from requests<3,>=2.27->streamlit) (1.26.19)\n",
      "Requirement already satisfied: certifi>=2017.4.17 in /opt/conda/lib/python3.10/site-packages (from requests<3,>=2.27->streamlit) (2024.7.4)\n",
      "Requirement already satisfied: markdown-it-py>=2.2.0 in /opt/conda/lib/python3.10/site-packages (from rich<14,>=10.14.0->streamlit) (3.0.0)\n",
      "Requirement already satisfied: pygments<3.0.0,>=2.13.0 in /opt/conda/lib/python3.10/site-packages (from rich<14,>=10.14.0->streamlit) (2.18.0)\n",
      "Requirement already satisfied: smmap<6,>=3.0.1 in /opt/conda/lib/python3.10/site-packages (from gitdb<5,>=4.0.1->gitpython!=3.1.19,<4,>=3.0.7->streamlit) (5.0.1)\n",
      "Requirement already satisfied: MarkupSafe>=2.0 in /opt/conda/lib/python3.10/site-packages (from jinja2->altair<6,>=4.0->streamlit) (2.0.1)\n",
      "Requirement already satisfied: attrs>=22.2.0 in /opt/conda/lib/python3.10/site-packages (from jsonschema>=3.0->altair<6,>=4.0->streamlit) (23.2.0)\n",
      "Requirement already satisfied: jsonschema-specifications>=2023.03.6 in /opt/conda/lib/python3.10/site-packages (from jsonschema>=3.0->altair<6,>=4.0->streamlit) (2023.12.1)\n",
      "Requirement already satisfied: referencing>=0.28.4 in /opt/conda/lib/python3.10/site-packages (from jsonschema>=3.0->altair<6,>=4.0->streamlit) (0.35.1)\n",
      "Requirement already satisfied: rpds-py>=0.7.1 in /opt/conda/lib/python3.10/site-packages (from jsonschema>=3.0->altair<6,>=4.0->streamlit) (0.19.0)\n",
      "Requirement already satisfied: mdurl~=0.1 in /opt/conda/lib/python3.10/site-packages (from markdown-it-py>=2.2.0->rich<14,>=10.14.0->streamlit) (0.1.2)\n",
      "Requirement already satisfied: six>=1.5 in /opt/conda/lib/python3.10/site-packages (from python-dateutil>=2.8.2->pandas<3,>=1.3.0->streamlit) (1.16.0)\n",
      "Downloading streamlit-1.37.1-py2.py3-none-any.whl (8.7 MB)\n",
      "\u001b[2K   \u001b[90m━━━━━━━━━━━━━━━━━━━━━━━━━━━━━━━━━━━━━━━━\u001b[0m \u001b[32m8.7/8.7 MB\u001b[0m \u001b[31m21.8 MB/s\u001b[0m eta \u001b[36m0:00:00\u001b[0m00:01\u001b[0m00:01\u001b[0m\n",
      "\u001b[?25hDownloading altair-5.4.1-py3-none-any.whl (658 kB)\n",
      "\u001b[2K   \u001b[90m━━━━━━━━━━━━━━━━━━━━━━━━━━━━━━━━━━━━━━━━\u001b[0m \u001b[32m658.1/658.1 kB\u001b[0m \u001b[31m32.4 MB/s\u001b[0m eta \u001b[36m0:00:00\u001b[0m\n",
      "\u001b[?25hDownloading blinker-1.8.2-py3-none-any.whl (9.5 kB)\n",
      "Downloading pydeck-0.9.1-py2.py3-none-any.whl (6.9 MB)\n",
      "\u001b[2K   \u001b[90m━━━━━━━━━━━━━━━━━━━━━━━━━━━━━━━━━━━━━━━━\u001b[0m \u001b[32m6.9/6.9 MB\u001b[0m \u001b[31m58.5 MB/s\u001b[0m eta \u001b[36m0:00:00\u001b[0m00:01\u001b[0m:00:01\u001b[0m\n",
      "\u001b[?25hDownloading watchdog-4.0.2-py3-none-manylinux2014_x86_64.whl (82 kB)\n",
      "\u001b[2K   \u001b[90m━━━━━━━━━━━━━━━━━━━━━━━━━━━━━━━━━━━━━━━━\u001b[0m \u001b[32m82.9/82.9 kB\u001b[0m \u001b[31m5.7 MB/s\u001b[0m eta \u001b[36m0:00:00\u001b[0m\n",
      "\u001b[?25hDownloading narwhals-1.5.5-py3-none-any.whl (152 kB)\n",
      "\u001b[2K   \u001b[90m━━━━━━━━━━━━━━━━━━━━━━━━━━━━━━━━━━━━━━━━\u001b[0m \u001b[32m152.4/152.4 kB\u001b[0m \u001b[31m11.1 MB/s\u001b[0m eta \u001b[36m0:00:00\u001b[0m\n",
      "\u001b[?25hInstalling collected packages: watchdog, narwhals, blinker, pydeck, altair, streamlit\n",
      "Successfully installed altair-5.4.1 blinker-1.8.2 narwhals-1.5.5 pydeck-0.9.1 streamlit-1.37.1 watchdog-4.0.2\n"
     ]
    }
   ],
   "source": [
    "!pip install streamlit"
   ]
  },
  {
   "cell_type": "code",
   "execution_count": null,
   "id": "6828b354-bd60-4f8b-8023-a76c97bf8a5f",
   "metadata": {},
   "outputs": [],
   "source": []
  }
 ],
 "metadata": {
  "environment": {
   "kernel": "python3",
   "name": "tf2-cpu.2-11.m123",
   "type": "gcloud",
   "uri": "us-docker.pkg.dev/deeplearning-platform-release/gcr.io/tf2-cpu.2-11:m123"
  },
  "kernelspec": {
   "display_name": "Python 3 (Local)",
   "language": "python",
   "name": "python3"
  },
  "language_info": {
   "codemirror_mode": {
    "name": "ipython",
    "version": 3
   },
   "file_extension": ".py",
   "mimetype": "text/x-python",
   "name": "python",
   "nbconvert_exporter": "python",
   "pygments_lexer": "ipython3",
   "version": "3.10.14"
  }
 },
 "nbformat": 4,
 "nbformat_minor": 5
}
