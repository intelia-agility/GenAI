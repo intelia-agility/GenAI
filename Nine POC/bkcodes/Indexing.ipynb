{
 "cells": [
  {
   "cell_type": "markdown",
   "id": "81909daa-e20a-42ee-a5f3-b7da0104e539",
   "metadata": {},
   "source": [
    "### Create MatchingEngineIndex"
   ]
  },
  {
   "cell_type": "code",
   "execution_count": null,
   "id": "25cdb332-2ec7-4d59-bc9e-77aa61cf9b7d",
   "metadata": {},
   "outputs": [],
   "source": [
    "DISPLAY_NAME = \"multimodal_NineEntertainment\"\n",
    "DESCRIPTION = \"Multimodal Nine Entertainment POC\"\n",
    "\n",
    "#set project info\n",
    "PROJECT = !gcloud config get-value project\n",
    "PROJECT_ID = PROJECT[0]\n",
    "REGION = \"us-central1\""
   ]
  },
  {
   "cell_type": "code",
   "execution_count": 1,
   "id": "36762220-5472-4ce4-942c-64f83f64dbc9",
   "metadata": {
    "tags": []
   },
   "outputs": [
    {
     "ename": "NameError",
     "evalue": "name 'aiplatform' is not defined",
     "output_type": "error",
     "traceback": [
      "\u001b[0;31m---------------------------------------------------------------------------\u001b[0m",
      "\u001b[0;31mNameError\u001b[0m                                 Traceback (most recent call last)",
      "Cell \u001b[0;32mIn[1], line 1\u001b[0m\n\u001b[0;32m----> 1\u001b[0m \u001b[43maiplatform\u001b[49m\u001b[38;5;241m.\u001b[39minit(project\u001b[38;5;241m=\u001b[39mPROJECT_ID, location\u001b[38;5;241m=\u001b[39mREGION, staging_bucket\u001b[38;5;241m=\u001b[39mBUCKET_URI)\n",
      "\u001b[0;31mNameError\u001b[0m: name 'aiplatform' is not defined"
     ]
    }
   ],
   "source": [
    "from google.cloud import aiplatform\n",
    "aiplatform.init(project=PROJECT_ID, location=REGION, staging_bucket=BUCKET_URI)"
   ]
  },
  {
   "cell_type": "code",
   "execution_count": null,
   "id": "195ee1cd-b03b-4737-bd53-c5cd86d6bcba",
   "metadata": {},
   "outputs": [],
   "source": [
    "#create a tree-ah index\n",
    "tree_ah_index = aiplatform.MatchingEngineIndex.create_tree_ah_index(\n",
    "    display_name=DISPLAY_NAME,\n",
    "    contents_delta_uri=EMBEDDINGS_INITIAL_URI,\n",
    "    dimensions=DIMENSIONS,\n",
    "    approximate_neighbors_count=150,\n",
    "    distance_measure_type=\"COSINE_DISTANCE\",\n",
    "    leaf_node_embedding_count=500,\n",
    "    leaf_nodes_to_search_percent=7,\n",
    "    description=DESCRIPTION,\n",
    ")\n",
    "\n",
    "INDEX_RESOURCE_NAME = tree_ah_index.resource_name\n",
    "\n",
    "print(INDEX_RESOURCE_NAME)"
   ]
  },
  {
   "cell_type": "code",
   "execution_count": null,
   "id": "ef1ecda8-c5b1-46bf-91fc-7810bb3575cc",
   "metadata": {},
   "outputs": [],
   "source": [
    "# retrieve an index using its name\n",
    "#tree_ah_index = aiplatform.MatchingEngineIndex(index_name=INDEX_RESOURCE_NAME)"
   ]
  },
  {
   "cell_type": "code",
   "execution_count": null,
   "id": "7866ba9d-f775-468c-9e5a-77c9b1696a80",
   "metadata": {},
   "outputs": [],
   "source": [
    "index_endpoint = aiplatform.MatchingEngineIndexEndpoint.create(\n",
    "    display_name=DISPLAY_NAME,\n",
    "    description=DISPLAY_NAME,\n",
    "    public_endpoint_enabled=False\n",
    ")"
   ]
  },
  {
   "cell_type": "code",
   "execution_count": null,
   "id": "dfb446a0-cef0-4288-b825-d87e781bdfd3",
   "metadata": {},
   "outputs": [],
   "source": [
    "DEPLOYED_INDEX_ID = \"NineEntertainmentPOC_DeployedIndex\"\n",
    "\n",
    "my_index_endpoint = index_endpoint.deploy_index(\n",
    "    index=tree_ah_index, deployed_index_id=DEPLOYED_INDEX_ID\n",
    ")\n",
    "\n",
    "my_index_endpoint.deployed_indexes"
   ]
  }
 ],
 "metadata": {
  "environment": {
   "kernel": "python3",
   "name": "tf2-cpu.2-11.m123",
   "type": "gcloud",
   "uri": "us-docker.pkg.dev/deeplearning-platform-release/gcr.io/tf2-cpu.2-11:m123"
  },
  "kernelspec": {
   "display_name": "Python 3 (Local)",
   "language": "python",
   "name": "python3"
  },
  "language_info": {
   "codemirror_mode": {
    "name": "ipython",
    "version": 3
   },
   "file_extension": ".py",
   "mimetype": "text/x-python",
   "name": "python",
   "nbconvert_exporter": "python",
   "pygments_lexer": "ipython3",
   "version": "3.10.14"
  }
 },
 "nbformat": 4,
 "nbformat_minor": 5
}
