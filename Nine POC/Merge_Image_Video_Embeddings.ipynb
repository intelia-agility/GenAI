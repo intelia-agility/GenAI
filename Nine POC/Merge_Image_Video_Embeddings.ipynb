{
 "cells": [
  {
   "cell_type": "markdown",
   "id": "cda36a0c-ec13-486b-ad1d-191f60e44146",
   "metadata": {},
   "source": [
    "### Merge Multimodal Embeddings from Different Media"
   ]
  },
  {
   "cell_type": "code",
   "execution_count": 7,
   "id": "1bac5210-d977-4966-81ff-005bc64ee41e",
   "metadata": {
    "tags": []
   },
   "outputs": [
    {
     "data": {
      "text/html": [
       "<div>\n",
       "<style scoped>\n",
       "    .dataframe tbody tr th:only-of-type {\n",
       "        vertical-align: middle;\n",
       "    }\n",
       "\n",
       "    .dataframe tbody tr th {\n",
       "        vertical-align: top;\n",
       "    }\n",
       "\n",
       "    .dataframe thead th {\n",
       "        text-align: right;\n",
       "    }\n",
       "</style>\n",
       "<table border=\"1\" class=\"dataframe\">\n",
       "  <thead>\n",
       "    <tr style=\"text-align: right;\">\n",
       "      <th></th>\n",
       "      <th>id</th>\n",
       "      <th>path</th>\n",
       "      <th>multimodal_embedding</th>\n",
       "      <th>start_offset_sec_embedding</th>\n",
       "      <th>end_offset_sec_embedding</th>\n",
       "      <th>media_type</th>\n",
       "    </tr>\n",
       "  </thead>\n",
       "  <tbody>\n",
       "    <tr>\n",
       "      <th>0</th>\n",
       "      <td>60MI24_1_A_HBB.mp4</td>\n",
       "      <td>gs://raw_nine_files/60MI24_1_A_HBB.mp4</td>\n",
       "      <td>[-0.016659908, 0.0433404, -0.000906404282, -0....</td>\n",
       "      <td>0.0</td>\n",
       "      <td>16.0</td>\n",
       "      <td>video</td>\n",
       "    </tr>\n",
       "    <tr>\n",
       "      <th>1</th>\n",
       "      <td>60MI24_1_A_HBB.mp4</td>\n",
       "      <td>gs://raw_nine_files/60MI24_1_A_HBB.mp4</td>\n",
       "      <td>[-0.0394997261, 0.0360285975, -0.00222768984, ...</td>\n",
       "      <td>16.0</td>\n",
       "      <td>32.0</td>\n",
       "      <td>video</td>\n",
       "    </tr>\n",
       "    <tr>\n",
       "      <th>2</th>\n",
       "      <td>60MI24_1_A_HBB.mp4</td>\n",
       "      <td>gs://raw_nine_files/60MI24_1_A_HBB.mp4</td>\n",
       "      <td>[-0.033938162, 0.044598572, -0.0061921021, -0....</td>\n",
       "      <td>32.0</td>\n",
       "      <td>48.0</td>\n",
       "      <td>video</td>\n",
       "    </tr>\n",
       "    <tr>\n",
       "      <th>3</th>\n",
       "      <td>60MI24_1_A_HBB.mp4</td>\n",
       "      <td>gs://raw_nine_files/60MI24_1_A_HBB.mp4</td>\n",
       "      <td>[-0.0169373192, 0.0542577393, -0.00920145586, ...</td>\n",
       "      <td>48.0</td>\n",
       "      <td>64.0</td>\n",
       "      <td>video</td>\n",
       "    </tr>\n",
       "    <tr>\n",
       "      <th>4</th>\n",
       "      <td>60MI24_1_A_HBB.mp4</td>\n",
       "      <td>gs://raw_nine_files/60MI24_1_A_HBB.mp4</td>\n",
       "      <td>[-0.010487088, 0.0627433956, -0.00739834085, -...</td>\n",
       "      <td>64.0</td>\n",
       "      <td>80.0</td>\n",
       "      <td>video</td>\n",
       "    </tr>\n",
       "  </tbody>\n",
       "</table>\n",
       "</div>"
      ],
      "text/plain": [
       "                   id                                    path  \\\n",
       "0  60MI24_1_A_HBB.mp4  gs://raw_nine_files/60MI24_1_A_HBB.mp4   \n",
       "1  60MI24_1_A_HBB.mp4  gs://raw_nine_files/60MI24_1_A_HBB.mp4   \n",
       "2  60MI24_1_A_HBB.mp4  gs://raw_nine_files/60MI24_1_A_HBB.mp4   \n",
       "3  60MI24_1_A_HBB.mp4  gs://raw_nine_files/60MI24_1_A_HBB.mp4   \n",
       "4  60MI24_1_A_HBB.mp4  gs://raw_nine_files/60MI24_1_A_HBB.mp4   \n",
       "\n",
       "                                multimodal_embedding  \\\n",
       "0  [-0.016659908, 0.0433404, -0.000906404282, -0....   \n",
       "1  [-0.0394997261, 0.0360285975, -0.00222768984, ...   \n",
       "2  [-0.033938162, 0.044598572, -0.0061921021, -0....   \n",
       "3  [-0.0169373192, 0.0542577393, -0.00920145586, ...   \n",
       "4  [-0.010487088, 0.0627433956, -0.00739834085, -...   \n",
       "\n",
       "   start_offset_sec_embedding  end_offset_sec_embedding media_type  \n",
       "0                         0.0                      16.0      video  \n",
       "1                        16.0                      32.0      video  \n",
       "2                        32.0                      48.0      video  \n",
       "3                        48.0                      64.0      video  \n",
       "4                        64.0                      80.0      video  "
      ]
     },
     "execution_count": 7,
     "metadata": {},
     "output_type": "execute_result"
    }
   ],
   "source": [
    "import pandas as pd\n",
    "import os\n",
    "from json import loads, dumps\n",
    "import tempfile, shutil\n",
    "\n",
    "os.chdir(os.getcwd())\n",
    "file_path_1 = 'FinalEmbeddingResults/videoembeddings_file12082024.json'\n",
    "file_path_2 ='FinalEmbeddingResults/summarycontent_image_embeddings_v1.json'\n",
    "\n",
    "df_video = pd.read_json(file_path_1, lines=True)\n",
    "df_video=df_video.rename(columns={\"video path\": \"path\", \n",
    "                                  \"video_embedding\": \"multimodal_embedding\"\n",
    "                       })\n",
    "df_video['media_type']=['video']*len(df_video)\n",
    "\n",
    "df_image = pd.read_json(file_path_2, lines=True)[['id',\t\"image path\",'image embedding']]\n",
    "df_image=df_image.rename(columns={\"image path\": \"path\",                                \n",
    "                                  \"image embedding\": \"multimodal_embedding\",\n",
    "                       })\n",
    "df_image['media_type']=['image']*len(df_image)\n",
    "df_multimodal = pd.concat([df_video,df_image],axis=0 )\n",
    "\n",
    "df_multimodal.head()"
   ]
  },
  {
   "cell_type": "code",
   "execution_count": 8,
   "id": "c349c24b-d05e-46fe-b1af-186305da5699",
   "metadata": {},
   "outputs": [
    {
     "data": {
      "text/plain": [
       "'multimodal_embeddings.json'"
      ]
     },
     "execution_count": 8,
     "metadata": {},
     "output_type": "execute_result"
    }
   ],
   "source": [
    "result = df_multimodal.to_json(orient=\"records\")\n",
    "parsed = loads(result)\n",
    "json_content=dumps(parsed, indent=4)  \n",
    "\n",
    "\n",
    "# Create temporary file to write summaries to\n",
    "multimodal_embeddings_file = tempfile.NamedTemporaryFile(suffix=\".json\", delete=False)\n",
    "with  open(multimodal_embeddings_file.name, \"a\") as sf:     \n",
    "  sf.writelines(json_content) \n",
    "\n",
    "multimodal_embeddings_file_name = multimodal_embeddings_file.name\n",
    "multimodal_embeddings_file.close()\n",
    "shutil.copy(multimodal_embeddings_file_name, 'multimodal_embeddings.json')\n"
   ]
  },
  {
   "cell_type": "markdown",
   "id": "7cf513bc-1929-4dcf-9496-5daa50292a1c",
   "metadata": {
    "tags": []
   },
   "source": [
    "### create bucket and load data into bucket"
   ]
  },
  {
   "cell_type": "code",
   "execution_count": 9,
   "id": "1433543d-65e8-42ab-90ba-82ae78795714",
   "metadata": {
    "tags": []
   },
   "outputs": [],
   "source": [
    "#set project info\n",
    "PROJECT = !gcloud config get-value project\n",
    "PROJECT_ID = PROJECT[0]\n",
    "REGION = \"us-central1\""
   ]
  },
  {
   "cell_type": "code",
   "execution_count": 40,
   "id": "6c746552-0ffa-46f4-a5a4-eb10b818010d",
   "metadata": {
    "tags": []
   },
   "outputs": [],
   "source": [
    "#create bucket if not exists\n",
    "\n",
    "from google.cloud import storage\n",
    "from google.cloud.storage import Bucket\n",
    "bucket_name=f\"artifacts-{PROJECT_ID}-embeddings\"\n",
    "BUCKET_URI = f\"gs://{bucket_name}\"  # @param {type:\"string\"}\n",
    "client = storage.Client()\n",
    "exists = Bucket(client, bucket_name).exists()\n",
    "\n",
    "if not exists:\n",
    "    print('creating bucket..')\n",
    "    #set bucket info to create a bucket\n",
    "    ! gsutil mb -l {REGION} -p {PROJECT_ID} {BUCKET_URI}"
   ]
  },
  {
   "cell_type": "code",
   "execution_count": 38,
   "id": "42c99d55-cad8-480e-967d-64a4cfa8425e",
   "metadata": {
    "tags": []
   },
   "outputs": [],
   "source": [
    "#we have to remove [] from json file to be able to load it into bigquery\n",
    "\n",
    "!cat multimodal_embeddings.json | jq -c '.[]' > multimodal_embeddings_V1.json"
   ]
  },
  {
   "cell_type": "code",
   "execution_count": 41,
   "id": "79bdf4fb-da2f-4615-a16b-54ad371bdba8",
   "metadata": {
    "tags": []
   },
   "outputs": [
    {
     "name": "stdout",
     "output_type": "stream",
     "text": [
      "Copying file://multimodal_embeddings_V1.json [Content-Type=application/json]...\n",
      "/ [1 files][  4.3 MiB/  4.3 MiB]                                                \n",
      "Operation completed over 1 objects/4.3 MiB.                                      \n"
     ]
    }
   ],
   "source": [
    "#embeddings\n",
    "UNIQUE_FOLDER_NAME='multimodal_embeddings'\n",
    "EMBEDDINGS_INITIAL_URI = f\"{BUCKET_URI}/{UNIQUE_FOLDER_NAME}/\"\n",
    "! gsutil cp multimodal_embeddings_V1.json {EMBEDDINGS_INITIAL_URI}"
   ]
  }
 ],
 "metadata": {
  "environment": {
   "kernel": "python3",
   "name": "tf2-cpu.2-11.m123",
   "type": "gcloud",
   "uri": "us-docker.pkg.dev/deeplearning-platform-release/gcr.io/tf2-cpu.2-11:m123"
  },
  "kernelspec": {
   "display_name": "Python 3 (Local)",
   "language": "python",
   "name": "python3"
  },
  "language_info": {
   "codemirror_mode": {
    "name": "ipython",
    "version": 3
   },
   "file_extension": ".py",
   "mimetype": "text/x-python",
   "name": "python",
   "nbconvert_exporter": "python",
   "pygments_lexer": "ipython3",
   "version": "3.10.14"
  }
 },
 "nbformat": 4,
 "nbformat_minor": 5
}
