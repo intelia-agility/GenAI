{
 "cells": [
  {
   "cell_type": "markdown",
   "id": "9e2d6134-e252-4faf-a9f4-d07da15224dd",
   "metadata": {},
   "source": [
    "### Indexing\n",
    "This is developed according to \n",
    "https://github.com/GoogleCloudPlatform/vertex-ai-samples/blob/main/notebooks/official/feature_store/online_feature_serving_and_vector_retrieval_bigquery_data_with_feature_store.ipynb\n",
    "\n",
    "We use FeatureStore as it is the best approach for profduction ready development and online servings."
   ]
  },
  {
   "cell_type": "code",
   "execution_count": null,
   "id": "522d76bd-6dbe-4fde-a946-7dfa7ede41a3",
   "metadata": {},
   "outputs": [],
   "source": [
    "from google.cloud import bigquery\n",
    "from google.cloud.aiplatform_v1.types import NearestNeighborQuery\n",
    "from vertexai.resources.preview import (FeatureOnlineStore, FeatureView,\n",
    "                                        FeatureViewBigQuerySource)\n",
    "from vertexai.resources.preview.feature_store import utils\n",
    "\n",
    "#set project info\n",
    "PROJECT = !gcloud config get-value project\n",
    "PROJECT_ID = PROJECT[0]\n",
    "REGION = \"us-central1\" \n",
    "\n",
    "bq_client = bigquery.Client(project=PROJECT_ID)\n"
   ]
  },
  {
   "cell_type": "markdown",
   "id": "8bf8b186-18d5-419c-992d-747665e90701",
   "metadata": {},
   "source": [
    "### 1- Create Online Feature Ftore"
   ]
  },
  {
   "cell_type": "code",
   "execution_count": null,
   "id": "e985a2c5-754c-488e-9523-aa83cb5a9f34",
   "metadata": {},
   "outputs": [],
   "source": [
    "FEATURE_ONLINE_STORE_ID = \"Nine_Quality_Test_MM_FeatureStore\"  # @param {type: \"string\"}\n",
    "ofs = FeatureOnlineStore.create_optimized_store(FEATURE_ONLINE_STORE_ID)\n",
    "\n",
    "\n",
    "# get full information of the created feature online store instance\n",
    "ofs.gca_resource"
   ]
  },
  {
   "cell_type": "code",
   "execution_count": null,
   "id": "43fbac03-c22e-4966-b88e-507e9c1b8dee",
   "metadata": {},
   "outputs": [],
   "source": [
    "# Use get to verify the store is created.\n",
    "FeatureOnlineStore(FEATURE_ONLINE_STORE_ID).gca_resource"
   ]
  },
  {
   "cell_type": "markdown",
   "id": "b3defaa0-3c67-49e5-b600-c4e8ca9e5d93",
   "metadata": {
    "tags": []
   },
   "source": [
    "### 2-Create Feature View Instance"
   ]
  },
  {
   "cell_type": "code",
   "execution_count": null,
   "id": "3a4f06e7-47ce-4f5c-ace8-8e2ea58c8898",
   "metadata": {},
   "outputs": [],
   "source": [
    "FEATURE_VIEW_ID = \"feature_view_nine_quality_test\"  # @param {type: \"string\"}\n",
    "# A schedule is created based on cron setting.\n",
    "CRON_SCHEDULE = \"TZ=America/Los_Angeles 00 13 11 8 *\"  # @param {type: \"string\"}"
   ]
  },
  {
   "cell_type": "code",
   "execution_count": 2,
   "id": "ec9fbbde-1e67-4674-8084-9402f3008950",
   "metadata": {
    "tags": []
   },
   "outputs": [],
   "source": [
    "# Index configs\n",
    "DIMENSIONS = 1408  # @param {type: \"number\"}\n",
    "EMBEDDING_COLUMN = \"multimodal_embedding\"  # @param {type: \"string\"}\n",
    "# Optional\n",
    "LEAF_NODE_EMBEDDING_COUNT = 10000  # @param {type: \"number\"}\n",
    "# Optional\n",
    "#to do: set this later\n",
    "#CROWDING_COLUMN = \"cited_by_filing_date\"  # @param {type: \"string\"}\n",
    "# Optional\n",
    "FILTER_COLUMNS = [\"id\",\"media_type\",\"path\",\"end_offset_sec_chapter\",\"start_offset_sec_chapter\"]  # @param"
   ]
  },
  {
   "cell_type": "code",
   "execution_count": null,
   "id": "75d76f88-d724-41db-a865-3ba372e49689",
   "metadata": {},
   "outputs": [],
   "source": [
    "BQ_DATASET_ID='Nine_Quality_Test'\n",
    "BQ_TABLE_ID='multimodal_embeddings'\n",
    "BQ_TABLE_ID_FQN = f\"{PROJECT_ID}.{BQ_DATASET_ID}.{BQ_TABLE_ID}\"\n",
    "DATA_SOURCE = f\"bq://{BQ_TABLE_ID_FQN}\"\n",
    "\n",
    "big_query_source = FeatureViewBigQuerySource(\n",
    "    uri=DATA_SOURCE, entity_id_columns=[\"id\"]\n",
    ")\n",
    "\n",
    "index_config = utils.IndexConfig(\n",
    "    embedding_column=EMBEDDING_COLUMN,\n",
    "    dimensions=DIMENSIONS,\n",
    "    crowding_column=None,# to do:  define CROWDING_COLUMN\n",
    "    #filter_columns=FILTER_COLUMNS, #for multimodal embeddings this can be set to None\n",
    "    algorithm_config=utils.TreeAhConfig(),\n",
    ")\n",
    "\n",
    "print(f\"index_config: {index_config}\")\n",
    "\n",
    "nine_fv = ofs.create_feature_view(\n",
    "    FEATURE_VIEW_ID,\n",
    "    source=big_query_source,\n",
    "     # Optional, can be set to None.\n",
    "    #to do: set to CRON_SCHEDULE\n",
    "    sync_config=CRON_SCHEDULE, \n",
    "    index_config=index_config,\n",
    ")"
   ]
  },
  {
   "cell_type": "code",
   "execution_count": null,
   "id": "d6355f92-5e2c-47b2-a4d4-ef0fb5981c99",
   "metadata": {},
   "outputs": [],
   "source": [
    "#Verify that the FeatureView instance is created by getting the feature view.\n",
    "FeatureView(\n",
    "    FEATURE_VIEW_ID, feature_online_store_id=FEATURE_ONLINE_STORE_ID\n",
    ").gca_resource\n",
    "     "
   ]
  },
  {
   "cell_type": "code",
   "execution_count": null,
   "id": "c2c06d03-9c0e-4039-9688-097dfad4d275",
   "metadata": {},
   "outputs": [],
   "source": [
    "#for mutimodal embeddings we can ignore this, unless having a description column that want to search through it\n",
    "# country_filter = NearestNeighborQuery.StringFilter(\n",
    "#     name=\"country\",\n",
    "#     allow_tokens=[\"WIPO (PCT)\"],  # try different allow tokens\n",
    "#     deny_tokens=[\"United States\"],  # try different deny tokens\n",
    "# )"
   ]
  },
  {
   "cell_type": "code",
   "execution_count": null,
   "id": "9b40ee2f-f396-4abc-a120-57299d5744a4",
   "metadata": {},
   "outputs": [],
   "source": [
    "EMBEDDINGS = [1] * DIMENSIONS\n",
    "\n",
    "nine_fv.search(\n",
    "    embedding_value=EMBEDDINGS,\n",
    "    neighbor_count=10,\n",
    "    #string_filters=[country_filter],#for multimodal embedding this can be set to None, unless having a description column\n",
    "    return_full_entity=True,  # returning entities with metadata\n",
    ")"
   ]
  }
 ],
 "metadata": {
  "environment": {
   "kernel": "python3",
   "name": "tf2-cpu.2-11.m123",
   "type": "gcloud",
   "uri": "us-docker.pkg.dev/deeplearning-platform-release/gcr.io/tf2-cpu.2-11:m123"
  },
  "kernelspec": {
   "display_name": "Python 3 (Local)",
   "language": "python",
   "name": "python3"
  },
  "language_info": {
   "codemirror_mode": {
    "name": "ipython",
    "version": 3
   },
   "file_extension": ".py",
   "mimetype": "text/x-python",
   "name": "python",
   "nbconvert_exporter": "python",
   "pygments_lexer": "ipython3",
   "version": "3.10.14"
  }
 },
 "nbformat": 4,
 "nbformat_minor": 5
}
