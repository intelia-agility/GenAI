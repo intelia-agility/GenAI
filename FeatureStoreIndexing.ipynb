{
 "cells": [
  {
   "cell_type": "markdown",
   "id": "9e2d6134-e252-4faf-a9f4-d07da15224dd",
   "metadata": {},
   "source": [
    "### Indexing\n",
    "This is developed according to \n",
    "https://github.com/GoogleCloudPlatform/vertex-ai-samples/blob/main/notebooks/official/feature_store/online_feature_serving_and_vector_retrieval_bigquery_data_with_feature_store.ipynb\n",
    "\n",
    "We use FeatureStore as it is the best approach for profduction ready development and online servings."
   ]
  },
  {
   "cell_type": "code",
   "execution_count": 1,
   "id": "9041923d-7c24-469c-bd8d-3515bb31a9ab",
   "metadata": {
    "tags": []
   },
   "outputs": [
    {
     "name": "stdout",
     "output_type": "stream",
     "text": [
      "\u001b[31mERROR: pip's dependency resolver does not currently take into account all the packages that are installed. This behaviour is the source of the following dependency conflicts.\n",
      "dataproc-jupyter-plugin 0.1.79 requires pydantic~=1.10.0, but you have pydantic 2.9.2 which is incompatible.\u001b[0m\u001b[31m\n",
      "\u001b[0m"
     ]
    }
   ],
   "source": [
    "# Install the packages\n",
    "!pip3 install --upgrade --quiet google-cloud-aiplatform\\\n",
    "                                 google-cloud-bigquery\\\n",
    "                                 db-dtypes"
   ]
  },
  {
   "cell_type": "code",
   "execution_count": 3,
   "id": "2da8655a-c3cb-479a-8fd6-35dc2cd77e99",
   "metadata": {
    "tags": []
   },
   "outputs": [
    {
     "name": "stdout",
     "output_type": "stream",
     "text": [
      "Requirement already satisfied: protobuf==3.20 in /opt/conda/lib/python3.10/site-packages (3.20.0)\n"
     ]
    }
   ],
   "source": [
    "!pip install protobuf==3.20"
   ]
  },
  {
   "cell_type": "code",
   "execution_count": 4,
   "id": "b6feb446-7bba-47e1-9872-0ffdd6db8602",
   "metadata": {
    "tags": []
   },
   "outputs": [
    {
     "data": {
      "text/plain": [
       "{'status': 'ok', 'restart': True}"
      ]
     },
     "execution_count": 4,
     "metadata": {},
     "output_type": "execute_result"
    }
   ],
   "source": [
    "#restart kernel\n",
    "import IPython\n",
    "\n",
    "app = IPython.Application.instance()\n",
    "app.kernel.do_shutdown(True)"
   ]
  },
  {
   "cell_type": "code",
   "execution_count": 23,
   "id": "eb10c319-dfa7-4f2d-a631-8561e388f6d9",
   "metadata": {
    "tags": []
   },
   "outputs": [],
   "source": [
    "from google.cloud import bigquery\n",
    "from google.cloud.aiplatform_v1.types import NearestNeighborQuery"
   ]
  },
  {
   "cell_type": "code",
   "execution_count": 24,
   "id": "522d76bd-6dbe-4fde-a946-7dfa7ede41a3",
   "metadata": {},
   "outputs": [],
   "source": [
    "from google.cloud import bigquery\n",
    "from google.cloud.aiplatform_v1.types import NearestNeighborQuery\n",
    "from vertexai.resources.preview import (FeatureOnlineStore, FeatureView,\n",
    "                                        FeatureViewBigQuerySource)\n",
    "from vertexai.resources.preview.feature_store import utils\n",
    "\n",
    "#set project info\n",
    "PROJECT = !gcloud config get-value project\n",
    "PROJECT_ID = PROJECT[0]\n",
    "REGION = \"us-central1\" \n",
    "\n",
    "bq_client = bigquery.Client(project=PROJECT_ID)\n"
   ]
  },
  {
   "cell_type": "markdown",
   "id": "8bf8b186-18d5-419c-992d-747665e90701",
   "metadata": {},
   "source": [
    "### 1- Create Online Feature Ftore"
   ]
  },
  {
   "cell_type": "code",
   "execution_count": 25,
   "id": "e985a2c5-754c-488e-9523-aa83cb5a9f34",
   "metadata": {},
   "outputs": [
    {
     "name": "stdout",
     "output_type": "stream",
     "text": [
      "Creating FeatureOnlineStore\n",
      "Create FeatureOnlineStore backing LRO: projects/494586852359/locations/us-central1/featureOnlineStores/vlt_searchcontent_text_embedding_featurestore/operations/5778100351773179904\n",
      "FeatureOnlineStore created. Resource name: projects/494586852359/locations/us-central1/featureOnlineStores/vlt_searchcontent_text_embedding_featurestore\n",
      "To use this FeatureOnlineStore in another session:\n",
      "feature_online_store = aiplatform.FeatureOnlineStore('projects/494586852359/locations/us-central1/featureOnlineStores/vlt_searchcontent_text_embedding_featurestore')\n"
     ]
    },
    {
     "data": {
      "text/plain": [
       "name: \"projects/494586852359/locations/us-central1/featureOnlineStores/vlt_searchcontent_text_embedding_featurestore\"\n",
       "create_time {\n",
       "  seconds: 1731477127\n",
       "  nanos: 651438000\n",
       "}\n",
       "update_time {\n",
       "  seconds: 1731477127\n",
       "  nanos: 721236000\n",
       "}\n",
       "etag: \"AMEw9yMJPbHW_vw35_FwY3vuzjM7gWhjHWdsHNE_a1e6tLEEGPRSjCpVTSLh0SD5wgGe\"\n",
       "state: STABLE\n",
       "dedicated_serving_endpoint {\n",
       "}\n",
       "optimized {\n",
       "}"
      ]
     },
     "execution_count": 25,
     "metadata": {},
     "output_type": "execute_result"
    }
   ],
   "source": [
    "FEATURE_ONLINE_STORE_ID = \"vlt_searchcontent_text_embedding_featurestore\"  # @param {type: \"string\"}\n",
    "ofs = FeatureOnlineStore.create_optimized_store(FEATURE_ONLINE_STORE_ID)\n",
    "\n",
    "\n",
    "# get full information of the created feature online store instance\n",
    "ofs.gca_resource"
   ]
  },
  {
   "cell_type": "code",
   "execution_count": 4,
   "id": "43fbac03-c22e-4966-b88e-507e9c1b8dee",
   "metadata": {},
   "outputs": [
    {
     "data": {
      "text/plain": [
       "name: \"projects/494586852359/locations/us-central1/featureOnlineStores/nine_quality_test_text_embedding_featurestore\"\n",
       "create_time {\n",
       "  seconds: 1731381584\n",
       "  nanos: 966153000\n",
       "}\n",
       "update_time {\n",
       "  seconds: 1731381585\n",
       "  nanos: 622762000\n",
       "}\n",
       "etag: \"AMEw9yOdO-49cFTFrMdxY1eek5xc8Kjc5UpeP1E1Pxh6K3K9lQKYkR05NwAtZBCFzDgw\"\n",
       "state: STABLE\n",
       "dedicated_serving_endpoint {\n",
       "}\n",
       "optimized {\n",
       "}"
      ]
     },
     "execution_count": 4,
     "metadata": {},
     "output_type": "execute_result"
    }
   ],
   "source": [
    "# Use get to verify the store is created.\n",
    "FeatureOnlineStore(FEATURE_ONLINE_STORE_ID).gca_resource"
   ]
  },
  {
   "cell_type": "markdown",
   "id": "b3defaa0-3c67-49e5-b600-c4e8ca9e5d93",
   "metadata": {
    "tags": []
   },
   "source": [
    "### 2-Create Feature View Instance"
   ]
  },
  {
   "cell_type": "code",
   "execution_count": 35,
   "id": "3a4f06e7-47ce-4f5c-ace8-8e2ea58c8898",
   "metadata": {},
   "outputs": [],
   "source": [
    "FEATURE_VIEW_ID = \"vlt_textembedding_feature_view1\"  # @param {type: \"string\"}\n",
    "# A schedule is created based on cron setting.\n",
    "CRON_SCHEDULE = \"TZ=America/Los_Angeles 00 13 11 8 *\"  # @param {type: \"string\"}"
   ]
  },
  {
   "cell_type": "code",
   "execution_count": 27,
   "id": "ec9fbbde-1e67-4674-8084-9402f3008950",
   "metadata": {
    "tags": []
   },
   "outputs": [],
   "source": [
    "# Index configs\n",
    "DIMENSIONS = 768  # @param {type: \"number\"}\n",
    "EMBEDDING_COLUMN = \"text_embedding_result\"  # @param {type: \"string\"}\n",
    "# Optional\n",
    "LEAF_NODE_EMBEDDING_COUNT = 1000  # @param {type: \"number\"}\n",
    "# Optional\n",
    "#to do: set this later\n",
    "#CROWDING_COLUMN = \"cited_by_filing_date\"  # @param {type: \"string\"}\n",
    "# Optional\n",
    "#for multimodal embeddings this can be set to None\n",
    "FILTER_COLUMNS = [\"combined_id\",\"unique_id\",\"headline\",\"description\",\"html_safe_text\",\"startOffset_seconds\",\"endOffset_seconds\",\"fileUri\",\"asset_type\"]  # @param\n"
   ]
  },
  {
   "cell_type": "code",
   "execution_count": 32,
   "id": "e7cced8d-b811-4fac-b119-de465ba16b7f",
   "metadata": {
    "tags": []
   },
   "outputs": [],
   "source": [
    "BQ_DATASET_ID='vlt_media_embeddings_integration'\n",
    "BQ_TABLE_ID='vlt_all_media_content_text_embeddings'\n",
    "BQ_TABLE_ID_FQN = f\"{PROJECT_ID}.{BQ_DATASET_ID}.{BQ_TABLE_ID}\"\n",
    "DATA_SOURCE = f\"bq://{BQ_TABLE_ID_FQN}\"\n",
    "\n",
    "big_query_source = FeatureViewBigQuerySource(\n",
    "    uri=DATA_SOURCE, entity_id_columns=[\"asset_id\"]\n",
    ")\n",
    " "
   ]
  },
  {
   "cell_type": "code",
   "execution_count": 46,
   "id": "75d76f88-d724-41db-a865-3ba372e49689",
   "metadata": {},
   "outputs": [
    {
     "name": "stdout",
     "output_type": "stream",
     "text": [
      "index_config: IndexConfig(embedding_column='text_embedding_result', dimensions=768, algorithm_config=TreeAhConfig(leaf_node_embedding_count=1000), filter_columns=None, crowding_column=None, distance_measure_type=<DistanceMeasureType.COSINE_DISTANCE: 2>)\n",
      "Creating FeatureView\n",
      "Create FeatureView backing LRO: projects/494586852359/locations/us-central1/featureOnlineStores/vlt_searchcontent_text_embedding_featurestore/featureViews/vlt_textembedding_feature_view1/operations/5607016342491234304\n",
      "FeatureView created. Resource name: projects/494586852359/locations/us-central1/featureOnlineStores/vlt_searchcontent_text_embedding_featurestore/featureViews/vlt_textembedding_feature_view1\n",
      "To use this FeatureView in another session:\n",
      "feature_view = aiplatform.FeatureView('projects/494586852359/locations/us-central1/featureOnlineStores/vlt_searchcontent_text_embedding_featurestore/featureViews/vlt_textembedding_feature_view1')\n"
     ]
    }
   ],
   "source": [
    "BQ_DATASET_ID='vlt_media_embeddings_integration'\n",
    "BQ_TABLE_ID='vlt_all_media_content_text_embeddings_vw'\n",
    "BQ_TABLE_ID_FQN = f\"{PROJECT_ID}.{BQ_DATASET_ID}.{BQ_TABLE_ID}\"\n",
    "DATA_SOURCE = f\"bq://{BQ_TABLE_ID_FQN}\"\n",
    "\n",
    "big_query_source = FeatureViewBigQuerySource(\n",
    "    uri=DATA_SOURCE, entity_id_columns=[\"asset_id\"]\n",
    ")\n",
    "\n",
    "\n",
    "config = utils.TreeAhConfig(\n",
    "    leaf_node_embedding_count =LEAF_NODE_EMBEDDING_COUNT\n",
    ")\n",
    "\n",
    "\n",
    "index_config = utils.IndexConfig(\n",
    "    embedding_column=EMBEDDING_COLUMN,\n",
    "    dimensions=DIMENSIONS,\n",
    "    crowding_column=None,# to do:  define CROWDING_COLUMN\n",
    "    #filter_columns=FILTER_COLUMNS, #for multimodal embeddings this can be set to None\n",
    "    algorithm_config=config,\n",
    "    distance_measure_type=vertexai.resources.preview.feature_store.utils.DistanceMeasureType.COSINE_DISTANCE\n",
    ")\n",
    "\n",
    "print(f\"index_config: {index_config}\")\n",
    "\n",
    "nine_fv = ofs.create_feature_view(\n",
    "    FEATURE_VIEW_ID,\n",
    "    source=big_query_source,\n",
    "     # Optional, can be set to None.\n",
    "    #to do: set to CRON_SCHEDULE\n",
    "    sync_config=None, #CRON_SCHEDULE\n",
    "    index_config=index_config,\n",
    ")"
   ]
  },
  {
   "cell_type": "code",
   "execution_count": 47,
   "id": "d6355f92-5e2c-47b2-a4d4-ef0fb5981c99",
   "metadata": {},
   "outputs": [
    {
     "data": {
      "text/plain": [
       "name: \"projects/494586852359/locations/us-central1/featureOnlineStores/vlt_searchcontent_text_embedding_featurestore/featureViews/vlt_textembedding_feature_view1\"\n",
       "create_time {\n",
       "  seconds: 1731478798\n",
       "  nanos: 239429000\n",
       "}\n",
       "update_time {\n",
       "  seconds: 1731478798\n",
       "  nanos: 945522000\n",
       "}\n",
       "etag: \"AMEw9yMAyuamujXWhFILM5XL-60mPcBEMUiB_Qyw2CMBvAnolCoCRXBldCUbCJkp1FDQ\"\n",
       "big_query_source {\n",
       "  uri: \"bq://nine-quality-test.vlt_media_embeddings_integration.vlt_all_media_content_text_embeddings_vw\"\n",
       "  entity_id_columns: \"asset_id\"\n",
       "}\n",
       "index_config {\n",
       "  embedding_column: \"text_embedding_result\"\n",
       "  embedding_dimension: 768\n",
       "  distance_measure_type: COSINE_DISTANCE\n",
       "  tree_ah_config {\n",
       "    leaf_node_embedding_count: 1000\n",
       "  }\n",
       "}"
      ]
     },
     "execution_count": 47,
     "metadata": {},
     "output_type": "execute_result"
    }
   ],
   "source": [
    "#Verify that the FeatureView instance is created by getting the feature view.\n",
    "FeatureView(\n",
    "    FEATURE_VIEW_ID, feature_online_store_id=FEATURE_ONLINE_STORE_ID\n",
    ").gca_resource\n",
    "     "
   ]
  },
  {
   "cell_type": "code",
   "execution_count": 48,
   "id": "469f400b-340a-4a80-92b9-d4f6e1c4916d",
   "metadata": {
    "tags": []
   },
   "outputs": [],
   "source": [
    "sync_response = nine_fv.sync()\n"
   ]
  },
  {
   "cell_type": "code",
   "execution_count": null,
   "id": "6a14b67d-2dac-423b-97a2-c26babd0a00a",
   "metadata": {
    "tags": []
   },
   "outputs": [
    {
     "name": "stdout",
     "output_type": "stream",
     "text": [
      "Sync ongoing, waiting for 30 seconds.\n",
      "Sync ongoing, waiting for 30 seconds.\n",
      "Sync ongoing, waiting for 30 seconds.\n",
      "Sync ongoing, waiting for 30 seconds.\n",
      "Sync ongoing, waiting for 30 seconds.\n",
      "Sync ongoing, waiting for 30 seconds.\n",
      "Sync ongoing, waiting for 30 seconds.\n",
      "Sync ongoing, waiting for 30 seconds.\n",
      "Sync ongoing, waiting for 30 seconds.\n",
      "Sync ongoing, waiting for 30 seconds.\n",
      "Sync ongoing, waiting for 30 seconds.\n",
      "Sync ongoing, waiting for 30 seconds.\n",
      "Sync ongoing, waiting for 30 seconds.\n",
      "Sync ongoing, waiting for 30 seconds.\n",
      "Sync ongoing, waiting for 30 seconds.\n",
      "Sync ongoing, waiting for 30 seconds.\n",
      "Sync ongoing, waiting for 30 seconds.\n",
      "Sync ongoing, waiting for 30 seconds.\n",
      "Sync ongoing, waiting for 30 seconds.\n",
      "Sync ongoing, waiting for 30 seconds.\n",
      "Sync ongoing, waiting for 30 seconds.\n",
      "Sync ongoing, waiting for 30 seconds.\n",
      "Sync ongoing, waiting for 30 seconds.\n",
      "Sync ongoing, waiting for 30 seconds.\n",
      "Sync ongoing, waiting for 30 seconds.\n",
      "Sync ongoing, waiting for 30 seconds.\n",
      "Sync ongoing, waiting for 30 seconds.\n",
      "Sync ongoing, waiting for 30 seconds.\n",
      "Sync ongoing, waiting for 30 seconds.\n",
      "Sync ongoing, waiting for 30 seconds.\n",
      "Sync ongoing, waiting for 30 seconds.\n",
      "Sync ongoing, waiting for 30 seconds.\n",
      "Sync ongoing, waiting for 30 seconds.\n",
      "Sync Succeed for projects/494586852359/locations/us-central1/featureOnlineStores/vlt_searchcontent_text_embedding_featurestore/featureViews/vlt_textembedding_feature_view1/featureViewSyncs/3210027641855803392. \n",
      " name: \"projects/494586852359/locations/us-central1/featureOnlineStores/vlt_searchcontent_text_embedding_featurestore/featureViews/vlt_textembedding_feature_view1/featureViewSyncs/3210027641855803392\"\n",
      "create_time {\n",
      "  seconds: 1731478809\n",
      "  nanos: 993626000\n",
      "}\n",
      "final_status {\n",
      "}\n",
      "run_time {\n",
      "  start_time {\n",
      "    seconds: 1731478809\n",
      "    nanos: 993626000\n",
      "  }\n",
      "  end_time {\n",
      "    seconds: 1731479808\n",
      "    nanos: 262544000\n",
      "  }\n",
      "}\n",
      "sync_summary {\n",
      "  row_synced: 1097391\n",
      "  total_slot: 1452607\n",
      "}\n",
      "\n"
     ]
    }
   ],
   "source": [
    "\n",
    "import time\n",
    "\n",
    "while True:\n",
    "    feature_view_sync = nine_fv.get_sync(\n",
    "        sync_response.resource_name.split(\"/\")[9]\n",
    "    ).gca_resource\n",
    "    if feature_view_sync.run_time.end_time.seconds > 0:\n",
    "        status = \"Succeed\" if feature_view_sync.final_status.code == 0 else \"Failed\"\n",
    "        print(f\"Sync {status} for {feature_view_sync.name}. \\n {feature_view_sync}\")\n",
    "        # wait a little more for the job to properly shutdown\n",
    "        time.sleep(30)\n",
    "        break\n",
    "    else:\n",
    "        print(\"Sync ongoing, waiting for 30 seconds.\")\n",
    "    time.sleep(30)"
   ]
  },
  {
   "cell_type": "code",
   "execution_count": 90,
   "id": "c2c06d03-9c0e-4039-9688-097dfad4d275",
   "metadata": {},
   "outputs": [],
   "source": [
    "#for mutimodal embeddings we can ignore this, unless having a description column that want to search through it\n",
    "# country_filter = NearestNeighborQuery.StringFilter(\n",
    "#     name=\"country\",\n",
    "#     allow_tokens=[\"WIPO (PCT)\"],  # try different allow tokens\n",
    "#     deny_tokens=[\"United States\"],  # try different deny tokens\n",
    "# )"
   ]
  },
  {
   "cell_type": "code",
   "execution_count": 91,
   "id": "9b40ee2f-f396-4abc-a120-57299d5744a4",
   "metadata": {},
   "outputs": [],
   "source": [
    "# EMBEDDINGS = [1] * DIMENSIONS\n",
    "\n",
    "# result=nine_fv.search(\n",
    "#     embedding_value=EMBEDDINGS,\n",
    "#     neighbor_count=10,\n",
    "#     #string_filters=[country_filter],#for multimodal embedding this can be set to None, unless having a description column\n",
    "#     return_full_entity=True,  # returning entities with metadata\n",
    "# )"
   ]
  },
  {
   "cell_type": "code",
   "execution_count": 92,
   "id": "cb92ff2b-b014-4cfb-941b-d1c966d6177a",
   "metadata": {
    "tags": []
   },
   "outputs": [],
   "source": [
    "# result=result.to_dict()"
   ]
  },
  {
   "cell_type": "code",
   "execution_count": 93,
   "id": "dd817cf3-b7d4-4b61-98bb-ab7b73660971",
   "metadata": {
    "tags": []
   },
   "outputs": [],
   "source": [
    "# nearest_neighbours=[]\n",
    "# for neighbour in result['neighbors']:\n",
    "#     nearest_neighbour={}\n",
    "#     nearest_neighbour['entity_id']=neighbour['entity_id']\n",
    "#     nearest_neighbour['distance']=neighbour['distance']\n",
    "  \n",
    "#     for feature in neighbour['entity_key_values']['key_values']['features']:\n",
    "#         if 'value' in feature:\n",
    "#             if type(list(feature['value'].values())[0]) is dict:\n",
    "#                 nearest_neighbour[feature['name']]=[]#list(list(feature['value'].values())[0].values())[0]             \n",
    "#             else:\n",
    "#                 nearest_neighbour[feature['name']]=list(feature['value'].values())[0]             \n",
    "#         else :\n",
    "#             nearest_neighbour[feature['name']]=None\n",
    "   \n",
    "#     nearest_neighbours.append(nearest_neighbour)\n",
    "    "
   ]
  },
  {
   "cell_type": "code",
   "execution_count": 94,
   "id": "f0c1d1d0-ada4-4161-8d38-102a600e08a5",
   "metadata": {
    "tags": []
   },
   "outputs": [],
   "source": [
    "# nearest_neighbours"
   ]
  },
  {
   "cell_type": "code",
   "execution_count": null,
   "id": "aa2e1c86-65e5-47cc-9c0e-b6909d1a51dc",
   "metadata": {},
   "outputs": [],
   "source": []
  }
 ],
 "metadata": {
  "environment": {
   "kernel": "python3",
   "name": "tf2-cpu.2-11.m123",
   "type": "gcloud",
   "uri": "us-docker.pkg.dev/deeplearning-platform-release/gcr.io/tf2-cpu.2-11:m123"
  },
  "kernelspec": {
   "display_name": "Python 3 (Local)",
   "language": "python",
   "name": "python3"
  },
  "language_info": {
   "codemirror_mode": {
    "name": "ipython",
    "version": 3
   },
   "file_extension": ".py",
   "mimetype": "text/x-python",
   "name": "python",
   "nbconvert_exporter": "python",
   "pygments_lexer": "ipython3",
   "version": "3.10.14"
  }
 },
 "nbformat": 4,
 "nbformat_minor": 5
}
