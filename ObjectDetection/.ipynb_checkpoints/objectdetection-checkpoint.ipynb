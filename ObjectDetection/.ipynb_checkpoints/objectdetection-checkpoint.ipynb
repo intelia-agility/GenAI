{
 "cells": [
  {
   "cell_type": "code",
   "execution_count": 2,
   "id": "f2f921f3-d99a-49bc-9013-1042f887024f",
   "metadata": {},
   "outputs": [],
   "source": [
    "import json\n",
    "\n",
    "schema=\"\"\"{\n",
    "  \"type\": \"object\",\n",
    "  \"properties\": {\n",
    "    \"objects\": {\n",
    "      \"type\": \"array\",\n",
    "      \"items\": {\n",
    "        \"type\": \"object\",\n",
    "        \"properties\": {\n",
    "          \"name\": {\n",
    "            \"type\": \"string\",\n",
    "            \"description\": \"A preliminary name assigned to the object.\"\n",
    "          },\n",
    "          \"description\": {\n",
    "            \"type\": \"string\",\n",
    "            \"description\": \"A detailed textual description of the object.\"\n",
    "          },\n",
    "          \"x1\": {\n",
    "            \"type\": \"number\",\n",
    "            \"description\": \"The x-coordinate of the top-left corner of the object's bounding box.\"\n",
    "          },\n",
    "          \"y1\": {\n",
    "            \"type\": \"number\",\n",
    "            \"description\": \"The y-coordinate of the top-left corner of the object's bounding box.\"\n",
    "          },\n",
    "          \"x2\": {\n",
    "            \"type\": \"number\",\n",
    "            \"description\": \"The x-coordinate of the bottom-right corner of the object's bounding box.\"\n",
    "          },\n",
    "          \"y2\": {\n",
    "            \"type\": \"number\",\n",
    "            \"description\": \"The y-coordinate of the bottom-right corner of the object's bounding box.\"\n",
    "          }\n",
    "        },\n",
    "        \"required\": [\"name\", \"description\", \"x1\", \"y1\", \"x2\", \"y2\"]\n",
    "      }\n",
    "    }\n",
    "  },\n",
    "  \"required\": [\"objects\"]\n",
    "}\n",
    "\"\"\"\n",
    "\n",
    "VAR_INTRODUCTION=f\"You are an image analyst expert in object detection.\\n Analyze the given image and identify all distinct objects present within it.\"\n",
    "VAR_INSTRUCTIONS= \"\"\"For each object:\n",
    "\n",
    "Provide its x, y coordinates for the bounding box (top-left and bottom-right corners).\n",
    "Classify the object and provide its name as a text description.\n",
    "Assign a preliminary name for the object based on its context in the image.\n",
    "Ensure that:\n",
    "\n",
    "Objects inside other objects are treated as separate entities with their own coordinates and descriptions.\n",
    "The JSON output is structured clearly with the following JSON format.<JSONSchema>{json.dumps(schema)}</JSONSchema>\"\n",
    "               \"\"\"\n",
    "description_prompt=VAR_INTRODUCTION+VAR_INSTRUCTIONS\n",
    " "
   ]
  },
  {
   "cell_type": "code",
   "execution_count": null,
   "id": "c67422a8-10ff-40af-ab19-e3f203d5378d",
   "metadata": {},
   "outputs": [],
   "source": []
  }
 ],
 "metadata": {
  "environment": {
   "kernel": "conda-base-py",
   "name": "workbench-notebooks.m127",
   "type": "gcloud",
   "uri": "us-docker.pkg.dev/deeplearning-platform-release/gcr.io/workbench-notebooks:m127"
  },
  "kernelspec": {
   "display_name": "Python 3 (ipykernel) (Local)",
   "language": "python",
   "name": "conda-base-py"
  },
  "language_info": {
   "codemirror_mode": {
    "name": "ipython",
    "version": 3
   },
   "file_extension": ".py",
   "mimetype": "text/x-python",
   "name": "python",
   "nbconvert_exporter": "python",
   "pygments_lexer": "ipython3",
   "version": "3.10.16"
  }
 },
 "nbformat": 4,
 "nbformat_minor": 5
}
