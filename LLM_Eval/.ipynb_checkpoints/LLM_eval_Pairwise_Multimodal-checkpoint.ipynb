{
 "cells": [
  {
   "cell_type": "code",
   "execution_count": 85,
   "id": "dd896aaf-29b5-43b2-aeb7-bedbd45a1198",
   "metadata": {},
   "outputs": [],
   "source": [
    "import json\n",
    "\n",
    "start=600\n",
    "end=900\n",
    "schema=\"\"\"{\n",
    "    \"description\": \"A structured schema to represent detailed information from a video or text analysis\",\n",
    "    \"type\": \"object\",\n",
    "    \"properties\": {\n",
    "        \"Category\": {\n",
    "            \"type\": \"string\",\n",
    "            \"description\": \"The category or general type of the content\"\n",
    "        },\n",
    "        \"DetailedDescriptionOfEventsAndConversations\": {\n",
    "            \"type\": \"string\",\n",
    "            \"description\": \"A detailed textual description of the events and conversations in the content\"\n",
    "        },\n",
    "        \"BrandsCompanyNamesLogos\": {\n",
    "            \"type\": \"array\",\n",
    "            \"items\": {\n",
    "                \"type\": \"string\"\n",
    "            },\n",
    "            \"description\": \"A list of brands, company names, or logos appearing or mentioned in the content\"\n",
    "        },\n",
    "        \"KeyLocationsAndScenes\": {\n",
    "            \"type\": \"array\",\n",
    "            \"items\": {\n",
    "                \"type\": \"string\"\n",
    "            },\n",
    "            \"description\": \"A list of key locations and scenes appearing or mentioned in the content\"\n",
    "        },\n",
    "        \"KeyThemes\": {\n",
    "            \"type\": \"array\",\n",
    "            \"items\": {\n",
    "                \"type\": \"string\"\n",
    "            },\n",
    "            \"description\": \"A list of key themes discussed or portrayed in the content\"\n",
    "        },\n",
    "        \"PeopleAppearingAndMentioned\": {\n",
    "            \"type\": \"array\",\n",
    "            \"items\": {\n",
    "                \"type\": \"string\"\n",
    "            },\n",
    "            \"description\": \"A list of people who appear or are mentioned in the content\"\n",
    "        }\n",
    "    },\n",
    "    \"required\": [\n",
    "        \"Category\",\n",
    "        \"DetailedDescriptionOfEventsAndConversations\",\n",
    "        \"BrandsCompanyNamesLogos\",\n",
    "        \"KeyLocationsAndScenes\",\n",
    "        \"KeyThemes\",\n",
    "        \"PeopleAppearingAndMentioned\"\n",
    "    ]\n",
    "}\"\"\"\n",
    "\n",
    "\n",
    "VAR_VIDEO_SEGMENT=f\"Your task is to provide a comprehensive description of this video from segment {start} seconds to {end} seconds.\\n\"\n",
    "VAR_INSTRUCTIONS= \"\"\"To complete the task you need to follow these steps:\\n\n",
    "                           No greetings, closing remarks, or additional comments. Begin immediately with the video analysis and provide only the requested information in the specified format.\\n\n",
    "                           Idenify all instances of visual product placement. Pay close attention to background details and items held by the characters. List each product placement with the following\n",
    "                            information: Brand name, product name (if applicable), and a brief description. Include information about product placement into the description generated for the video\\n\n",
    "                           Create a transcript of all the speeches, dialogs, narration.\\n\n",
    "                           Scrupulously examine each scene for any and all visible brand names, logos, and products. Even if a product appears briefly or in the background, it should be included.\\n\"\"\"\n",
    "\n",
    "VAR_CONSTRAINTS= \"\"\"Describe the video content objectively, avoiding any subjective opinions or assumptions.\\n\n",
    "                           Specify who is saying what. If a person talking can be seen, specify their name and/or occupation. If it is voice behind the scenes, then describe it as a narrator.\\n\n",
    "                           Be specific when describing. Include all the information that is shown or given.\\n\n",
    "                           Do not show timestamps.\\n\n",
    "                           If an unidentified person is shown in the video first, but then their name is mentioned later in the video, make sure to mention their name in the description from the start.\\n\n",
    "                           \"\"\"\n",
    "\n",
    "VAR_STRUCTURE= f\"\"\"Organize the description with the following properties, and give a valid json file with JSON schema.<JSONSchema>{json.dumps(schema)}</JSONSchema>:\n",
    "                       \\n**Category**\\n\n",
    "                       \\n**DetailedDescriptionOfEventsAndConversations**\\n\n",
    "                       \\n**BrandsCompanyNamesLogos**\\n\n",
    "                       \\n**KeyLocationsAndScenes**\\n\n",
    "                       \\n**KeyThemes**\\n\n",
    "                       \\n**PeopleAppearingAndMentioned**\\n \n",
    "                 \"\"\" \n",
    "\n",
    "VAR_CONDITIONS = \"\"\"Identify a video as one of these categories: News, TV Shows, Live Sport Events, News Analyses. \\n\n",
    "                       When describing the DetailedDescriptionOfEventsAndConversations, consider the following instructions for specific video types:\\n\n",
    "                       * **News:** Pay close attention to transitions, graphics, and on-screen text.\\n\n",
    "                       * **TV Shows:** Describe facial expressions, body language, appearances, and overall mood.\\n\n",
    "                       * **Live Sports Events:** Focus on key moments, like goals or fouls, and describe the overall flow and momentum of the game.\\n\n",
    "                       * **News Analyses:** Identify different perspectives, arguments, and supporting evidence.\\n\n",
    "                       Make sure to mention people's names in the DetailedDescriptionOfEventsAndConversations and in PeopleAppearingAndMentioned as well as any other information about them like their age, occupation, location, etc. \\n\"\"\"\n",
    "\n",
    "VAR_EXAMPLE = \"\"\"Follow this example for the format of the output:\\n\n",
    "              {\n",
    "                \"Category\": \"TV Show\",\n",
    "                \"DetailedDescriptionOfEventsAndConversations\": \"The video starts with a man sitting at a dining table, reading a letter. Two Fiji bottles are visible on the benchtop. He has short, light brown hair and a beard. His name is Harrison. The scene changes to Melissa. Melissa says: \\\"I'm Melissa, and I'm a hairdresser. I'm 41 years old, and I'm from Sydney.\\\"\",\n",
    "                \"BrandsCompanyNamesLogos\": [\"Lacoste\", \"Fiji\"],\n",
    "                \"KeyLocationsAndScenes\": [\"Apartment\"],\n",
    "                \"KeyThemes\": [\"Marriage\"],\n",
    "                \"PeopleAppearingAndMentioned\": [\n",
    "                \"Harrison, 32, Builder, NSW\",\n",
    "                \"Melissa, 41, Hairdresser, NSW\"\n",
    "                ]\n",
    "            }\n",
    "               \"\"\"\n",
    "  \n",
    "    \n",
    "video_description_prompt=VAR_VIDEO_SEGMENT+VAR_INSTRUCTIONS+VAR_CONSTRAINTS+VAR_STRUCTURE+VAR_CONDITIONS+VAR_EXAMPLE\n",
    " "
   ]
  },
  {
   "cell_type": "code",
   "execution_count": 86,
   "id": "e8854141-e6e3-47a0-8b02-68b6e9d1fe67",
   "metadata": {
    "tags": []
   },
   "outputs": [],
   "source": [
    "import base64\n",
    "import time\n",
    "import typing\n",
    "import math\n",
    "import numpy as np\n",
    "\n",
    "from google.cloud import aiplatform\n",
    "from google.protobuf import struct_pb2\n",
    "\n",
    "#libraries to generate image summaries\n",
    "from vertexai.vision_models import Video\n",
    "from vertexai.vision_models import VideoSegmentConfig\n",
    "from vertexai.vision_models import MultiModalEmbeddingModel\n",
    "from vertexai.language_models import TextEmbeddingModel\n",
    "from vertexai.vision_models import Image as vision_model_Image\n",
    "from vertexai.preview.generative_models import (\n",
    "    Content,\n",
    "    GenerationConfig,\n",
    "    GenerationResponse,\n",
    "    GenerativeModel,\n",
    "    Image,\n",
    "    Part as GenerativeModelPart,\n",
    "    HarmBlockThreshold,\n",
    "    HarmCategory,\n",
    ")\n",
    "from typing import Any, Dict, List, Literal, Optional, Union\n",
    "\n",
    "from moviepy.editor import VideoFileClip\n",
    "\n",
    "contents= [{\n",
    "                                                                    \"role\": \"user\",\n",
    "                                                                    \"parts\": [\n",
    "                                                                        {\n",
    "                                                                    \n",
    "                                                                        \n",
    "                                                                        \"file_data\": {\n",
    "                                                                            \"mime_type\":  \"video/mp4\",\n",
    "                                                                            \"file_uri\": \"gs://raw_nine_files/vlt_video_extract/MAAT/MAAT2024_1_A_HBB.mp4\"\n",
    "                                                                        } \n",
    "                                                                         ,\n",
    "                                                                        \"video_metadata\": {\n",
    "                                                                                        \"start_offset\": {\n",
    "                                                                                        \"seconds\": start,\n",
    "                                                                                        \"nanos\": 0\n",
    "                                                                                        },\n",
    "                                                                                        \"end_offset\": {\n",
    "                                                                                        \"seconds\": end,\n",
    "                                                                                        \"nanos\": 0\n",
    "                                                                                        }\n",
    "                                                                                }\n",
    "\n",
    "                                                                        },\n",
    "                                                                        { \"text\": video_description_prompt }\n",
    "                                                                    ]\n",
    "                                                                    }\n",
    "                                                                ]\n"
   ]
  },
  {
   "cell_type": "code",
   "execution_count": 3,
   "id": "37d6ef3c-2a1f-4dc6-98f7-d7d4e131c4d6",
   "metadata": {
    "tags": []
   },
   "outputs": [],
   "source": [
    "\n",
    "generative_multimodal_model= GenerativeModel(\"gemini-1.5-pro-002\")\n",
    "generation_config=GenerationConfig(temperature=1, top_k=40,top_p=0.95,max_output_tokens=8192, response_mime_type='application/json')\n",
    " \n",
    "safety_settings=  {\n",
    "                    HarmCategory.HARM_CATEGORY_HARASSMENT: HarmBlockThreshold.BLOCK_NONE,\n",
    "                    HarmCategory.HARM_CATEGORY_HATE_SPEECH: HarmBlockThreshold.BLOCK_NONE,\n",
    "                    HarmCategory.HARM_CATEGORY_SEXUALLY_EXPLICIT: HarmBlockThreshold.BLOCK_NONE,\n",
    "                    HarmCategory.HARM_CATEGORY_DANGEROUS_CONTENT: HarmBlockThreshold.BLOCK_NONE,\n",
    "                    }\n",
    "\n",
    "model_response = generative_multimodal_model.generate_content(\n",
    "                                    contents ,safety_settings=safety_settings,generation_config=generation_config,\n",
    "                                   )   "
   ]
  },
  {
   "cell_type": "code",
   "execution_count": 4,
   "id": "540e7dac-0b44-4612-b110-9c2474f3b76c",
   "metadata": {
    "tags": []
   },
   "outputs": [
    {
     "data": {
      "text/plain": [
       "'```json\\n{\\n  \"Category\": \"TV Show\",\\n  \"DetailedDescriptionOfEventsAndConversations\": \"The video begins with Jayden, a 26-year-old professional kickboxer from Queensland, arriving at a gathering. He greets Tim, Richard, and John. Richard introduces himself to Jayden. Richard asks Jayden what he does for a living. Jayden says that kickboxing is his full-time job, training twice a day, six days a week. Jayden explains that he\\'s not what he appears to be, enjoying snuggles and back tickles when he\\'s not fighting. He adds that he\\'s a romantic and doesn\\'t have a specific type, looking for someone with a good heart. Lucinda, a 43-year-old MC and wedding celebrant from New South Wales, arrives at the same gathering, greeting the other women: Tori and Natasha. Lucinda says that she\\'s looking for a confident man, a great cook who is funny and generous of spirit. She unfolds a scroll, revealing her detailed list of desired qualities in a partner, including “handsome” and “spunky,” prompting laughter from her companions. The next scene shows Lucinda conversing with John Aiken. Lucinda says she wants someone who\\'s good with his clothes off, leading to a humorous exchange about “high-functioning erection.”  The scene shifts back to the gathering, where Lucinda discusses her ideal partner with Tori and Natasha. She mentions wanting someone well-established, secure, and confident without a big ego, while Tori expresses her desire for a nerdy guy. Lucinda notes Tori\\'s intellectual nature and need for a challenging partner.  The conversation then shifts to discussing what they\\'ve written on their lists, with Lucinda noting “purple” as the color of transcendence, eliciting laughter. Sara, a 29-year-old nutritionist from New South Wales, arrives. She expresses her hopes of walking down the aisle and meeting her future husband.  The video then cuts to another man arriving in a car at the same location. The Sydney skyline is visible in the background. The video then cuts to Sara, a 29-year-old nutritionist from New South Wales, arriving and meeting several other women. It ends with another male arrival at the party.\",\\n  \"BrandsCompanyNamesLogos\": [\"Fiji\"],\\n  \"KeyLocationsAndScenes\": [\"Sydney Harbour\", \"Gathering venue\", \"Boxing gym\", \"Beach\", \"Interview room\"],\\n  \"KeyThemes\": [\"Dating\", \"Marriage\", \"Relationships\", \"First impressions\", \"Expectations\"],\\n  \"PeopleAppearingAndMentioned\": [\\n    \"Jayden, 26, Professional kickboxer, Queensland\",\\n    \"Tim\",\\n    \"Richard\",\\n    \"John\",\\n    \"Lucinda, 43, MC and Wedding Celebrant, New South Wales\",\\n    \"John Aiken\",\\n    \"Tori\",\\n    \"Natasha\",\\n    \"Sara, 29, Nutritionist, New South Wales\"\\n  ]\\n}\\n```'"
      ]
     },
     "execution_count": 4,
     "metadata": {},
     "output_type": "execute_result"
    }
   ],
   "source": [
    "model_response.candidates[0].content.parts[0].text"
   ]
  },
  {
   "cell_type": "code",
   "execution_count": 5,
   "id": "33ad99d8-cf3f-4111-9b0b-f5a6c6ddd82a",
   "metadata": {
    "tags": []
   },
   "outputs": [
    {
     "name": "stdout",
     "output_type": "stream",
     "text": [
      "```json\n",
      "{\n",
      "  \"Category\": \"TV Show\",\n",
      "  \"DetailedDescriptionOfEventsAndConversations\": \"The video begins with Jayden, a 26-year-old professional kickboxer from Queensland, arriving at a gathering. He greets Tim, Richard, and John. Richard introduces himself to Jayden. Richard asks Jayden what he does for a living. Jayden says that kickboxing is his full-time job, training twice a day, six days a week. Jayden explains that he's not what he appears to be, enjoying snuggles and back tickles when he's not fighting. He adds that he's a romantic and doesn't have a specific type, looking for someone with a good heart. Lucinda, a 43-year-old MC and wedding celebrant from New South Wales, arrives at the same gathering, greeting the other women: Tori and Natasha. Lucinda says that she's looking for a confident man, a great cook who is funny and generous of spirit. She unfolds a scroll, revealing her detailed list of desired qualities in a partner, including “handsome” and “spunky,” prompting laughter from her companions. The next scene shows Lucinda conversing with John Aiken. Lucinda says she wants someone who's good with his clothes off, leading to a humorous exchange about “high-functioning erection.”  The scene shifts back to the gathering, where Lucinda discusses her ideal partner with Tori and Natasha. She mentions wanting someone well-established, secure, and confident without a big ego, while Tori expresses her desire for a nerdy guy. Lucinda notes Tori's intellectual nature and need for a challenging partner.  The conversation then shifts to discussing what they've written on their lists, with Lucinda noting “purple” as the color of transcendence, eliciting laughter. Sara, a 29-year-old nutritionist from New South Wales, arrives. She expresses her hopes of walking down the aisle and meeting her future husband.  The video then cuts to another man arriving in a car at the same location. The Sydney skyline is visible in the background. The video then cuts to Sara, a 29-year-old nutritionist from New South Wales, arriving and meeting several other women. It ends with another male arrival at the party.\",\n",
      "  \"BrandsCompanyNamesLogos\": [\"Fiji\"],\n",
      "  \"KeyLocationsAndScenes\": [\"Sydney Harbour\", \"Gathering venue\", \"Boxing gym\", \"Beach\", \"Interview room\"],\n",
      "  \"KeyThemes\": [\"Dating\", \"Marriage\", \"Relationships\", \"First impressions\", \"Expectations\"],\n",
      "  \"PeopleAppearingAndMentioned\": [\n",
      "    \"Jayden, 26, Professional kickboxer, Queensland\",\n",
      "    \"Tim\",\n",
      "    \"Richard\",\n",
      "    \"John\",\n",
      "    \"Lucinda, 43, MC and Wedding Celebrant, New South Wales\",\n",
      "    \"John Aiken\",\n",
      "    \"Tori\",\n",
      "    \"Natasha\",\n",
      "    \"Sara, 29, Nutritionist, New South Wales\"\n",
      "  ]\n",
      "}\n",
      "```\n"
     ]
    }
   ],
   "source": [
    "print(model_response.candidates[0].content.parts[0].text)"
   ]
  },
  {
   "cell_type": "code",
   "execution_count": 6,
   "id": "858ac693-7b31-4f18-b4c8-0e13aea00598",
   "metadata": {
    "tags": []
   },
   "outputs": [
    {
     "data": {
      "text/plain": [
       "{'Category': 'TV Show',\n",
       " 'DetailedDescriptionOfEventsAndConversations': \"The video begins with Jayden, a 26-year-old professional kickboxer from Queensland, arriving at a gathering. He greets Tim, Richard, and John. Richard introduces himself to Jayden. Richard asks Jayden what he does for a living. Jayden says that kickboxing is his full-time job, training twice a day, six days a week. Jayden explains that he's not what he appears to be, enjoying snuggles and back tickles when he's not fighting. He adds that he's a romantic and doesn't have a specific type, looking for someone with a good heart. Lucinda, a 43-year-old MC and wedding celebrant from New South Wales, arrives at the same gathering, greeting the other women: Tori and Natasha. Lucinda says that she's looking for a confident man, a great cook who is funny and generous of spirit. She unfolds a scroll, revealing her detailed list of desired qualities in a partner, including “handsome” and “spunky,” prompting laughter from her companions. The next scene shows Lucinda conversing with John Aiken. Lucinda says she wants someone who's good with his clothes off, leading to a humorous exchange about “high-functioning erection.”  The scene shifts back to the gathering, where Lucinda discusses her ideal partner with Tori and Natasha. She mentions wanting someone well-established, secure, and confident without a big ego, while Tori expresses her desire for a nerdy guy. Lucinda notes Tori's intellectual nature and need for a challenging partner.  The conversation then shifts to discussing what they've written on their lists, with Lucinda noting “purple” as the color of transcendence, eliciting laughter. Sara, a 29-year-old nutritionist from New South Wales, arrives. She expresses her hopes of walking down the aisle and meeting her future husband.  The video then cuts to another man arriving in a car at the same location. The Sydney skyline is visible in the background. The video then cuts to Sara, a 29-year-old nutritionist from New South Wales, arriving and meeting several other women. It ends with another male arrival at the party.\",\n",
       " 'BrandsCompanyNamesLogos': ['Fiji'],\n",
       " 'KeyLocationsAndScenes': ['Sydney Harbour',\n",
       "  'Gathering venue',\n",
       "  'Boxing gym',\n",
       "  'Beach',\n",
       "  'Interview room'],\n",
       " 'KeyThemes': ['Dating',\n",
       "  'Marriage',\n",
       "  'Relationships',\n",
       "  'First impressions',\n",
       "  'Expectations'],\n",
       " 'PeopleAppearingAndMentioned': ['Jayden, 26, Professional kickboxer, Queensland',\n",
       "  'Tim',\n",
       "  'Richard',\n",
       "  'John',\n",
       "  'Lucinda, 43, MC and Wedding Celebrant, New South Wales',\n",
       "  'John Aiken',\n",
       "  'Tori',\n",
       "  'Natasha',\n",
       "  'Sara, 29, Nutritionist, New South Wales']}"
      ]
     },
     "execution_count": 6,
     "metadata": {},
     "output_type": "execute_result"
    }
   ],
   "source": [
    "import json\n",
    "\n",
    "# Provided JSON string\n",
    "json_string =  model_response.candidates[0].content.parts[0].text.replace('```json','').replace('```','')\n",
    "# Convert JSON string to a Python dictionary\n",
    "parsed_json = json.loads(json_string, strict=False)\n",
    "\n",
    "parsed_json\n",
    " "
   ]
  },
  {
   "cell_type": "code",
   "execution_count": 7,
   "id": "2e29d010-37eb-4b5b-901e-e06818d0ba3f",
   "metadata": {},
   "outputs": [
    {
     "name": "stdout",
     "output_type": "stream",
     "text": [
      "The text has been successfully exported to output_model1.txt\n"
     ]
    }
   ],
   "source": [
    "# Define the text you want to write to the file\n",
    "text_to_export =json_string\n",
    "\n",
    "# Specify the file name\n",
    "file_name = \"output_model1.txt\"\n",
    "\n",
    "# Write the text to the file\n",
    "with open(file_name, \"w\") as file:\n",
    "    file.write(text_to_export)\n",
    "\n",
    "print(f\"The text has been successfully exported to {file_name}\")"
   ]
  },
  {
   "cell_type": "code",
   "execution_count": 8,
   "id": "2b86007e-9dd9-4141-954a-172f27517e69",
   "metadata": {
    "tags": []
   },
   "outputs": [
    {
     "name": "stdout",
     "output_type": "stream",
     "text": [
      "The text has been successfully exported to output_model_original_text1.txt\n"
     ]
    }
   ],
   "source": [
    "# Define the text you want to write to the file\n",
    "text_to_export =model_response.candidates[0].content.parts[0].text\n",
    "\n",
    "# Specify the file name\n",
    "file_name = \"output_model_original_text1.txt\"\n",
    "\n",
    "# Write the text to the file\n",
    "with open(file_name, \"w\") as file:\n",
    "    file.write(text_to_export)\n",
    "\n",
    "print(f\"The text has been successfully exported to {file_name}\")"
   ]
  },
  {
   "cell_type": "markdown",
   "id": "28f277e7-5efd-4264-b9de-6977cc53548d",
   "metadata": {},
   "source": [
    "### Lets test with another model\n"
   ]
  },
  {
   "cell_type": "code",
   "execution_count": 9,
   "id": "15bf62a5-2e91-4df0-a659-ab0a6be6859c",
   "metadata": {
    "tags": []
   },
   "outputs": [],
   "source": [
    "#lets change the model\n",
    "\n",
    "generative_multimodal_model= GenerativeModel(\"gemini-1.5-flash-002\")\n",
    "generation_config=GenerationConfig(temperature=1, top_k=40,top_p=0.95,max_output_tokens=8192)#, response_mime_type='application/json',\n",
    " \n",
    "safety_settings=  {\n",
    "                    HarmCategory.HARM_CATEGORY_HARASSMENT: HarmBlockThreshold.BLOCK_NONE,\n",
    "                    HarmCategory.HARM_CATEGORY_HATE_SPEECH: HarmBlockThreshold.BLOCK_NONE,\n",
    "                    HarmCategory.HARM_CATEGORY_SEXUALLY_EXPLICIT: HarmBlockThreshold.BLOCK_NONE,\n",
    "                    HarmCategory.HARM_CATEGORY_DANGEROUS_CONTENT: HarmBlockThreshold.BLOCK_NONE,\n",
    "                    }\n",
    "\n",
    "model_response = generative_multimodal_model.generate_content(\n",
    "                                    contents ,safety_settings=safety_settings,generation_config=generation_config,\n",
    "                                   )   "
   ]
  },
  {
   "cell_type": "code",
   "execution_count": 10,
   "id": "340fd988-2413-433c-8522-467e35c13b5b",
   "metadata": {
    "tags": []
   },
   "outputs": [
    {
     "data": {
      "text/plain": [
       "{'Category': 'TV Show',\n",
       " 'DetailedDescriptionOfEventsAndConversations': \"The video starts with two women seated at a table. Lucinda is wearing a pink sparkly jacket and a matching pink skirt. She says: 'So, Tori and Nat, what's on the manifesto?' Nat is wearing a red floral dress. Tori is wearing a floral patterned long-sleeved dress.  Lucinda continues:  'The man, of first down.' Nat replies: 'I mean, yeah, yeah. I don't want him to have a big ego.' Lucinda says: 'Yeah.  And it doesn't have a big ego.  Confident but with nothing to prove.' Tori continues: 'Correct.' Lucinda says: 'I want a nerdy guy.'  Nat replies: 'You're a bit of an intellect, and you need somebody to challenge you on that level.'  Lucinda says: 'Yeah, I love nerds.' She smiles.  The scene changes to a view of a city with buildings lit up at night.  A voice over says:  'Love Lucinda. Here's another one.'  There's a scene change to the three women seated at a table. Lucinda says: 'Yay.' The scene changes to a view of the three women seated at a table.  The scene changes to the three women seated at a table again. Lucinda says: 'Oh, she was just a ball of radiant energy.'  \",\n",
       " 'BrandsCompanyNamesLogos': [],\n",
       " 'KeyLocationsAndScenes': ['A cafe or restaurant',\n",
       "  'A city at night',\n",
       "  'A cafe or restaurant'],\n",
       " 'KeyThemes': ['Relationships', 'Dating', 'Manifesting'],\n",
       " 'PeopleAppearingAndMentioned': ['Lucinda, 43, MC & Wedding Celebrant, NSW',\n",
       "  'Nat',\n",
       "  'Tori']}"
      ]
     },
     "execution_count": 10,
     "metadata": {},
     "output_type": "execute_result"
    }
   ],
   "source": [
    "# Provided JSON string\n",
    "json_string =  model_response.candidates[0].content.parts[0].text.replace('```json','').replace('```','')\n",
    "# Convert JSON string to a Python dictionary\n",
    "parsed_json = json.loads(json_string, strict=False)\n",
    "\n",
    "parsed_json"
   ]
  },
  {
   "cell_type": "code",
   "execution_count": 11,
   "id": "b0209bdf-f7fd-4d3f-a1e4-eaa31098690d",
   "metadata": {
    "tags": []
   },
   "outputs": [
    {
     "name": "stdout",
     "output_type": "stream",
     "text": [
      "The text has been successfully exported to output_model2.txt\n"
     ]
    }
   ],
   "source": [
    "# Define the text you want to write to the file\n",
    "text_to_export =json_string\n",
    "\n",
    "# Specify the file name\n",
    "file_name = \"output_model2.txt\"\n",
    "\n",
    "# Write the text to the file\n",
    "with open(file_name, \"w\") as file:\n",
    "    file.write(text_to_export)\n",
    "\n",
    "print(f\"The text has been successfully exported to {file_name}\")"
   ]
  },
  {
   "cell_type": "code",
   "execution_count": 12,
   "id": "22d89106-df3d-4682-96bd-d858824566ea",
   "metadata": {
    "tags": []
   },
   "outputs": [
    {
     "name": "stdout",
     "output_type": "stream",
     "text": [
      "The text has been successfully exported to output_model_original_text2.txt\n"
     ]
    }
   ],
   "source": [
    "# Define the text you want to write to the file\n",
    "text_to_export =model_response.candidates[0].content.parts[0].text\n",
    "\n",
    "# Specify the file name\n",
    "file_name = \"output_model_original_text2.txt\"\n",
    "\n",
    "# Write the text to the file\n",
    "with open(file_name, \"w\") as file:\n",
    "    file.write(text_to_export)\n",
    "\n",
    "print(f\"The text has been successfully exported to {file_name}\")"
   ]
  },
  {
   "cell_type": "markdown",
   "id": "61570eb2-fa93-4eb3-8804-f2ed5237d253",
   "metadata": {},
   "source": [
    "### compare the result of the two model"
   ]
  },
  {
   "cell_type": "code",
   "execution_count": 87,
   "id": "f2189952-5897-4278-81c6-58da9e0bf361",
   "metadata": {
    "tags": []
   },
   "outputs": [],
   "source": [
    "video_description_prompt\n",
    "with open('output_model1.txt', 'r') as file:\n",
    "    response1 = json.dumps(json.load(file))\n",
    "with open('output_model2.txt', 'r') as file:\n",
    "    response2 = json.dumps(json.load(file))\n"
   ]
  },
  {
   "cell_type": "code",
   "execution_count": 138,
   "id": "89944ead-82b1-4847-9045-fd0444dab06d",
   "metadata": {
    "tags": []
   },
   "outputs": [],
   "source": [
    "def get_autorater_response(metric_prompt: list) -> dict:\n",
    "    metric_response_schema = {\n",
    "    \"type\": \"OBJECT\",\n",
    "    \"properties\": {\n",
    "        \"Category\": {\n",
    "            \"type\": \"OBJECT\",\n",
    "            \"properties\": {\n",
    "                \"score\": {\"type\": \"NUMBER\"},\n",
    "                \"explanation\": {\"type\": \"STRING\"},\n",
    "            },\n",
    "            \"required\": [\"score\", \"explanation\"],\n",
    "        },\n",
    "        \"Detailed Description Of Events And Conversations\": {\n",
    "            \"type\": \"OBJECT\",\n",
    "            \"properties\": {\n",
    "                \"score\": {\"type\": \"NUMBER\"},\n",
    "                \"explanation\": {\"type\": \"STRING\"},\n",
    "            },\n",
    "            \"required\": [\"score\", \"explanation\"],\n",
    "        },\n",
    "        \"Brands, CompanyNames, and Logos\": {\n",
    "            \"type\": \"OBJECT\",\n",
    "            \"properties\": {\n",
    "                \"score\": {\"type\": \"NUMBER\"},\n",
    "                \"explanation\": {\"type\": \"STRING\"},\n",
    "            },\n",
    "            \"required\": [\"score\", \"explanation\"],\n",
    "        },\n",
    "        \"KeyLocations And Scenes\": {\n",
    "            \"type\": \"OBJECT\",\n",
    "            \"properties\": {\n",
    "                \"score\": {\"type\": \"NUMBER\"},\n",
    "                \"explanation\": {\"type\": \"STRING\"},\n",
    "            },\n",
    "            \"required\": [\"score\", \"explanation\"],\n",
    "        },\n",
    "        \"Key Themes\": {\n",
    "            \"type\": \"OBJECT\",\n",
    "            \"properties\": {\n",
    "                \"score\": {\"type\": \"NUMBER\"},\n",
    "                \"explanation\": {\"type\": \"STRING\"},\n",
    "            },\n",
    "            \"required\": [\"score\", \"explanation\"],\n",
    "        },\n",
    "        \"People Appearing And Mentioned\": {\n",
    "            \"type\": \"OBJECT\",\n",
    "            \"properties\": {\n",
    "                \"score\": {\"type\": \"NUMBER\"},\n",
    "                \"explanation\": {\"type\": \"STRING\"},\n",
    "            },\n",
    "            \"required\": [\"score\", \"explanation\"],\n",
    "        },\n",
    "    },\n",
    "    \"required\": [\n",
    "        \"Category\",\n",
    "        \"Detailed Description Of Events And Conversations\",\n",
    "        \"Brands, CompanyNames, and Logos\",\n",
    "        \"KeyLocations And Scenes\",\n",
    "        \"Key Themes\",\n",
    "        \"People Appearing And Mentioned\",\n",
    "    ],\n",
    "}\n",
    "    autorater = GenerativeModel(\n",
    "        \"gemini-1.5-pro\",\n",
    "        generation_config=GenerationConfig(\n",
    "            response_mime_type=\"application/json\",\n",
    "            response_schema=metric_response_schema,\n",
    "        ),\n",
    "        safety_settings={\n",
    "            HarmCategory.HARM_CATEGORY_UNSPECIFIED: HarmBlockThreshold.BLOCK_NONE,\n",
    "            HarmCategory.HARM_CATEGORY_DANGEROUS_CONTENT: HarmBlockThreshold.BLOCK_NONE,\n",
    "            HarmCategory.HARM_CATEGORY_HATE_SPEECH: HarmBlockThreshold.BLOCK_NONE,\n",
    "            HarmCategory.HARM_CATEGORY_HARASSMENT: HarmBlockThreshold.BLOCK_NONE,\n",
    "            HarmCategory.HARM_CATEGORY_SEXUALLY_EXPLICIT: HarmBlockThreshold.BLOCK_NONE,\n",
    "        },\n",
    "    )\n",
    "\n",
    "    response = autorater.generate_content(metric_prompt)\n",
    "\n",
    "    response_json = {}\n",
    "\n",
    "    if response.candidates and len(response.candidates) > 0:\n",
    "        candidate = response.candidates[0]\n",
    "        if (\n",
    "            candidate.content\n",
    "            and candidate.content.parts\n",
    "            and len(candidate.content.parts) > 0\n",
    "        ):\n",
    "            part = candidate.content.parts[0]\n",
    "            if part.text:\n",
    "                response_json = json.loads(part.text)\n",
    "    print(response_json)\n",
    "    return response_json\n",
    "\n",
    "def custom_coverage_fn(instance):\n",
    "   \n",
    "    video_uri = instance[\"reference\"][\"video_uri\"]\n",
    "    video_metadata = instance[\"reference\"][\"video_metadata\"]\n",
    "    response_A = instance[\"response_A\"]\n",
    "    response_B = instance[\"response_B\"]\n",
    "\n",
    "    eval_instruction_template = \"\"\"\n",
    "\n",
    "  # Instruction\n",
    "  You are an expert evaluator. Your task is to evaluate the quality of the responses generated by AI models. We will provide you with the user prompt,  and AI-generated responses for model A and B, video and the segment for which this response is generated.\n",
    "  You should first read the user input carefully for analyzing the task, then look into video segment, and then evaluate the quality of the responses based on the Criteria provided in the Evaluation section below.\n",
    "  You will assign the response a rating following the Rating Rubric and Evaluation Steps. Give step by step explanations for your rating, and only choose ratings from the Rating Rubric.\n",
    "\n",
    "  # Evaluation\n",
    "  ## Metric Definition\n",
    "  You will be assessing coverage, which measures the ability to provide a detailed response based on a the given video segment and requested properties.\n",
    "  \n",
    "\n",
    "  ## Criteria\n",
    "  Coverage: It is the quality of capturing all required detail for each requested property.\n",
    "  In the context of video content capturing, it refers to the way that all the details of the following properties are captured and presented throughly:\n",
    "  \n",
    "  - Category \n",
    "  - Detailed Description Of Events And Conversations \n",
    "  - Brands,CompanyNames, and Logos \n",
    "  - KeyLocations And Scenes\" \n",
    "  - Key Themes \n",
    "  - People Appearing And Mentioned \n",
    "  \n",
    "  This AI-generated responses will be used for data retrieval. So, it has to be able to capture all the details of a scene. Rating rubric has to be calculated for each property separately.\n",
    "\n",
    "  ## Rating Rubric\n",
    "  1: (Model A Perfectly Aligned) model A has perfectly captured the most accurate content but model B could not\n",
    "  2: (Model B Perfectly Aligned) model B has perfectly captured the  most accurate content but model A could not\n",
    "  3: (Mode A and B Aligned) both model could capture the content accurately\n",
    "  4: (Mode A and B Not Aligned) neither of two model could capture the content accurately\n",
    "  5: (Mode A and B Slightly Aligned- A is more accurate) Both models could capture the content partially but model A is more accurate\n",
    "  6: (Mode A and B Slightly Aligned- B is more accurate) Both models could capture the content partially but model B is more accurate\n",
    "\n",
    "  ## Evaluation Steps \n",
    "  STEP 1:  Assess User Instruction:  Carefully read the user input prompt to understand the user's request and requested information.\n",
    "  STEP 2:  Analyze Video Segment: Examine the video segment for each requested property to to make sure all the requested information are captured in detail.\n",
    "  STEP 3: Evaluate Accuracy:  For each requested property, Check if the generated response correctly identifies the information and details described in the video segment.\n",
    "  STEP 4:  Identify Inconsistencies: for each requested property, look for any discrepancies or missed details between the video segment details and the captured information in the AI-generated responses. For example, if any information is missed, or not captured right for each property separately.\n",
    "  STEP 5:  Determine Score: Based on the previous steps, assign a score using the 1-5 rubric. Consider the severity of any inconsistencies and their potential impact on the data retrieval.\n",
    "  \n",
    "  ## AI-generate response model A:\n",
    "  {response_A}\n",
    "  \n",
    "   ## AI-generate response model B:\n",
    "  {response_B}\n",
    "  \"\"\"\n",
    " \n",
    "    # generate the eval\n",
    "    evaluation_prompt = [\n",
    "        eval_instruction_template,       \n",
    "        \"VIDEO URI: \",\n",
    "        video_uri,\n",
    "        \"VIDEO METADATA: \",\n",
    "        video_metadata,\n",
    "        \"GENERATED RESPONSE MODEL A: \",\n",
    "        response_A,\n",
    "        \"GENERATED RESPONSE MODEL B: \",\n",
    "        response_B,\n",
    "    ]\n",
    "\n",
    "   \n",
    "    \n",
    "    evaluation_response = get_autorater_response(evaluation_prompt)\n",
    "    print(evaluation_response)\n",
    "    return evaluation_response\n",
    "       \n",
    "    \n"
   ]
  },
  {
   "cell_type": "code",
   "execution_count": 154,
   "id": "1a7a32c9-7d05-41b4-b790-21456eae073a",
   "metadata": {
    "tags": []
   },
   "outputs": [],
   "source": [
    "import pandas as pd\n",
    "context = [\n",
    "    {\n",
    "        \"video_uri\": \"gs://raw_nine_files/vlt_video_extract/MAAT/MAAT2024_1_A_HBB.mp4\",\n",
    "        \"video_metadata\":json.dumps({\"start_offset\": {\"seconds\": start, \"nanos\": 0}, \"end_offset\": {\"seconds\": end, \"nanos\": 0}}, indent=2)\n",
    "    }\n",
    "]\n",
    "\n",
    "\n",
    "eval_dataset = pd.DataFrame(\n",
    "    {\n",
    "         \"instruction\": video_description_prompt,\n",
    "        \"context\":[None]  ,\n",
    "        \"response_A\": response1,\n",
    "         \"response_B\": response2,\n",
    "        \"reference\":context ,\n",
    "    \n",
    "    }\n",
    ")"
   ]
  },
  {
   "cell_type": "code",
   "execution_count": 155,
   "id": "606fe947-aa69-4de5-b737-c1bd9ee24769",
   "metadata": {
    "tags": []
   },
   "outputs": [
    {
     "name": "stdout",
     "output_type": "stream",
     "text": [
      "{'Category': {'score': 3, 'explanation': 'Both Model A and B correctly identified the category as \"TV Show\".'}, 'Detailed Description Of Events And Conversations': {'score': 5, 'explanation': 'Both Model A and Model B captured the overall events correctly but Model A is slightly better in terms of detailed description of events and conversation.'}, 'Brands, CompanyNames, and Logos': {'score': 1, 'explanation': 'Only Model A was able to correctly capture the brand name \"Fiji\" while Model B missed it. '}, 'KeyLocations And Scenes': {'score': 5, 'explanation': 'Model A is slightly better because it more accurately identified the key location as \"Sydney Harbour\" instead of just \"Modern living room with city view\". Both correctly identified the \"boxing gym\".'}, 'Key Themes': {'score': 3, 'explanation': 'Both models are aligned because they identify the correct theme such as dating, relationship, and first impression.'}, 'People Appearing And Mentioned': {'score': 5, 'explanation': 'Both Model A and B correctly identified the people appearing in the video, but Model A provided more details about each person.'}}\n",
      "{'Category': {'score': 3, 'explanation': 'Both Model A and B correctly identified the category as \"TV Show\".'}, 'Detailed Description Of Events And Conversations': {'score': 5, 'explanation': 'Both Model A and Model B captured the overall events correctly but Model A is slightly better in terms of detailed description of events and conversation.'}, 'Brands, CompanyNames, and Logos': {'score': 1, 'explanation': 'Only Model A was able to correctly capture the brand name \"Fiji\" while Model B missed it. '}, 'KeyLocations And Scenes': {'score': 5, 'explanation': 'Model A is slightly better because it more accurately identified the key location as \"Sydney Harbour\" instead of just \"Modern living room with city view\". Both correctly identified the \"boxing gym\".'}, 'Key Themes': {'score': 3, 'explanation': 'Both models are aligned because they identify the correct theme such as dating, relationship, and first impression.'}, 'People Appearing And Mentioned': {'score': 5, 'explanation': 'Both Model A and B correctly identified the people appearing in the video, but Model A provided more details about each person.'}}\n"
     ]
    }
   ],
   "source": [
    "eval_dataset['evaluations']=eval_dataset.apply(custom_coverage_fn,axis=1)"
   ]
  },
  {
   "cell_type": "code",
   "execution_count": 156,
   "id": "85780df3-6360-479b-ad16-c760f7e34642",
   "metadata": {
    "tags": []
   },
   "outputs": [
    {
     "data": {
      "text/html": [
       "<div>\n",
       "<style scoped>\n",
       "    .dataframe tbody tr th:only-of-type {\n",
       "        vertical-align: middle;\n",
       "    }\n",
       "\n",
       "    .dataframe tbody tr th {\n",
       "        vertical-align: top;\n",
       "    }\n",
       "\n",
       "    .dataframe thead th {\n",
       "        text-align: right;\n",
       "    }\n",
       "</style>\n",
       "<table border=\"1\" class=\"dataframe\">\n",
       "  <thead>\n",
       "    <tr style=\"text-align: right;\">\n",
       "      <th></th>\n",
       "      <th>instruction</th>\n",
       "      <th>context</th>\n",
       "      <th>response_A</th>\n",
       "      <th>response_B</th>\n",
       "      <th>reference</th>\n",
       "      <th>evaluations</th>\n",
       "    </tr>\n",
       "  </thead>\n",
       "  <tbody>\n",
       "    <tr>\n",
       "      <th>0</th>\n",
       "      <td>Your task is to provide a comprehensive descri...</td>\n",
       "      <td>None</td>\n",
       "      <td>{\"Category\": \"TV Show\", \"DetailedDescriptionOf...</td>\n",
       "      <td>{\"Category\": \"TV Show\", \"DetailedDescriptionOf...</td>\n",
       "      <td>{'video_uri': 'gs://raw_nine_files/vlt_video_e...</td>\n",
       "      <td>{'Category': {'score': 3, 'explanation': 'Both...</td>\n",
       "    </tr>\n",
       "  </tbody>\n",
       "</table>\n",
       "</div>"
      ],
      "text/plain": [
       "                                         instruction context  \\\n",
       "0  Your task is to provide a comprehensive descri...    None   \n",
       "\n",
       "                                          response_A  \\\n",
       "0  {\"Category\": \"TV Show\", \"DetailedDescriptionOf...   \n",
       "\n",
       "                                          response_B  \\\n",
       "0  {\"Category\": \"TV Show\", \"DetailedDescriptionOf...   \n",
       "\n",
       "                                           reference  \\\n",
       "0  {'video_uri': 'gs://raw_nine_files/vlt_video_e...   \n",
       "\n",
       "                                         evaluations  \n",
       "0  {'Category': {'score': 3, 'explanation': 'Both...  "
      ]
     },
     "execution_count": 156,
     "metadata": {},
     "output_type": "execute_result"
    }
   ],
   "source": [
    "eval_dataset"
   ]
  },
  {
   "cell_type": "code",
   "execution_count": 150,
   "id": "a89bbcc2-6922-4dce-af60-3a63399289b6",
   "metadata": {
    "tags": []
   },
   "outputs": [
    {
     "data": {
      "text/plain": [
       "{'Category': {'score': 3,\n",
       "  'explanation': 'Both models correctly identify the category as a TV show, likely a dating or reality show based on the content.'},\n",
       " 'Detailed Description Of Events And Conversations': {'score': 5,\n",
       "  'explanation': 'Model A captures more details of the conversations and events in the video segment. It mentions more names, interactions, and specifics about the conversation topics. Model B provides a decent overview but misses out on the nuances captured by model A.'},\n",
       " 'Brands, CompanyNames, and Logos': {'score': 1,\n",
       "  'explanation': 'Model A correctly identifies a \"Fiji\" bottle, likely water, which is visible in the video segment. Model B fails to identify any brands.'},\n",
       " 'KeyLocations And Scenes': {'score': 5,\n",
       "  'explanation': 'Model A provides a more comprehensive list of key locations and scenes, including a \"Sydney Harbour\" backdrop and specific details like a \"Boxing gym\" and \"Interview room.\" Model B is partially accurate but less detailed in its descriptions.'},\n",
       " 'Key Themes': {'score': 3,\n",
       "  'explanation': 'Both Models accurately capture the key themes of the video, which revolve around dating, relationships, and first impressions. There is a slight difference in the wording, but both capture the essence.'},\n",
       " 'People Appearing And Mentioned': {'score': 5,\n",
       "  'explanation': 'Model A provides a significantly more detailed list of people appearing and mentioned in the video segment, along with their ages and professions where applicable. Model B correctly identifies a few key individuals but lacks the comprehensiveness of Model A.'}}"
      ]
     },
     "execution_count": 150,
     "metadata": {},
     "output_type": "execute_result"
    }
   ],
   "source": [
    "evaluations=eval_dataset['evaluations'][0]\n",
    "evaluations"
   ]
  },
  {
   "cell_type": "code",
   "execution_count": 157,
   "id": "5d8095d3-e30c-4e4d-9710-ec7a037bc8b2",
   "metadata": {
    "tags": []
   },
   "outputs": [
    {
     "data": {
      "text/html": [
       "<div>\n",
       "<style scoped>\n",
       "    .dataframe tbody tr th:only-of-type {\n",
       "        vertical-align: middle;\n",
       "    }\n",
       "\n",
       "    .dataframe tbody tr th {\n",
       "        vertical-align: top;\n",
       "    }\n",
       "\n",
       "    .dataframe thead th {\n",
       "        text-align: right;\n",
       "    }\n",
       "</style>\n",
       "<table border=\"1\" class=\"dataframe\">\n",
       "  <thead>\n",
       "    <tr style=\"text-align: right;\">\n",
       "      <th></th>\n",
       "      <th>instruction</th>\n",
       "      <th>context</th>\n",
       "      <th>response_A</th>\n",
       "      <th>response_B</th>\n",
       "      <th>reference</th>\n",
       "      <th>evaluations</th>\n",
       "      <th>category_score</th>\n",
       "      <th>category_explanation</th>\n",
       "      <th>detailed_description_of_events_and_conversations_score</th>\n",
       "      <th>detailed_description_of_events_and_conversations_explanation</th>\n",
       "      <th>brands,_companynames,_and_logos_score</th>\n",
       "      <th>brands,_companynames,_and_logos_explanation</th>\n",
       "      <th>keylocations_and_scenes_score</th>\n",
       "      <th>keylocations_and_scenes_explanation</th>\n",
       "      <th>key_themes_score</th>\n",
       "      <th>key_themes_explanation</th>\n",
       "      <th>people_appearing_and_mentioned_score</th>\n",
       "      <th>people_appearing_and_mentioned_explanation</th>\n",
       "    </tr>\n",
       "  </thead>\n",
       "  <tbody>\n",
       "    <tr>\n",
       "      <th>0</th>\n",
       "      <td>Your task is to provide a comprehensive descri...</td>\n",
       "      <td>None</td>\n",
       "      <td>{\"Category\": \"TV Show\", \"DetailedDescriptionOf...</td>\n",
       "      <td>{\"Category\": \"TV Show\", \"DetailedDescriptionOf...</td>\n",
       "      <td>{'video_uri': 'gs://raw_nine_files/vlt_video_e...</td>\n",
       "      <td>{'Category': {'score': 3, 'explanation': 'Both...</td>\n",
       "      <td>3</td>\n",
       "      <td>Both Model A and B correctly identified the ca...</td>\n",
       "      <td>5</td>\n",
       "      <td>Both Model A and Model B captured the overall ...</td>\n",
       "      <td>1</td>\n",
       "      <td>Only Model A was able to correctly capture the...</td>\n",
       "      <td>5</td>\n",
       "      <td>Model A is slightly better because it more acc...</td>\n",
       "      <td>3</td>\n",
       "      <td>Both models are aligned because they identify ...</td>\n",
       "      <td>5</td>\n",
       "      <td>Both Model A and B correctly identified the pe...</td>\n",
       "    </tr>\n",
       "  </tbody>\n",
       "</table>\n",
       "</div>"
      ],
      "text/plain": [
       "                                         instruction context  \\\n",
       "0  Your task is to provide a comprehensive descri...    None   \n",
       "\n",
       "                                          response_A  \\\n",
       "0  {\"Category\": \"TV Show\", \"DetailedDescriptionOf...   \n",
       "\n",
       "                                          response_B  \\\n",
       "0  {\"Category\": \"TV Show\", \"DetailedDescriptionOf...   \n",
       "\n",
       "                                           reference  \\\n",
       "0  {'video_uri': 'gs://raw_nine_files/vlt_video_e...   \n",
       "\n",
       "                                         evaluations  category_score  \\\n",
       "0  {'Category': {'score': 3, 'explanation': 'Both...               3   \n",
       "\n",
       "                                category_explanation  \\\n",
       "0  Both Model A and B correctly identified the ca...   \n",
       "\n",
       "   detailed_description_of_events_and_conversations_score  \\\n",
       "0                                                  5        \n",
       "\n",
       "  detailed_description_of_events_and_conversations_explanation  \\\n",
       "0  Both Model A and Model B captured the overall ...             \n",
       "\n",
       "   brands,_companynames,_and_logos_score  \\\n",
       "0                                      1   \n",
       "\n",
       "         brands,_companynames,_and_logos_explanation  \\\n",
       "0  Only Model A was able to correctly capture the...   \n",
       "\n",
       "   keylocations_and_scenes_score  \\\n",
       "0                              5   \n",
       "\n",
       "                 keylocations_and_scenes_explanation  key_themes_score  \\\n",
       "0  Model A is slightly better because it more acc...                 3   \n",
       "\n",
       "                              key_themes_explanation  \\\n",
       "0  Both models are aligned because they identify ...   \n",
       "\n",
       "   people_appearing_and_mentioned_score  \\\n",
       "0                                     5   \n",
       "\n",
       "          people_appearing_and_mentioned_explanation  \n",
       "0  Both Model A and B correctly identified the pe...  "
      ]
     },
     "execution_count": 157,
     "metadata": {},
     "output_type": "execute_result"
    }
   ],
   "source": [
    "import pandas as pd\n",
    "\n",
    "# Define the keys for the categories\n",
    "keys = [\n",
    "    'Category', 'Detailed Description Of Events And Conversations', \n",
    "    'Brands, CompanyNames, and Logos', 'KeyLocations And Scenes', \n",
    "    'Key Themes', 'People Appearing And Mentioned'\n",
    "]\n",
    "\n",
    "# Function to extract the score and explanation for each category\n",
    "def flatten_evaluations(row):\n",
    "    flattened_data = {}\n",
    "    for key in keys:\n",
    "        flattened_data[f\"{key.lower().replace(' ', '_')}_score\"] = row[key]['score']\n",
    "        flattened_data[f\"{key.lower().replace(' ', '_')}_explanation\"] = row[key]['explanation']\n",
    "    return flattened_data\n",
    "\n",
    "# Apply the function to flatten the 'evaluations' column and create new columns\n",
    "flattened_df = eval_dataset['evaluations'].apply(flatten_evaluations)\n",
    "\n",
    "# Join the flattened columns to the original dataframe\n",
    "eval_dataset_df = eval_dataset.join(pd.json_normalize(flattened_df))\n",
    "\n",
    "# Display the result\n",
    "eval_dataset_df\n"
   ]
  },
  {
   "cell_type": "code",
   "execution_count": 159,
   "id": "ed00f64e-25bb-49ac-a1e4-84c2757368d2",
   "metadata": {
    "tags": []
   },
   "outputs": [],
   "source": [
    "eval_dataset_df.to_csv('comparision.csv')"
   ]
  },
  {
   "cell_type": "code",
   "execution_count": null,
   "id": "eba11f6d-d6d6-4591-b9c6-b2033ed1c610",
   "metadata": {},
   "outputs": [],
   "source": []
  }
 ],
 "metadata": {
  "environment": {
   "kernel": "python3",
   "name": "tf2-cpu.2-11.m123",
   "type": "gcloud",
   "uri": "us-docker.pkg.dev/deeplearning-platform-release/gcr.io/tf2-cpu.2-11:m123"
  },
  "kernelspec": {
   "display_name": "Python 3 (Local)",
   "language": "python",
   "name": "python3"
  },
  "language_info": {
   "codemirror_mode": {
    "name": "ipython",
    "version": 3
   },
   "file_extension": ".py",
   "mimetype": "text/x-python",
   "name": "python",
   "nbconvert_exporter": "python",
   "pygments_lexer": "ipython3",
   "version": "3.10.14"
  }
 },
 "nbformat": 4,
 "nbformat_minor": 5
}
