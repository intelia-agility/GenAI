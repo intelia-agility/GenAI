{
 "cells": [
  {
   "cell_type": "code",
   "execution_count": 3,
   "id": "b1b38570-6756-4cc9-9159-21243a29f2f7",
   "metadata": {
    "tags": []
   },
   "outputs": [
    {
     "data": {
      "text/plain": [
       "{'Category': 'TV Show',\n",
       " 'DetailedDescriptionOfEventsAndConversations': 'The video shows Jayden, a 26-year-old professional kickboxer from Queensland, meeting other participants of the show. Jayden is wearing a maroon shirt and has his long blonde hair tied in a bun. He wears a gold chain with a cross pendant. He introduces himself to Tim, Richard, and an older gentleman. Richard is wearing a light beige shirt. Tim wears a white shirt with black squiggly lines. The older gentleman is wearing a navy jacket with a green paisley scarf, a black shirt, and grey pants. He is also wearing black-rimmed glasses. The four men continue their conversation sitting on navy sofas with throw pillows, around a wooden coffee table with a candle. Outside, city lights are visible over the water. Richard asks Jayden about his job. Jayden reveals he is a professional kickboxer, which surprises the men. Richard jokes about not wanting to spar with Jayden. Jayden talks about being a “softy” despite his profession. In an interview segment filmed in a boxing ring, Jayden explains his softer side while wearing a navy polo shirt. Back at the gathering, Jayden is asked about his type. He replies that he does not have a typical type and is open-minded about what he’s looking for in a partner.\\n\\n\\nThe scene changes to a nighttime view of Sydney Harbor Bridge. The Sydney Opera House is partially visible on the left side. The scene changes to a woman in the back seat of a car at night. The woman is wearing a sparkly pink jacket, a fuchsia dress, and large gold earrings. She sings a song about ‘brie’. The woman’s name is Lucinda, and she is a 43-year-old MC and wedding celebrant from New South Wales. At sunrise, Lucinda is walking on a beach, wearing a turquoise halter top and a multicolored skirt. The scene switches to Lucinda in an interview segment. She’s indoors in what appears to be a yurt or tent-like structure, with plants and furniture visible. She is wearing a brown jacket and large gold hoop earrings. Lucinda says she “loves to wildly express” herself. \\n\\n\\nThe scene shifts to Lucinda arriving at a gathering, wearing a pink sequined jacket over a pink dress and large gold earrings. She greets Tori and Natasha. Tori is wearing a pale floral print dress. Natasha is wearing a coral-red and pink strappy dress. Lucinda chats with them and they compliment each other. Next, Lucinda is in a consultation, sitting on an ivory armchair. She is wearing a dark olive-green sleeveless dress and a colorful scarf. She unrolls a scroll listing her ideal partner’s characteristics and explains that she’s seeking a confident man, generous of spirit, who is a great cook, and has a good sense of humor. Lucinda says a good cook is a ‘must-have’ and her ideal partner should be able to ‘laugh at the cosmic joke that’s life’. She jokes that her perfect partner should also have a “high functioning erection”.\\n\\n\\nThen, the scene returns to the gathering. Lucinda sits with Tori, Natasha, and a brunette woman dressed in a purple gown. Lucinda is sharing her romantic ‘manifesto’ with the other women, reading from her scroll. She reveals that she’s looking for a well-established, secure man without a big ego, someone confident but with nothing to prove. Tori chimes in, saying she’d like a nerdy guy. Lucinda suggests that Tori find someone intelligent to challenge her. Lucinda explains that she wrote down everyone’s names in a notebook. The women take turns sharing the colors they associate with each other, noting Lucinda’s pink color. The last woman to arrive is wearing a forest green halter top and skirt set.\\n\\n\\nIn a brief interview segment, filmed by a railing overlooking city lights reflecting on water, Tori shares her enthusiasm about Lucinda’s arrival. In the gathering, Lucinda tells the women that there are “some really beautiful gorgeous women there, fully there, ready, you know, sleeves up for whatever’s ahead.” Back at the beach, Lucinda, Tori, and Natasha celebrate, and Lucinda exclaims, “We’re getting married!” Back in the city at night, Lucinda expresses her excitement about beginning the experiment and the hope of meeting her husband. At the gathering, Lucinda speaks to John Aiken, a relationship expert. She compliments his exquisite shirt and expresses her belief that his shirt’s color represents transcendence.\\n\\n\\nThe voiceover describes the remaining brides and grooms arriving and preparing for the experiment.\\n\\n\\nAnother woman says: “Walk me down the altar, let me meet my beautiful husband, and live happily ever after.”\\n\\n\\nThe voiceover observes the participants’ excitement and eagerness to begin their relationships.',\n",
       " 'BrandsCompanyNamesLogos': [],\n",
       " 'KeyLocationsAndScenes': ['Apartment',\n",
       "  'Sydney Harbour Bridge',\n",
       "  'Beach',\n",
       "  'Yurt',\n",
       "  'City at night'],\n",
       " 'KeyThemes': ['First impressions',\n",
       "  'Romance',\n",
       "  'Relationships',\n",
       "  'Marriage',\n",
       "  'Dating experiment'],\n",
       " 'PeopleAppearingAndMentioned': ['Jayden, 26, Professional Kickboxer, QLD',\n",
       "  'Tim',\n",
       "  'Richard',\n",
       "  'Lucinda, 43, MC & Wedding Celebrant, NSW',\n",
       "  'Tori',\n",
       "  'Natasha',\n",
       "  'John Aiken, Relationship Expert']}"
      ]
     },
     "execution_count": 3,
     "metadata": {},
     "output_type": "execute_result"
    }
   ],
   "source": [
    "import json\n",
    "\n",
    "# Provided JSON string\n",
    "json_string =  \"\"\"{\n",
    "  \"Category\": \"TV Show\",\n",
    "  \"DetailedDescriptionOfEventsAndConversations\": \"The video shows Jayden, a 26-year-old professional kickboxer from Queensland, meeting other participants of the show. Jayden is wearing a maroon shirt and has his long blonde hair tied in a bun. He wears a gold chain with a cross pendant. He introduces himself to Tim, Richard, and an older gentleman. Richard is wearing a light beige shirt. Tim wears a white shirt with black squiggly lines. The older gentleman is wearing a navy jacket with a green paisley scarf, a black shirt, and grey pants. He is also wearing black-rimmed glasses. The four men continue their conversation sitting on navy sofas with throw pillows, around a wooden coffee table with a candle. Outside, city lights are visible over the water. Richard asks Jayden about his job. Jayden reveals he is a professional kickboxer, which surprises the men. Richard jokes about not wanting to spar with Jayden. Jayden talks about being a “softy” despite his profession. In an interview segment filmed in a boxing ring, Jayden explains his softer side while wearing a navy polo shirt. Back at the gathering, Jayden is asked about his type. He replies that he does not have a typical type and is open-minded about what he’s looking for in a partner.\\n\\n\\nThe scene changes to a nighttime view of Sydney Harbor Bridge. The Sydney Opera House is partially visible on the left side. The scene changes to a woman in the back seat of a car at night. The woman is wearing a sparkly pink jacket, a fuchsia dress, and large gold earrings. She sings a song about ‘brie’. The woman’s name is Lucinda, and she is a 43-year-old MC and wedding celebrant from New South Wales. At sunrise, Lucinda is walking on a beach, wearing a turquoise halter top and a multicolored skirt. The scene switches to Lucinda in an interview segment. She’s indoors in what appears to be a yurt or tent-like structure, with plants and furniture visible. She is wearing a brown jacket and large gold hoop earrings. Lucinda says she “loves to wildly express” herself. \\n\\n\\nThe scene shifts to Lucinda arriving at a gathering, wearing a pink sequined jacket over a pink dress and large gold earrings. She greets Tori and Natasha. Tori is wearing a pale floral print dress. Natasha is wearing a coral-red and pink strappy dress. Lucinda chats with them and they compliment each other. Next, Lucinda is in a consultation, sitting on an ivory armchair. She is wearing a dark olive-green sleeveless dress and a colorful scarf. She unrolls a scroll listing her ideal partner’s characteristics and explains that she’s seeking a confident man, generous of spirit, who is a great cook, and has a good sense of humor. Lucinda says a good cook is a ‘must-have’ and her ideal partner should be able to ‘laugh at the cosmic joke that’s life’. She jokes that her perfect partner should also have a “high functioning erection”.\\n\\n\\nThen, the scene returns to the gathering. Lucinda sits with Tori, Natasha, and a brunette woman dressed in a purple gown. Lucinda is sharing her romantic ‘manifesto’ with the other women, reading from her scroll. She reveals that she’s looking for a well-established, secure man without a big ego, someone confident but with nothing to prove. Tori chimes in, saying she’d like a nerdy guy. Lucinda suggests that Tori find someone intelligent to challenge her. Lucinda explains that she wrote down everyone’s names in a notebook. The women take turns sharing the colors they associate with each other, noting Lucinda’s pink color. The last woman to arrive is wearing a forest green halter top and skirt set.\\n\\n\\nIn a brief interview segment, filmed by a railing overlooking city lights reflecting on water, Tori shares her enthusiasm about Lucinda’s arrival. In the gathering, Lucinda tells the women that there are “some really beautiful gorgeous women there, fully there, ready, you know, sleeves up for whatever’s ahead.” Back at the beach, Lucinda, Tori, and Natasha celebrate, and Lucinda exclaims, “We’re getting married!” Back in the city at night, Lucinda expresses her excitement about beginning the experiment and the hope of meeting her husband. At the gathering, Lucinda speaks to John Aiken, a relationship expert. She compliments his exquisite shirt and expresses her belief that his shirt’s color represents transcendence.\\n\\n\\nThe voiceover describes the remaining brides and grooms arriving and preparing for the experiment.\\n\\n\\nAnother woman says: “Walk me down the altar, let me meet my beautiful husband, and live happily ever after.”\\n\\n\\nThe voiceover observes the participants’ excitement and eagerness to begin their relationships.\",\n",
    "  \"BrandsCompanyNamesLogos\": [],\n",
    "  \"KeyLocationsAndScenes\": [\n",
    "    \"Apartment\",\n",
    "    \"Sydney Harbour Bridge\",\n",
    "    \"Beach\",\n",
    "    \"Yurt\",\n",
    "    \"City at night\"\n",
    "  ],\n",
    "  \"KeyThemes\": [\n",
    "    \"First impressions\",\n",
    "    \"Romance\",\n",
    "    \"Relationships\",\n",
    "    \"Marriage\",\n",
    "    \"Dating experiment\"\n",
    "  ],\n",
    "  \"PeopleAppearingAndMentioned\": [\n",
    "    \"Jayden, 26, Professional Kickboxer, QLD\",\n",
    "    \"Tim\",\n",
    "    \"Richard\",\n",
    "    \"Lucinda, 43, MC & Wedding Celebrant, NSW\",\n",
    "    \"Tori\",\n",
    "    \"Natasha\",\n",
    "    \"John Aiken, Relationship Expert\"\n",
    "  ]\n",
    "}\"\"\"\n",
    "\n",
    "# Convert JSON string to a Python dictionary\n",
    "parsed_json = json.loads(json_string, strict=False)\n",
    "\n",
    "parsed_json\n",
    " "
   ]
  },
  {
   "cell_type": "code",
   "execution_count": null,
   "id": "20512a07-3de1-4834-a85b-05a734b8323c",
   "metadata": {},
   "outputs": [],
   "source": []
  }
 ],
 "metadata": {
  "environment": {
   "kernel": "python3",
   "name": "tf2-cpu.2-11.m123",
   "type": "gcloud",
   "uri": "us-docker.pkg.dev/deeplearning-platform-release/gcr.io/tf2-cpu.2-11:m123"
  },
  "kernelspec": {
   "display_name": "Python 3 (Local)",
   "language": "python",
   "name": "python3"
  },
  "language_info": {
   "codemirror_mode": {
    "name": "ipython",
    "version": 3
   },
   "file_extension": ".py",
   "mimetype": "text/x-python",
   "name": "python",
   "nbconvert_exporter": "python",
   "pygments_lexer": "ipython3",
   "version": "3.10.14"
  }
 },
 "nbformat": 4,
 "nbformat_minor": 5
}
