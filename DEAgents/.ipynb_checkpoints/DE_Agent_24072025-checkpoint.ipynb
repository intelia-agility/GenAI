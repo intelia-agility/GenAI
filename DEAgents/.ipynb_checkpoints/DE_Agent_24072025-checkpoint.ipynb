{
 "cells": [
  {
   "cell_type": "code",
   "execution_count": null,
   "id": "3d242840-7175-47cd-a6e5-0e0a8e2985fd",
   "metadata": {
    "tags": []
   },
   "outputs": [],
   "source": [
    "!python3 -m pip install google-adk==1.2.1"
   ]
  },
  {
   "cell_type": "code",
   "execution_count": null,
   "id": "46b1ab95-a75f-42b5-9e2e-013d9e0d15f7",
   "metadata": {
    "tags": []
   },
   "outputs": [],
   "source": [
    "!pip install crewai"
   ]
  },
  {
   "cell_type": "code",
   "execution_count": null,
   "id": "705b6084-9817-4664-938e-1c53da24fc08",
   "metadata": {
    "tags": []
   },
   "outputs": [],
   "source": [
    "# main.py\n",
    "from crewai import Crew\n",
    "from agents  import schema_extractor_agent, object_metadata_agent, bq_mapper_agent\n",
    "from tasks import AgentTasks\n",
    "from langchain_core.utils.function_calling import convert_to_openai_tool\n",
    "from tools.schema_listing_tool import list_bigquery_objects\n",
    "from tools.object_metadata_tool import get_object_metadata"
   ]
  },
  {
   "cell_type": "code",
   "execution_count": null,
   "id": "55ef7a0b-4752-4282-8884-28509064096b",
   "metadata": {
    "tags": []
   },
   "outputs": [],
   "source": [
    "# main.py\n",
    "from crewai import Crew\n",
    "from agents  import schema_extractor_agent, object_metadata_agent, bq_mapper_agent\n",
    "from tasks import AgentTasks\n",
    "from langchain_core.utils.function_calling import convert_to_openai_tool\n",
    "from tools.schema_listing_tool import list_bigquery_objects\n",
    "from tools.object_metadata_tool import get_object_metadata\n",
    "def main():\n",
    "    project_id='nine-quality-test'\n",
    "    # Step 1: Get all object names\n",
    "    # Call the raw Python function directly with parameters\n",
    "    object_list = list_bigquery_objects.func(project_id=project_id)\n",
    "    results = []\n",
    "    for dataset in object_list.keys():\n",
    "        all_objects = [\n",
    "            (\"table\", name) for name in object_list[dataset][\"tables\"]\n",
    "        ] + [\n",
    "            (\"view\", name) for name in object_list[dataset][\"views\"]\n",
    "        ]  # You can later include procedures/functions too\n",
    "\n",
    "   \n",
    "\n",
    "        for object_type, object_name in all_objects:\n",
    "            print(f\"\\n🔍 Analyzing {object_type.upper()} `{object_name}`...\")\n",
    "\n",
    "            # Step 2: Metadata extraction task\n",
    "      \n",
    "            metadata_task = AgentTasks.create_metadata_task(project_id, dataset, object_type, object_name, object_metadata_agent)\n",
    "            metadata_crew = Crew(\n",
    "                agents=[object_metadata_agent],\n",
    "                tasks=[metadata_task],\n",
    "                verbose=False\n",
    "            )\n",
    "            \n",
    "            metadata = metadata_crew.kickoff()         \n",
    "\n",
    "            # Step 3: Mapping to BigQuery\n",
    "            mapping_task = AgentTasks.create_mapping_task(metadata, bq_mapper_agent)\n",
    "            mapping_crew = Crew(\n",
    "                agents=[bq_mapper_agent],\n",
    "                tasks=[mapping_task],\n",
    "                verbose=False\n",
    "            )\n",
    "            bq_result = mapping_crew.kickoff()\n",
    "\n",
    "            results.append({\n",
    "                \"object\": object_name,\n",
    "                \"type\": object_type,\n",
    "                \"bigquery_schema\": bq_result,\n",
    "                \"dataset\":dataset\n",
    "            })\n",
    "            \n",
    "            \n",
    "\n",
    "    # Final report\n",
    "    print(\"\\n\\n🧾 === BIGQUERY MIGRATION SUMMARY ===\")\n",
    "    for obj in results:\n",
    "        print(f\"\\nObject: {obj['type'].upper()} `{obj['object']}`\")\n",
    "        print(obj[\"bigquery_schema\"])\n",
    "\n",
    "if __name__ == \"__main__\":\n",
    "    main()\n"
   ]
  },
  {
   "cell_type": "code",
   "execution_count": null,
   "id": "31cc9fa6-0221-4626-9301-6e4d5da05e22",
   "metadata": {},
   "outputs": [],
   "source": []
  },
  {
   "cell_type": "code",
   "execution_count": null,
   "id": "ebe510f5-552f-4389-8252-6ba200603d65",
   "metadata": {},
   "outputs": [],
   "source": []
  },
  {
   "cell_type": "code",
   "execution_count": null,
   "id": "2624a0c2-ae27-4350-814b-5a9ad63060eb",
   "metadata": {},
   "outputs": [],
   "source": []
  },
  {
   "cell_type": "code",
   "execution_count": null,
   "id": "72931459-1bd2-4415-9e3b-fe208aa65ab9",
   "metadata": {},
   "outputs": [],
   "source": []
  },
  {
   "cell_type": "code",
   "execution_count": null,
   "id": "c7deeebd-32b0-4274-90e1-0944a8d6c591",
   "metadata": {
    "tags": []
   },
   "outputs": [],
   "source": []
  },
  {
   "cell_type": "code",
   "execution_count": null,
   "id": "8a3d50b2-a404-472e-a8b1-8a9e4a821c4e",
   "metadata": {},
   "outputs": [],
   "source": []
  },
  {
   "cell_type": "code",
   "execution_count": null,
   "id": "ccc55f7b-fff8-4dfe-9d11-eb313d16809d",
   "metadata": {},
   "outputs": [],
   "source": []
  },
  {
   "cell_type": "code",
   "execution_count": null,
   "id": "5f24d288-455a-4468-a5ed-7a75148cc56b",
   "metadata": {},
   "outputs": [],
   "source": []
  },
  {
   "cell_type": "code",
   "execution_count": null,
   "id": "329b3a05-5290-4593-8317-345f0469c53d",
   "metadata": {},
   "outputs": [],
   "source": []
  },
  {
   "cell_type": "code",
   "execution_count": null,
   "id": "0a8eb719-92ab-4c8b-a711-361dd5711aff",
   "metadata": {},
   "outputs": [],
   "source": [
    "!pip uninstall opentelemetry-sdk opentelemetry-api opentelemetry-exporter-otlp-proto -y\n",
    "!pip install langchain-openai\n",
    "!pip install langchain\n",
    "!pip install langchain[google-genai]\n",
    "!pip install langchain[vertexai]\n",
    "!pip install -U langchain langchain-google-vertexai google-cloud-aiplatform\n",
    "!pip install pyodbc\n",
    "!pip install pymssql\n",
    "\n",
    "\n",
    "\n",
    "!pip install \\\n",
    "  opentelemetry-api==1.24.0 \\\n",
    "  opentelemetry-sdk==1.24.0 \\\n",
    "  opentelemetry-exporter-otlp==1.24.0\n"
   ]
  }
 ],
 "metadata": {
  "environment": {
   "kernel": "conda-base-py",
   "name": "workbench-notebooks.m130",
   "type": "gcloud",
   "uri": "us-docker.pkg.dev/deeplearning-platform-release/gcr.io/workbench-notebooks:m130"
  },
  "kernelspec": {
   "display_name": "Python 3 (ipykernel) (Local)",
   "language": "python",
   "name": "conda-base-py"
  },
  "language_info": {
   "codemirror_mode": {
    "name": "ipython",
    "version": 3
   },
   "file_extension": ".py",
   "mimetype": "text/x-python",
   "name": "python",
   "nbconvert_exporter": "python",
   "pygments_lexer": "ipython3",
   "version": "3.10.18"
  }
 },
 "nbformat": 4,
 "nbformat_minor": 5
}
