{
 "cells": [
  {
   "cell_type": "markdown",
   "id": "6a87cf31-acfb-4863-828a-737fc3fa4a8e",
   "metadata": {},
   "source": [
    "### code to refresh datastore for ai app"
   ]
  },
  {
   "cell_type": "code",
   "execution_count": 3,
   "id": "0d372515-ea80-4c20-b149-43c12d6d5a95",
   "metadata": {
    "tags": []
   },
   "outputs": [
    {
     "name": "stdout",
     "output_type": "stream",
     "text": [
      "Waiting for operation to complete: projects/957468294793/locations/us/collections/default_collection/dataStores/whealth-nonstream-conn_1751769134032/branches/0/operations/import-documents-14890904316085030335\n",
      "error_config {\n",
      "  gcs_prefix: \"gs://957468294793_us_import_fhir_store/errors14890904316085029670\"\n",
      "}\n",
      "\n",
      "create_time {\n",
      "  seconds: 1751783067\n",
      "  nanos: 787850000\n",
      "}\n",
      "update_time {\n",
      "  seconds: 1751783191\n",
      "  nanos: 288454000\n",
      "}\n",
      "success_count: 3978\n",
      "total_count: 3978\n",
      "\n"
     ]
    }
   ],
   "source": [
    "from google.api_core.client_options import ClientOptions\n",
    "from google.cloud import discoveryengine\n",
    "\n",
    "project_id = \"intelia-health\"\n",
    "location = \"us\" # Values: \"us\"\n",
    "data_store_id = \"whealth-nonstream-conn_1751769134032\"\n",
    "healthcare_project_id = \"intelia-health\"\n",
    "healthcare_location = \"us\"\n",
    "healthcare_dataset_id = \"Whealth\"\n",
    "healthcare_fihr_store_id = \"whealth_fhirdata\"\n",
    "\n",
    "#  For more information, refer to:\n",
    "# https://cloud.google.com/generative-ai-app-builder/docs/locations#specify_a_multi-region_for_your_data_store\n",
    "client_options = (\n",
    "    ClientOptions(api_endpoint=f\"{location}-discoveryengine.googleapis.com\")\n",
    "    if location != \"global\"\n",
    "    else None\n",
    ")\n",
    "\n",
    "# Create a client\n",
    "client = discoveryengine.DocumentServiceClient(client_options=client_options)\n",
    "\n",
    "# The full resource name of the search engine branch.\n",
    "# e.g. projects/{project}/locations/{location}/dataStores/{data_store_id}/branches/{branch}\n",
    "parent = client.branch_path(\n",
    "    project=project_id,\n",
    "    location=location,\n",
    "    data_store=data_store_id,\n",
    "    branch=\"default_branch\",\n",
    ")\n",
    "\n",
    "request = discoveryengine.ImportDocumentsRequest(\n",
    "    parent=parent,\n",
    "    fhir_store_source=discoveryengine.FhirStoreSource(\n",
    "        fhir_store=client.fhir_store_path(\n",
    "            healthcare_project_id,\n",
    "            healthcare_location,\n",
    "            healthcare_dataset_id,\n",
    "            healthcare_fihr_store_id,\n",
    "        ),\n",
    "    ),\n",
    "    # Options: `FULL`, `INCREMENTAL`\n",
    "    reconciliation_mode=discoveryengine.ImportDocumentsRequest.ReconciliationMode.INCREMENTAL,\n",
    ")\n",
    "\n",
    "# Make the request\n",
    "operation = client.import_documents(request=request)\n",
    "\n",
    "print(f\"Waiting for operation to complete: {operation.operation.name}\")\n",
    "response = operation.result()\n",
    "\n",
    "# After the operation is complete,\n",
    "# get information from operation metadata\n",
    "metadata = discoveryengine.ImportDocumentsMetadata(operation.metadata)\n",
    "\n",
    "# Handle the response\n",
    "print(response)\n",
    "print(metadata)"
   ]
  },
  {
   "cell_type": "code",
   "execution_count": 2,
   "id": "174a7266-5384-44c5-aba7-3c7c5e99fd9b",
   "metadata": {
    "tags": []
   },
   "outputs": [
    {
     "name": "stdout",
     "output_type": "stream",
     "text": [
      "Collecting google-cloud-discoveryengine\n",
      "  Downloading google_cloud_discoveryengine-0.13.9-py3-none-any.whl.metadata (9.6 kB)\n",
      "Requirement already satisfied: google-api-core!=2.0.*,!=2.1.*,!=2.10.*,!=2.2.*,!=2.3.*,!=2.4.*,!=2.5.*,!=2.6.*,!=2.7.*,!=2.8.*,!=2.9.*,<3.0.0,>=1.34.1 in /opt/conda/lib/python3.10/site-packages (from google-api-core[grpc]!=2.0.*,!=2.1.*,!=2.10.*,!=2.2.*,!=2.3.*,!=2.4.*,!=2.5.*,!=2.6.*,!=2.7.*,!=2.8.*,!=2.9.*,<3.0.0,>=1.34.1->google-cloud-discoveryengine) (2.25.0)\n",
      "Requirement already satisfied: google-auth!=2.24.0,!=2.25.0,<3.0.0,>=2.14.1 in /opt/conda/lib/python3.10/site-packages (from google-cloud-discoveryengine) (2.40.3)\n",
      "Requirement already satisfied: proto-plus<2.0.0,>=1.22.3 in /opt/conda/lib/python3.10/site-packages (from google-cloud-discoveryengine) (1.26.1)\n",
      "Requirement already satisfied: protobuf!=4.21.0,!=4.21.1,!=4.21.2,!=4.21.3,!=4.21.4,!=4.21.5,<7.0.0,>=3.20.2 in /opt/conda/lib/python3.10/site-packages (from google-cloud-discoveryengine) (3.20.3)\n",
      "Requirement already satisfied: googleapis-common-protos<2.0.0,>=1.56.2 in /opt/conda/lib/python3.10/site-packages (from google-api-core!=2.0.*,!=2.1.*,!=2.10.*,!=2.2.*,!=2.3.*,!=2.4.*,!=2.5.*,!=2.6.*,!=2.7.*,!=2.8.*,!=2.9.*,<3.0.0,>=1.34.1->google-api-core[grpc]!=2.0.*,!=2.1.*,!=2.10.*,!=2.2.*,!=2.3.*,!=2.4.*,!=2.5.*,!=2.6.*,!=2.7.*,!=2.8.*,!=2.9.*,<3.0.0,>=1.34.1->google-cloud-discoveryengine) (1.70.0)\n",
      "Requirement already satisfied: requests<3.0.0,>=2.18.0 in /opt/conda/lib/python3.10/site-packages (from google-api-core!=2.0.*,!=2.1.*,!=2.10.*,!=2.2.*,!=2.3.*,!=2.4.*,!=2.5.*,!=2.6.*,!=2.7.*,!=2.8.*,!=2.9.*,<3.0.0,>=1.34.1->google-api-core[grpc]!=2.0.*,!=2.1.*,!=2.10.*,!=2.2.*,!=2.3.*,!=2.4.*,!=2.5.*,!=2.6.*,!=2.7.*,!=2.8.*,!=2.9.*,<3.0.0,>=1.34.1->google-cloud-discoveryengine) (2.32.4)\n",
      "Requirement already satisfied: grpcio<2.0.0,>=1.33.2 in /opt/conda/lib/python3.10/site-packages (from google-api-core[grpc]!=2.0.*,!=2.1.*,!=2.10.*,!=2.2.*,!=2.3.*,!=2.4.*,!=2.5.*,!=2.6.*,!=2.7.*,!=2.8.*,!=2.9.*,<3.0.0,>=1.34.1->google-cloud-discoveryengine) (1.73.0)\n",
      "Requirement already satisfied: grpcio-status<2.0.0,>=1.33.2 in /opt/conda/lib/python3.10/site-packages (from google-api-core[grpc]!=2.0.*,!=2.1.*,!=2.10.*,!=2.2.*,!=2.3.*,!=2.4.*,!=2.5.*,!=2.6.*,!=2.7.*,!=2.8.*,!=2.9.*,<3.0.0,>=1.34.1->google-cloud-discoveryengine) (1.48.2)\n",
      "Requirement already satisfied: cachetools<6.0,>=2.0.0 in /opt/conda/lib/python3.10/site-packages (from google-auth!=2.24.0,!=2.25.0,<3.0.0,>=2.14.1->google-cloud-discoveryengine) (5.5.2)\n",
      "Requirement already satisfied: pyasn1-modules>=0.2.1 in /opt/conda/lib/python3.10/site-packages (from google-auth!=2.24.0,!=2.25.0,<3.0.0,>=2.14.1->google-cloud-discoveryengine) (0.4.2)\n",
      "Requirement already satisfied: rsa<5,>=3.1.4 in /opt/conda/lib/python3.10/site-packages (from google-auth!=2.24.0,!=2.25.0,<3.0.0,>=2.14.1->google-cloud-discoveryengine) (4.9.1)\n",
      "Requirement already satisfied: charset_normalizer<4,>=2 in /opt/conda/lib/python3.10/site-packages (from requests<3.0.0,>=2.18.0->google-api-core!=2.0.*,!=2.1.*,!=2.10.*,!=2.2.*,!=2.3.*,!=2.4.*,!=2.5.*,!=2.6.*,!=2.7.*,!=2.8.*,!=2.9.*,<3.0.0,>=1.34.1->google-api-core[grpc]!=2.0.*,!=2.1.*,!=2.10.*,!=2.2.*,!=2.3.*,!=2.4.*,!=2.5.*,!=2.6.*,!=2.7.*,!=2.8.*,!=2.9.*,<3.0.0,>=1.34.1->google-cloud-discoveryengine) (3.4.2)\n",
      "Requirement already satisfied: idna<4,>=2.5 in /opt/conda/lib/python3.10/site-packages (from requests<3.0.0,>=2.18.0->google-api-core!=2.0.*,!=2.1.*,!=2.10.*,!=2.2.*,!=2.3.*,!=2.4.*,!=2.5.*,!=2.6.*,!=2.7.*,!=2.8.*,!=2.9.*,<3.0.0,>=1.34.1->google-api-core[grpc]!=2.0.*,!=2.1.*,!=2.10.*,!=2.2.*,!=2.3.*,!=2.4.*,!=2.5.*,!=2.6.*,!=2.7.*,!=2.8.*,!=2.9.*,<3.0.0,>=1.34.1->google-cloud-discoveryengine) (3.10)\n",
      "Requirement already satisfied: urllib3<3,>=1.21.1 in /opt/conda/lib/python3.10/site-packages (from requests<3.0.0,>=2.18.0->google-api-core!=2.0.*,!=2.1.*,!=2.10.*,!=2.2.*,!=2.3.*,!=2.4.*,!=2.5.*,!=2.6.*,!=2.7.*,!=2.8.*,!=2.9.*,<3.0.0,>=1.34.1->google-api-core[grpc]!=2.0.*,!=2.1.*,!=2.10.*,!=2.2.*,!=2.3.*,!=2.4.*,!=2.5.*,!=2.6.*,!=2.7.*,!=2.8.*,!=2.9.*,<3.0.0,>=1.34.1->google-cloud-discoveryengine) (1.26.20)\n",
      "Requirement already satisfied: certifi>=2017.4.17 in /opt/conda/lib/python3.10/site-packages (from requests<3.0.0,>=2.18.0->google-api-core!=2.0.*,!=2.1.*,!=2.10.*,!=2.2.*,!=2.3.*,!=2.4.*,!=2.5.*,!=2.6.*,!=2.7.*,!=2.8.*,!=2.9.*,<3.0.0,>=1.34.1->google-api-core[grpc]!=2.0.*,!=2.1.*,!=2.10.*,!=2.2.*,!=2.3.*,!=2.4.*,!=2.5.*,!=2.6.*,!=2.7.*,!=2.8.*,!=2.9.*,<3.0.0,>=1.34.1->google-cloud-discoveryengine) (2025.4.26)\n",
      "Requirement already satisfied: pyasn1>=0.1.3 in /opt/conda/lib/python3.10/site-packages (from rsa<5,>=3.1.4->google-auth!=2.24.0,!=2.25.0,<3.0.0,>=2.14.1->google-cloud-discoveryengine) (0.6.1)\n",
      "Downloading google_cloud_discoveryengine-0.13.9-py3-none-any.whl (3.1 MB)\n",
      "\u001b[2K   \u001b[90m━━━━━━━━━━━━━━━━━━━━━━━━━━━━━━━━━━━━━━━━\u001b[0m \u001b[32m3.1/3.1 MB\u001b[0m \u001b[31m55.5 MB/s\u001b[0m eta \u001b[36m0:00:00\u001b[0m\n",
      "\u001b[?25hInstalling collected packages: google-cloud-discoveryengine\n",
      "Successfully installed google-cloud-discoveryengine-0.13.9\n"
     ]
    }
   ],
   "source": [
    "!pip install google-cloud-discoveryengine\n"
   ]
  },
  {
   "cell_type": "code",
   "execution_count": null,
   "id": "a631eb25-35b9-4a41-9a4a-c239aad36fc0",
   "metadata": {},
   "outputs": [],
   "source": []
  }
 ],
 "metadata": {
  "environment": {
   "kernel": "conda-base-py",
   "name": "workbench-notebooks.m130",
   "type": "gcloud",
   "uri": "us-docker.pkg.dev/deeplearning-platform-release/gcr.io/workbench-notebooks:m130"
  },
  "kernelspec": {
   "display_name": "Python 3 (ipykernel) (Local)",
   "language": "python",
   "name": "conda-base-py"
  },
  "language_info": {
   "codemirror_mode": {
    "name": "ipython",
    "version": 3
   },
   "file_extension": ".py",
   "mimetype": "text/x-python",
   "name": "python",
   "nbconvert_exporter": "python",
   "pygments_lexer": "ipython3",
   "version": "3.10.18"
  }
 },
 "nbformat": 4,
 "nbformat_minor": 5
}
