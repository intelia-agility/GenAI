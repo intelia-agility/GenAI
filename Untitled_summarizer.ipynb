{
 "cells": [
  {
   "cell_type": "code",
   "execution_count": 17,
   "id": "026458de-69fd-44c8-8da1-8086a0214a23",
   "metadata": {
    "tags": []
   },
   "outputs": [],
   "source": [
    "import tiktoken\n",
    "from langchain_google_community import BigQueryLoader\n",
    "from langchain import PromptTemplate\n",
    "from langchain.chains.summarize import load_summarize_chain\n",
    "#from langchain.llms import VertexAI as langchain_vertexai\n",
    "from langchain_google_vertexai import VertexAI as langchain_vertexai\n",
    "from langchain import PromptTemplate\n",
    "from pathlib import Path as p\n",
    "import pandas as pd\n",
    " \n",
    "\n",
    "\n",
    "vertex_llm_text = langchain_vertexai(model_name=\"gemini-1.5-pro-002\")\n",
    "\n",
    "\n",
    "def estimate_token_length(text, model=\"gpt2\"):\n",
    "    \"\"\"Estimates the token length of a given text using a specified model.\n",
    "\n",
    "      Args:\n",
    "        text: The input text.\n",
    "        model: The model to use for tokenization (default: \"gpt2\").\n",
    "\n",
    "      Returns:\n",
    "        The estimated number of tokens.\n",
    "      \"\"\"\n",
    "\n",
    "  \n",
    "    enc = tiktoken.get_encoding(model)  \n",
    "\n",
    "    # Tokenize the text and count tokens\n",
    "    tokens = enc.encode(text)\n",
    "    token_count = len(tokens)\n",
    "    return token_count\n",
    "\n",
    "def get_data(source_query_str: str=None,metadata_columns: str=None,page_content_columns: str=None, project_id: str=None, return_only_text:bool=False):\n",
    "    \n",
    "    loader = BigQueryLoader(\n",
    "            query=source_query_str, project=project_id, metadata_columns=metadata_columns, page_content_columns=page_content_columns\n",
    "        )\n",
    "    documents = []\n",
    "    all_texts=[]\n",
    "    documents.extend(loader.load())\n",
    "    if return_only_text:  \n",
    "        all_texts=[doc.page_content.replace('description:',\"\",1) for doc in documents]\n",
    "        \n",
    "    return documents, '\\n'.join(all_texts)\n",
    "\n",
    " \n",
    "def summarize_docs(documents: list[object],question_prompt_template: str=\"\", refine_prompt_template: str=\"\" ,is_token_limit_exceeded: bool=False ):\n",
    "    \n",
    "  \n",
    "    question_prompt = PromptTemplate(template=question_prompt_template, input_variables=[\"text\"])    \n",
    "    if not is_token_limit_exceeded:        \n",
    "        #if the token limit is in the context window range, use a stuffing method for summary\n",
    "        chain = load_summarize_chain(vertex_llm_text, chain_type=\"stuff\", \n",
    "                                     prompt=question_prompt)\n",
    "    else:     \n",
    "        refine_prompt = PromptTemplate(input_variables=[\"existing_answer\", \"text\"], template=refine_prompt_template)\n",
    "              \n",
    "        chain = load_summarize_chain(\n",
    "            vertex_llm_text,\n",
    "            chain_type=\"refine\",\n",
    "            question_prompt=question_prompt,\n",
    "            refine_prompt=refine_prompt,\n",
    "            return_intermediate_steps=False,\n",
    "          )\n",
    "        \n",
    "    return chain.invoke(documents)\n"
   ]
  },
  {
   "cell_type": "code",
   "execution_count": 45,
   "id": "c848aa6f-839e-440b-9927-0e67ae92e070",
   "metadata": {
    "tags": []
   },
   "outputs": [],
   "source": [
    "# Set the Gemini 1.5 Pro context window limit\n",
    "context_window_limit = 2000000\n",
    "PROJECT_ID = \"nine-quality-test\"  # @param {type:\"string\"}\n",
    "REGION = \"us-central1\"  # @param {type:\"string\"}\n",
    "assets='p5d2tw','p5e9zq','p5e49l'\n",
    "persona_text=\" so that a 10-year-old can understand it. Use simple words and short sentences\"\n",
    "Summary='False'\n",
    "Summary_Persona='False'\n",
    "HeadLine='False'\n",
    "OffPlatformPost='True'\n",
    "\n",
    "source_query_str=f\"select distinct combined_id,unique_id,content, chunk, trim(concat(ifnull(headline,''), CHR(10),  description)) as description from `nine-quality-test.vlt_media_embeddings_integration.vlt_all_media_content_text_embeddings` where asset_id in {assets} order by unique_id, chunk asc \"\n",
    "source_query_str= f\"\"\"SELECT          asset_id,                  \n",
    "                STRING_AGG(description, '\\\\n' ) \n",
    "                OVER (PARTITION BY asset_id ORDER BY ifnull(startOffset_seconds,0) ASC , chunk ASC) AS full_description,\n",
    "                IDX\n",
    "          FROM (\n",
    "                SELECT  asset_id,startOffset_seconds, CHUNK, \n",
    "                CASE WHEN chunk=0 \n",
    "                     THEN TRIM(CONCAT(IFNULL(headline,''), CHR(10),  description))  \n",
    "                     ELSE description \n",
    "                END AS description,\n",
    "                ROW_NUMBER() OVER (PARTITION BY asset_id ORDER BY startOffset_seconds desc) AS IDX,\n",
    "                FROM `nine-quality-test.vlt_media_embeddings_integration.vlt_all_media_content_text_embeddings` where asset_id in {assets}\n",
    "         )\n",
    "       WHERE IDX=1\n",
    "    \"\"\"\n",
    "\n",
    "if Summary=='True' or Summary_Persona=='True':\n",
    "        #this is the main prompt for summary\n",
    "        question_prompt_template = \"\"\"\n",
    "            You will be given different parts of texts. Provide a summary of the following text\"\"\"+persona+\"\"\". Your result must be detailed and at least 2 paragraphs. \n",
    "            When summarizing, directly dive into the narrative or descriptions from the text without using introductory phrases like 'In this passage'. \n",
    "            Directly address the main events, characters, and themes, encapsulating the essence and significant details from the text in a flowing narrative. \n",
    "            The goal is to present a unified view of the content, continuing the story seamlessly as if the passage naturally progresses into the summary.\n",
    "\n",
    "            TEXT: {text}\n",
    "            SUMMARY:\n",
    "        \"\"\"\n",
    "\n",
    "        refine_prompt_template = (\n",
    "            \"Your job is to produce a final summary. Your task is to combine and refine these summaries into a final, comprehensive summary that covers all key events, characters, themes, and details.\\n\"\n",
    "            \"We have provided an existing summary up to a certain point: {existing_answer}\\n\"\n",
    "            \"We have the opportunity to refine the existing summary\"\n",
    "            \"(only if needed) with some more context below.\\n\"\n",
    "            \"------------\\n\"\n",
    "            \"{text}\\n\"\n",
    "            \"------------\\n\"\n",
    "            \"Given the new context, refine the original summary\"\n",
    "            \"If the context isn't useful, return the original summary.\"\n",
    "        )\n",
    "elif HeadLine=='True':  \n",
    "    \n",
    "    #this is the main prompt for headline\n",
    "        question_prompt_template = \"\"\"\n",
    "            You will be given different parts of texts. Provide a one line headline of the following text. \n",
    "\n",
    "            TEXT: {text}\n",
    "            HEADLINE:\n",
    "        \"\"\"\n",
    "\n",
    "        refine_prompt_template = (\n",
    "            \"Your job is to produce a final headline. Your task is to combine and refine these headlines into a final, comprehensive headline that covers all details.\\n\"\n",
    "            \"We have provided an existing headline up to a certain point: {existing_answer}\\n\"\n",
    "            \"We have the opportunity to refine the existing headline\"\n",
    "            \"(only if needed) with some more context below.\\n\"\n",
    "            \"------------\\n\"\n",
    "            \"{text}\\n\"\n",
    "            \"------------\\n\"\n",
    "            \"Given the new context, refine the original headline\"\n",
    "            \"If the context isn't useful, return the original headline.\"\n",
    "        )\n",
    "elif OffPlatformPost=='True' and Platform=='Twitter':\n",
    "\n",
    "        #this is the main prompt for social media post\n",
    "        question_prompt_template = \"\"\"\n",
    "            You will be given different parts of texts. Provide a tweet that that’s catchy, concise, and fits within 280 characters. Make sure to highlight the key message, and encourage engagement with a question or call to action.\n",
    "\n",
    "            TEXT: {text}\n",
    "            Tweet: \n",
    "        \"\"\"\n",
    "\n",
    "        refine_prompt_template = (\n",
    "            \"Your job is to produce a final tweet. Your task is to combine and refine these tweets into a final, comprehensive tweet that covers all details, is catchy, concise, fits within 280 characters, and encourage engagement with a question or call to action.\\n\"\n",
    "            \"We have provided an existing tweet up to a certain point: {existing_answer}\\n\"\n",
    "            \"We have the opportunity to refine the existing tweet\"\n",
    "            \"(only if needed) with some more context below.\\n\"\n",
    "            \"------------\\n\"\n",
    "            \"{text}\\n\"\n",
    "            \"------------\\n\"\n",
    "            \"Given the new context, refine the original tweet\"\n",
    "            \"If the context isn't useful, return the original tweet.\"\n",
    "        )\n",
    "elif OffPlatformPost=='True' and Platform=='Instagram':\n",
    "\n",
    "        #this is the main prompt for social media post\n",
    "        question_prompt_template = \"\"\"\n",
    "            You will be given different parts of texts. Provide  into an engaging Instagram post. Craft a short, attention-grabbing caption that highlights the main point. Use emojis to make it lively, and end with a question or call to action to spark conversation in the comments.\n",
    "           \n",
    "            TEXT: {text}\n",
    "            Instagram Post: \n",
    "        \"\"\"\n",
    "\n",
    "        refine_prompt_template = (\n",
    "            \"Your job is to produce a final tweet. Your task is to combine and refine these Instagram posts into a final, comprehensive post that covers all details, Craft a short, attention-grabbing caption that highlights the main point. Use emojis to make it lively, and end with a question or call to action to spark conversation in the comments.\\n\"\n",
    "            \"We have provided an existing tweet up to a certain point: {existing_answer}\\n\"\n",
    "            \"We have the opportunity to refine the existing tweet\"\n",
    "            \"(only if needed) with some more context below.\\n\"\n",
    "            \"------------\\n\"\n",
    "            \"{text}\\n\"\n",
    "            \"------------\\n\"\n",
    "            \"Given the new context, refine the original tweet\"\n",
    "            \"If the context isn't useful, return the original tweet.\"\n",
    "        )\n",
    "metadata_columns=[\"asset_id\"]\n",
    "page_content_columns=[\"full_description\"]\n",
    "documents, all_texts=get_data(source_query_str=source_query_str,metadata_columns=metadata_columns,page_content_columns=page_content_columns, project_id=PROJECT_ID, return_only_text=True)\n",
    "    \n",
    " \n"
   ]
  },
  {
   "cell_type": "code",
   "execution_count": 46,
   "id": "93345630-2fc6-4fbb-866a-c5bf3feb61ef",
   "metadata": {
    "tags": []
   },
   "outputs": [
    {
     "name": "stdout",
     "output_type": "stream",
     "text": [
      "3872\n"
     ]
    }
   ],
   "source": [
    "#documents,all_texts=get_data(source_query_str,metadata_columns,page_content_columns,PROJECT_ID,return_only_text=True)\n",
    "# Estimate the token length\n",
    "estimated_token_length = estimate_token_length(all_texts,'cl100k_base') #cl100k_base\n",
    "print(estimated_token_length)\n",
    "message=\"\"\n",
    "is_token_limit_exceeded=False\n",
    "if estimated_token_length > context_window_limit:\n",
    "  message=\"Your text is too long for the Gemini 1.5 Pro context window. We are trying to chunk and return the result.\"\n",
    "  is_token_limit_exceeded=True\n",
    "  summary=summarize_docs(documents=documents,question_prompt_template=question_prompt_template,refine_prompt_template=refine_prompt_template,is_token_limit_exceeded=is_token_limit_exceeded )\n",
    " \n",
    "else:\n",
    "  message=\"Your text fits within the Gemini 1.5 Pro context window.\"\n",
    "  summary=summarize_docs(documents=documents,question_prompt_template=question_prompt_template,is_token_limit_exceeded=is_token_limit_exceeded )\n",
    "\n",
    " \n",
    "    \n",
    " "
   ]
  },
  {
   "cell_type": "code",
   "execution_count": 38,
   "id": "ff84bf0d-ba99-45fa-b643-25c8693deded",
   "metadata": {
    "tags": []
   },
   "outputs": [
    {
     "data": {
      "text/plain": [
       "'Your text fits within the Gemini 1.5 Pro context window.'"
      ]
     },
     "execution_count": 38,
     "metadata": {},
     "output_type": "execute_result"
    }
   ],
   "source": [
    "message"
   ]
  },
  {
   "cell_type": "code",
   "execution_count": 47,
   "id": "64c1a4d7-a979-47d4-8b84-324f8362133a",
   "metadata": {
    "tags": []
   },
   "outputs": [
    {
     "data": {
      "text/plain": [
       "{'input_documents': [Document(metadata={'asset_id': 'p5e49l'}, page_content='full_description: Disney may be better known for its theme parks and blockbuster movies, but its streaming service successfully draws on a pair of historic America television networks, spin-offs from its fabled franchises, and a growing cohort of original commissions. Putting together the platform’s essential scripted shows required difficult choices, but the list is illustrious.\\n Abbott Elementary\\nThe great American sitcom is not dead, it’s just morphed into this delightfully witty mockumentary about the ever-burdened staff at a primary school in West Philadelphia. Creator and star Quinta Brunson delivers 22-minute episodes that sing with character humour and absurd machinations. Janella James, as the school’s questionable principal, is the best scene-stealer on television right now.\\n The Americans\\nWhat began as a sharp Cold War thriller, following a pair of Russian spies (Keri Russell and Matthew Rhys) living as a couple complete with children in Washington DC, became a masterful study of what we will and won’t reveal to those closest to us. Deception has rarely been so intensely intimate, culminating in a note-perfect finale after six seasons.\\n Andor\\nThe rough equation is Star Wars with less Jedi and more John le Carre, but that doesn’t do justice to Tony Gilroy’s brilliant prequel series about how the dedicated spy from 2016’s Rogue One movie (Diego Luna), found his calling as a revolutionary. Dispensing with nostalgia but staging gripping set-pieces, this is a galaxy far, far away reimagined for adults.\\n Arrested Development\\nIgnore the subsequent Netflix revival, the original three seasons of this wonderfully loopy comedy about a dysfunctional family’s downfall constitute one of the funniest shows of this century. Jason Bateman is the dutiful son trying to hold everything together, but he’s surrounded by self-sabotaging kin whose antics are perfectly shaped by dry digressions, meta-commentary, and brain-bending ramifications.\\n Atlanta\\nDonald Glover’s surrealist-tinged comedy about a struggling college graduate (Glover) who works as the manager of his rapper cousin (an immense Brian Tyree Henry) was one of the most ambitious shows television has witnessed, and mostly it succeeded. The implications of being Black in America spiralled into uncomfortable realities, otherworldly horror, and soulful self-recognition.\\n The Bear\\n”Yes, chef!” A blackly comic drama about a fine dining savant (Jeremy Allen White) returning to run his late brother’s Chicago sandwich joint, the two seasons to date of this series have been defined by corrosive tension, whiplash humour, and family dynamics that are painfully gripping. Watching creativity and renewal take hold for these characters is both a blessing and a curse.\\n Bob’s Burgers\\nIt took a season to get going but Loren Bouchard’s animated sitcom about the family behind a New Jersey burger joint has become one of television’s enduring pleasures. The Belcher clan are a wonderful mix of characters, driving a winning sense of humour that eschews pop-culture references for a depiction of the everyday that is charmingly plausible.\\n Buffy the Vampire Slayer\\nThe original slay queen, Buffy Summers (Sarah Michelle Geller) is a Californian high school student chosen to battle the forces of evil. It’s the first of many inspired mash-ups in this deeply influential supernatural adventure, which shines as a tale of feminist empowerment, a goofy serial, and a homage to friendship powered by rat-a-tat dialogue.\\n Desperate Housewives\\nIs it a soap opera or a satire of a soap opera? Marc Cherry’s blockbuster comedy about the many intrigues surrounding a group of neighbouring married women was both and much more. Upending how network television depicted wives, life on Wisteria Lane was wild, insightful, and given to almighty twists.\\n Homeland\\nEpisodic television has rarely seen a performance as fierce and finely judged as the one Claire Danes delivers in this spy drama, playing an obsessive CIA agent with bipolar disorder. The early seasons, with Damian Lewis as a possible foe hiding in plain sight, are a sinewy two-hander, before Danes’ Carrie Mathison becomes the focus of a taut, globe-trotting study of betrayal and sacrifice.\\n How I Met Your Mother\\nIf you crave the reassuring familiarity of a multi-camera studio sitcom, the nine seasons of this Hollywood comedy about the loves and laughs of a group of (initially) twentysomethings will hit the spot. The punchlines are sharp but the casting is perfect: Jason Segel, Cobie Smulders, Alyson Hannigan, and a fearless Neil Patrick Harris shine.\\n Loki\\nThe one television spin-off of Marvel’s movie blockbusters that mattered follows the titular brother of Thor, Tom Hiddleston’s capricious, arrogant Loki, who finds himself caught up with the agency regulating time itself and its representative, Owen Wilson’s laconic investigator. The unlikely duo’s double act is the show’s selling point, a give and take that is verbally dexterous and emotionally primed.\\n Lost\\nThe network drama that didn’t so much kick the door in for grandiose ambitions as knock the entire house down, the 121 episodes of this science-fiction laced epic gave us smoke monsters, temporal shifts, labyrinthine conspiracies and a handful of finely revealed characters. The mysterious island they were trapped on was a puzzle box of vast possibility, somehow kept in motion through six seasons.\\n Mrs America\\nCate Blanchett, Rose Byrne, and Uzo Aduba headline an exemplary cast in this historical drama about the 1970s battle in America between second-wave feminists and the conservative women who opposed them. This is a vivid, telling recreation, with depictions of real-life figures that are anything but textbook – these public and private conflicts are both nuanced and prescient.\\n The Muppet Show\\nAs the oldest show on this list – it ran between 1976 and 1981 – there are certainly dips in Jim Henson’s ground-breaking reinvention of the variety show, but Kermit, Miss Piggy, and their iconic fellow hand puppets thoroughly transcend the era. The best guests gave the backstage absurdity an artful, idiosyncratic charge, with guests like Elton John, Gilda Radner, and John Cleese.\\n NYPD Blue\\nControversial when it debuted in 1993, Steven Bochco and David Milch’s police procedural about a fictional Manhattan precinct raised the bar for the cop drama with intertwining storylines, pungent dialogue, and reflections on trauma. David Caruso ducked out after one season, but the pairing of Jimmy Smits and Dennis Franz gave the show a memorable core that carried it to classic status.\\n One Mississippi\\nDebuting in 2015 and unfairly cancelled after just two seasons, comedian Tig Notaro’s semi-autobiographical series has her playing a breast cancer patient who returns to her hometown to care for her dying mother. The observational comedy that ensures is deeply personal, heartbreaking in its misunderstandings, and willing to suspend reality to grasp deeper truths. This hidden gem is ripe for rediscovery.\\n Only Murders in the Building\\nSteve Martin, Selena Gomez, and Martin Short are aces together in this farcical crime caper about a trio of true crime podcast addicts who start recording when a neighbour in their NYC apartment block is murdered. It’s a rapid-fire satire and deadpan comedy of manners, but its secret weapon is a melancholic undertow that makes the motives tragic and the investigators dedicated to their unlikely friendship.\\n The People v. O.J. Simpson: American Crime Story\\nThe murder trial that transfixed America 30 years ago is re-examined in a limited series that reveals the distorting nature of fame, rampant ego, and sexist double standards. In an all-star cast none surpass Courtney B. Vance as defence lawyer Johnnie Cochran: a showman created by the very system he despises.\\n Pose\\nBoisterous with a bittersweet chaser, this drama recreates in stunning detail the ball subculture in 1980s New York, where Black and Latino drag queens competed for recognition in private tournaments while representing their unofficial families. It’s hectic and not always subtle, but the show does what its historic subjects did: it claims space for the marginalised and lets their stories resonate.\\n Find out the next TV, streaming series and movies to add to your must-sees. Get The Watchlist delivered every Thursday.\\n'),\n",
       "  Document(metadata={'asset_id': 'p5d2tw'}, page_content='full_description: Curtis Sittenfeld likes to pose questions with her novels. What if Hillary had refused to marry Bill? (Rodham.) What if Pride and Prejudice was set in contemporary times? (Eligible.) Why did Democrat-raised librarian Laura Bush marry boisterous Republican George W? (American Wife.)\\n There’s an entertainment tradition of ordinary looking talented men pairing with spectacularly beautiful women. But it would never happen if the genders were reversed – would it? That’s the premise of Sittenfeld’s sixth novel.\\n Sally Milner is a writer for TNO, a fictional Saturday Night Live. When her colleague Danny becomes engaged to a gorgeous celebrity, Sally writes a mocking sketch – The Danny Horst Rule – embodying the novel’s premise. That week, as she helps “cheesily handsome” pop-star guest host Noah write his own sketch, she feels an attraction spark. But it can’t be mutual – can it?\\n The narrative tension, as with any romantic comedy, lies not in whether an attraction exists, or even if it will be consummated, so much as how that will happen, and the specifics of the obstacles they’ll overcome. An awareness of these genre mechanics is written into the novel.\\n Sally’s ambition is “to write non-condescending, ragingly feminist screenplays for romantic comedies”. She tells Noah, “When one of these movies doesn’t work, it’s usually because it’s horribly written and/or because the script hasn’t done the work of convincing you the couple is attracted to each other, so then you don’t care if obstacles get in their way and keep them apart.”\\n Sittenfeld creates a convincing connection between Sally and Noah: they describe their creative work – her comedy and his music – as the loves of their lives. So it makes sense that work is how their true selves are revealed and connect.\\n The conflict between our public and private selves has been central to Sittenfeld’s work since her debut, Prep, whose hyperaware, awkward teen protagonist embodied it. Sally suspects much of her writing emerges from that tension. And she tells Noah, “Sometimes I feel like I’m writing dialogue for the character of myself. I’m impersonating a normal human being when really I’m a confused freak.”\\n This aspect of Sally feels palpably real and suits a comedy writer: humour as armour; a protective layer to shield the real, vulnerable self. And theories such as the Danny Horst Rule feel like believable ways of protecting against romantic rejection.\\n Sally hasn’t allowed herself to have real relationships since a fellow TNO writer denied a mutual attraction she’d imagined, years ago. (Another Sittenfeld theme: young Hillary misreads male friendships in Rodham, and a similar situation plays out in the title story of Sittenfeld’s collection, You Think It, I’ll Say It.) “You’ve confused the romance of comedy with the comedy of romance,” Sally’s colleague told her.\\n It’s a good line. But there aren’t enough of them in Romantic Comedy. Sittenfeld can be a master of sardonic, devastatingly arch observational wit. She employed it beautifully in Eligible; perhaps it helped to borrow the skeleton of the most popular romantic comedy of all time.\\n Comedy is subjective, of course, but I didn’t find the jokes in this novel very funny. A skit about dogs doing Google searches fell flat. I groaned at many behind-the-scenes barbs among the comedy writers, such as Danny’s: “It’s very demeaning that you think my vagina needs cleaning. It shouldn’t smell floral when I’m getting oral.”\\n And while Romantic Comedy convinces readers of the connection between Sally and Noah, its characters and world often lack the texture of real life. Noah, repeatedly referred to as “cheesily handsome”, often reads more like a cipher than a real person. He once greets Sally with, “Those are great fancy shoes.” Danny and Annabel’s relationship is cliched even when it tries to draw us in: Danny loves to gaze into Annabel’s eyes on her bed with a million pillows “like in the fanciest hotel”. And Sittenfeld often uses bland descriptions that show us nothing. In the TNO boss’ office, people sit on “the surprisingly crappy furniture in the surprisingly unfancy space”.\\n The pace crawls in the section set at TNO, which takes up nearly half the book. Sittenfeld comprehensively researched Saturday Night Live; unfortunately, the text is weighed down with mechanical detail about the running of the show. The prose comparatively springs in its absence after the action moves location halfway through.\\n Further drafts may have moved this novel past the stage of being bogged in research. They might have sharpened the details and honed the comedy. But as it stands, Romantic Comedy feels like a promising sketch for a better novel.\\n Romantic Comedy by Curtis Sittenfeld is published by Doubleday, $32.99.\\n Jo Case is deputy books and ideas editor for The Conversation.\\n The Booklist is a weekly newsletter for book lovers from books editor Jason Steger. Get it delivered every Friday.\\n'),\n",
       "  Document(metadata={'asset_id': 'p5e9zq'}, page_content='full_description: ‘Hollywood is a hellhole’: The book digging up the dirt on Tinseltown\\nHOLLYWOOD\\nBurn It Down: Power, Complicity and a Call for Change in Hollywood \\nMaureen Ryan\\nHarperCollins, $60\\n Maureen Ryan is as mad as hell about what’s been happening in Hollywood. And the Vanity Fair contributing editor has written Burn It Down to tell readers why. “What should be assessed is not just the creative product, its financial cost, and its efficiency (or lack thereof),” she writes, “It’s also how productive and nurturing an environment it is.” Something that she goes to great lengths to explain isn’t happening now and never has been.\\n Her book, which deals mainly but not exclusively with the world of television, was written before the recent strikes by the American Writers and Screen Actors Guilds and doesn’t deal directly with the specific issues that have provoked them. But it does point to a range of resentments that have been simmering away for years, to do with how workplaces that ought to service the needs of employees have frequently become hellholes.\\n To most readers, much of this won’t come as a surprise. Hollywood has long been infamous for what was once seen as routine behaviour but is now regarded as disreputable. The public testimonies of the courageous survivors of sexual assaults by men in powerful positions have exposed some of the darker activities hidden behind the surface gloss of the American film business.\\n Ryan mentions in passing that she herself suffered this fate at the hands of an unnamed TV executive. She wrote at some length about it in Variety in October 2017, and her smouldering anger about what happened permeates the book.\\n Drawing on the experiences of a young actress, she even goes so far as to liken what goes on in Hollywood to the way cults conduct themselves. “How is a cult that keeps people running around for 14 to 18 hours a day all that different from a set (or a workplace) that keeps people running around for 14 to 18 hours a day?“\\n Her overall approach is messy, featuring long-winded attempts to explode myths about the Hollywood business, most of which were blasted to smithereens long ago. But she also provides compelling, detailed accounts of the failures and moral breakdowns that have occurred behind the scenes on the long-running series, Lost (2004–2010) and Sleepy Hollow (2013–2017), and that (contrary to the view that emerges, fictionalised, in Curtis Sittenfeld’s irresistible novel, Romantic Comedy) allegedly continue at NBC’s Saturday Night Live, the late-night sketch comedy show that has been around for almost half a century, and elsewhere.\\n Some of her sources allow her to use their names; others choose to remain anonymous whistleblowers, fearful of the consequences for their careers if they become known as troublemakers. She manages to get a few of those accused – “the sinister forces in the shadows” – to go on the record with their responses, but most ignored her requests for interview.\\n Stories abound of nightmare situations arising in writers’ rooms, on sets and in private offices, around racism, sexism, homophobia, inequitable returns for efforts, and the systemic abuse of those without power. Ryan’s crusader-like passion sometimes leads to overkill, the litany of sins that she uncovers providing more examples than required to make her points when a more selective approach would have been more effective.\\n But it does mean that many of those that the system has turned into victims do get an opportunity to have their voices heard, even if only as “Joyce” or “Hannah”, or any of the other names she attaches to those who wish to avoid reprisal.\\n Ryan is especially illuminating in her examination of some of the disturbing developments at Saturday Night Live. In this context, she cites journalist Seth Simons’ astute but unfashionable notion that stand-up comedians have long occupied a space for an ugly culture, one “where it has been OK to be a horrible person” (a point that becomes especially pertinent in the light of the coverage of Russell Brand’s transgressions).\\n In the final section of the book, acknowledging that there’s no magic fix for the problems she’s identified, Ryan proposes several ways in which it might be possible to repair “the damage created by allowing toxic people – and systems – to run amok”.\\n She quotes The Atlantic’s Adam Serwer about the best way to go about it: “The hope for a more equitable, democratic and prosperous society does not lie with enlightened corporations but with organised workers.” And, in line with this, she points to the need for writers, actors and others to work together to establish grassroots alliances and respectful workplaces in which to do their creative work.\\n She ends by explaining that she’s no revolutionary, that she doesn’t actually want to burn Hollywood down. What she really wants is a business equivalent of a “prescribed burn”, one that can help prevent a wildfire. “Fire can be rejuvenating,” she writes, creating a neat analogy courtesy of National Geographic. “It returns nutrients to the soil … and can help young trees and other plants start to grow.”\\n Burn It Down sometimes labours its points, but the urgency with which Ryan champions her cause is both affecting and effective.\\n The Booklist is a weekly newsletter for book lovers from books editor Jason Steger. Get it delivered every Friday.')],\n",
       " 'output_text': '\"Burn It Down\" Exposes Hollywood\\'s Toxic Culture and Calls for Systemic Change\\n'}"
      ]
     },
     "execution_count": 47,
     "metadata": {},
     "output_type": "execute_result"
    }
   ],
   "source": [
    "summary"
   ]
  },
  {
   "cell_type": "code",
   "execution_count": null,
   "id": "d5acc72c-8f91-4c3d-b2f6-fab9e7a09a53",
   "metadata": {},
   "outputs": [],
   "source": []
  }
 ],
 "metadata": {
  "environment": {
   "kernel": "python3",
   "name": "tf2-cpu.2-11.m123",
   "type": "gcloud",
   "uri": "us-docker.pkg.dev/deeplearning-platform-release/gcr.io/tf2-cpu.2-11:m123"
  },
  "kernelspec": {
   "display_name": "Python 3 (Local)",
   "language": "python",
   "name": "python3"
  },
  "language_info": {
   "codemirror_mode": {
    "name": "ipython",
    "version": 3
   },
   "file_extension": ".py",
   "mimetype": "text/x-python",
   "name": "python",
   "nbconvert_exporter": "python",
   "pygments_lexer": "ipython3",
   "version": "3.10.14"
  }
 },
 "nbformat": 4,
 "nbformat_minor": 5
}
